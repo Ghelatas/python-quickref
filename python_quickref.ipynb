{
 "cells": [
  {
   "cell_type": "markdown",
   "metadata": {},
   "source": [
    "# **Python - Quick Reference**\n",
    "##### **by Frodo Peiffer**\n",
    "As of: August 28, 2019 (incomplete)  \n",
    "Python Version: 3.7.3"
   ]
  },
  {
   "cell_type": "markdown",
   "metadata": {},
   "source": [
    "---\n",
    "---"
   ]
  },
  {
   "cell_type": "markdown",
   "metadata": {},
   "source": [
    "<a name=\"table-of-contents\"> </a>\n",
    "## Table of Contents (⌂)"
   ]
  },
  {
   "cell_type": "markdown",
   "metadata": {},
   "source": [
    "[Notifications](#notifications)\n",
    "1. [Basics](#basics)                                                  <font color=\"#00FF00\">✓</font>\n",
    "2. [Input & Output](#input-&-output)                                  <font color=\"#00FF00\">✓</font>\n",
    "3. [Data Structures](#data-structures)                                <font color=\"#FF4900\">(1/7)</font>\n",
    "4. [Operators & Expressions](#operators-&-expressions)                <font color=\"#FF0000\">🗴</font>\n",
    "5. [Control Flow](#control-flow)                                      <font color=\"#FF0000\">🗴</font>\n",
    "6. [Useful Concepts](#useful-concepts)                                <font color=\"#FF0000\">🗴</font>\n",
    "7. [Functions](#functions)                                            <font color=\"#FF3900\">(1/9)</font>\n",
    "8. [Object Oriented Programming](#object-oriented-programming)        <font color=\"#FF0000\">🗴</font>\n",
    "9. [Modules & Packages](#modules-&-packages)                          <font color=\"#FF0000\">🗴</font>\n",
    "10. [Files & Pickle](#files-&-pickle)                                 <font color=\"#AAFF00\">(2/3)</font>\n",
    "11. [Exceptions & Unit Tests](#exceptions-&-unit-tests)               <font color=\"#FF0000\">🗴</font>\n",
    "12. [Standard Library](#standard-library)                             <font color=\"#FF0000\">🗴</font>\n",
    "13. [Further Topics](#further-topics)                                 <font color=\"#FF0000\">🗴</font>\n",
    "\n",
    "#### Appendix  \n",
    "&nbsp;&nbsp;&nbsp;A. [Essential Concepts](#essential-concepts)        <font color=\"#43FF00\">(20/23)</font>  \n",
    "&nbsp;&nbsp;&nbsp;B. [References](#references)                        <font color=\"#FF0000\">🗴</font>\n",
    "\n",
    "#### Useful Non-Python Stuff\n",
    "&nbsp;&nbsp;&nbsp;🗋 [Windows Command Prompt](#windows-command-prompt) <font color=\"#FF0000\">🗴</font>  \n",
    "&nbsp;&nbsp;&nbsp;🗋 [Jupyter Cheatsheets](#jupyter-cheatsheets)       <font color=\"#FF0000\">🗴</font>  \n",
    "&nbsp;&nbsp;&nbsp;🗋 [Markdown Cheatsheet](#markdown-cheatsheet)       <font color=\"#FF0000\">🗴</font>  \n",
    "&nbsp;&nbsp;&nbsp;🗋 [Git Cheatsheet](#git-cheatsheet)                 <font color=\"#FF0000\">🗴</font>"
   ]
  },
  {
   "cell_type": "markdown",
   "metadata": {},
   "source": [
    "---\n",
    "---"
   ]
  },
  {
   "cell_type": "markdown",
   "metadata": {},
   "source": [
    "<a name=\"notifications\"> </a>\n",
    "## Notifications | [⌂](#table-of-contents)"
   ]
  },
  {
   "cell_type": "markdown",
   "metadata": {},
   "source": [
    "#### References & Usage"
   ]
  },
  {
   "cell_type": "markdown",
   "metadata": {},
   "source": [
    "This \"**Python - Quick Reference**\" is based on several other quick references and documentations, (hopefully) most of them linked in the [References](#references) section. It contains the essential information about most aspects that seemed important to **me** while I was learning Python, but of course not all, and certainly not in detail. The usability of this quick reference may therefore vary for you."
   ]
  },
  {
   "cell_type": "markdown",
   "metadata": {},
   "source": [
    "#### Navigation"
   ]
  },
  {
   "cell_type": "markdown",
   "metadata": {},
   "source": [
    "There are some symbols for quick navigation near the headlines. The [⌂](#table-of-contents)-symbol is linked to the table of contents, and the [↥](#notifications)-symbol is linked to the beginning of the respective chapter. Right below the header of each chapter there is a linked list of its sections.  \n",
    "In the text there are two kinds of links, [internal links](#) (often preceded by 'see') and *[external links](#)* (often preceded by 'visit' and written in italics).  \n",
    "You should also see the [Essential Concepts](#essential-concepts) appendix for short definitions of important terms."
   ]
  },
  {
   "cell_type": "markdown",
   "metadata": {},
   "source": [
    "#### Code & other important things"
   ]
  },
  {
   "cell_type": "markdown",
   "metadata": {},
   "source": [
    "In this document code is displayed in gray cells and formatted in accordance with *[Jupyter&nbsp;Notebooks](https://jupyter.org/)*. Any Output is displayed right below the cell via the `print()` function if necessary. See the following example:"
   ]
  },
  {
   "cell_type": "code",
   "execution_count": 1,
   "metadata": {},
   "outputs": [
    {
     "name": "stdout",
     "output_type": "stream",
     "text": [
      "Hello World\n"
     ]
    }
   ],
   "source": [
    "print(\"Hello World\")"
   ]
  },
  {
   "cell_type": "markdown",
   "metadata": {},
   "source": [
    "Any quotes, recommendations or listings are formatted as commentary:\n",
    "> \"The most important property of a program is whether it accomplishes the intention of its user.\"  \n",
    "> \\- C.A.R. Hoare"
   ]
  },
  {
   "cell_type": "markdown",
   "metadata": {},
   "source": [
    "#### Versions of this Quick Reference"
   ]
  },
  {
   "cell_type": "markdown",
   "metadata": {},
   "source": [
    "You can find the ipynb-source-file of this Notebook on my *[GitHub](https://github.com/Ghelatas/python-quickref)*. You will have to download or clone it, then run it in *[Jupyter's](https://jupyter.org/)* Software (Notebook or Lab). First you have to get yourself a *[Python](https://www.python.org)* installation, of course (if not  already installed). If you are going to do Data Science my recommendation is *[Anaconda](https://www.anaconda.com)*. It comes with a Python installation, as well as Jupyter Notebook and Lab and many other features like a handy package manager.\n",
    "\n",
    "Or without further requirements you can view it via the *[Notebook Viewer](https://nbviewer.jupyter.org/github/Ghelatas/python-quickref/blob/master/python_quickref.ipynb)* (you won't be able to execute code here).\n",
    "\n",
    "In my *[GitHub](https://github.com/Ghelatas/python-quickref)* repository you can also find a [PDF](https://github.com/Ghelatas/python-quickref/blob/master/python_quickref.pdf) version and an [HTML](https://github.com/Ghelatas/python-quickref/blob/master/python_quickref.html) version of this Quick Reference."
   ]
  },
  {
   "cell_type": "markdown",
   "metadata": {},
   "source": [
    "#### Just for Cell Output ..."
   ]
  },
  {
   "cell_type": "markdown",
   "metadata": {},
   "source": [
    "The following code segment is significant only for the execution of this notebook. It suppresses the display of objects in the cell output where normally the last one is displayed for more readability. You're free to set it to `\"all\"`, so that every object will be displayed instead."
   ]
  },
  {
   "cell_type": "code",
   "execution_count": 2,
   "metadata": {},
   "outputs": [],
   "source": [
    "from IPython.core.interactiveshell import InteractiveShell\n",
    "InteractiveShell.ast_node_interactivity = \"none\""
   ]
  },
  {
   "cell_type": "markdown",
   "metadata": {},
   "source": [
    "---\n",
    "---"
   ]
  },
  {
   "cell_type": "markdown",
   "metadata": {},
   "source": [
    "<a name=\"basics\"> </a>\n",
    "## 1 Basics | [⌂](#table-of-contents)"
   ]
  },
  {
   "cell_type": "markdown",
   "metadata": {},
   "source": [
    "[Comments](#comments) | [Literal&nbsp;Constants](#literal-constants) | [Numbers](#numbers) | [Strings](#strings-basics) | [Variables](#variables)| [Keywords](#keywords)  | [Functions](#functions-basics) | [Objects](#objects-basics) | [Lines&nbsp;&&nbsp;Indentation](#lines-&-indentation) | [help()](#help) | [dir()](#dir)"
   ]
  },
  {
   "cell_type": "markdown",
   "metadata": {},
   "source": [
    "This chapter gives a quick overview of the most important aspects of Python, which are necessary to understand the following chapters. In each section links lead to the corresponding detailed chapters."
   ]
  },
  {
   "cell_type": "markdown",
   "metadata": {},
   "source": [
    "<b name=\"comments\"> </b>\n",
    "### 1.1 Comments | [↥](#basics) | [⌂](#table-of-contents)"
   ]
  },
  {
   "cell_type": "markdown",
   "metadata": {},
   "source": [
    "Comments are lines that won’t be executed when running the program. They are useful for readers of your program so that they can easily understand what the program is doing. Remember, that person can be yourself after six months!"
   ]
  },
  {
   "cell_type": "code",
   "execution_count": 5,
   "metadata": {},
   "outputs": [],
   "source": [
    "# This is a single line comment"
   ]
  },
  {
   "cell_type": "code",
   "execution_count": 6,
   "metadata": {},
   "outputs": [
    {
     "name": "stdout",
     "output_type": "stream",
     "text": [
      "This will run\n"
     ]
    }
   ],
   "source": [
    "print('This will run') # This inline comment won't run"
   ]
  },
  {
   "cell_type": "code",
   "execution_count": 7,
   "metadata": {},
   "outputs": [],
   "source": [
    "# Multiline comments don't exist in python\n",
    "# you must prefix every line with a #-sign"
   ]
  },
  {
   "cell_type": "code",
   "execution_count": 8,
   "metadata": {},
   "outputs": [],
   "source": [
    "\"\"\"Ok, there is a way to write\n",
    "multiline comments, but this is actually\n",
    "a string\"\"\""
   ]
  },
  {
   "cell_type": "markdown",
   "metadata": {},
   "source": [
    "For more on information see [Strings](#strings-basics). If possible, don't use strings as comments except for [DocStrings](#docstring)."
   ]
  },
  {
   "cell_type": "markdown",
   "metadata": {},
   "source": [
    "> *Code tells you how, comments should tell you why.  \n",
    "> Commenting should be D.R.Y. (don’t repeat yourself) not W.E.T (wrote everything twice).*"
   ]
  },
  {
   "cell_type": "markdown",
   "metadata": {},
   "source": [
    "<a name=\"literal-constants\"> </a>\n",
    "### 1.2 Literal Constants | [↥](#basics) | [⌂](#table-of-contents)"
   ]
  },
  {
   "cell_type": "markdown",
   "metadata": {},
   "source": [
    "Here are some examples of literal constants:"
   ]
  },
  {
   "cell_type": "markdown",
   "metadata": {},
   "source": [
    "`5`, `1.23`, `9.25e-3`, `'This is a string'`, `\"It's another string\"`, ..."
   ]
  },
  {
   "cell_type": "markdown",
   "metadata": {},
   "source": [
    "They are called *literal* because they represent themselves and nothing else. And they are called *constant* because their value cannot be changed. They are immutable.  \n",
    "[Numbers](#numbers) and [Strings](#strings-basics) constist of literal constants."
   ]
  },
  {
   "cell_type": "markdown",
   "metadata": {},
   "source": [
    "<a name=\"numbers\"> </a>\n",
    "### 1.3 Numbers | [↥](#basics) | [⌂](#table-of-contents)"
   ]
  },
  {
   "cell_type": "markdown",
   "metadata": {},
   "source": [
    "There are three different types of numbers in python:"
   ]
  },
  {
   "cell_type": "markdown",
   "metadata": {},
   "source": [
    "- Integers (`2`, `-100`, ...) abbreviated to *int*  \n",
    "- Floats (`3.23`, `52.3e-4`, ...) abbreviated to *float*  \n",
    "- Complex numbers (`1j`, `(3+2j)`, ...) abbreviated to *complex*"
   ]
  },
  {
   "cell_type": "markdown",
   "metadata": {},
   "source": [
    "For more information on number types see [Data Types](#data-types).  \n",
    "For using numbers in expressions see [Operators & Expressions](#operators-&-expressions)."
   ]
  },
  {
   "cell_type": "markdown",
   "metadata": {},
   "source": [
    "<a name=\"strings-basics\"> </a>\n",
    "### 1.4 Strings | [↥](#basics) | [⌂](#table-of-contents)"
   ]
  },
  {
   "cell_type": "markdown",
   "metadata": {},
   "source": [
    "A string is a sequence of characters. Strings are basically just a bunch of words. They are specified using single quotes `'`, double quotes `\"` or triple quotes `\"\"\"`."
   ]
  },
  {
   "cell_type": "code",
   "execution_count": 12,
   "metadata": {},
   "outputs": [],
   "source": [
    "'This is a string'        # Don't use ' in here\n",
    "\n",
    "\"It's another string\"     # Don't use \" in here\n",
    "\n",
    "\"\"\"It's a \"multiline\"\n",
    "string\"\"\"                 # You can use ' and \" in here ..."
   ]
  },
  {
   "cell_type": "markdown",
   "metadata": {},
   "source": [
    "For more information see [Strings](#strings)."
   ]
  },
  {
   "cell_type": "markdown",
   "metadata": {},
   "source": [
    "<a name=\"variables\"> </a>\n",
    "### 1.5 Variables | [↥](#basics) | [⌂](#table-of-contents)"
   ]
  },
  {
   "cell_type": "markdown",
   "metadata": {},
   "source": [
    "A variable is a container that holds data that may change. In simplest terms, a variable is just a box for storing stuff. Variables are referenced by their identifier."
   ]
  },
  {
   "cell_type": "code",
   "execution_count": 13,
   "metadata": {},
   "outputs": [],
   "source": [
    "special_value = 42"
   ]
  },
  {
   "cell_type": "markdown",
   "metadata": {},
   "source": [
    "Here the identifier is `special_value`, the data stored is `42` and `=` is the [assignment operator](#assignment-operators). The identifier cannot be a [keyword](#keywords).  \n",
    "Variables can hold values of different types called [data types](#data-types). The basic types are [numbers](#numbers) and [strings](#strings-basics), more complex ones can be any [object](#objects-basics). To create own types you can use [classes](#classes)."
   ]
  },
  {
   "cell_type": "markdown",
   "metadata": {},
   "source": [
    "> *The naming of identifiers should be comprehensible and help to differentiate one entity from another. For general variable names always use lower-case letters. Words can be seperated by underscores `_` for readability.*"
   ]
  },
  {
   "cell_type": "markdown",
   "metadata": {},
   "source": [
    "<a name=\"keywords\"> </a>\n",
    "### 1.6 Keywords | [↥](#basics) | [⌂](#table-of-contents)"
   ]
  },
  {
   "cell_type": "markdown",
   "metadata": {},
   "source": [
    "Keywords are reserved words in Python. They are case sensitive and cannot be used as identifiers."
   ]
  },
  {
   "cell_type": "markdown",
   "metadata": {},
   "source": [
    "Below is a list of all keywords in Python:\n",
    "> **False**, **None**, **True**, **and**, **as**, **assert**, **break**, **class**, **continue**, **def**, **del**, **elif**, **else**, **except**, **finally**, **for**, **from**, **global**, **if**, **import**, **in**, **is**, **lambda**, **nonlocal**, **not**, **or**, **pass**, **raise**, **return**, **try**, **while**, **with**, **yield**"
   ]
  },
  {
   "cell_type": "markdown",
   "metadata": {},
   "source": [
    "<a name=\"functions-basics\"> </a>\n",
    "### 1.7 Functions | [↥](#basics) | [⌂](#table-of-contents)"
   ]
  },
  {
   "cell_type": "markdown",
   "metadata": {},
   "source": [
    "A function is a block of code which is executed when the function is called. It can get passed arguments which may be used in it's execution and on the other hand it can also return objects (values, etc.).  \n",
    "Besides writing own functions, Python provides a a variety of predifined built-in functions (short: builtins). For example the length-function:"
   ]
  },
  {
   "cell_type": "code",
   "execution_count": 12,
   "metadata": {},
   "outputs": [
    {
     "name": "stdout",
     "output_type": "stream",
     "text": [
      "11\n"
     ]
    }
   ],
   "source": [
    "word_length = len('Mississippi')\n",
    "print(word_length)"
   ]
  },
  {
   "cell_type": "markdown",
   "metadata": {},
   "source": [
    "Here `len` is the identifier of the function, `'Mississippi'` is the argument and the return object is `11` which is printed subsequently. The identifier cannot be a [keyword](#keywords)."
   ]
  },
  {
   "cell_type": "markdown",
   "metadata": {},
   "source": [
    "Below is a list of all Python builtins:\n",
    "> \\_\\_import__(), abs(), all(), any(), ascii(), bin(), bool(), breakpoint(), bytearray(), bytes(), callable(), chr(), classmethod(), compile(), complex(), delattr(), dict(), dir(), divmod(), enumerate(), eval(), exec(), filter(), float(), format(), frozenset(), getattr(), globals(), hasattr(), hash(), help(), hex(), id(), input(), int(), isinstance(), issubclass(), iter(), len(), list(), locals(), map(), max(), memoryview(), min(), next(), object(), oct(), open(), ord(), pow(), print(), property(), range(), repr(), reversed(), round(), set(), setattr(), slice(), sorted(), staticmethod(), str(), sum(), super(), tuple(), type(), vars(), zip()\n",
    "\n",
    "For detailed information on individual builtins visit *[Python Documentation](https://docs.python.org/3/library/functions.html)*."
   ]
  },
  {
   "cell_type": "markdown",
   "metadata": {},
   "source": [
    "Even if a function does not need any arguments you have to write empty opening and closing parantheses like in `help()`."
   ]
  },
  {
   "cell_type": "markdown",
   "metadata": {},
   "source": [
    "For more information see [Functions](#functions)."
   ]
  },
  {
   "cell_type": "markdown",
   "metadata": {},
   "source": [
    "<a name=\"objects-basics\"> </a>\n",
    "### 1.8 Objects | [↥](#basics) | [⌂](#table-of-contents)"
   ]
  },
  {
   "cell_type": "markdown",
   "metadata": {},
   "source": [
    "Python is strongly [object-oriented](#object-oriented-programming) and refers to anything used in a program as an object. This is meant in the generic sense, including numbers, strings, functions, etc.. Apart from the use of already existing objects, you can also generate your own [objects](#objects) from [classes](#classes).\n",
    "\n",
    "Objects are instances of classes and can have multiple [attributes](#attributes) and [methods](#methods)."
   ]
  },
  {
   "cell_type": "markdown",
   "metadata": {},
   "source": [
    "<a name=\"lines-&-indentation\"> </a>\n",
    "### 1.9 Lines & Indentation | [↥](#basics) | [⌂](#table-of-contents)"
   ]
  },
  {
   "cell_type": "markdown",
   "metadata": {},
   "source": [
    "<a name=\"physical-&-logical-line\"> </a>\n",
    "#### Physical & Logical Line"
   ]
  },
  {
   "cell_type": "markdown",
   "metadata": {},
   "source": [
    "A *physical line* is what you see when you write the program. A *logical line* is what Python\n",
    "sees as a single statement. Python implicitly assumes that each physical line corresponds to\n",
    "a logical line.  \n",
    "In this way Python encourages the use of a single statement per line which makes code more\n",
    "readable.\n",
    "\n",
    "If you want to specify more than one logical line on a single physical line, then you have to\n",
    "explicitly specify this using a semicolon (`;`) which indicates the end of a logical\n",
    "line / statement. For example:"
   ]
  },
  {
   "cell_type": "code",
   "execution_count": 24,
   "metadata": {},
   "outputs": [
    {
     "name": "stdout",
     "output_type": "stream",
     "text": [
      "54\n"
     ]
    }
   ],
   "source": [
    "variable_1 = 54\n",
    "print(variable_1)"
   ]
  },
  {
   "cell_type": "markdown",
   "metadata": {},
   "source": [
    "can be written as"
   ]
  },
  {
   "cell_type": "code",
   "execution_count": 25,
   "metadata": {},
   "outputs": [
    {
     "name": "stdout",
     "output_type": "stream",
     "text": [
      "54\n"
     ]
    }
   ],
   "source": [
    "variable_1 = 54; print(variable_1)"
   ]
  },
  {
   "cell_type": "markdown",
   "metadata": {},
   "source": [
    "> *It is recommended to write a maximum of a single logical line on a physical line, so you never have to use the semicolon.*"
   ]
  },
  {
   "cell_type": "markdown",
   "metadata": {},
   "source": [
    "If there is a long logical line of code you have to break up into multiple physical lines this can be done by using the backslash `\\` at the end of each physical line. This is called *explicit line joining*:"
   ]
  },
  {
   "cell_type": "code",
   "execution_count": 29,
   "metadata": {},
   "outputs": [],
   "source": [
    "variable_2 = \\\n",
    "23                  # same as variable_2 = 23"
   ]
  },
  {
   "cell_type": "markdown",
   "metadata": {},
   "source": [
    "When the logical line has a starting paranthesis (square bracket, curly brace) but not an ending one you don't need to use the backslash `\\` for logical line continuation. This is called *implicit line joining*:"
   ]
  },
  {
   "cell_type": "code",
   "execution_count": 27,
   "metadata": {},
   "outputs": [
    {
     "name": "stdout",
     "output_type": "stream",
     "text": [
      "54 23\n"
     ]
    }
   ],
   "source": [
    "print(variable_1,\n",
    "      variable_2)"
   ]
  },
  {
   "cell_type": "markdown",
   "metadata": {},
   "source": [
    "<a name=\"indentation\"> </a>\n",
    "#### Indentation"
   ]
  },
  {
   "cell_type": "markdown",
   "metadata": {},
   "source": [
    "Whitespace is important in Python. Spaces and tabs at the beginning of a logical line are used to determine the indentation level of this line, which in turn is used to determine the grouping of statements.  \n",
    "This means that statements that go together *must* have the same indentation. Each such set of statements is called a 'suite' or 'block'. This is particularly important when structuring the [control flow](#control-flow) or [defining functions](#defining-functions) and [classes](#classes)."
   ]
  },
  {
   "cell_type": "markdown",
   "metadata": {},
   "source": [
    "> *The official Python language recommendation suggests using four spaces for indentation. Good editors will automatically do this for you.*"
   ]
  },
  {
   "cell_type": "markdown",
   "metadata": {},
   "source": [
    "<a name=\"help\"> </a>\n",
    "### 1.10 help() | [↥](#basics) | [⌂](#table-of-contents)"
   ]
  },
  {
   "cell_type": "markdown",
   "metadata": {},
   "source": [
    "Python provides a useful help function, you can pass nearly anything to."
   ]
  },
  {
   "cell_type": "code",
   "execution_count": null,
   "metadata": {},
   "outputs": [],
   "source": [
    "help(object)"
   ]
  },
  {
   "cell_type": "markdown",
   "metadata": {},
   "source": [
    "Just calling the help function without passing any argument to it starts an interactive help session."
   ]
  },
  {
   "cell_type": "code",
   "execution_count": null,
   "metadata": {},
   "outputs": [],
   "source": [
    "help()"
   ]
  },
  {
   "cell_type": "markdown",
   "metadata": {},
   "source": [
    "<a name=\"dir\"> </a>\n",
    "### 1.11 dir() | [↥](#basics) | [⌂](#table-of-contents)"
   ]
  },
  {
   "cell_type": "markdown",
   "metadata": {},
   "source": [
    "Python provides a useful browse function you can pass any object to.  \n",
    "You can browse e.g. objects, classes, modules, etc. for their functions, attributes, methods, etc.."
   ]
  },
  {
   "cell_type": "code",
   "execution_count": null,
   "metadata": {},
   "outputs": [],
   "source": [
    "dir(__builtins__)"
   ]
  },
  {
   "cell_type": "markdown",
   "metadata": {},
   "source": [
    "Just calling the dir function browses the current module."
   ]
  },
  {
   "cell_type": "code",
   "execution_count": null,
   "metadata": {},
   "outputs": [],
   "source": [
    "dir()"
   ]
  },
  {
   "cell_type": "markdown",
   "metadata": {},
   "source": [
    "---"
   ]
  },
  {
   "cell_type": "markdown",
   "metadata": {},
   "source": [
    "<a name=\"input-&-output\"> </a>\n",
    "## 2 Input & Output | [⌂](#table-of-contents)"
   ]
  },
  {
   "cell_type": "markdown",
   "metadata": {},
   "source": [
    "[Output](#output) | [Input&nbsp;form&nbsp;User](#input-from-user)"
   ]
  },
  {
   "cell_type": "markdown",
   "metadata": {},
   "source": [
    "<a name=\"output\"> </a>\n",
    "### 2.1 Output | [↥](#input-&-output) | [⌂](#table-of-contents)"
   ]
  },
  {
   "cell_type": "markdown",
   "metadata": {},
   "source": [
    "In general, output is written to the console with Python's built-in *print-function*. You can pass several arguments to it, which then will be converted into strings and passed to the standard output stream."
   ]
  },
  {
   "cell_type": "code",
   "execution_count": 10,
   "metadata": {},
   "outputs": [
    {
     "name": "stdout",
     "output_type": "stream",
     "text": [
      "The next sentence is true. The previous sentece is false.\n"
     ]
    }
   ],
   "source": [
    "print('The next sentence is true.', 'The previous sentece is false.')"
   ]
  },
  {
   "cell_type": "markdown",
   "metadata": {},
   "source": [
    "The full use of the print-function is:  \n",
    "`print(value, ..., sep=' ', end='\\n', file=sys.stdout, flush=False)`"
   ]
  },
  {
   "cell_type": "markdown",
   "metadata": {},
   "source": [
    "<a name=\"input-from-user\"> </a>\n",
    "### 2.2 Input from User | [↥](#input-&-output) | [⌂](#table-of-contents)"
   ]
  },
  {
   "cell_type": "markdown",
   "metadata": {},
   "source": [
    "In general, the user input can be read from the console with Python's built-in *input-function*. It returns the input as a string, so it can be stored in variables or used in expressions for example."
   ]
  },
  {
   "cell_type": "code",
   "execution_count": 14,
   "metadata": {},
   "outputs": [
    {
     "name": "stdin",
     "output_type": "stream",
     "text": [
      "Pease type in your username:  Ghelatas\n"
     ]
    },
    {
     "name": "stdout",
     "output_type": "stream",
     "text": [
      "Ghelatas consists of 8 characters.\n"
     ]
    }
   ],
   "source": [
    "username = input('Pease type in your username: ')\n",
    "print(username, 'consists of', len(username), 'characters.')"
   ]
  },
  {
   "cell_type": "markdown",
   "metadata": {},
   "source": [
    "---"
   ]
  },
  {
   "cell_type": "markdown",
   "metadata": {},
   "source": [
    "<a name=\"data-structures\"> </a>\n",
    "## 3 Data Structures | [⌂](#table-of-contents)"
   ]
  },
  {
   "cell_type": "markdown",
   "metadata": {},
   "source": [
    "[Data&nbsp;Types](#data-types) | [Type&nbsp;Conversion](#type-conversion) | [Lists](#lists) | [Tuples](#tuples) | [Sets](#sets) | [Strings](#strings) | [Dictionaries](#dictionaries)"
   ]
  },
  {
   "cell_type": "markdown",
   "metadata": {},
   "source": [
    "<a name=\"data-types\"> </a>\n",
    "### 3.1 Data Types | [↥](#data-structures) | [⌂](#table-of-contents)"
   ]
  },
  {
   "cell_type": "markdown",
   "metadata": {},
   "source": [
    "<a name=\"type-conversion\"> </a>\n",
    "### 3.2 Type Conversion | [↥](#data-structures) | [⌂](#table-of-contents)"
   ]
  },
  {
   "cell_type": "markdown",
   "metadata": {},
   "source": [
    "<a name=\"lists\"> </a>\n",
    "### 3.3 Lists | [↥](#data-structures) | [⌂](#table-of-contents)"
   ]
  },
  {
   "cell_type": "markdown",
   "metadata": {},
   "source": [
    "<a name=\"tuples\"> </a>\n",
    "### 3.4 Tuples | [↥](#data-structures) | [⌂](#table-of-contents)"
   ]
  },
  {
   "cell_type": "markdown",
   "metadata": {},
   "source": [
    "<a name=\"sets\"> </a>\n",
    "### 3.5 Sets | [↥](#data-structures) | [⌂](#table-of-contents)"
   ]
  },
  {
   "cell_type": "markdown",
   "metadata": {},
   "source": [
    "<a name=\"strings\"> </a>\n",
    "### 3.6 Strings | [↥](#data-structures) | [⌂](#table-of-contents)"
   ]
  },
  {
   "cell_type": "markdown",
   "metadata": {},
   "source": [
    "[Formatted&nbsp;Strings](#formatted-strings) | [Formatted&nbsp;Datetime&nbsp;in&nbsp;Strings](#formatted-datetime-in-strings) | [Escape&nbsp;Sequences](#escape-sequences) | [Raw&nbsp;Strings](#raw-strings) | [Unicode](#unicode)"
   ]
  },
  {
   "cell_type": "markdown",
   "metadata": {},
   "source": [
    "<a name=\"formatted-strings\"> </a>\n",
    "#### Formatted Strings"
   ]
  },
  {
   "cell_type": "markdown",
   "metadata": {},
   "source": [
    "With formatted strings (f-strings) prefixed by f, the values of arguments can be expressed without concatenation:"
   ]
  },
  {
   "cell_type": "code",
   "execution_count": 18,
   "metadata": {},
   "outputs": [
    {
     "name": "stdout",
     "output_type": "stream",
     "text": [
      "My name is John and I am 24 years old.\n"
     ]
    }
   ],
   "source": [
    "name = 'John'\n",
    "age = 24\n",
    "print(f'My name is {name} and I am {age} years old.')"
   ]
  },
  {
   "cell_type": "markdown",
   "metadata": {},
   "source": [
    "Expressions, functions, etc. can be used within f-strings:"
   ]
  },
  {
   "cell_type": "code",
   "execution_count": 20,
   "metadata": {},
   "outputs": [
    {
     "name": "stdout",
     "output_type": "stream",
     "text": [
      "7 times 13 is 91\n"
     ]
    }
   ],
   "source": [
    "print(f'7 times 13 is {7 * 13}')"
   ]
  },
  {
   "cell_type": "markdown",
   "metadata": {},
   "source": [
    "Additional formatting can be done using format specifiers after a colon:"
   ]
  },
  {
   "cell_type": "code",
   "execution_count": 23,
   "metadata": {},
   "outputs": [
    {
     "name": "stdout",
     "output_type": "stream",
     "text": [
      "The value is 0027\n",
      "Pi is equal to 3.1416\n"
     ]
    }
   ],
   "source": [
    "print(f'The value is {27:04}')\n",
    "pi = 3.14159265\n",
    "print(f'Pi is equal to {pi:.4f}')"
   ]
  },
  {
   "cell_type": "markdown",
   "metadata": {},
   "source": [
    "Below is a list with examples of further format specifiers:\n",
    "> **Common format specifiers**  \n",
    "> `f'{42:_<5}'`       (Align left, fill with \\_, width 5: 42___)  \n",
    "> `f'{\"FP\":*^6}'`     (Center, fill with \\*, width 6: \\*\\*FP\\*\\*)  \n",
    "> `f'{3.2:>5}'`       (Align right, width 5: &nbsp;&nbsp;3.2)  \n",
    "> `f'{\"Karl\":.2}'`    (Only show first 2 characters: Ka)  \n",
    "\n",
    "> **Format specifiers for numbers**  \n",
    "> `f'{42:04}'`        (Padding zeros, width 4: 0042)  \n",
    "> `f'{42:+}'`         (Force a sign: +42)  \n",
    "> `f'{42: }'`         (Leading space if positive: &nbsp;42)  \n",
    "> `f'{1800:,}'`       (Thousand's delimiter: 1,800)  \n",
    "> `f'{3:.2f}'`        (Show as float, precision 2: 3.00)  \n",
    "> `f'{0.3:.2%}'`      (Show as percentage, 2 decimals: 30.00%)  \n",
    "> `f'{15000:.1e}'`    (Show as scientific notation: 1.5e+04)  \n",
    "> `f'{13:b}'`         (Show as binary: 1101)  \n",
    "> `f'{83:o}'`         (Show as octal: 123)  \n",
    "> `f'{61:X}'`         (Show as hexadecimal: 3D)  \n",
    "> `f'{955:c}'`        (Type Unicode character (decimal): λ)  "
   ]
  },
  {
   "cell_type": "markdown",
   "metadata": {},
   "source": [
    "<a name=\"formatted-datetime-in-strings\"> </a>\n",
    "#### Formatted Datetime in Strings"
   ]
  },
  {
   "cell_type": "markdown",
   "metadata": {},
   "source": [
    "After [importing](#imports) the datetime module , the datetime object comes with further format specifiers:"
   ]
  },
  {
   "cell_type": "code",
   "execution_count": 31,
   "metadata": {},
   "outputs": [
    {
     "name": "stdout",
     "output_type": "stream",
     "text": [
      "John is born October 13, 1995.\n"
     ]
    }
   ],
   "source": [
    "from datetime import datetime\n",
    "birthday = datetime(1995, 10, 13)\n",
    "print(f\"John is born {birthday:%B %d, %Y}.\")"
   ]
  },
  {
   "cell_type": "markdown",
   "metadata": {},
   "source": [
    "For more datetime formatting visit *[Programiz](https://www.programiz.com/python-programming/datetime/strftime)*."
   ]
  },
  {
   "cell_type": "markdown",
   "metadata": {},
   "source": [
    "<a name=\"escape-sequences\"> </a>\n",
    "#### Escape Sequences"
   ]
  },
  {
   "cell_type": "markdown",
   "metadata": {},
   "source": [
    "Escape sequences are prefixed by a backslash \\ and can be used to print special characters within a string. For example:"
   ]
  },
  {
   "cell_type": "code",
   "execution_count": 32,
   "metadata": {},
   "outputs": [
    {
     "name": "stdout",
     "output_type": "stream",
     "text": [
      "λ is a scientific constant,\n",
      "it's value is 1.9e-26.\n"
     ]
    }
   ],
   "source": [
    "print('\\u03BB is a scientific constant,\\nit\\'s value \\\n",
    "is 1.9e-26.')"
   ]
  },
  {
   "cell_type": "markdown",
   "metadata": {},
   "source": [
    "Note that a single backslash \\ at the end of the line indicates that the string is continued in the next line, but no newline is added."
   ]
  },
  {
   "cell_type": "markdown",
   "metadata": {},
   "source": [
    "Below is a list of all escape sequences:\n",
    "> `\\\\`         (Backslash: \\)  \n",
    "> `\\'`         (Single quote: ')  \n",
    "> `\\\"`         (Double quote: \")  \n",
    "> `\\a`         (Bell)  \n",
    "> `\\b`         (Backspace)  \n",
    "> `\\f`         (Formfeed)  \n",
    "> `\\n`         (Newline)  \n",
    "> `\\r`         (Carriage return)  \n",
    "> `\\t`         (Horizontal tab)  \n",
    "> `\\v`         (Vertical tab)  \n",
    "> `\\046`       (Unicode character with octal value 046: &)  \n",
    "> `\\x26`       (Unicode character with hex value 26: &)  \n",
    "> `\\u03BB`     (Unicode character with hex value 03BB: λ)  \n",
    "> `\\U000003BB` (Unicode character with hex value 000003BB: λ)  \n",
    "> `\\N{tilde}`  (Unicode character named 'tilde': ~)  "
   ]
  },
  {
   "cell_type": "markdown",
   "metadata": {},
   "source": [
    "<a name=\"raw-strings\"> </a>\n",
    "#### Raw Strings"
   ]
  },
  {
   "cell_type": "markdown",
   "metadata": {},
   "source": [
    "A raw string (prefixed by r) is used, where no special processing such as escape sequences should be handled. An example is:"
   ]
  },
  {
   "cell_type": "code",
   "execution_count": 36,
   "metadata": {},
   "outputs": [
    {
     "name": "stdout",
     "output_type": "stream",
     "text": [
      "Newlines are indicated by \\n.\n"
     ]
    }
   ],
   "source": [
    "print(r'Newlines are indicated by \\n.')"
   ]
  },
  {
   "cell_type": "markdown",
   "metadata": {},
   "source": [
    "<a name=\"unicode\"> </a>\n",
    "#### Unicode"
   ]
  },
  {
   "cell_type": "markdown",
   "metadata": {},
   "source": [
    "For more Unicode characters visit *[Unicode-Table](https://unicode-table.com/en/)*."
   ]
  },
  {
   "cell_type": "markdown",
   "metadata": {},
   "source": [
    "<a name=\"dictionaries\"> </a>\n",
    "### 3.7 Dictionaries | [↥](#data-structures) | [⌂](#table-of-contents)"
   ]
  },
  {
   "cell_type": "markdown",
   "metadata": {},
   "source": [
    "---"
   ]
  },
  {
   "cell_type": "markdown",
   "metadata": {},
   "source": [
    "<a name=\"operators-&-expressions\"> </a>\n",
    "## 4 Operators & Expressions | [⌂](#table-of-contents)"
   ]
  },
  {
   "cell_type": "markdown",
   "metadata": {},
   "source": [
    "[Math](#math) | [Arithmetic&nbsp;Operators](#arithmetic-operators) | [Assignment&nbsp;Operators](#assignment-operators) | [Comparison&nbsp;Operators](#comparison-operators) | [Logical&nbsp;Operators](#logical-operators) | [Identity&nbsp;Operators](#identity-operators) | [Membership&nbsp;Operators](#membership-operators) | [Bitwise&nbsp;Operators](#bitwise-operators) | [Operator&nbsp;Precedence](#operator-precedence)"
   ]
  },
  {
   "cell_type": "markdown",
   "metadata": {},
   "source": [
    "<a name=\"math\"> </a>\n",
    "### 4.1 Math | [↥](#operators-&-expressions) | [⌂](#table-of-contents)"
   ]
  },
  {
   "cell_type": "markdown",
   "metadata": {},
   "source": [
    "<a name=\"arithmetic-operators\"> </a>\n",
    "### 4.2 Arithmetic Operators | [↥](#operators-&-expressions) | [⌂](#table-of-contents)"
   ]
  },
  {
   "cell_type": "markdown",
   "metadata": {},
   "source": [
    "<a name=\"assignment-operators\"> </a>\n",
    "### 4.3 Assignment Operators | [↥](#operators-&-expressions) | [⌂](#table-of-contents)"
   ]
  },
  {
   "cell_type": "markdown",
   "metadata": {},
   "source": [
    "<a name=\"comparison-operators\"> </a>\n",
    "### 4.4 Comparison Operators | [↥](#operators-&-expressions) | [⌂](#table-of-contents)"
   ]
  },
  {
   "cell_type": "markdown",
   "metadata": {},
   "source": [
    "<a name=\"logical-operators\"> </a>\n",
    "### 4.5 Logical Operators | [↥](#operators-&-expressions) | [⌂](#table-of-contents)"
   ]
  },
  {
   "cell_type": "markdown",
   "metadata": {},
   "source": [
    "<a name=\"identity-operators\"> </a>\n",
    "### 4.6 Identity Operators | [↥](#operators-&-expressions) | [⌂](#table-of-contents)"
   ]
  },
  {
   "cell_type": "markdown",
   "metadata": {},
   "source": [
    "<a name=\"membership-operators\"> </a>\n",
    "### 4.7 Membership Operators | [↥](#operators-&-expressions) | [⌂](#table-of-contents)"
   ]
  },
  {
   "cell_type": "markdown",
   "metadata": {},
   "source": [
    "<a name=\"bitwise-operators\"> </a>\n",
    "### 4.8 Bitwise Operators | [↥](#operators-&-expressions) | [⌂](#table-of-contents)"
   ]
  },
  {
   "cell_type": "markdown",
   "metadata": {},
   "source": [
    "<a name=\"operator-precedence\"> </a>\n",
    "### 4.9 Operator Precedence | [↥](#operators-&-expressions) | [⌂](#table-of-contents)"
   ]
  },
  {
   "cell_type": "markdown",
   "metadata": {},
   "source": [
    "---"
   ]
  },
  {
   "cell_type": "markdown",
   "metadata": {},
   "source": [
    "<a name=\"control-flow\"> </a>\n",
    "## 5 Control Flow | [⌂](#table-of-contents)"
   ]
  },
  {
   "cell_type": "markdown",
   "metadata": {},
   "source": [
    "[if&nbsp;Statements](#if-statements) | [while&nbsp;Loops](#while-loops) | [for&nbsp;Loops](#for-loops) | [break&nbsp;Statement](#break-statement) | [continue&nbsp;Statement](#continue-statement)"
   ]
  },
  {
   "cell_type": "markdown",
   "metadata": {},
   "source": [
    "<a name=\"if-statements\"> </a>\n",
    "### 5.1 if Statements | [↥](#control-flow) | [⌂](#table-of-contents)"
   ]
  },
  {
   "cell_type": "markdown",
   "metadata": {},
   "source": [
    "<a name=\"while-loops\"> </a>\n",
    "### 5.2 while Loops | [↥](#control-flow) | [⌂](#table-of-contents)"
   ]
  },
  {
   "cell_type": "markdown",
   "metadata": {},
   "source": [
    "<a name=\"for-loops\"> </a>\n",
    "### 5.3 for Loops | [↥](#control-flow) | [⌂](#table-of-contents)"
   ]
  },
  {
   "cell_type": "markdown",
   "metadata": {},
   "source": [
    "<a name=\"break-statement\"> </a>\n",
    "### 5.4 break Statement | [↥](#control-flow) | [⌂](#table-of-contents)"
   ]
  },
  {
   "cell_type": "markdown",
   "metadata": {},
   "source": [
    "<a name=\"continue-statement\"> </a>\n",
    "### 5.5 continue Statement | [↥](#control-flow) | [⌂](#table-of-contents)"
   ]
  },
  {
   "cell_type": "markdown",
   "metadata": {},
   "source": [
    "---"
   ]
  },
  {
   "cell_type": "markdown",
   "metadata": {},
   "source": [
    "<a name=\"useful-concepts\"> </a>\n",
    "## 6 Useful Concepts | [⌂](#table-of-contents)"
   ]
  },
  {
   "cell_type": "markdown",
   "metadata": {},
   "source": [
    "[Unpacking](#unpacking) | [Enumerate&nbsp;&&nbsp;Zip](#enumerate-&-zip) | [Ternary&nbsp;Conditionals](#ternary-conditionals) | [List&nbsp;Comprehensions](#list-comprehensions) | [Map&nbsp;&&nbsp;Filter](#map-&-filter)"
   ]
  },
  {
   "cell_type": "markdown",
   "metadata": {},
   "source": [
    "<a name=\"unpacking\"> </a>\n",
    "### 6.1 Unpacking | [↥](#useful-concepts) | [⌂](#table-of-contents)"
   ]
  },
  {
   "cell_type": "markdown",
   "metadata": {},
   "source": [
    "<a name=\"enumerate-&-zip\"> </a>\n",
    "### 6.2 Enumerate & Zip | [↥](#useful-concepts) | [⌂](#table-of-contents)"
   ]
  },
  {
   "cell_type": "markdown",
   "metadata": {},
   "source": [
    "<a name=\"ternary-conditionals\"> </a>\n",
    "### 6.3 Ternary Conditionals | [↥](#useful-concepts) | [⌂](#table-of-contents)"
   ]
  },
  {
   "cell_type": "markdown",
   "metadata": {},
   "source": [
    "<a name=\"list-comprehensions\"> </a>\n",
    "### 6.4 List Comprehensions | [↥](#useful-concepts) | [⌂](#table-of-contents)"
   ]
  },
  {
   "cell_type": "markdown",
   "metadata": {},
   "source": [
    "<a name=\"map-&-filter\"> </a>\n",
    "### 6.5 Map & Filter | [↥](#useful-concepts) | [⌂](#table-of-contents)"
   ]
  },
  {
   "cell_type": "markdown",
   "metadata": {},
   "source": [
    "---"
   ]
  },
  {
   "cell_type": "markdown",
   "metadata": {},
   "source": [
    "<a name=\"functions\"> </a>\n",
    "## 7 Functions | [⌂](#table-of-contents)"
   ]
  },
  {
   "cell_type": "markdown",
   "metadata": {},
   "source": [
    "[Defining&nbsp;Functions](#defining-functions) | [Parameters&nbsp;&&nbsp;Arguments](#parameters-&-arguments) | [Local&nbsp;&&nbsp;Global&nbsp;Variables](#local-&-global-variables) | [Default&nbsp;Argument&nbsp;Values](#default-argument-values) | [Keyword&nbsp;Arguments](#keyword-arguments) | [VarArgs&nbsp;Parameters](#varargs-parameters) | [return&nbsp;Statement](#return-statement) | [DocString](#docstring) | [Anonymous&nbsp;(Lambda)&nbsp;Functions](#anonymous-lambda-functions)"
   ]
  },
  {
   "cell_type": "markdown",
   "metadata": {},
   "source": [
    "<a name=\"defining-functions\"> </a>\n",
    "### 7.1 Defining Functions | [↥](#functions) | [⌂](#table-of-contents)"
   ]
  },
  {
   "cell_type": "markdown",
   "metadata": {},
   "source": [
    "<a name=\"parameters-&-arguments\"> </a>\n",
    "### 7.2 Parameters & Arguments | [↥](#functions) | [⌂](#table-of-contents)"
   ]
  },
  {
   "cell_type": "markdown",
   "metadata": {},
   "source": [
    "A parameter is a variable in a function definition. When a function is called, the arguments are the data you pass into the function’s parameters. So, an Argument is the actual value of a variable that gets passed to the function."
   ]
  },
  {
   "cell_type": "code",
   "execution_count": 38,
   "metadata": {},
   "outputs": [
    {
     "name": "stdout",
     "output_type": "stream",
     "text": [
      "This string is an argument\n"
     ]
    }
   ],
   "source": [
    "def function(parameter):\n",
    "    print(parameter)\n",
    "\n",
    "function('This string is an argument')"
   ]
  },
  {
   "cell_type": "markdown",
   "metadata": {},
   "source": [
    "<a name=\"local-&-global-variables\"> </a>\n",
    "### 7.3 Local & Global Variables | [↥](#functions) | [⌂](#table-of-contents)"
   ]
  },
  {
   "cell_type": "markdown",
   "metadata": {},
   "source": [
    "<a name=\"default-argument-values\"> </a>\n",
    "### 7.4 Default Argument Values | [↥](#functions) | [⌂](#table-of-contents)"
   ]
  },
  {
   "cell_type": "markdown",
   "metadata": {},
   "source": [
    "<a name=\"keyword-arguments\"> </a>\n",
    "### 7.5 Keyword Arguments | [↥](#functions) | [⌂](#table-of-contents)"
   ]
  },
  {
   "cell_type": "markdown",
   "metadata": {},
   "source": [
    "<a name=\"varargs-parameters\"> </a>\n",
    "### 7.6 VarArgs Parameters | [↥](#functions) | [⌂](#table-of-contents)"
   ]
  },
  {
   "cell_type": "markdown",
   "metadata": {},
   "source": [
    "<a name=\"return-statement\"> </a>\n",
    "### 7.7 return Statement | [↥](#functions) | [⌂](#table-of-contents)"
   ]
  },
  {
   "cell_type": "markdown",
   "metadata": {},
   "source": [
    "<a name=\"docstring\"> </a>\n",
    "### 7.8 DocString | [↥](#functions) | [⌂](#table-of-contents)"
   ]
  },
  {
   "cell_type": "markdown",
   "metadata": {},
   "source": [
    "<a name=\"anonymous-lambda-functions\"> </a>\n",
    "### 7.9 Anonymous (Lambda) Functions | [↥](#functions) | [⌂](#table-of-contents)"
   ]
  },
  {
   "cell_type": "markdown",
   "metadata": {},
   "source": [
    "---"
   ]
  },
  {
   "cell_type": "markdown",
   "metadata": {},
   "source": [
    "<a name=\"object-oriented-programming\"> </a>\n",
    "## 8 Object Oriented Programming | [⌂](#table-of-contents)"
   ]
  },
  {
   "cell_type": "markdown",
   "metadata": {},
   "source": [
    "[Self](#self) | [Classes](#classes) | [Attributes](#attributes) | [Methods](#methods) | [Objects](#objects) | [Inheritance](#inheritance)"
   ]
  },
  {
   "cell_type": "markdown",
   "metadata": {},
   "source": [
    "<a name=\"self\"> </a>\n",
    "### 8.1 Self | [↥](#object-oriented-programming) | [⌂](#table-of-contents)"
   ]
  },
  {
   "cell_type": "markdown",
   "metadata": {},
   "source": [
    "<a name=\"classes\"> </a>\n",
    "### 8.2 Classes | [↥](#object-oriented-programming) | [⌂](#table-of-contents)"
   ]
  },
  {
   "cell_type": "markdown",
   "metadata": {},
   "source": [
    "<a name=\"attributes\"> </a>\n",
    "### 8.3 Attributes | [↥](#object-oriented-programming) | [⌂](#table-of-contents)"
   ]
  },
  {
   "cell_type": "markdown",
   "metadata": {},
   "source": [
    "<a name=\"methods\"> </a>\n",
    "### 8.4 Methods | [↥](#object-oriented-programming) | [⌂](#table-of-contents)"
   ]
  },
  {
   "cell_type": "markdown",
   "metadata": {},
   "source": [
    "<a name=\"objects\"> </a>\n",
    "### 8.5 Objects | [↥](#object-oriented-programming) | [⌂](#table-of-contents)"
   ]
  },
  {
   "cell_type": "markdown",
   "metadata": {},
   "source": [
    "<a name=\"inheritance\"> </a>\n",
    "### 8.6 Inheritance | [↥](#object-oriented-programming) | [⌂](#table-of-contents)"
   ]
  },
  {
   "cell_type": "markdown",
   "metadata": {},
   "source": [
    "---"
   ]
  },
  {
   "cell_type": "markdown",
   "metadata": {},
   "source": [
    "<a name=\"modules-&-packages\"> </a>\n",
    "## 9 Modules & Packages | [⌂](#table-of-contents)"
   ]
  },
  {
   "cell_type": "markdown",
   "metadata": {},
   "source": [
    "[Imports](#imports)"
   ]
  },
  {
   "cell_type": "markdown",
   "metadata": {},
   "source": [
    "<a name=\"imports\"> </a>\n",
    "### 9.1 Imports | [↥](#modules-&-packages) | [⌂](#table-of-contents)"
   ]
  },
  {
   "cell_type": "markdown",
   "metadata": {},
   "source": [
    "---"
   ]
  },
  {
   "cell_type": "markdown",
   "metadata": {},
   "source": [
    "<a name=\"files-&-pickle\"> </a>\n",
    "## 10 Files & Pickle | [⌂](#table-of-contents)"
   ]
  },
  {
   "cell_type": "markdown",
   "metadata": {},
   "source": [
    "[Files](#files) | [Pickle](#pickle) | [Unicode&nbsp;in&nbsp;Files](#unicode-in-files)"
   ]
  },
  {
   "cell_type": "markdown",
   "metadata": {},
   "source": [
    "<a name=\"files\"> </a>\n",
    "### 10.1 Files | [↥](#files-&-pickle) | [⌂](#table-of-contents)"
   ]
  },
  {
   "cell_type": "markdown",
   "metadata": {},
   "source": [
    "To open a file you can use the built-in `open()` function. It returns a stream (object) which can be stored in a variable for subsequent use. The terms 'file' and 'stream' are therefore used equally in this section. To close the file you can call the stream's `close()` method."
   ]
  },
  {
   "cell_type": "markdown",
   "metadata": {},
   "source": [
    "The full use of the open-function is:  \n",
    "`open(file, mode='r', buffering=-1, encoding=None, errors=None, newline=None, closefd=True, opener=None)`"
   ]
  },
  {
   "cell_type": "markdown",
   "metadata": {},
   "source": [
    "The `file` parameter takes the filename *with* extension as string as argument. You can also specify a path if the file isn't in the current working directory (e.g. `r'C:\\folder\\example.txt'`). In order to specify paths better use [Raw-Strings](#raw-strings)."
   ]
  },
  {
   "cell_type": "markdown",
   "metadata": {},
   "source": [
    "For the `mode` parameter you can use the following arguments:\n",
    "> `'r'` (open for reading (*default*))  \n",
    "> `'w'` (open for writing, truncating the file first)  \n",
    "> `'x'` (create a new file and open it for writing)  \n",
    "> `'a'` (open for writing, appending to the end of the file if it exists)  \n",
    "> `'b'` (binary mode)  \n",
    "> `'t'` (text mode (*default*))  \n",
    "> `'+'` (open a disk file for updating (reading and writing))  \n",
    "> `'U'` (universal newline mode (deprecated))  "
   ]
  },
  {
   "cell_type": "code",
   "execution_count": 49,
   "metadata": {},
   "outputs": [],
   "source": [
    "header = 'Here is an advice:\\n'\n",
    "line_1 = 'Simple is better than complex.\\n'\n",
    "line_2 = 'Complex is better than complicated.\\n'\n",
    "\n",
    "file = open('advice.txt', 'w')\n",
    "file.write(header)      # stream position now at end of header\n",
    "file.write(line_1)      # continues at end of header\n",
    "file.close()"
   ]
  },
  {
   "cell_type": "markdown",
   "metadata": {},
   "source": [
    "When using the `write()` method of an opened file the stream is treated sequentially. In the above example calling this method a second time, writes the given argument *after* the end of the previous one."
   ]
  },
  {
   "cell_type": "code",
   "execution_count": 50,
   "metadata": {},
   "outputs": [
    {
     "name": "stdout",
     "output_type": "stream",
     "text": [
      "Here is an advice:\n",
      "Simple is better than complex.\n"
     ]
    }
   ],
   "source": [
    "file = open('advice.txt', 'r')   # stream position at start\n",
    "print(file.readline(), end='')   # stream position at end of header\n",
    "print(file.readline(), end='')   # stream position at end of line_1 (EOF)\n",
    "file.close()"
   ]
  },
  {
   "cell_type": "markdown",
   "metadata": {},
   "source": [
    "The `readline()` method treats the stream sequentially, too; note that the same method-call returns different lines. After the stream has reached the 'end of field' (EOF) an empty string is returned."
   ]
  },
  {
   "cell_type": "markdown",
   "metadata": {},
   "source": [
    "Opening an existing file in writing-mode (`'w'`) will overwrite (truncate) its content. To prevent this you can use the append-mode (`'a'`)."
   ]
  },
  {
   "cell_type": "code",
   "execution_count": 51,
   "metadata": {},
   "outputs": [],
   "source": [
    "file = open('advice.txt', 'a')\n",
    "file.write(line_2)\n",
    "file.close()"
   ]
  },
  {
   "cell_type": "markdown",
   "metadata": {},
   "source": [
    "The `readlines()` method will return the lines of the opened file in a list, so it is iterable."
   ]
  },
  {
   "cell_type": "code",
   "execution_count": 52,
   "metadata": {},
   "outputs": [
    {
     "name": "stdout",
     "output_type": "stream",
     "text": [
      "Here is an advice:\n",
      "Simple is better than complex.\n",
      "Complex is better than complicated.\n"
     ]
    }
   ],
   "source": [
    "file = open('advice.txt', 'r')\n",
    "for line in file.readlines():\n",
    "    print(line, end='')\n",
    "file.close()"
   ]
  },
  {
   "cell_type": "markdown",
   "metadata": {},
   "source": [
    "Other methods of a file/stream object are:\n",
    "> **Read:** read(), readline(), readlines()  \n",
    "> **Write:** flush(), write(), writelines()  \n",
    "> **Stream Position:** seek(), tell()  \n",
    "> **Information:** fileno(), isatty(), readable(), seekable(), writable()  \n",
    "> **Other:** close(), detach(), reconfigure(), truncate()  "
   ]
  },
  {
   "cell_type": "markdown",
   "metadata": {},
   "source": [
    "Use the [dir-function](#dir) to browse the stream object or the [help-function](#help) for more information on specific methods."
   ]
  },
  {
   "cell_type": "markdown",
   "metadata": {},
   "source": [
    "<a name=\"pickle\"> </a>\n",
    "### 10.2 Pickle | [↥](#files-&-pickle) | [⌂](#table-of-contents)"
   ]
  },
  {
   "cell_type": "markdown",
   "metadata": {},
   "source": [
    "Python provides a [standard module](#modules-&-packages) called 'pickle' which you can use (after [importing](#imports)) to store any plain\n",
    "Python [object](#objects-basics) in a [file](#files) and then get it back later. This is called storing the object persistently.\n",
    "To store an object in a file use the `dump()` statement of the module:"
   ]
  },
  {
   "cell_type": "code",
   "execution_count": 23,
   "metadata": {},
   "outputs": [],
   "source": [
    "import pickle\n",
    "\n",
    "shoplist = ['blueberries', 'bananas', 'oat drink']\n",
    "\n",
    "file = open('shoplist.data', 'wb')\n",
    "pickle.dump(shoplist, file)            # pickling\n",
    "file.close()"
   ]
  },
  {
   "cell_type": "markdown",
   "metadata": {},
   "source": [
    "Even if the oject was deleted or doesn't exist in the current source file until now, you can load it back from the file which it was stored in. Do this with the `load()` statement:"
   ]
  },
  {
   "cell_type": "code",
   "execution_count": 24,
   "metadata": {},
   "outputs": [
    {
     "name": "stdout",
     "output_type": "stream",
     "text": [
      "['blueberries', 'bananas', 'oat drink']\n"
     ]
    }
   ],
   "source": [
    "del shoplist\n",
    "\n",
    "file = open('shoplist.data', 'rb')\n",
    "storedlist = pickle.load(file)         # unpickling\n",
    "file.close()\n",
    "\n",
    "print(storedlist)"
   ]
  },
  {
   "cell_type": "markdown",
   "metadata": {},
   "source": [
    "<a name=\"unicode-in-files\"> </a>\n",
    "### 10.3 Unicode in Files | [↥](#files-&-pickle) | [⌂](#table-of-contents)"
   ]
  },
  {
   "cell_type": "markdown",
   "metadata": {},
   "source": [
    "---"
   ]
  },
  {
   "cell_type": "markdown",
   "metadata": {},
   "source": [
    "<a name=\"exceptions-&-unit-tests\"> </a>\n",
    "## 11 Exceptions & Unit Tests | [⌂](#table-of-contents)"
   ]
  },
  {
   "cell_type": "markdown",
   "metadata": {},
   "source": [
    "[Handling&nbsp;Exceptions](#handling-exceptions) | [Raising&nbsp;Exceptions](#raising-exceptions) | [try&nbsp;...&nbsp;finally](#try-finally) | [with&nbsp;Statement](#with-statement) | [Unit&nbsp;Tests](#unit-tests)"
   ]
  },
  {
   "cell_type": "markdown",
   "metadata": {},
   "source": [
    "<a name=\"handling-exceptions\"> </a>\n",
    "### 11.1 Handling Exceptions | [↥](#exceptions-&-unit-tests) | [⌂](#table-of-contents)"
   ]
  },
  {
   "cell_type": "markdown",
   "metadata": {},
   "source": [
    "<a name=\"raising-exceptions\"> </a>\n",
    "### 11.2 Raising Exceptions | [↥](#exceptions-&-unit-tests) | [⌂](#table-of-contents)"
   ]
  },
  {
   "cell_type": "markdown",
   "metadata": {},
   "source": [
    "<a name=\"try-finally\"> </a>\n",
    "### 11.3 try ... finally | [↥](#exceptions-&-unit-tests) | [⌂](#table-of-contents)"
   ]
  },
  {
   "cell_type": "markdown",
   "metadata": {},
   "source": [
    "<a name=\"with-statement\"> </a>\n",
    "### 11.4 with Statement | [↥](#exceptions-&-unit-tests) | [⌂](#table-of-contents)"
   ]
  },
  {
   "cell_type": "markdown",
   "metadata": {},
   "source": [
    "<a name=\"unit-tests\"> </a>\n",
    "### 11.5 Unit Tests | [↥](#exceptions-&-unit-tests) | [⌂](#table-of-contents)"
   ]
  },
  {
   "cell_type": "markdown",
   "metadata": {},
   "source": [
    "---"
   ]
  },
  {
   "cell_type": "markdown",
   "metadata": {},
   "source": [
    "<a name=\"standard-library\"> </a>\n",
    "## 12 Standard Library | [⌂](#table-of-contents)"
   ]
  },
  {
   "cell_type": "markdown",
   "metadata": {},
   "source": [
    "---"
   ]
  },
  {
   "cell_type": "markdown",
   "metadata": {},
   "source": [
    "<a name=\"further-topics\"> </a>\n",
    "## 13 Further Topics | [⌂](#table-of-contents)"
   ]
  },
  {
   "cell_type": "markdown",
   "metadata": {},
   "source": [
    "[Other&nbsp;Libraries](#other-libraries) | [Graphical&nbsp;User&nbsp;Interface](#graphical-user-interface) | [Functional&nbsp;Programming](#functional-programming)"
   ]
  },
  {
   "cell_type": "markdown",
   "metadata": {},
   "source": [
    "<a name=\"other-libraries\"> </a>\n",
    "### 13.1 Other Libraries | [↥](#further-topics) | [⌂](#table-of-contents)"
   ]
  },
  {
   "cell_type": "markdown",
   "metadata": {},
   "source": [
    "<a name=\"graphical-user-interface\"> </a>\n",
    "### 13.2 Graphical User Interface (GUI) | [↥](#further-topics) | [⌂](#table-of-contents)"
   ]
  },
  {
   "cell_type": "markdown",
   "metadata": {},
   "source": [
    "<a name=\"functional-programming\"> </a>\n",
    "### 13.3 Functional Programming | [↥](#further-topics) | [⌂](#table-of-contents)"
   ]
  },
  {
   "cell_type": "markdown",
   "metadata": {},
   "source": [
    "---\n",
    "---"
   ]
  },
  {
   "cell_type": "markdown",
   "metadata": {},
   "source": [
    "## **Appendix**"
   ]
  },
  {
   "cell_type": "markdown",
   "metadata": {},
   "source": [
    "---"
   ]
  },
  {
   "cell_type": "markdown",
   "metadata": {},
   "source": [
    "<a name=\"essential-concepts\"> </a>\n",
    "## A. Essential Concepts | [⌂](#table-of-contents)"
   ]
  },
  {
   "cell_type": "markdown",
   "metadata": {},
   "source": [
    "**ARGUMENT** a value passed to a function (or method) when calling the function. There are two kinds of arguments: positional arguments and keyword arguments."
   ]
  },
  {
   "cell_type": "markdown",
   "metadata": {},
   "source": [
    "**ATTRIBUTE** a value associated with an object which is referenced by name using dotted expressions. For example, if an object `tree` has an attribute `height` it would be referenced as `tree.height`."
   ]
  },
  {
   "cell_type": "markdown",
   "metadata": {},
   "source": [
    "**CLASS** a template for creating user-defined objects. Class definitions normally contain attributes and method definitions which operate on instances of the class (that is object level)."
   ]
  },
  {
   "cell_type": "markdown",
   "metadata": {},
   "source": [
    "**CONTROL FLOW** "
   ]
  },
  {
   "cell_type": "markdown",
   "metadata": {},
   "source": [
    "**DICTIONARY** an associative list, where arbitrary keys are mapped to values."
   ]
  },
  {
   "cell_type": "markdown",
   "metadata": {},
   "source": [
    "**DOCSTRING** a string literal which appears as the first expression in a class, function or module. While ignored when the suite is executed, it is recognized by the compiler and put into the `__doc__` attribute of the enclosing class, function or module. Since it is available via introspection, it is the canonical place for documentation of the object."
   ]
  },
  {
   "cell_type": "markdown",
   "metadata": {},
   "source": [
    "**EXPRESSION** a piece of syntax which can be evaluated to some value, for example `2*(1-kappa)`. In other words, an expression is an accumulation of elements like literals, names, attribute access, operators or function calls which all return a value."
   ]
  },
  {
   "cell_type": "markdown",
   "metadata": {},
   "source": [
    "**FUNCTION** a suite (\"block\" of code) which is executed when the function is called. It can be passed arguments which may be used in the execution of the body and on the other hand it can also return objects (values, etc.). The arguments are passed into the function's parameters."
   ]
  },
  {
   "cell_type": "markdown",
   "metadata": {},
   "source": [
    "**IDENTIFIER** an identifier is a name given to entities like classes, functions, variables, etc. The naming should be comprehensible and help to differentiate one entity from another. Keywords cannot be used as identifiers."
   ]
  },
  {
   "cell_type": "markdown",
   "metadata": {},
   "source": [
    "**IMPORTING** the process by which Python code in one module is made available to Python code in another module."
   ]
  },
  {
   "cell_type": "markdown",
   "metadata": {},
   "source": [
    "**INHERITANCE** "
   ]
  },
  {
   "cell_type": "markdown",
   "metadata": {},
   "source": [
    "**ITERABLE** an object capable of returning its members one at a time. Examples of iterables include all sequence types (such as list, str, and tuple) and some non-sequence types like dict, file objects, and objects of any classes you define with an `__iter__()` method or with a `__getitem__()` method that implements Sequence semantics."
   ]
  },
  {
   "cell_type": "markdown",
   "metadata": {},
   "source": [
    "**LAMBDA** an anonymous inline function consisting of a single expression which is evaluated when the function is called. The syntax to create a lambda function is `lambda [parameters]: expression`."
   ]
  },
  {
   "cell_type": "markdown",
   "metadata": {},
   "source": [
    "**METHOD** a function which is defined inside a class body. If called as an attribute of an instance (object) of that class, the method will get the instance object as its first argument (which is usually called `self`). A method is referenced by name using dotted expressions. For example, if an object `tree` has a method `grow()` it would be referenced as `tree.grow()`."
   ]
  },
  {
   "cell_type": "markdown",
   "metadata": {},
   "source": [
    "**MODULE** an object that serves as an organizational unit of Python code. Modules have a namespace containing arbitrary Python objects. Modules are loaded into Python by the process of importing."
   ]
  },
  {
   "cell_type": "markdown",
   "metadata": {},
   "source": [
    "**OBJECT** any data with state (attributes or value) and defined behavior (methods). Objects are instances of classes. In Python anything is an object."
   ]
  },
  {
   "cell_type": "markdown",
   "metadata": {},
   "source": [
    "**OBJECT ORIENTATION** "
   ]
  },
  {
   "cell_type": "markdown",
   "metadata": {},
   "source": [
    "**PACKAGE** a Python module which can contain submodules or recursively, subpackages. Technically, a package is a Python module with a `__path__` attribute."
   ]
  },
  {
   "cell_type": "markdown",
   "metadata": {},
   "source": [
    "**PARAMETER** a named entity in a function (or method) definition that specifies an argument (or in some cases, arguments) that the function can accept. When calling the function the arguments are passed into its parameters. There are five kinds of parameters: positional-or-keyword, positional-only, keyword-only, var-positional and var-keyword."
   ]
  },
  {
   "cell_type": "markdown",
   "metadata": {},
   "source": [
    "**STATEMENT** part of a suite (a “block” of code). A statement is either an expression or one of several control flow constructs with a keyword, such as `if`, `while` or `for`."
   ]
  },
  {
   "cell_type": "markdown",
   "metadata": {},
   "source": [
    "**TYPE** determines what kind of object something is; every object has a type. An object’s type is accessible as its `__class__` attribute or can be retrieved with `type(object)`."
   ]
  },
  {
   "cell_type": "markdown",
   "metadata": {},
   "source": [
    "**VARIABLE** containers for storing data values. A variable is referenced by it’s identifier. Unlike other programming languages, Python has no command for declaring a variable."
   ]
  },
  {
   "cell_type": "markdown",
   "metadata": {},
   "source": [
    "---"
   ]
  },
  {
   "cell_type": "markdown",
   "metadata": {},
   "source": [
    "<a name=\"references\"> </a>\n",
    "## B. References | [⌂](#table-of-contents)"
   ]
  },
  {
   "cell_type": "markdown",
   "metadata": {},
   "source": [
    "---\n",
    "---"
   ]
  },
  {
   "cell_type": "markdown",
   "metadata": {},
   "source": [
    "## **Useful Non-Python Stuff**"
   ]
  },
  {
   "cell_type": "markdown",
   "metadata": {},
   "source": [
    "---"
   ]
  },
  {
   "cell_type": "markdown",
   "metadata": {},
   "source": [
    "<a name=\"windows-command-prompt\"> </a>\n",
    "## 🗎 Windows Command Prompt | [⌂](#table-of-contents)"
   ]
  },
  {
   "cell_type": "markdown",
   "metadata": {},
   "source": [
    "---"
   ]
  },
  {
   "cell_type": "markdown",
   "metadata": {},
   "source": [
    "<a name=\"jupyter-cheatsheets\"> </a>\n",
    "## 🗎 Jupyter Cheatsheets | [⌂](#table-of-contents)"
   ]
  },
  {
   "cell_type": "markdown",
   "metadata": {},
   "source": [
    "---"
   ]
  },
  {
   "cell_type": "markdown",
   "metadata": {},
   "source": [
    "<a name=\"markdown-cheatsheet\"> </a>\n",
    "## 🗎 Markdown Cheatsheet | [⌂](#table-of-contents)"
   ]
  },
  {
   "cell_type": "markdown",
   "metadata": {},
   "source": [
    "---"
   ]
  },
  {
   "cell_type": "markdown",
   "metadata": {},
   "source": [
    "<a name=\"git-cheatsheet\"> </a>\n",
    "## 🗎 Git Cheatsheet | [⌂](#table-of-contents)"
   ]
  }
 ],
 "metadata": {
  "kernelspec": {
   "display_name": "Python 3",
   "language": "python",
   "name": "python3"
  },
  "language_info": {
   "codemirror_mode": {
    "name": "ipython",
    "version": 3
   },
   "file_extension": ".py",
   "mimetype": "text/x-python",
   "name": "python",
   "nbconvert_exporter": "python",
   "pygments_lexer": "ipython3",
   "version": "3.7.3"
  }
 },
 "nbformat": 4,
 "nbformat_minor": 2
}
