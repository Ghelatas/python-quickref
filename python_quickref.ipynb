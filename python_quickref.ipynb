{
 "cells": [
  {
   "cell_type": "markdown",
   "metadata": {},
   "source": [
    "**<h1 style=\"font-size:450%; font-family:Courier\">Python  \n",
    "    Quick Reference</h1>**"
   ]
  },
  {
   "cell_type": "markdown",
   "metadata": {},
   "source": [
    "##### **by Frodo Peiffer**\n",
    "As of: October 4, 2019 (incomplete)  \n",
    "Python Version: 3.7.3"
   ]
  },
  {
   "cell_type": "markdown",
   "metadata": {},
   "source": [
    "---\n",
    "---"
   ]
  },
  {
   "cell_type": "markdown",
   "metadata": {},
   "source": [
    "<a name=\"table-of-contents\"> </a>\n",
    "## **TABLE OF CONTENTS** (⌂)"
   ]
  },
  {
   "cell_type": "markdown",
   "metadata": {},
   "source": [
    "[Notifications](#notifications)  \n",
    "1&nbsp;&nbsp;&nbsp;&nbsp;[Basics](#basics)                                                  <font color=\"#00FF00\">✓</font>  \n",
    "2&nbsp;&nbsp;&nbsp;&nbsp;[Input & Output](#input-&-output)                                  <font color=\"#00FF00\">✓</font>  \n",
    "3&nbsp;&nbsp;&nbsp;&nbsp;[Data Types & Data Structures](#data-types-&-data-structures)      <font color=\"#FFFF00\">(5/10)</font>  \n",
    "4&nbsp;&nbsp;&nbsp;&nbsp;[Operators & Expressions](#operators-&-expressions)                <font color=\"#FF0000\">🗴</font>  \n",
    "5&nbsp;&nbsp;&nbsp;&nbsp;[Control Flow](#control-flow)                                      <font color=\"#FF0000\">🗴</font>  \n",
    "6&nbsp;&nbsp;&nbsp;&nbsp;[Functions](#functions)                                            <font color=\"#FF3800\">(1/9)</font>  \n",
    "7&nbsp;&nbsp;&nbsp;&nbsp;[Object Oriented Programming](#object-oriented-programming)        <font color=\"#FF0000\">🗴</font>  \n",
    "8&nbsp;&nbsp;&nbsp;&nbsp;[Useful Concepts](#useful-concepts)                                <font color=\"#FF0000\">🗴</font>  \n",
    "9&nbsp;&nbsp;&nbsp;&nbsp;[Modules & Packages](#modules-&-packages)                          <font color=\"#FF0000\">🗴</font>  \n",
    "10&nbsp;&nbsp;[Files & Pickle](#files-&-pickle)                                             <font color=\"#AAFF00\">(2/3)</font>  \n",
    "11&nbsp;&nbsp;[Exceptions & Unit Tests](#exceptions-&-unit-tests)                           <font color=\"#FF0000\">🗴</font>  \n",
    "12&nbsp;&nbsp;[Standard Library](#standard-library)                                         <font color=\"#FF0000\">🗴</font>  \n",
    "13&nbsp;&nbsp;[Further Topics](#further-topics)                                             <font color=\"#FF0000\">🗴</font>  \n",
    "\n",
    "#### Appendix  \n",
    "A&nbsp;&nbsp;&nbsp;[Essential Concepts](#essential-concepts)                                <font color=\"#42FF00\">(20/23)</font>  \n",
    "B&nbsp;&nbsp;&nbsp;[References](#references)                                                <font color=\"#FF0000\">🗴</font>\n",
    "\n",
    "#### Selected Packages\n",
    "📦&nbsp;&nbsp;[NumPy](#numpy)                                                               <font color=\"#FF0000\">🗴</font>  \n",
    "📦&nbsp;&nbsp;[pandas](#pandas)                                                             <font color=\"#FF0000\">🗴</font>  \n",
    "📦&nbsp;&nbsp;[Matplotlib](#matplotlib)                                                     <font color=\"#FF0000\">🗴</font>  \n",
    "📦&nbsp;&nbsp;[scikit-learn](#scikit-learn)                                                 <font color=\"#FF0000\">🗴</font>  \n",
    "\n",
    "#### Useful Non-Python Stuff\n",
    "🗋&nbsp;&nbsp;&nbsp;[Windows Command Prompt](#windows-command-prompt)                        <font color=\"#FF0000\">🗴</font>  \n",
    "🗋&nbsp;&nbsp;&nbsp;[Jupyter Cheatsheet](#jupyter-cheatsheet)                                <font color=\"#FF0000\">🗴</font>  \n",
    "🗋&nbsp;&nbsp;&nbsp;[Markdown Cheatsheet](#markdown-cheatsheet)                              <font color=\"#FF0000\">🗴</font>  \n",
    "🗋&nbsp;&nbsp;&nbsp;[HTML Cheatsheet](#html-cheatsheet)                                      <font color=\"#FF0000\">🗴</font>  \n",
    "🗋&nbsp;&nbsp;&nbsp;[$\\LaTeX$ Cheatsheet](#latex-cheatsheet)                                 <font color=\"#FF0000\">🗴</font>  \n",
    "🗋&nbsp;&nbsp;&nbsp;[Git Cheatsheet](#git-cheatsheet)                                        <font color=\"#FF0000\">🗴</font>  "
   ]
  },
  {
   "cell_type": "code",
   "execution_count": 207,
   "metadata": {},
   "outputs": [
    {
     "data": {
      "text/plain": [
       "'#FFFF00'"
      ]
     },
     "execution_count": 207,
     "metadata": {},
     "output_type": "execute_result"
    }
   ],
   "source": [
    "color_code(5, 10)"
   ]
  },
  {
   "cell_type": "markdown",
   "metadata": {},
   "source": [
    "---\n",
    "---"
   ]
  },
  {
   "cell_type": "markdown",
   "metadata": {},
   "source": [
    "<a name=\"notifications\"> </a>\n",
    "## **NOTIFICATIONS** | [⌂](#table-of-contents)"
   ]
  },
  {
   "cell_type": "markdown",
   "metadata": {},
   "source": [
    "#### References & Usage"
   ]
  },
  {
   "cell_type": "markdown",
   "metadata": {},
   "source": [
    "This \"Python - Quick Reference\" is based on several other quick references and documentations, (hopefully) most of them linked in the [References](#references) appendix. It contains the essential information about most aspects that seemed important to *me* while I was learning Python, but of course not all, and certainly not in detail. The usability of this Quick Reference may therefore vary for you."
   ]
  },
  {
   "cell_type": "markdown",
   "metadata": {},
   "source": [
    "#### Navigation"
   ]
  },
  {
   "cell_type": "markdown",
   "metadata": {},
   "source": [
    "There are some symbols for quick navigation near the headlines. The [⌂](#table-of-contents)-symbol is linked to the table of contents, and the [⭱](#notifications)-symbol is linked to the beginning of the respective chapter / section. Right below the header of each chapter / section there is a bar with links list to its sections / sub-sections.  \n",
    "In the text there are two kinds of links, [internal links](#) (sometimes preceded by 'see') and *[external links](#)* (sometimes preceded by 'visit' and written in italics).  \n",
    "You should also see the [Essential Concepts](#essential-concepts) appendix for short definitions of important terms."
   ]
  },
  {
   "cell_type": "markdown",
   "metadata": {},
   "source": [
    "#### Code & other important things"
   ]
  },
  {
   "cell_type": "markdown",
   "metadata": {},
   "source": [
    "In this document code is displayed in gray cells and formatted in accordance with *[Jupyter&nbsp;Notebooks](https://jupyter.org/)*. Any Output is displayed right below the cell via the `print()` function if necessary. See the following example:"
   ]
  },
  {
   "cell_type": "code",
   "execution_count": 1,
   "metadata": {},
   "outputs": [
    {
     "name": "stdout",
     "output_type": "stream",
     "text": [
      "Hello World\n"
     ]
    }
   ],
   "source": [
    "print(\"Hello World\")"
   ]
  },
  {
   "cell_type": "markdown",
   "metadata": {},
   "source": [
    "Any quotes, recommendations or listings are formatted as commentary:\n",
    "> \"The most important property of a program is whether it accomplishes the intention of its user.\"  \n",
    "> \\- C. A. R. Hoare"
   ]
  },
  {
   "cell_type": "markdown",
   "metadata": {},
   "source": [
    "#### Versions of this Quick Reference"
   ]
  },
  {
   "cell_type": "markdown",
   "metadata": {},
   "source": [
    "Without further requirements you can view this Quick Reference via the *[Notebook Viewer](https://nbviewer.jupyter.org/github/Ghelatas/python-quickref/blob/master/python_quickref.ipynb)* (you won't be able to execute code here).\n",
    "\n",
    "You can find the ipynb-source-file of this Notebook on my *[GitHub](https://github.com/Ghelatas/python-quickref)*. You will have to download or clone it, then run it in *[Jupyter's](https://jupyter.org/)* Software (Notebook or Lab). First you have to get yourself a *[Python](https://www.python.org)* installation, of course (if not  already installed). If you are going to do Data Science my recommendation is *[Anaconda](https://www.anaconda.com)*. It comes with a Python distribution, as well as Jupyter Notebook and Lab and many other features like a handy package manager."
   ]
  },
  {
   "cell_type": "markdown",
   "metadata": {},
   "source": [
    "#### Just for Cell Output ..."
   ]
  },
  {
   "cell_type": "markdown",
   "metadata": {},
   "source": [
    "The following code segment is significant only for the execution of this notebook. It suppresses the display of objects in the cell output where normally the last one is displayed for more readability. You're free to set it to `\"all\"`, so that every object will be displayed instead."
   ]
  },
  {
   "cell_type": "code",
   "execution_count": 2,
   "metadata": {},
   "outputs": [],
   "source": [
    "from IPython.core.interactiveshell import InteractiveShell\n",
    "InteractiveShell.ast_node_interactivity = \"none\""
   ]
  },
  {
   "cell_type": "markdown",
   "metadata": {},
   "source": [
    "Thank you for your interest and may the code be with you!  \n",
    "\n",
    "Best regards,  \n",
    "\n",
    "$Frodo$"
   ]
  },
  {
   "cell_type": "markdown",
   "metadata": {},
   "source": [
    "---\n",
    "---"
   ]
  },
  {
   "cell_type": "markdown",
   "metadata": {},
   "source": [
    "<a name=\"basics\"> </a>\n",
    "## **1&nbsp;&nbsp;&nbsp;BASICS** | [⌂](#table-of-contents)"
   ]
  },
  {
   "cell_type": "markdown",
   "metadata": {},
   "source": [
    "[Comments](#comments) | [Literal&nbsp;Constants](#literal-constants) | [Numbers](#numbers) | [Strings](#strings-basics) | [Keywords](#keywords) | [Identifiers](#identifiers) | [Variables](#variables) | [Functions](#functions-basics) | [Objects](#objects-basics) | [Lines&nbsp;&&nbsp;Indentation](#lines-&-indentation) | [help()](#help) | [dir()](#dir)"
   ]
  },
  {
   "cell_type": "markdown",
   "metadata": {},
   "source": [
    "This chapter gives a quick overview of the most important aspects of Python, which are necessary to understand the following chapters. In each section links lead to the corresponding detailed chapters."
   ]
  },
  {
   "cell_type": "markdown",
   "metadata": {},
   "source": [
    "<b name=\"comments\"> </b>\n",
    "### **1.1&nbsp;&nbsp;&nbsp;Comments** | [⭱](#basics) | [⌂](#table-of-contents)"
   ]
  },
  {
   "cell_type": "markdown",
   "metadata": {},
   "source": [
    "Comments are lines that won’t be executed when running the program. They are useful for readers of your program so that they can easily understand what the program is doing. Remember, that person can be yourself after six months!"
   ]
  },
  {
   "cell_type": "code",
   "execution_count": 3,
   "metadata": {},
   "outputs": [],
   "source": [
    "# This is a single line comment"
   ]
  },
  {
   "cell_type": "code",
   "execution_count": 4,
   "metadata": {},
   "outputs": [
    {
     "name": "stdout",
     "output_type": "stream",
     "text": [
      "This will run\n"
     ]
    }
   ],
   "source": [
    "print('This will run') # This inline comment won't run"
   ]
  },
  {
   "cell_type": "code",
   "execution_count": 5,
   "metadata": {},
   "outputs": [],
   "source": [
    "# Multiline comments don't exist in python\n",
    "# you must prefix every line with a #-sign"
   ]
  },
  {
   "cell_type": "code",
   "execution_count": 6,
   "metadata": {},
   "outputs": [],
   "source": [
    "\"\"\"Ok, there is a way to write\n",
    "multiline comments, but this is actually\n",
    "a string\"\"\""
   ]
  },
  {
   "cell_type": "markdown",
   "metadata": {},
   "source": [
    "For more on information see [Strings](#strings-basics). If possible, don't use strings as comments except for [DocStrings](#docstring)."
   ]
  },
  {
   "cell_type": "markdown",
   "metadata": {},
   "source": [
    "> Code tells you *how*, comments should tell you *why*!  \n",
    "> Commenting should be D.R.Y. (don’t repeat yourself) not W.E.T (wrote everything twice)."
   ]
  },
  {
   "cell_type": "markdown",
   "metadata": {},
   "source": [
    "<a name=\"literal-constants\"> </a>\n",
    "### **1.2&nbsp;&nbsp;&nbsp;Literal Constants** | [⭱](#basics) | [⌂](#table-of-contents)"
   ]
  },
  {
   "cell_type": "markdown",
   "metadata": {},
   "source": [
    "Below are some examples of 'literal constants':"
   ]
  },
  {
   "cell_type": "markdown",
   "metadata": {},
   "source": [
    "`5`, `1.23`, `9.25e-3`, `'This is a string'`, `\"It's another string\"`, `...`"
   ]
  },
  {
   "cell_type": "markdown",
   "metadata": {},
   "source": [
    "They are called *literal* because they represent themselves and nothing else. And they are called *constant* because their value cannot be changed. They are immutable.  \n",
    "[Numbers](#numbers) and [Strings](#strings-basics) are literal constants."
   ]
  },
  {
   "cell_type": "markdown",
   "metadata": {},
   "source": [
    "<a name=\"numbers\"> </a>\n",
    "### **1.3&nbsp;&nbsp;&nbsp;Numbers** | [⭱](#basics) | [⌂](#table-of-contents)"
   ]
  },
  {
   "cell_type": "markdown",
   "metadata": {},
   "source": [
    "There are three different types of numbers in python:  \n",
    "- Integers (`2`, `-100`, ...) abbreviated to 'int'  \n",
    "- Floating point numbers (`3.23`, `52.3e-4`, ...) abbreviated to 'float'  \n",
    "- Complex numbers (`1j`, `(3+2j)`, ...) abbreviated to 'complex'"
   ]
  },
  {
   "cell_type": "markdown",
   "metadata": {},
   "source": [
    "There is also a boolean value (abbreviated to 'bool') with the logical values `True` and `False`."
   ]
  },
  {
   "cell_type": "markdown",
   "metadata": {},
   "source": [
    "For more information on number- and boolean types see [Data Types](#data-types).  \n",
    "For using numbers in expressions see [Operators & Expressions](#operators-&-expressions)."
   ]
  },
  {
   "cell_type": "markdown",
   "metadata": {},
   "source": [
    "<a name=\"strings-basics\"> </a>\n",
    "### **1.4&nbsp;&nbsp;&nbsp;Strings** | [⭱](#basics) | [⌂](#table-of-contents)"
   ]
  },
  {
   "cell_type": "markdown",
   "metadata": {},
   "source": [
    "A string is a sequence of characters. Strings are basically just a bunch of words. They are specified using single quotes `'`, double quotes `\"` or triple quotes `\"\"\"`."
   ]
  },
  {
   "cell_type": "code",
   "execution_count": 7,
   "metadata": {},
   "outputs": [],
   "source": [
    "'This is a string'        # Don't use ' in here\n",
    "\n",
    "\"It's another string\"     # Don't use \" in here\n",
    "\n",
    "\"\"\"It's a \"multiline\"\n",
    "string\"\"\"                 # You can use ' and \" in here ..."
   ]
  },
  {
   "cell_type": "markdown",
   "metadata": {},
   "source": [
    "For more information see [Strings](#strings)."
   ]
  },
  {
   "cell_type": "markdown",
   "metadata": {},
   "source": [
    "<a name=\"keywords\"> </a>\n",
    "### **1.5&nbsp;&nbsp;&nbsp;Keywords** | [⭱](#basics) | [⌂](#table-of-contents)"
   ]
  },
  {
   "cell_type": "markdown",
   "metadata": {},
   "source": [
    "Keywords are reserved words in Python. They are case sensitive and cannot be used as [identifiers](#identifiers) for [variables](#variables), [functions](#functions-basics), [objects](#objects-basics), [classes](#object-basics), etc.."
   ]
  },
  {
   "cell_type": "markdown",
   "metadata": {},
   "source": [
    "Below is a list of all keywords in Python:\n",
    "> Ellipsis, False, None, True, and, as, assert, async, await, break, class, continue, def, del, elif, else, except, finally, for, from, global, if, import, in, is, lambda, nonlocal, not, or, pass, raise, return, try, while, with, yield"
   ]
  },
  {
   "cell_type": "markdown",
   "metadata": {},
   "source": [
    "<a name=\"identifiers\"> </a>\n",
    "### **1.6&nbsp;&nbsp;&nbsp;Identifiers** | [⭱](#basics) | [⌂](#table-of-contents)"
   ]
  },
  {
   "cell_type": "markdown",
   "metadata": {},
   "source": [
    "An 'identifier' is the *name* given to something (e.&nbsp;g. [variables](#variables), [functions](#functions-basics), [objects](#objects-basics), [classes](#object-basics), etc.). It gives you access to that \"something\" and lets you operate on it."
   ]
  },
  {
   "cell_type": "markdown",
   "metadata": {},
   "source": [
    "> The naming of identifiers should be comprehensible and help to differentiate one entity from another. Words can be seperated by underscores `_` for readability.  \n",
    "> The following examples provide an orientation to the spelling of identifiers for different entities. It is recommended to stick to these:  \n",
    ">\n",
    "> `some_variable` (for [variables](#variables) and [parameters](#parameters-&-arguments))  \n",
    "> `some_function` (for [functions](#functions-basics))  \n",
    "> `some_object` (for [objects](#objects-basics))  \n",
    "> `SomeClass` (for [classes](#classes))  \n",
    "> `some_attribute` (for public [attributes](#attributes))  \n",
    "> `__some_attribute` (for non-public [attributes](#attributes))  \n",
    "> `some_method` (for public [methods](#methods))  \n",
    "> `__some_method` (for non-public [methods](#methods))  \n",
    "> `some_module` (for [modules](#modules))  \n",
    "> `somepackage` (for [packages](#packages))  \n",
    "> `SOME_CONSTANT` (for constants)  \n",
    "> `SomeExceptionError` (for [exceptions](#exceptions-&-unit-tests))  \n",
    "> `__magic__` (reserved for \"magic\" functions)  "
   ]
  },
  {
   "cell_type": "markdown",
   "metadata": {},
   "source": [
    "⚠ Identifiers can *not* be [keywords](#keywords) or start with a number."
   ]
  },
  {
   "cell_type": "markdown",
   "metadata": {},
   "source": [
    "<a name=\"variables\"> </a>\n",
    "### **1.7&nbsp;&nbsp;&nbsp;Variables** | [⭱](#basics) | [⌂](#table-of-contents)"
   ]
  },
  {
   "cell_type": "markdown",
   "metadata": {},
   "source": [
    "A variable is a container that holds data that may change. In simplest terms, a variable is just a box for storing stuff. Variables are referenced by their [identifier](#identifiers)."
   ]
  },
  {
   "cell_type": "code",
   "execution_count": 8,
   "metadata": {},
   "outputs": [],
   "source": [
    "special_value = 42"
   ]
  },
  {
   "cell_type": "markdown",
   "metadata": {},
   "source": [
    "Here the identifier is `special_value`, the data stored is `42` and `=` is the [assignment operator](#assignment-operators). The identifier cannot be a [keyword](#keywords).  \n",
    "Variables can hold values of different [data types](#data-types). Some basic types are [numbers](#numbers) and [strings](#strings-basics), more complex ones can be any [object](#objects-basics). To create own types you can use [classes](#classes)."
   ]
  },
  {
   "cell_type": "markdown",
   "metadata": {},
   "source": [
    "<a name=\"functions-basics\"> </a>\n",
    "### **1.8&nbsp;&nbsp;&nbsp;Functions** | [⭱](#basics) | [⌂](#table-of-contents)"
   ]
  },
  {
   "cell_type": "markdown",
   "metadata": {},
   "source": [
    "A function is a [block](#indentation) of code which is executed when the function is 'called'. It can get passed arguments which may be used in its execution and on the other hand it can also return objects (values, etc.).  \n",
    "Besides writing own functions, Python provides a variety of predifined built-in functions (short: builtins). For example the length-function:"
   ]
  },
  {
   "cell_type": "code",
   "execution_count": 9,
   "metadata": {},
   "outputs": [
    {
     "name": "stdout",
     "output_type": "stream",
     "text": [
      "11\n"
     ]
    }
   ],
   "source": [
    "word_length = len('Mississippi')\n",
    "print(word_length)"
   ]
  },
  {
   "cell_type": "markdown",
   "metadata": {},
   "source": [
    "Here `len` is the 'identifier' of the function, `'Mississippi'` is the 'argument' and the 'return object' is `11` which is stored in a variable and printed subsequently. The identifier cannot be a [keyword](#keywords)."
   ]
  },
  {
   "cell_type": "markdown",
   "metadata": {},
   "source": [
    "Below is a list of all Python builtins:\n",
    "> \\_\\_import__(), abs(), all(), any(), ascii(), bin(), bool(), breakpoint(), bytearray(), bytes(), callable(), chr(), classmethod(), compile(), complex(), delattr(), dict(), dir(), divmod(), enumerate(), eval(), exec(), filter(), float(), format(), frozenset(), getattr(), globals(), hasattr(), hash(), help(), hex(), id(), input(), int(), isinstance(), issubclass(), iter(), len(), list(), locals(), map(), max(), memoryview(), min(), next(), object(), oct(), open(), ord(), pow(), print(), property(), range(), repr(), reversed(), round(), set(), setattr(), slice(), sorted(), staticmethod(), str(), sum(), super(), tuple(), type(), vars(), zip()"
   ]
  },
  {
   "cell_type": "markdown",
   "metadata": {},
   "source": [
    "Even if a function does not need any arguments you have to write empty opening and closing parantheses like in `help()`."
   ]
  },
  {
   "cell_type": "markdown",
   "metadata": {},
   "source": [
    "For detailed information on individual builtins visit the *[Python Documentation](https://docs.python.org/3/library/functions.html)*.  \n",
    "For more information see [Functions](#functions)."
   ]
  },
  {
   "cell_type": "markdown",
   "metadata": {},
   "source": [
    "<a name=\"objects-basics\"> </a>\n",
    "### **1.9&nbsp;&nbsp;&nbsp;Objects** | [⭱](#basics) | [⌂](#table-of-contents)"
   ]
  },
  {
   "cell_type": "markdown",
   "metadata": {},
   "source": [
    "Python is strongly [object-oriented](#object-oriented-programming) and refers to anything used in a program as an object. This is meant in the generic sense, including numbers, strings, functions, etc.. Apart from the use of already existing objects, you can also generate your own [objects](#objects) from [classes](#classes).\n",
    "\n",
    "Objects are instances of classes and can have multiple [attributes](#attributes) and [methods](#methods).  \n",
    "E.&nbsp;g. the object `birch` may be an instance of the class `Tree` and might have the attribute `birch.height` and the method `birch.grow()`.\n",
    "\n",
    "Fro more information see [Object Oriented Programming](#object-oriented-programming)."
   ]
  },
  {
   "cell_type": "markdown",
   "metadata": {},
   "source": [
    "<a name=\"lines-&-indentation\"> </a>\n",
    "### **1.10&nbsp;&nbsp;&nbsp;Lines & Indentation** | [⭱](#basics) | [⌂](#table-of-contents)"
   ]
  },
  {
   "cell_type": "markdown",
   "metadata": {},
   "source": [
    "[Physical&nbsp;&&nbsp;Logical&nbsp;Line](#physical-&-logical-line) | [Indentation](#indentation)"
   ]
  },
  {
   "cell_type": "markdown",
   "metadata": {},
   "source": [
    "<a name=\"physical-&-logical-line\"> </a>\n",
    "#### 1.10.1&nbsp;&nbsp;&nbsp;Physical & Logical Line | [⭱](#lines-&-indentation) | [⌂](#table-of-contents)"
   ]
  },
  {
   "cell_type": "markdown",
   "metadata": {},
   "source": [
    "A 'physical line' is what you see when you write the program. A 'logical line' is what Python\n",
    "sees as a single statement. Python implicitly assumes that each physical line corresponds to\n",
    "a logical line.  \n",
    "In this way Python encourages the use of a single statement per line which makes code more\n",
    "readable.\n",
    "\n",
    "If you want to specify more than one logical line on a single physical line, then you have to\n",
    "explicitly specify this using a semicolon (`;`) which indicates the end of a logical\n",
    "line or statement. For example:"
   ]
  },
  {
   "cell_type": "code",
   "execution_count": 10,
   "metadata": {},
   "outputs": [
    {
     "name": "stdout",
     "output_type": "stream",
     "text": [
      "54\n"
     ]
    }
   ],
   "source": [
    "variable_1 = 54\n",
    "print(variable_1)"
   ]
  },
  {
   "cell_type": "markdown",
   "metadata": {},
   "source": [
    "can be written as"
   ]
  },
  {
   "cell_type": "code",
   "execution_count": 11,
   "metadata": {},
   "outputs": [
    {
     "name": "stdout",
     "output_type": "stream",
     "text": [
      "54\n"
     ]
    }
   ],
   "source": [
    "variable_1 = 54; print(variable_1)"
   ]
  },
  {
   "cell_type": "markdown",
   "metadata": {},
   "source": [
    "> It is recommended to write a maximum of a single logical line on a physical line, so you never have to use the semicolon."
   ]
  },
  {
   "cell_type": "markdown",
   "metadata": {},
   "source": [
    "If there is a long logical line of code you have to break up into multiple physical lines this can be done by using the backslash `\\` at the end of each physical line. This is called 'explicit line joining':"
   ]
  },
  {
   "cell_type": "code",
   "execution_count": 12,
   "metadata": {},
   "outputs": [],
   "source": [
    "variable_2 = \\\n",
    "23                  # same as variable_2 = 23"
   ]
  },
  {
   "cell_type": "markdown",
   "metadata": {},
   "source": [
    "When the logical line has a starting paranthesis (square bracket, curly brace) but not an ending one you don't need to use the backslash `\\` for logical line continuation. This is called 'implicit line joining':"
   ]
  },
  {
   "cell_type": "code",
   "execution_count": 13,
   "metadata": {},
   "outputs": [
    {
     "name": "stdout",
     "output_type": "stream",
     "text": [
      "54 23\n"
     ]
    }
   ],
   "source": [
    "print(variable_1,\n",
    "      variable_2)"
   ]
  },
  {
   "cell_type": "markdown",
   "metadata": {},
   "source": [
    "<a name=\"indentation\"> </a>\n",
    "#### 1.10.2&nbsp;&nbsp;&nbsp;Indentation | [⭱](#lines-&-indentation) | [⌂](#table-of-contents)"
   ]
  },
  {
   "cell_type": "markdown",
   "metadata": {},
   "source": [
    "Whitespace is important in Python. Spaces and tabs at the beginning of a [logical line](#physical-&-logical-line) are used to determine the indentation level of this line, which in turn is used to determine the grouping of statements.  \n",
    "This means that statements that go together **must** have the same indentation. Each such set of statements is called a 'suite' or 'block'. This is particularly important when structuring the [control flow](#control-flow) or [defining functions](#defining-functions) and [classes](#classes)."
   ]
  },
  {
   "cell_type": "markdown",
   "metadata": {},
   "source": [
    "> The official Python language recommendation suggests using four spaces for indentation. Good editors will automatically do this for you."
   ]
  },
  {
   "cell_type": "markdown",
   "metadata": {},
   "source": [
    "<a name=\"help\"> </a>\n",
    "### **1.11&nbsp;&nbsp;&nbsp;`help()`** | [⭱](#basics) | [⌂](#table-of-contents)"
   ]
  },
  {
   "cell_type": "markdown",
   "metadata": {},
   "source": [
    "Python provides a useful help function, you can pass nearly anything to."
   ]
  },
  {
   "cell_type": "code",
   "execution_count": null,
   "metadata": {},
   "outputs": [],
   "source": [
    "help(object)"
   ]
  },
  {
   "cell_type": "markdown",
   "metadata": {},
   "source": [
    "Just calling the help function without passing any argument to it starts an interactive help session."
   ]
  },
  {
   "cell_type": "code",
   "execution_count": null,
   "metadata": {},
   "outputs": [],
   "source": [
    "help()"
   ]
  },
  {
   "cell_type": "markdown",
   "metadata": {},
   "source": [
    "<a name=\"dir\"> </a>\n",
    "### **1.12&nbsp;&nbsp;&nbsp;`dir()`** | [⭱](#basics) | [⌂](#table-of-contents)"
   ]
  },
  {
   "cell_type": "markdown",
   "metadata": {},
   "source": [
    "Python provides a useful browse function you can pass any object to.  \n",
    "You can browse e.&nbsp;g. objects, classes, modules, etc. for their functions, attributes, methods, etc.."
   ]
  },
  {
   "cell_type": "code",
   "execution_count": null,
   "metadata": {},
   "outputs": [],
   "source": [
    "dir(__builtins__)"
   ]
  },
  {
   "cell_type": "markdown",
   "metadata": {},
   "source": [
    "Just calling the dir function browses the current [module](#modules)."
   ]
  },
  {
   "cell_type": "code",
   "execution_count": null,
   "metadata": {},
   "outputs": [],
   "source": [
    "dir()"
   ]
  },
  {
   "cell_type": "markdown",
   "metadata": {},
   "source": [
    "---"
   ]
  },
  {
   "cell_type": "markdown",
   "metadata": {},
   "source": [
    "<a name=\"input-&-output\"> </a>\n",
    "## **2&nbsp;&nbsp;&nbsp;INPUT & OUTPUT** | [⌂](#table-of-contents)"
   ]
  },
  {
   "cell_type": "markdown",
   "metadata": {},
   "source": [
    "[Output](#output) | [Input&nbsp;form&nbsp;User](#input-from-user)"
   ]
  },
  {
   "cell_type": "markdown",
   "metadata": {},
   "source": [
    "<a name=\"output\"> </a>\n",
    "### **2.1&nbsp;&nbsp;&nbsp;Output** | [⭱](#input-&-output) | [⌂](#table-of-contents)"
   ]
  },
  {
   "cell_type": "markdown",
   "metadata": {},
   "source": [
    "In general, output is written to the console with Python's built-in `print()` function. You can pass several arguments to it, which then will be converted into strings and passed to the standard output stream."
   ]
  },
  {
   "cell_type": "code",
   "execution_count": 15,
   "metadata": {},
   "outputs": [
    {
     "name": "stdout",
     "output_type": "stream",
     "text": [
      "The next sentence is true. The previous sentece is false.\n"
     ]
    }
   ],
   "source": [
    "print('The next sentence is true.', 'The previous sentece is false.')"
   ]
  },
  {
   "cell_type": "markdown",
   "metadata": {},
   "source": [
    "The full use of the print-function is:  \n",
    "`print(value, ..., sep=' ', end='\\n', file=sys.stdout, flush=False)`"
   ]
  },
  {
   "cell_type": "markdown",
   "metadata": {},
   "source": [
    "<a name=\"input-from-user\"> </a>\n",
    "### **2.2&nbsp;&nbsp;&nbsp;Input from User** | [⭱](#input-&-output) | [⌂](#table-of-contents)"
   ]
  },
  {
   "cell_type": "markdown",
   "metadata": {},
   "source": [
    "In general, the user input can be read from the console with Python's built-in `input()` function. It returns the input as a string, so it can be stored in variables or used in expressions for example."
   ]
  },
  {
   "cell_type": "code",
   "execution_count": 16,
   "metadata": {},
   "outputs": [
    {
     "name": "stdin",
     "output_type": "stream",
     "text": [
      "Pease type in your username:  Ghelatas\n"
     ]
    },
    {
     "name": "stdout",
     "output_type": "stream",
     "text": [
      "Ghelatas consists of 8 characters.\n"
     ]
    }
   ],
   "source": [
    "username = input('Pease type in your username: ')\n",
    "print(username, 'consists of', len(username), 'characters.')"
   ]
  },
  {
   "cell_type": "markdown",
   "metadata": {},
   "source": [
    "---"
   ]
  },
  {
   "cell_type": "markdown",
   "metadata": {},
   "source": [
    "<a name=\"data-types-&-data-structures\"> </a>\n",
    "## **3&nbsp;&nbsp;&nbsp;DATA TYPES & DATA STRUCTURES** | [⌂](#table-of-contents)"
   ]
  },
  {
   "cell_type": "markdown",
   "metadata": {},
   "source": [
    "[Overview](#overview) | [Data&nbsp;Types](#data-types) | [Strings](#strings) | [Type&nbsp;Conversion](#type-conversion) | [Lists](#lists) | [Tuples](#tuples) | [Sets](#sets) | [Frozensets](#frozensets) |[Range](#range) | [Dictionaries](#dictionaries)"
   ]
  },
  {
   "cell_type": "markdown",
   "metadata": {},
   "source": [
    "<a name=\"overview\"> </a>\n",
    "### **3.1&nbsp;&nbsp;&nbsp;Overview** | [⭱](#data-types-&-data-structures) | [⌂](#table-of-contents)"
   ]
  },
  {
   "cell_type": "markdown",
   "metadata": {},
   "source": [
    "[Features&nbsp;of&nbsp;Data&nbsp;Structures](#features-of-data-structures) | [Indexing](#indexing) | [Operations&nbsp;on&nbsp;Data&nbsp;Structures](#operations-on-data-structures)"
   ]
  },
  {
   "cell_type": "markdown",
   "metadata": {},
   "source": [
    "This Quick Reference distinguishes 'data types' and 'data structures'. The data type is the *kind* of a single, particular [object](#objects-basics) (i.&nbsp;e its [class](#objects-basics)), e.&nbsp;g. is 7 of type integer. Whereas data structures may contain one or several objects, which need not necessarily be of the same data type, e.&nbsp;g. a list. It should be noted that the data structure itself is an object which is of a specific data type, too. Accordingly, a list is a data structure of data type 'list'."
   ]
  },
  {
   "cell_type": "markdown",
   "metadata": {},
   "source": [
    "Basic built-in data types are:  \n",
    "> [None](#none) (`None` or `NoneType`)  \n",
    "> [Boolean](#bool) (`bool`)  \n",
    "> [Integer](#int) (`int`)  \n",
    "> [Floating point number](#float) (`float`)  \n",
    "> [Complex number](#complex) (`complex`)  \n",
    "> [String](#strings) (`str`)"
   ]
  },
  {
   "cell_type": "markdown",
   "metadata": {},
   "source": [
    "Basic built-in data structures are:\n",
    "> [String](#strings) (`str`)  \n",
    "> [List](#lists) (`list`)  \n",
    "> [Tuple](#tuples) (`tuple`)  \n",
    "> [Set](#sets) (`set`)  \n",
    "> [Frozenset](#frozensets) (`frozenset`)  \n",
    "> [Range](#range) (`range`)  \n",
    "> [Dictionary](#dictionaries) (`dict`)"
   ]
  },
  {
   "cell_type": "markdown",
   "metadata": {},
   "source": [
    "<a name=\"features-of-data-structures\"> </a>\n",
    "#### 3.1.1&nbsp;&nbsp;&nbsp;Features of Data Structures | [⭱](#overview) | [⌂](#table-of-contents)"
   ]
  },
  {
   "cell_type": "markdown",
   "metadata": {},
   "source": [
    "All of the above mentioned data structures are so called 'Iterables' i.&nbsp;e. they are capable of returning their contained objects one at a time. For this reason these data structures sometimes will be called *Iterables* synonymously in this Quick Reference.  \n",
    "Further the data structures *List*, *Tuple*, *Range* and in a wider context *Strings* are 'Sequences' i.&nbsp;e. you can access their members via indexing. This implies that sequences are **ordered** Iterables.  \n",
    "Finally the data structures *List*, *Set* and *Dictionary* are **mutable** whereas *Strings*, *Tuples*, *Frozensets* and *Ranges* ar **immutable**.  "
   ]
  },
  {
   "cell_type": "markdown",
   "metadata": {},
   "source": [
    "See the following table for the features of Python's built-in data structures:\n",
    "\n",
    "| Feature  | String | List | Tuple | Set | Frozenset | Range | Dictionary |\n",
    "|----------|--------|------|-------|-----|-----------|-------|------------|\n",
    "| Iterable | yes    | yes  | yes   | yes | yes       | yes   | yes        |\n",
    "| Sequence | (yes)  | yes  | yes   | no  | no        | yes   | no         |\n",
    "| Ordered  | yes    | yes  | yes   | no  | no        | yes   | no         |\n",
    "| Mutable  | no     | yes  | no    | yes | no        | no    | yes        |"
   ]
  },
  {
   "cell_type": "markdown",
   "metadata": {},
   "source": [
    "<a name=\"indexing\"> </a>\n",
    "#### 3.1.2&nbsp;&nbsp;&nbsp;Indexing | [⭱](#overview) | [⌂](#table-of-contents)"
   ]
  },
  {
   "cell_type": "markdown",
   "metadata": {},
   "source": [
    "A [sequence's](#features-of-data-structures) members can be accessed via indexing (e.&nbsp;g. `my_list[4]` returns the 5-th element of `my_list`). Note that the **index always starts with 0**.  \n",
    "You can access multiple objects of a sequence between a starting and an ending index (e.&nbsp;g. `my_list[3:6]` returns the 3-rd, 4-th and 5-th element of `my_list`). This is called 'slicing'. Note that the **element on the last index is always excluded**.  \n",
    "When specifying a 'step' only every second, third, etc. element is accessed (e.&nbsp;g. `my_list[2:7:2]` returns the 3-rd, 5-th and 7-th element of `my_list`). See the following example:"
   ]
  },
  {
   "cell_type": "code",
   "execution_count": 204,
   "metadata": {},
   "outputs": [
    {
     "name": "stdout",
     "output_type": "stream",
     "text": [
      "['b', 'd', 'f']\n"
     ]
    }
   ],
   "source": [
    "#           0    1    2    3    4    5\n",
    "my_list = ['a', 'b', 'c', 'd', 'e', 'f']\n",
    "print(my_list[1:6:2])       # slice from index 1 (incl.) to index 6 (excl.) by step 2"
   ]
  },
  {
   "cell_type": "markdown",
   "metadata": {},
   "source": [
    "<a name=\"operations-on-data-structures\"> </a>\n",
    "#### 3.1.3&nbsp;&nbsp;&nbsp;Operations on Data Structures | [⭱](#overview) | [⌂](#table-of-contents)"
   ]
  },
  {
   "cell_type": "markdown",
   "metadata": {},
   "source": [
    "Based on the [features](#features-of-data-structures) of the different data structures several operations can be performed on them.  \n",
    "Below is a table that shows common and mutable sequence operations and if they are supported by the above mentioned data structures:\n",
    "\n",
    "| Operation                          | Result                                                          | String | List | Tuple | Set | Frozenset | Range | Dictionary |\n",
    "|------------------------------------|-----------------------------------------------------------------|--------|------|-------|-----|-----------|-------|------------|\n",
    "| `x in s`                           | True if an item of s is equal to x, else False                  | yes    | yes  | yes   | yes | yes       | yes   | yes        |\n",
    "| `x not in s`                       | False if an item of s is equal to x, else True                  | yes    | yes  | yes   | yes | yes       | yes   | yes        |\n",
    "| `s + t`                            | concatenation of s and t                                        | yes    | yes  | yes   | no  | no        | no    | no         |\n",
    "| `s * n` or `n * s`                 | repetion of s n times                                           | yes    | yes  | yes   | no  | no        | no    | no         |\n",
    "| `s[i]`                             | i-th item of s                                                  | yes    | yes  | yes   | no  | no        | yes   | (yes)      |\n",
    "| `s[i:j]`                           | slice of s from i to j                                          | yes    | yes  | yes   | no  | no        | yes   | no         |\n",
    "| `s[i:j:k]`                         | slice of s from i to j with step k                              | yes    | yes  | yes   | no  | no        | yes   | no         |\n",
    "| `len(s)`                           | length of s                                                     | yes    | yes  | yes   | yes | yes       | yes   | yes        |\n",
    "| `min(s)`                           | smallest item of s                                              | yes    | yes  | yes   | yes | yes       | yes   | yes        |\n",
    "| `max(s)`                           | largest item of s                                               | yes    | yes  | yes   | yes | yes       | yes   | yes        |\n",
    "| `s.index(x, i, j)`                 | index of the first occurrence of x in s (from i to j)           | yes    | yes  | yes   | no  | no        | yes   | no         |\n",
    "| `s.count(x)`                       | total number of occurrences of x in s                           | yes    | yes  | yes   | no  | no        | yes   | no         |\n",
    "| `s[i] = x`                         | item i of s is replaced by x                                    | no     | yes  | no    | no  | no        | no    | yes        |\n",
    "| `del s[i]`                         | remove item of s at index i                                     | no     | yes  | no    | no  | no        | no    | yes        |\n",
    "| `s[i:j] = t`                       | slice of s from i to j is replaced by contents of t             | no     | yes  | no    | no  | no        | no    | no         |\n",
    "| `del s[i:j]`                       | remove items of s from i to j                                   | no     | yes  | no    | no  | no        | no    | no         |\n",
    "| `s[i:j:k] = t`                     | slice of s from i to j with step k is replaced by contents of t | no     | yes  | no    | no  | no        | no    | no         |\n",
    "| `del s[i:j:k]`                     | remove items of s from i to j with step k                       | no     | yes  | no    | no  | no        | no    | no         |\n",
    "| `s.append(x)`                      | append x to the end of the sequence                             | no     | yes  | no    | no  | no        | no    | no         |\n",
    "| `s.clear()` or `del s[:]`          | removes all items from s                                        | no     | yes  | no    | yes | no        | no    | yes        |\n",
    "| `s.copy()` or `s[:]`               | creates a shallow copy of s                                     | no     | yes  | no    | yes | yes       | no    | yes        |\n",
    "| `s.extend(t)` or `s += t`          | extends s with the contents of t                                | no     | yes  | no    | no  | no        | no    | no         |\n",
    "| `s *= n`                           | updates s with its contents repeated n times                    | (yes)  | yes  | (yes) | no  | no        | no    | no         |\n",
    "| `s.insert(i, x)` or `s[i:i] = [x]` | inserts x into s before index i                                 | no     | yes  | no    | no  | no        | no    | no         |\n",
    "| `s.pop(i)`                         | retrieves item at index i and also removes it from s            | no     | yes  | no    | yes | no        | no    | yes        |\n",
    "| `s.remove(x)`                      | remove first occurrence of x in s                               | no     | yes  | no    | yes | no        | no    | no         |\n",
    "| `s.reverse()`                      | reverses items of s in place                                    | no     | yes  | no    | no  | no        | no    | no         |"
   ]
  },
  {
   "cell_type": "markdown",
   "metadata": {},
   "source": [
    "<a name=\"data-types\"> </a>\n",
    "### **3.2&nbsp;&nbsp;&nbsp;Data Types** | [⭱](#data-types-&-data-structures) | [⌂](#table-of-contents)"
   ]
  },
  {
   "cell_type": "markdown",
   "metadata": {},
   "source": [
    "[None](#none) | [Boolean](#bool) | [Integer](#int) | [Float](#float) | [Complex](#complex) | [Other&nbsp;Data&nbsp;Types](#other-data-types)"
   ]
  },
  {
   "cell_type": "markdown",
   "metadata": {},
   "source": [
    "Make sure to read the [Overview](#overview) section of this chapter first.  \n",
    "The data type of any object can be retrieved by using the `type()` function."
   ]
  },
  {
   "cell_type": "markdown",
   "metadata": {},
   "source": [
    "<a name=\"none\"> </a>\n",
    "#### 3.2.1&nbsp;&nbsp;&nbsp;None | [⭱](#data-types) | [⌂](#table-of-contents)"
   ]
  },
  {
   "cell_type": "markdown",
   "metadata": {},
   "source": [
    "The `None` type indicates the lack of data."
   ]
  },
  {
   "cell_type": "code",
   "execution_count": 17,
   "metadata": {},
   "outputs": [
    {
     "name": "stdout",
     "output_type": "stream",
     "text": [
      "<class 'NoneType'>\n"
     ]
    }
   ],
   "source": [
    "empty_variable = None\n",
    "print(type(empty_variable))"
   ]
  },
  {
   "cell_type": "markdown",
   "metadata": {},
   "source": [
    "For example the `print()` [function](#functions-basics) does not return a value as you can see in the following example:"
   ]
  },
  {
   "cell_type": "code",
   "execution_count": 18,
   "metadata": {},
   "outputs": [
    {
     "name": "stdout",
     "output_type": "stream",
     "text": [
      "\n",
      "<class 'NoneType'>\n"
     ]
    }
   ],
   "source": [
    "print(type(print()))"
   ]
  },
  {
   "cell_type": "markdown",
   "metadata": {},
   "source": [
    "<a name=\"bool\"> </a>\n",
    "#### 3.2.2&nbsp;&nbsp;&nbsp;Boolean | [⭱](#data-types) | [⌂](#table-of-contents)"
   ]
  },
  {
   "cell_type": "markdown",
   "metadata": {},
   "source": [
    "Boolean values are the most fundamental data types in programming. They can only be `True` or `False` (which are reserved [keywords](#keywords))."
   ]
  },
  {
   "cell_type": "code",
   "execution_count": 19,
   "metadata": {},
   "outputs": [
    {
     "name": "stdout",
     "output_type": "stream",
     "text": [
      "<class 'bool'>\n",
      "<class 'bool'>\n"
     ]
    }
   ],
   "source": [
    "jumper = True\n",
    "print(type(jumper))\n",
    "print(type(False))"
   ]
  },
  {
   "cell_type": "markdown",
   "metadata": {},
   "source": [
    "Expressed in numbers `True` is associated with `1` and `False` is associated with `0`:"
   ]
  },
  {
   "cell_type": "code",
   "execution_count": 20,
   "metadata": {},
   "outputs": [
    {
     "name": "stdout",
     "output_type": "stream",
     "text": [
      "4 0\n"
     ]
    }
   ],
   "source": [
    "print(True + 3, False * 7)"
   ]
  },
  {
   "cell_type": "markdown",
   "metadata": {},
   "source": [
    "The [constructor](#classes) for a boolean value is `bool()`. Passing no [arguments](#functions-basics) will result in the [return value](#functions-basics) `False`. However it is not neccesary to use it for value construction, because you can just type the value as it is for this purpose.  \n",
    "Passing any other arguments than `False`, `None` or `0` to the `bool()` function will result in the retrun value `True`."
   ]
  },
  {
   "cell_type": "code",
   "execution_count": 21,
   "metadata": {},
   "outputs": [
    {
     "name": "stdout",
     "output_type": "stream",
     "text": [
      "True, True, False, True\n"
     ]
    }
   ],
   "source": [
    "a = bool(True)\n",
    "b = True\n",
    "c = bool()\n",
    "d = bool('Something')\n",
    "print(a, b, c, d, sep=', ')"
   ]
  },
  {
   "cell_type": "markdown",
   "metadata": {},
   "source": [
    "Amongst other use cases boolean values are commonly used in the [control flow](#control-flow) structures of a program where they serve to execute, repeat or bypass code segments depending on certain conditions that can be true or false."
   ]
  },
  {
   "cell_type": "markdown",
   "metadata": {},
   "source": [
    "<a name=\"int\"> </a>\n",
    "#### 3.2.3&nbsp;&nbsp;&nbsp;Integer | [⭱](#data-types) | [⌂](#table-of-contents)"
   ]
  },
  {
   "cell_type": "markdown",
   "metadata": {},
   "source": [
    "Integer numbers are e.&nbsp;g. `4`, `15`, `-3`, `-100`, `0`, ... . Their data type is `int` and they are derived from the mathematical set of *[integers $\\mathbb{Z}$](https://en.wikipedia.org/wiki/Integer)*.  \n",
    "Note that tehy do **not correspond** to the set of integers $\\mathbb{Z}$ entirely because of the memory limitation of computers, that is why very large positive or negative numbers cannot be represented."
   ]
  },
  {
   "cell_type": "code",
   "execution_count": 22,
   "metadata": {},
   "outputs": [
    {
     "name": "stdout",
     "output_type": "stream",
     "text": [
      "<class 'int'>\n"
     ]
    }
   ],
   "source": [
    "print(type(-23))"
   ]
  },
  {
   "cell_type": "markdown",
   "metadata": {},
   "source": [
    "The [constructor](#classes) for an integer is `int()`. Passing no [arguments](#functions-basics) will result in the [return value](#functions-basics) `0`. However it is not neccesary to use it for value construction, because you can just type the number as it is for this purpose.  \n",
    "By passing the [keyword argument](#keyword-arguments) `base` you can specify a base, the given value is interpreted with. In this case the value has to ba a [string](#strings-basics), bytes or bytearray."
   ]
  },
  {
   "cell_type": "code",
   "execution_count": 23,
   "metadata": {},
   "outputs": [
    {
     "name": "stdout",
     "output_type": "stream",
     "text": [
      "7, 7, 0, 42\n"
     ]
    }
   ],
   "source": [
    "a = int(7)\n",
    "b = 7\n",
    "c = int()\n",
    "d = int('1J', base=23)\n",
    "print(a, b, c, d, sep=', ')"
   ]
  },
  {
   "cell_type": "markdown",
   "metadata": {},
   "source": [
    "<a name=\"float\"> </a>\n",
    "#### 3.2.4&nbsp;&nbsp;&nbsp;Float | [⭱](#data-types) | [⌂](#table-of-contents)"
   ]
  },
  {
   "cell_type": "markdown",
   "metadata": {},
   "source": [
    "Floating point numbers are e.g `3.1`, `-3.23`, `52.3e-4`, ... . Their data type is `float` and they are derived from the mathematical set of *[rational numbers $\\mathbb{Q}$](https://en.wikipedia.org/wiki/Rational_number)*.  \n",
    "Note that they do **not correspond** to the set of rational numbers $\\mathbb{Q}$ entirely or *[real numbers $\\mathbb{R}$](https://en.wikipedia.org/wiki/Real_number)* because of the memory limitation of computers, that is why periodic and irrational numbers cannot be represented entirely."
   ]
  },
  {
   "cell_type": "code",
   "execution_count": 24,
   "metadata": {},
   "outputs": [
    {
     "name": "stdout",
     "output_type": "stream",
     "text": [
      "<class 'float'>\n"
     ]
    }
   ],
   "source": [
    "print(type(1.0))"
   ]
  },
  {
   "cell_type": "markdown",
   "metadata": {},
   "source": [
    "The [constructor](#classes) for a floating point number is `float()`. Passing no [arguments](#functions-basics) will result in the [return value](#functions-basics) `0.0`. However it is not neccessary to use it for value construction, because you can just type the number as it is for this purpose.  \n",
    "Using this function, it is possible to create the values positive and negative infinity (`inf`, `-inf`)."
   ]
  },
  {
   "cell_type": "code",
   "execution_count": 25,
   "metadata": {},
   "outputs": [
    {
     "name": "stdout",
     "output_type": "stream",
     "text": [
      "3.2, 3.2, 0.0, inf, -inf\n"
     ]
    }
   ],
   "source": [
    "a = float(3.2)\n",
    "b = 3.2\n",
    "c = float()\n",
    "d = float('inf')\n",
    "e = float('-inf')\n",
    "print(a, b, c, d, e, sep=', ')"
   ]
  },
  {
   "cell_type": "markdown",
   "metadata": {},
   "source": [
    "<a name=\"complex\"> </a>\n",
    "#### 3.2.5&nbsp;&nbsp;&nbsp;Complex | [⭱](#data-types) | [⌂](#table-of-contents)"
   ]
  },
  {
   "cell_type": "markdown",
   "metadata": {},
   "source": [
    "Complex numbers are e.&nbsp;g. `2+3j`, `1j`, `(-2.3+5j)`, `7-1.3j`, ... . Their data type is `complex` and they are derived from the mathematical set of *[complex numbers $\\mathbb{C}$](https://en.wikipedia.org/wiki/Complex_number)*.  \n",
    "Note that they do **not correspond** to the set of complex numbers $\\mathbb{C}$ entirely because of the memory limitations of computers, that ist why very large, periodic and irrational number in the real and imagenary part of the complex number cannot be represented."
   ]
  },
  {
   "cell_type": "code",
   "execution_count": 26,
   "metadata": {},
   "outputs": [
    {
     "name": "stdout",
     "output_type": "stream",
     "text": [
      "<class 'complex'>\n"
     ]
    }
   ],
   "source": [
    "print(type(7-1.3j))"
   ]
  },
  {
   "cell_type": "markdown",
   "metadata": {},
   "source": [
    "The [constructor](#classes) for a complex number is `complex()`. Passing no [arguments](#functions-basics) will result in the [return value](#functions-basics) `0j`. However it is not neccessary to use it for value construction, because you can just type the number as it is for this purpose.  \n",
    "Further you can pass the real and imaginary part as [positional arguments](#parameters-&-arguments) with `complex(real, imag)`. Conversely, the real or imaginary part of a complex number can be retrieved as its [attributes](#objects-basics) `complex.real` or `complex.imag`."
   ]
  },
  {
   "cell_type": "code",
   "execution_count": 27,
   "metadata": {},
   "outputs": [
    {
     "name": "stdout",
     "output_type": "stream",
     "text": [
      "(3-2j), (3-2j), 0j, (-4+8j), 4.25\n"
     ]
    }
   ],
   "source": [
    "a = complex(3-2j)\n",
    "b = 3-2j\n",
    "c = complex()\n",
    "d = complex(-4, 8)\n",
    "e = (1.33+4.25j).imag\n",
    "print(a, b, c, d, e, sep=', ')"
   ]
  },
  {
   "cell_type": "markdown",
   "metadata": {},
   "source": [
    "<a name=\"other-data-types\"> </a>\n",
    "#### 3.2.6&nbsp;&nbsp;&nbsp;Other Data Types | [⭱](#data-types) | [⌂](#table-of-contents)"
   ]
  },
  {
   "cell_type": "markdown",
   "metadata": {},
   "source": [
    "Another built-in data type is the [String](#strings-basics). More on that in the next section on [Strings](#strings).  \n",
    "There may be many more different data types especially when you start [importing](#modules-&-packages) other [modules](#modules) or [packages](#packages) with their own objects.  \n",
    "In a wider sense the data type of an object is its class, so in order to comprehend or create other data types than the built-in ones you can read the section on [Object Oriented Programming](#object-oriented-programming)."
   ]
  },
  {
   "cell_type": "markdown",
   "metadata": {},
   "source": [
    "<a name=\"strings\"> </a>\n",
    "### **3.3&nbsp;&nbsp;&nbsp;Strings** | [⭱](#data-types-&-data-structures) | [⌂](#table-of-contents)"
   ]
  },
  {
   "cell_type": "markdown",
   "metadata": {},
   "source": [
    "[Formatted&nbsp;Strings](#formatted-strings) | [Formatted&nbsp;Datetime&nbsp;in&nbsp;Strings](#formatted-datetime-in-strings) | [Escape&nbsp;Sequences](#escape-sequences) | [Raw&nbsp;Strings](#raw-strings) | [String&nbsp;Methods](#string-methods) | [Unicode](#unicode)"
   ]
  },
  {
   "cell_type": "markdown",
   "metadata": {},
   "source": [
    "The basic syntax of strings already is adressed in the section [Strings](#strings-basics) of the chapter Basics.  \n",
    "Recall a string is a sequence of characters. They are specified using single quotes `'`, double quotes `\"` or triple quotes `\"\"\"`.  \n",
    "In contrast to other programming languages characters are no accessible data type in Python, even a string consisting of just one character still is of type `str`."
   ]
  },
  {
   "cell_type": "code",
   "execution_count": 28,
   "metadata": {},
   "outputs": [
    {
     "name": "stdout",
     "output_type": "stream",
     "text": [
      "<class 'str'>\n"
     ]
    }
   ],
   "source": [
    "print(type('h'))"
   ]
  },
  {
   "cell_type": "markdown",
   "metadata": {},
   "source": [
    "At the same time a string is a [sequence](#features-of-data-structures) and therefore a [data structure](#overview) containing several cahracters. You can access the single characters with square brackets `[]`. The [indexing](#indexing) starts with 0."
   ]
  },
  {
   "cell_type": "code",
   "execution_count": 29,
   "metadata": {},
   "outputs": [
    {
     "name": "stdout",
     "output_type": "stream",
     "text": [
      "t o n y\n"
     ]
    }
   ],
   "source": [
    "word = 'Python'\n",
    "print(word[2], word[4], word[-1], word[1])"
   ]
  },
  {
   "cell_type": "markdown",
   "metadata": {},
   "source": [
    "The [constructor](#classes) for a string is `str()`. Passing no [arguments](#functions-basics) will result in the [return value](#functions-basics) `''` (empty string). However it is not neccessary to use it for value construction, because you can just type the string in qoutes for this purpose.  "
   ]
  },
  {
   "cell_type": "code",
   "execution_count": 30,
   "metadata": {},
   "outputs": [
    {
     "name": "stdout",
     "output_type": "stream",
     "text": [
      "Hello World, Hello World, <= nothing here"
     ]
    }
   ],
   "source": [
    "a = str('Hello World')\n",
    "b = 'Hello World'\n",
    "c = str()\n",
    "print(a, b, c, sep=', ', end=\"<= nothing here\")"
   ]
  },
  {
   "cell_type": "markdown",
   "metadata": {},
   "source": [
    "By using the `+` [operator](#arithmetic-operators), multiple strings can be merged; this is called 'concatenation':"
   ]
  },
  {
   "cell_type": "code",
   "execution_count": 3,
   "metadata": {},
   "outputs": [
    {
     "name": "stdout",
     "output_type": "stream",
     "text": [
      "My name is John and I am 24 years old.\n"
     ]
    }
   ],
   "source": [
    "name = 'John'\n",
    "age = '24'\n",
    "print('My name is ' + name + ' and I am ' + age + ' years old.')"
   ]
  },
  {
   "cell_type": "markdown",
   "metadata": {},
   "source": [
    "<a name=\"formatted-strings\"> </a>\n",
    "#### 3.3.1&nbsp;&nbsp;&nbsp;Formatted Strings | [⭱](#strings) | [⌂](#table-of-contents)"
   ]
  },
  {
   "cell_type": "markdown",
   "metadata": {},
   "source": [
    "With formatted [strings](#strings) (f-strings) prefixed by f, the values of [arguments](#functions-basics) can be expressed without [concatenation](#strings):"
   ]
  },
  {
   "cell_type": "code",
   "execution_count": 31,
   "metadata": {},
   "outputs": [
    {
     "name": "stdout",
     "output_type": "stream",
     "text": [
      "My name is John and I am 24 years old.\n"
     ]
    }
   ],
   "source": [
    "name = 'John'\n",
    "age = 24\n",
    "print(f'My name is {name} and I am {age} years old.')"
   ]
  },
  {
   "cell_type": "markdown",
   "metadata": {},
   "source": [
    "[Expressions](#operators-&-expressions), [functions](#functions-basics), etc. can be used within f-strings:"
   ]
  },
  {
   "cell_type": "code",
   "execution_count": 32,
   "metadata": {},
   "outputs": [
    {
     "name": "stdout",
     "output_type": "stream",
     "text": [
      "7 times 13 is 91\n"
     ]
    }
   ],
   "source": [
    "print(f'7 times 13 is {7 * 13}')"
   ]
  },
  {
   "cell_type": "markdown",
   "metadata": {},
   "source": [
    "Additional formatting can be done using format specifiers after a colon:"
   ]
  },
  {
   "cell_type": "code",
   "execution_count": 33,
   "metadata": {},
   "outputs": [
    {
     "name": "stdout",
     "output_type": "stream",
     "text": [
      "The value is 0027\n",
      "Pi is equal to 3.1416\n"
     ]
    }
   ],
   "source": [
    "print(f'The value is {27:04}')\n",
    "pi = 3.14159265\n",
    "print(f'Pi is equal to {pi:.4f}')"
   ]
  },
  {
   "cell_type": "markdown",
   "metadata": {},
   "source": [
    "Below is a list with examples of further format specifiers:\n",
    "> **Common format specifiers**  \n",
    "> `f'{42:_<5}'`       (Align left, fill with \\_, width 5: 42___)  \n",
    "> `f'{\"FP\":*^6}'`     (Center, fill with \\*, width 6: \\*\\*FP\\*\\*)  \n",
    "> `f'{3.2:>5}'`       (Align right, width 5: &nbsp;&nbsp;3.2)  \n",
    "> `f'{\"Karl\":.2}'`    (Only show first 2 characters: Ka)  \n",
    "\n",
    "> **Format specifiers for numbers**  \n",
    "> `f'{42:04}'`        (Padding zeros, width 4: 0042)  \n",
    "> `f'{42:+}'`         (Force a sign: +42)  \n",
    "> `f'{42: }'`         (Leading space if positive: &nbsp;42)  \n",
    "> `f'{1800:,}'`       (Thousand's delimiter: 1,800)  \n",
    "> `f'{3:.2f}'`        (Show as float, precision 2: 3.00)  \n",
    "> `f'{0.3:.2%}'`      (Show as percentage, 2 decimals: 30.00%)  \n",
    "> `f'{15000:.1e}'`    (Show as scientific notation: 1.5e+04)  \n",
    "> `f'{13:b}'`         (Show as binary: 1101)  \n",
    "> `f'{83:o}'`         (Show as octal: 123)  \n",
    "> `f'{61:X}'`         (Show as hexadecimal: 3D)  \n",
    "> `f'{955:c}'`        (Type Unicode character (decimal): λ)  "
   ]
  },
  {
   "cell_type": "markdown",
   "metadata": {},
   "source": [
    "Also see the [Unicode](#unicode) sub-section."
   ]
  },
  {
   "cell_type": "markdown",
   "metadata": {},
   "source": [
    "<a name=\"formatted-datetime-in-strings\"> </a>\n",
    "#### 3.3.2&nbsp;&nbsp;&nbsp;Formatted Datetime in Strings | [⭱](#strings) | [⌂](#table-of-contents)"
   ]
  },
  {
   "cell_type": "markdown",
   "metadata": {},
   "source": [
    "After [importing](#imports) the datetime module , the datetime object comes with further [format specifiers](#formatted-strings):"
   ]
  },
  {
   "cell_type": "code",
   "execution_count": 34,
   "metadata": {},
   "outputs": [
    {
     "name": "stdout",
     "output_type": "stream",
     "text": [
      "John is born October 13, 1995.\n"
     ]
    }
   ],
   "source": [
    "from datetime import datetime\n",
    "birthday = datetime(1995, 10, 13)\n",
    "print(f\"John is born {birthday:%B %d, %Y}.\")"
   ]
  },
  {
   "cell_type": "markdown",
   "metadata": {},
   "source": [
    "For more datetime formatting visit *[Programiz](https://www.programiz.com/python-programming/datetime/strftime)*."
   ]
  },
  {
   "cell_type": "markdown",
   "metadata": {},
   "source": [
    "<a name=\"escape-sequences\"> </a>\n",
    "#### 3.3.3&nbsp;&nbsp;&nbsp;Escape Sequences | [⭱](#strings) | [⌂](#table-of-contents)"
   ]
  },
  {
   "cell_type": "markdown",
   "metadata": {},
   "source": [
    "Escape sequences are prefixed by a backslash \\ and can be used to print special characters within a [string](#strings). For example:"
   ]
  },
  {
   "cell_type": "code",
   "execution_count": 35,
   "metadata": {},
   "outputs": [
    {
     "name": "stdout",
     "output_type": "stream",
     "text": [
      "λ is a scientific constant,\n",
      "it's value is 1.9e-26.\n"
     ]
    }
   ],
   "source": [
    "print('\\u03BB is a scientific constant,\\nit\\'s value \\\n",
    "is 1.9e-26.')"
   ]
  },
  {
   "cell_type": "markdown",
   "metadata": {},
   "source": [
    "Note that a single backslash \\ at the end of the line indicates that the string is continued in the next line, but no newline is added (see [explicit line joining](#physical-&-logical-line))."
   ]
  },
  {
   "cell_type": "markdown",
   "metadata": {},
   "source": [
    "Below is a list of all escape sequences:\n",
    "> `\\\\`         (Backslash: \\\\)  \n",
    "> `\\'`         (Single quote: ')  \n",
    "> `\\\"`         (Double quote: \")  \n",
    "> `\\a`         (Bell)  \n",
    "> `\\b`         (Backspace)  \n",
    "> `\\f`         (Formfeed)  \n",
    "> `\\n`         (Newline)  \n",
    "> `\\r`         (Carriage return)  \n",
    "> `\\t`         (Horizontal tab)  \n",
    "> `\\v`         (Vertical tab)  \n",
    "> `\\046`       (Unicode character with octal value 046: &)  \n",
    "> `\\x26`       (Unicode character with hex value 26: &)  \n",
    "> `\\u03BB`     (Unicode character with hex value 03BB: λ)  \n",
    "> `\\U000003BB` (Unicode character with hex value 000003BB: λ)  \n",
    "> `\\N{tilde}`  (Unicode character named 'tilde': ~)  "
   ]
  },
  {
   "cell_type": "markdown",
   "metadata": {},
   "source": [
    "Also see the [Unicode](#unicode) section."
   ]
  },
  {
   "cell_type": "markdown",
   "metadata": {},
   "source": [
    "<a name=\"raw-strings\"> </a>\n",
    "#### 3.3.4&nbsp;&nbsp;&nbsp;Raw Strings | [⭱](#strings) | [⌂](#table-of-contents)"
   ]
  },
  {
   "cell_type": "markdown",
   "metadata": {},
   "source": [
    "A raw [string](#strings) (prefixed by r) is used, where no special processing such as [escape sequences](#escape-sequences) should be handled. An example is:"
   ]
  },
  {
   "cell_type": "code",
   "execution_count": 36,
   "metadata": {},
   "outputs": [
    {
     "name": "stdout",
     "output_type": "stream",
     "text": [
      "Newlines are indicated by \\n.\n"
     ]
    }
   ],
   "source": [
    "print(r'Newlines are indicated by \\n.')"
   ]
  },
  {
   "cell_type": "markdown",
   "metadata": {},
   "source": [
    "<a name=\"string-methods\"> </a>\n",
    "#### 3.3.5&nbsp;&nbsp;&nbsp;String Methods | [⭱](#strings) | [⌂](#table-of-contents)"
   ]
  },
  {
   "cell_type": "markdown",
   "metadata": {},
   "source": [
    "[Strings](#strings) implement all of the [common sequence operations](#operations-on-data-structures), along with additional string-[methods](#methods)."
   ]
  },
  {
   "cell_type": "markdown",
   "metadata": {},
   "source": [
    "Below is a full list of all string methods:\n",
    "> capitalize(), casefold(), center(), count(), encode(), endswith(), expandtabs(), find(), format(), format_map(), index(), isalnum(), isalpha(), isascii(), isdecimal(), isdigit(), isidentifier(), islower(), isnumeric(), isprintable(), isspace(), istitle(), isupper(), join(), ljust(), lower(), lstrip(), maketrans(), partition(), replace(), rfind(), rindex(), rjust(), rpartition(), rsplit(), rstrip(), split(), splitlines(), startswith(), strip(), swapcase(), title(), translate(), upper(), zfill()"
   ]
  },
  {
   "cell_type": "markdown",
   "metadata": {},
   "source": [
    "Since strings are [objects](#objects-basics) you can access their methods with the `.` operator. See the example below:"
   ]
  },
  {
   "cell_type": "code",
   "execution_count": 37,
   "metadata": {},
   "outputs": [
    {
     "name": "stdout",
     "output_type": "stream",
     "text": [
      "EXPERIENCE IS MERELY THE NAME MEN GAVE TO THEIR MISTAKES.\n"
     ]
    }
   ],
   "source": [
    "sentence = 'Experience is merely the name men gave to their mistakes.'\n",
    "print(sentence.upper())"
   ]
  },
  {
   "cell_type": "markdown",
   "metadata": {},
   "source": [
    "For a detailed description of the individual methods visit the *[Python Documentation](https://docs.python.org/3/library/stdtypes.html#string-methods)*."
   ]
  },
  {
   "cell_type": "markdown",
   "metadata": {},
   "source": [
    "<a name=\"unicode\"> </a>\n",
    "#### 3.3.6&nbsp;&nbsp;&nbsp;Unicode | [⭱](#strings) | [⌂](#table-of-contents)"
   ]
  },
  {
   "cell_type": "markdown",
   "metadata": {},
   "source": [
    "For more Unicode characters visit *[Unicode-Table](https://unicode-table.com/en/)*."
   ]
  },
  {
   "cell_type": "markdown",
   "metadata": {},
   "source": [
    "<a name=\"type-conversion\"> </a>\n",
    "### **3.4&nbsp;&nbsp;&nbsp;Type Conversion** | [⭱](#data-types-&-data-structures) | [⌂](#table-of-contents)"
   ]
  },
  {
   "cell_type": "markdown",
   "metadata": {},
   "source": [
    "In order to convert values from one [data type](#data-types) to another (if possible) you can use their [constructors](#classes) (`bool()`, `int()`, `float()`, `complex()`, `str()`). For example you can convert the integer `15` to a floating point number by using the `float()` constructor.  \n",
    "When converting floats to integers their value is truncated. Furthermore complex numbers cannot be converted to integers or floats as a whole, just their real or imaginary part can.  \n",
    "As long as they are readable as numbers strings can be converted to numbers by using their respective constructor. The other way round any number can be converted into a string."
   ]
  },
  {
   "cell_type": "code",
   "execution_count": 38,
   "metadata": {},
   "outputs": [
    {
     "name": "stdout",
     "output_type": "stream",
     "text": [
      "15.0, 2, (4+0j), -5.2, 12.5, 3.1415\n"
     ]
    }
   ],
   "source": [
    "a = float(15)\n",
    "b = int(2.71828)\n",
    "c = complex(4)\n",
    "d = float((-5.2+0.3j).real)\n",
    "e = float('12.5')\n",
    "f = str(3.1415)\n",
    "print(a, b, c, d, e, f, sep=', ')"
   ]
  },
  {
   "cell_type": "markdown",
   "metadata": {},
   "source": [
    "<a name=\"lists\"> </a>\n",
    "### **3.5&nbsp;&nbsp;&nbsp;Lists** | [⭱](#data-types-&-data-structures) | [⌂](#table-of-contents)"
   ]
  },
  {
   "cell_type": "markdown",
   "metadata": {},
   "source": [
    "Make sure to read the [Overview](#overview) section of this chapter first.\n",
    "\n",
    "A *list* is a data structure that holds an ordered collection of items i.&nbsp;e. you can store a [sequence](#features-of-data-structures) of items in a list. Lists are [mutable](#features-of-data-structures).  \n",
    "The data type of a list symply is `list` and it is specified by enclosing the items in square brackets `[]`."
   ]
  },
  {
   "cell_type": "code",
   "execution_count": 1,
   "metadata": {},
   "outputs": [
    {
     "name": "stdout",
     "output_type": "stream",
     "text": [
      "<class 'list'>\n"
     ]
    }
   ],
   "source": [
    "ingredients = ['blueberries', 'bananas', 'soy curd', 'curcumin', 'cinamon', 'ground flaxseed', 'walnuts', 'raisins', 'oatmeal', 'oat drink']\n",
    "print(type(ingredients))"
   ]
  },
  {
   "cell_type": "markdown",
   "metadata": {},
   "source": [
    "Lists implement all of the [common and mutable sequence operations](#operations-on-data-structures), along with additional list-[methods](#methods)."
   ]
  },
  {
   "cell_type": "code",
   "execution_count": 45,
   "metadata": {},
   "outputs": [
    {
     "name": "stdout",
     "output_type": "stream",
     "text": [
      "True\n",
      "raisins\n",
      "The used spices are ['curcumin', 'cinamon'].\n"
     ]
    }
   ],
   "source": [
    "print('milk' not in ingredients)\n",
    "print(ingredients[-3])\n",
    "print(f'The used spices are {ingredients[3:5]}.')"
   ]
  },
  {
   "cell_type": "markdown",
   "metadata": {},
   "source": [
    "Below is a full list (🤣) of all list methods:\n",
    "> append(), clear(), copy(), count(), extend(), index(), insert(), pop(), remove(), reverse(), sort()"
   ]
  },
  {
   "cell_type": "code",
   "execution_count": 38,
   "metadata": {},
   "outputs": [
    {
     "name": "stdout",
     "output_type": "stream",
     "text": [
      "['blueberries', 'bananas', 'soy curd', 'curcumin', 'cinamon', 'ginger', 'ginger', 'ground flaxseed', 'walnuts', 'raisins', 'oatmeal', 'oat drink']\n"
     ]
    }
   ],
   "source": [
    "ingredients.insert(5, 'ginger')\n",
    "print(ingredients)"
   ]
  },
  {
   "cell_type": "markdown",
   "metadata": {},
   "source": [
    "For a detailed description of the individual methods visit the *[Python Documentation](https://docs.python.org/3/library/stdtypes.html#lists)*."
   ]
  },
  {
   "cell_type": "markdown",
   "metadata": {},
   "source": [
    "The `list()` [constructor](#classes) builds a list from a given [iterable](#features-of-data-structures) object whose items are the same and in the same order as the iterable's items. If the given object already is a list, the constructor returns a copy of that list."
   ]
  },
  {
   "cell_type": "code",
   "execution_count": 47,
   "metadata": {},
   "outputs": [
    {
     "name": "stdout",
     "output_type": "stream",
     "text": [
      "['r', 'a', 'i', 's', 'i', 'n', 's']\n"
     ]
    }
   ],
   "source": [
    "letters = list(ingredients[-3])\n",
    "print(letters)"
   ]
  },
  {
   "cell_type": "markdown",
   "metadata": {},
   "source": [
    "⚠ Since lists are mutable you have to be careful: if you do not copy a list but instead assign it to a new variable, this variable just *points* to the original list. So if you change one list the other one will be changed, too."
   ]
  },
  {
   "cell_type": "code",
   "execution_count": 48,
   "metadata": {},
   "outputs": [
    {
     "name": "stdout",
     "output_type": "stream",
     "text": [
      "['r', 'a', 'i', 'n']\n",
      "['r', 'a', 'i', 'n']\n"
     ]
    }
   ],
   "source": [
    "characters = letters                  # use .copy() here if you don't want ..\n",
    "del characters[2:4], characters[-1]\n",
    "print(characters)\n",
    "print(letters)                        # ... letters to be changed, too!"
   ]
  },
  {
   "cell_type": "markdown",
   "metadata": {},
   "source": [
    "In the example above you can avoid this by calling the `letters.copy()` method in the [assignment](#variables) or use the `list()` constructor as mentioned earlier.  \n",
    "If you generally want to avoid the mutability of your data you should use [tuples](#tuples) instead."
   ]
  },
  {
   "cell_type": "markdown",
   "metadata": {},
   "source": [
    "<a name=\"tuples\"> </a>\n",
    "### **3.6&nbsp;&nbsp;&nbsp;Tuples** | [⭱](#data-types-&-data-structures) | [⌂](#table-of-contents)"
   ]
  },
  {
   "cell_type": "markdown",
   "metadata": {},
   "source": [
    "<a name=\"sets\"> </a>\n",
    "### **3.7&nbsp;&nbsp;&nbsp;Sets** | [⭱](#data-types-&-data-structures) | [⌂](#table-of-contents)"
   ]
  },
  {
   "cell_type": "markdown",
   "metadata": {},
   "source": [
    "<a name=\"frozensets\"> </a>\n",
    "### **3.8&nbsp;&nbsp;&nbsp;Frozensets** | [⭱](#data-types-&-data-structures) | [⌂](#table-of-contents)"
   ]
  },
  {
   "cell_type": "markdown",
   "metadata": {},
   "source": [
    "<a name=\"range\"> </a>\n",
    "### **3.9&nbsp;&nbsp;&nbsp;Range** | [⭱](#data-types-&-data-structures) | [⌂](#table-of-contents)"
   ]
  },
  {
   "cell_type": "markdown",
   "metadata": {},
   "source": [
    "<a name=\"dictionaries\"> </a>\n",
    "### **3.10&nbsp;&nbsp;&nbsp;Dictionaries** | [⭱](#data-types-&-data-structures) | [⌂](#table-of-contents)"
   ]
  },
  {
   "cell_type": "markdown",
   "metadata": {},
   "source": [
    "---"
   ]
  },
  {
   "cell_type": "markdown",
   "metadata": {},
   "source": [
    "<a name=\"operators-&-expressions\"> </a>\n",
    "## **4&nbsp;&nbsp;&nbsp;OPERATORS & EXPRESSIONS** | [⌂](#table-of-contents)"
   ]
  },
  {
   "cell_type": "markdown",
   "metadata": {},
   "source": [
    "[Math](#math) | [Arithmetic&nbsp;Operators](#arithmetic-operators) | [Assignment&nbsp;Operators](#assignment-operators) | [Comparison&nbsp;Operators](#comparison-operators) | [Logical&nbsp;Operators](#logical-operators) | [Identity&nbsp;Operators](#identity-operators) | [Membership&nbsp;Operators](#membership-operators) | [Bitwise&nbsp;Operators](#bitwise-operators) | [Operator&nbsp;Precedence](#operator-precedence)"
   ]
  },
  {
   "cell_type": "markdown",
   "metadata": {},
   "source": [
    "<a name=\"math\"> </a>\n",
    "### **4.1&nbsp;&nbsp;&nbsp;Math** | [⭱](#operators-&-expressions) | [⌂](#table-of-contents)"
   ]
  },
  {
   "cell_type": "markdown",
   "metadata": {},
   "source": [
    "<a name=\"arithmetic-operators\"> </a>\n",
    "### **4.2&nbsp;&nbsp;&nbsp;Arithmetic Operators** | [⭱](#operators-&-expressions) | [⌂](#table-of-contents)"
   ]
  },
  {
   "cell_type": "markdown",
   "metadata": {},
   "source": [
    "<a name=\"assignment-operators\"> </a>\n",
    "### **4.3&nbsp;&nbsp;&nbsp;Assignment Operators** | [⭱](#operators-&-expressions) | [⌂](#table-of-contents)"
   ]
  },
  {
   "cell_type": "markdown",
   "metadata": {},
   "source": [
    "<a name=\"comparison-operators\"> </a>\n",
    "### **4.4&nbsp;&nbsp;&nbsp;Comparison Operators** | [⭱](#operators-&-expressions) | [⌂](#table-of-contents)"
   ]
  },
  {
   "cell_type": "markdown",
   "metadata": {},
   "source": [
    "<a name=\"logical-operators\"> </a>\n",
    "### **4.5&nbsp;&nbsp;&nbsp;Logical Operators** | [⭱](#operators-&-expressions) | [⌂](#table-of-contents)"
   ]
  },
  {
   "cell_type": "markdown",
   "metadata": {},
   "source": [
    "Below is the truth-table for the logical `and` operator:\n",
    "\n",
    "|   `a`   |   `b`   | `a and b` |\n",
    "|:-------:|:-------:|:---------:|\n",
    "|  `True` |  `True` |   `True`  |\n",
    "|  `True` | `False` |  `False`  |\n",
    "| `False` |  `True` |  `False`  |\n",
    "| `False` | `False` |  `False`  |"
   ]
  },
  {
   "cell_type": "markdown",
   "metadata": {},
   "source": [
    "Below is the truth-table for the logical `or` operator:\n",
    "\n",
    "|   `a`   |   `b`   | `a or b` |\n",
    "|:-------:|:-------:|:--------:|\n",
    "|  `True` |  `True` |  `True`  |\n",
    "|  `True` | `False` |  `True`  |\n",
    "| `False` |  `True` |  `True`  |\n",
    "| `False` | `False` |  `False` |"
   ]
  },
  {
   "cell_type": "markdown",
   "metadata": {},
   "source": [
    "Below is the truth-table for the logical `not` operator:\n",
    "\n",
    "|   `a`   | `not a` |\n",
    "|:-------:|:-------:|\n",
    "|  `True` | `False` |\n",
    "| `False` |  `True` |"
   ]
  },
  {
   "cell_type": "markdown",
   "metadata": {},
   "source": [
    "<a name=\"identity-operators\"> </a>\n",
    "### **4.6&nbsp;&nbsp;&nbsp;Identity Operators** | [⭱](#operators-&-expressions) | [⌂](#table-of-contents)"
   ]
  },
  {
   "cell_type": "markdown",
   "metadata": {},
   "source": [
    "<a name=\"membership-operators\"> </a>\n",
    "### **4.7&nbsp;&nbsp;&nbsp;Membership Operators** | [⭱](#operators-&-expressions) | [⌂](#table-of-contents)"
   ]
  },
  {
   "cell_type": "markdown",
   "metadata": {},
   "source": [
    "<a name=\"bitwise-operators\"> </a>\n",
    "### **4.8&nbsp;&nbsp;&nbsp;Bitwise Operators** | [⭱](#operators-&-expressions) | [⌂](#table-of-contents)"
   ]
  },
  {
   "cell_type": "markdown",
   "metadata": {},
   "source": [
    "<a name=\"operator-precedence\"> </a>\n",
    "### **4.9&nbsp;&nbsp;&nbsp;Operator Precedence** | [⭱](#operators-&-expressions) | [⌂](#table-of-contents)"
   ]
  },
  {
   "cell_type": "markdown",
   "metadata": {},
   "source": [
    "---"
   ]
  },
  {
   "cell_type": "markdown",
   "metadata": {},
   "source": [
    "<a name=\"control-flow\"> </a>\n",
    "## **5&nbsp;&nbsp;&nbsp;CONTROL FLOW** | [⌂](#table-of-contents)"
   ]
  },
  {
   "cell_type": "markdown",
   "metadata": {},
   "source": [
    "[if-Statement](#if-statement) | [while-Loop](#while-loop) | [for-Loop](#for-loop) | [break-Statement](#break-statement) | [continue-Statement](#continue-statement)"
   ]
  },
  {
   "cell_type": "markdown",
   "metadata": {},
   "source": [
    "<a name=\"if-statement\"> </a>\n",
    "### **5.1&nbsp;&nbsp;&nbsp;`if`-Statement** | [⭱](#control-flow) | [⌂](#table-of-contents)"
   ]
  },
  {
   "cell_type": "markdown",
   "metadata": {},
   "source": [
    "<a name=\"while-loop\"> </a>\n",
    "### **5.2&nbsp;&nbsp;&nbsp;`while`-Loop** | [⭱](#control-flow) | [⌂](#table-of-contents)"
   ]
  },
  {
   "cell_type": "markdown",
   "metadata": {},
   "source": [
    "<a name=\"for-loop\"> </a>\n",
    "### **5.3&nbsp;&nbsp;&nbsp;`for`-Loop** | [⭱](#control-flow) | [⌂](#table-of-contents)"
   ]
  },
  {
   "cell_type": "markdown",
   "metadata": {},
   "source": [
    "<a name=\"break-statement\"> </a>\n",
    "### **5.4&nbsp;&nbsp;&nbsp;`break`-Statement** | [⭱](#control-flow) | [⌂](#table-of-contents)"
   ]
  },
  {
   "cell_type": "markdown",
   "metadata": {},
   "source": [
    "<a name=\"continue-statement\"> </a>\n",
    "### **5.5&nbsp;&nbsp;&nbsp;`continue`-Statement** | [⭱](#control-flow) | [⌂](#table-of-contents)"
   ]
  },
  {
   "cell_type": "markdown",
   "metadata": {},
   "source": [
    "---"
   ]
  },
  {
   "cell_type": "markdown",
   "metadata": {},
   "source": [
    "<a name=\"functions\"> </a>\n",
    "## **6&nbsp;&nbsp;&nbsp;FUNCTIONS** | [⌂](#table-of-contents)"
   ]
  },
  {
   "cell_type": "markdown",
   "metadata": {},
   "source": [
    "[Defining&nbsp;Functions](#defining-functions) | [Parameters&nbsp;&&nbsp;Arguments](#parameters-&-arguments) | [Local&nbsp;&&nbsp;Global&nbsp;Variables](#local-&-global-variables) | [Default&nbsp;Argument&nbsp;Values](#default-argument-values) | [Keyword&nbsp;Arguments](#keyword-arguments) | [VarArgs&nbsp;Parameters](#varargs-parameters) | [return-Statement](#return-statement) | [DocString](#docstring) | [Anonymous&nbsp;(Lambda)&nbsp;Functions](#anonymous-lambda-functions)"
   ]
  },
  {
   "cell_type": "markdown",
   "metadata": {},
   "source": [
    "<a name=\"defining-functions\"> </a>\n",
    "### **6.1&nbsp;&nbsp;&nbsp;Defining Functions** | [⭱](#functions) | [⌂](#table-of-contents)"
   ]
  },
  {
   "cell_type": "markdown",
   "metadata": {},
   "source": [
    "<a name=\"parameters-&-arguments\"> </a>\n",
    "### **6.2&nbsp;&nbsp;&nbsp;Parameters & Arguments** | [⭱](#functions) | [⌂](#table-of-contents)"
   ]
  },
  {
   "cell_type": "markdown",
   "metadata": {},
   "source": [
    "A 'parameter' is a [variable](#variables) inside a [function definition](#defining-functions). When a function is called, the 'arguments' are the [data](#data-types-&-data-structures) you pass into the function’s parameters. So, an Argument is the actual value of a variable that gets passed to the function."
   ]
  },
  {
   "cell_type": "code",
   "execution_count": 39,
   "metadata": {},
   "outputs": [
    {
     "name": "stdout",
     "output_type": "stream",
     "text": [
      "This string is an argument\n"
     ]
    }
   ],
   "source": [
    "def function(parameter):\n",
    "    print(parameter)\n",
    "\n",
    "function('This string is an argument')"
   ]
  },
  {
   "cell_type": "markdown",
   "metadata": {},
   "source": [
    "<a name=\"local-&-global-variables\"> </a>\n",
    "### **6.3&nbsp;&nbsp;&nbsp;Local & Global Variables** | [⭱](#functions) | [⌂](#table-of-contents)"
   ]
  },
  {
   "cell_type": "markdown",
   "metadata": {},
   "source": [
    "<a name=\"default-argument-values\"> </a>\n",
    "### **6.4&nbsp;&nbsp;&nbsp;Default Argument Values** | [⭱](#functions) | [⌂](#table-of-contents)"
   ]
  },
  {
   "cell_type": "markdown",
   "metadata": {},
   "source": [
    "<a name=\"keyword-arguments\"> </a>\n",
    "### **6.5&nbsp;&nbsp;&nbsp;Keyword Arguments** | [⭱](#functions) | [⌂](#table-of-contents)"
   ]
  },
  {
   "cell_type": "markdown",
   "metadata": {},
   "source": [
    "<a name=\"varargs-parameters\"> </a>\n",
    "### **6.6&nbsp;&nbsp;&nbsp;VarArgs Parameters** | [⭱](#functions) | [⌂](#table-of-contents)"
   ]
  },
  {
   "cell_type": "markdown",
   "metadata": {},
   "source": [
    "<a name=\"return-statement\"> </a>\n",
    "### **6.7&nbsp;&nbsp;&nbsp;`return`-Statement** | [⭱](#functions) | [⌂](#table-of-contents)"
   ]
  },
  {
   "cell_type": "markdown",
   "metadata": {},
   "source": [
    "<a name=\"docstring\"> </a>\n",
    "### **6.8&nbsp;&nbsp;&nbsp;DocString** | [⭱](#functions) | [⌂](#table-of-contents)"
   ]
  },
  {
   "cell_type": "markdown",
   "metadata": {},
   "source": [
    "<a name=\"anonymous-lambda-functions\"> </a>\n",
    "### **6.9&nbsp;&nbsp;&nbsp;Anonymous (Lambda) Functions** | [⭱](#functions) | [⌂](#table-of-contents)"
   ]
  },
  {
   "cell_type": "markdown",
   "metadata": {},
   "source": [
    "---"
   ]
  },
  {
   "cell_type": "markdown",
   "metadata": {},
   "source": [
    "<a name=\"object-oriented-programming\"> </a>\n",
    "## **7&nbsp;&nbsp;&nbsp;OBJECT ORIENTED PROGRAMMING** | [⌂](#table-of-contents)"
   ]
  },
  {
   "cell_type": "markdown",
   "metadata": {},
   "source": [
    "[Self](#self) | [Classes](#classes) | [Attributes](#attributes) | [Methods](#methods) | [Objects](#objects) | [Inheritance](#inheritance)"
   ]
  },
  {
   "cell_type": "markdown",
   "metadata": {},
   "source": [
    "<a name=\"self\"> </a>\n",
    "### **7.1&nbsp;&nbsp;&nbsp;Self** | [⭱](#object-oriented-programming) | [⌂](#table-of-contents)"
   ]
  },
  {
   "cell_type": "markdown",
   "metadata": {},
   "source": [
    "<a name=\"classes\"> </a>\n",
    "### **7.2&nbsp;&nbsp;&nbsp;Classes** | [⭱](#object-oriented-programming) | [⌂](#table-of-contents)"
   ]
  },
  {
   "cell_type": "markdown",
   "metadata": {},
   "source": [
    "<a name=\"attributes\"> </a>\n",
    "### **7.3&nbsp;&nbsp;&nbsp;Attributes** | [⭱](#object-oriented-programming) | [⌂](#table-of-contents)"
   ]
  },
  {
   "cell_type": "markdown",
   "metadata": {},
   "source": [
    "<a name=\"methods\"> </a>\n",
    "### **7.4&nbsp;&nbsp;&nbsp;Methods** | [⭱](#object-oriented-programming) | [⌂](#table-of-contents)"
   ]
  },
  {
   "cell_type": "markdown",
   "metadata": {},
   "source": [
    "<a name=\"objects\"> </a>\n",
    "### **7.5&nbsp;&nbsp;&nbsp;Objects** | [⭱](#object-oriented-programming) | [⌂](#table-of-contents)"
   ]
  },
  {
   "cell_type": "markdown",
   "metadata": {},
   "source": [
    "<a name=\"inheritance\"> </a>\n",
    "### **7.6&nbsp;&nbsp;&nbsp;Inheritance** | [⭱](#object-oriented-programming) | [⌂](#table-of-contents)"
   ]
  },
  {
   "cell_type": "markdown",
   "metadata": {},
   "source": [
    "---"
   ]
  },
  {
   "cell_type": "markdown",
   "metadata": {},
   "source": [
    "<a name=\"useful-concepts\"> </a>\n",
    "## **8&nbsp;&nbsp;&nbsp;USEFUL CONCEPTS** | [⌂](#table-of-contents)"
   ]
  },
  {
   "cell_type": "markdown",
   "metadata": {},
   "source": [
    "[Unpacking](#unpacking) | [Enumerate&nbsp;&&nbsp;Zip](#enumerate-&-zip) | [Ternary&nbsp;Conditionals](#ternary-conditionals) | [List&nbsp;Comprehensions](#list-comprehensions) | [Iterators](#iterators) | [Generators](#generators) | [Map&nbsp;&&nbsp;Filter](#map-&-filter)"
   ]
  },
  {
   "cell_type": "markdown",
   "metadata": {},
   "source": [
    "<a name=\"unpacking\"> </a>\n",
    "### **8.1&nbsp;&nbsp;&nbsp;Unpacking** | [⭱](#useful-concepts) | [⌂](#table-of-contents)"
   ]
  },
  {
   "cell_type": "markdown",
   "metadata": {},
   "source": [
    "<a name=\"enumerate-&-zip\"> </a>\n",
    "### **8.2&nbsp;&nbsp;&nbsp;Enumerate & Zip** | [⭱](#useful-concepts) | [⌂](#table-of-contents)"
   ]
  },
  {
   "cell_type": "markdown",
   "metadata": {},
   "source": [
    "<a name=\"ternary-conditionals\"> </a>\n",
    "### **8.3&nbsp;&nbsp;&nbsp;Ternary Conditionals** | [⭱](#useful-concepts) | [⌂](#table-of-contents)"
   ]
  },
  {
   "cell_type": "markdown",
   "metadata": {},
   "source": [
    "<a name=\"list-comprehensions\"> </a>\n",
    "### **8.4&nbsp;&nbsp;&nbsp;List Comprehensions** | [⭱](#useful-concepts) | [⌂](#table-of-contents)"
   ]
  },
  {
   "cell_type": "markdown",
   "metadata": {},
   "source": [
    "<a name=\"iterators\"> </a>\n",
    "### **8.5&nbsp;&nbsp;&nbsp;Iterators** | [⭱](#useful-concepts) | [⌂](#table-of-contents)"
   ]
  },
  {
   "cell_type": "markdown",
   "metadata": {},
   "source": [
    "<a name=\"list-comprehensions\"> </a>\n",
    "### **8.6&nbsp;&nbsp;&nbsp;Generators** | [⭱](#useful-concepts) | [⌂](#table-of-contents)"
   ]
  },
  {
   "cell_type": "markdown",
   "metadata": {},
   "source": [
    "<a name=\"map-&-filter\"> </a>\n",
    "### **8.7&nbsp;&nbsp;&nbsp;Map & Filter** | [⭱](#useful-concepts) | [⌂](#table-of-contents)"
   ]
  },
  {
   "cell_type": "markdown",
   "metadata": {},
   "source": [
    "---"
   ]
  },
  {
   "cell_type": "markdown",
   "metadata": {},
   "source": [
    "<a name=\"modules-&-packages\"> </a>\n",
    "## **9&nbsp;&nbsp;&nbsp;MODULES & PACKAGES** | [⌂](#table-of-contents)"
   ]
  },
  {
   "cell_type": "markdown",
   "metadata": {},
   "source": [
    "[Imports](#imports) | [Modules](#modules) | [Packages](#packages) | [Libraries](#libraries)"
   ]
  },
  {
   "cell_type": "markdown",
   "metadata": {},
   "source": [
    "<a name=\"imports\"> </a>\n",
    "### **9.1&nbsp;&nbsp;&nbsp;Imports** | [⭱](#modules-&-packages) | [⌂](#table-of-contents)"
   ]
  },
  {
   "cell_type": "markdown",
   "metadata": {},
   "source": [
    "<a name=\"modules\"> </a>\n",
    "### **9.2&nbsp;&nbsp;&nbsp;Modules** | [⭱](#modules-&-packages) | [⌂](#table-of-contents)"
   ]
  },
  {
   "cell_type": "markdown",
   "metadata": {},
   "source": [
    "<a name=\"packages\"> </a>\n",
    "### **9.3&nbsp;&nbsp;&nbsp;Packages** | [⭱](#modules-&-packages) | [⌂](#table-of-contents)"
   ]
  },
  {
   "cell_type": "markdown",
   "metadata": {},
   "source": [
    "<a name=\"libraries\"> </a>\n",
    "### **9.4&nbsp;&nbsp;&nbsp;Libraries** | [⭱](#modules-&-packages) | [⌂](#table-of-contents)"
   ]
  },
  {
   "cell_type": "markdown",
   "metadata": {},
   "source": [
    "---"
   ]
  },
  {
   "cell_type": "markdown",
   "metadata": {},
   "source": [
    "<a name=\"files-&-pickle\"> </a>\n",
    "## **10&nbsp;&nbsp;&nbsp;FILES & PICKLE** | [⌂](#table-of-contents)"
   ]
  },
  {
   "cell_type": "markdown",
   "metadata": {},
   "source": [
    "[Files](#files) | [Pickle](#pickle) | [Unicode&nbsp;in&nbsp;Files](#unicode-in-files)"
   ]
  },
  {
   "cell_type": "markdown",
   "metadata": {},
   "source": [
    "<a name=\"files\"> </a>\n",
    "### **10.1&nbsp;&nbsp;&nbsp;Files** | [⭱](#files-&-pickle) | [⌂](#table-of-contents)"
   ]
  },
  {
   "cell_type": "markdown",
   "metadata": {},
   "source": [
    "To open a file you can use the built-in `open()` [function](#functions-basics). It returns a stream (object) which can be stored in a [variable](#variables) for subsequent use. The terms 'file' and 'stream' are therefore used equally in this section. To close the file you can call the stream's `close()` method."
   ]
  },
  {
   "cell_type": "markdown",
   "metadata": {},
   "source": [
    "The full use of the open-function is:  \n",
    "`open(file, mode='r', buffering=-1, encoding=None, errors=None, newline=None, closefd=True, opener=None)`"
   ]
  },
  {
   "cell_type": "markdown",
   "metadata": {},
   "source": [
    "The `file` [parameter](#parameters-&-arguments) takes the filename *with* extension as string as [argument](#parameters-&-arguments). You can also specify a path if the file isn't in the current working directory (e.&nbsp;g. `r'C:\\folder\\example.txt'`). In order to specify paths better use [Raw-Strings](#raw-strings)."
   ]
  },
  {
   "cell_type": "markdown",
   "metadata": {},
   "source": [
    "For the `mode` parameter you can use the following arguments:\n",
    "> `'r'` (open for reading (*default*))  \n",
    "> `'w'` (open for writing, truncating the file first)  \n",
    "> `'x'` (create a new file and open it for writing)  \n",
    "> `'a'` (open for writing, appending to the end of the file if it exists)  \n",
    "> `'b'` (binary mode)  \n",
    "> `'t'` (text mode (*default*))  \n",
    "> `'+'` (open a disk file for updating (reading and writing))  \n",
    "> `'U'` (universal newline mode (deprecated))  "
   ]
  },
  {
   "cell_type": "code",
   "execution_count": 40,
   "metadata": {},
   "outputs": [],
   "source": [
    "header = 'Here is an advice:\\n'\n",
    "line_1 = 'Simple is better than complex.\\n'\n",
    "line_2 = 'Complex is better than complicated.\\n'\n",
    "\n",
    "file = open('advice.txt', 'w')\n",
    "file.write(header)      # stream position now at end of header\n",
    "file.write(line_1)      # continues at end of header\n",
    "file.close()"
   ]
  },
  {
   "cell_type": "markdown",
   "metadata": {},
   "source": [
    "When using the `write()` [method](#objects-basics) of an opened file the stream is treated sequentially. In the above example calling this method a second time, writes the given argument *after* the end of the previous one."
   ]
  },
  {
   "cell_type": "code",
   "execution_count": 41,
   "metadata": {},
   "outputs": [
    {
     "name": "stdout",
     "output_type": "stream",
     "text": [
      "Here is an advice:\n",
      "Simple is better than complex.\n"
     ]
    }
   ],
   "source": [
    "file = open('advice.txt', 'r')   # stream position at start\n",
    "print(file.readline(), end='')   # stream position at end of header\n",
    "print(file.readline(), end='')   # stream position at end of line_1 (EOF)\n",
    "file.close()"
   ]
  },
  {
   "cell_type": "markdown",
   "metadata": {},
   "source": [
    "The `readline()` method treats the stream sequentially, too; note that the same method-call returns different lines. After the stream has reached the 'end of field' (EOF) an empty string is [returned](#functions-basics)."
   ]
  },
  {
   "cell_type": "markdown",
   "metadata": {},
   "source": [
    "Opening an existing file in writing-mode (`'w'`) will overwrite (truncate) its content. To prevent this you can use the append-mode (`'a'`)."
   ]
  },
  {
   "cell_type": "code",
   "execution_count": 42,
   "metadata": {},
   "outputs": [],
   "source": [
    "file = open('advice.txt', 'a')\n",
    "file.write(line_2)\n",
    "file.close()"
   ]
  },
  {
   "cell_type": "markdown",
   "metadata": {},
   "source": [
    "The `readlines()` method will return the lines of the opened file in a list, so it is iterable."
   ]
  },
  {
   "cell_type": "code",
   "execution_count": 43,
   "metadata": {},
   "outputs": [
    {
     "name": "stdout",
     "output_type": "stream",
     "text": [
      "Here is an advice:\n",
      "Simple is better than complex.\n",
      "Complex is better than complicated.\n"
     ]
    }
   ],
   "source": [
    "file = open('advice.txt', 'r')\n",
    "for line in file.readlines():\n",
    "    print(line, end='')\n",
    "file.close()"
   ]
  },
  {
   "cell_type": "markdown",
   "metadata": {},
   "source": [
    "Below is a full list of all file- / stream-methods:\n",
    "> **Read:** read(), readline(), readlines()  \n",
    "> **Write:** flush(), write(), writelines()  \n",
    "> **Stream Position:** seek(), tell()  \n",
    "> **Information:** fileno(), isatty(), readable(), seekable(), writable()  \n",
    "> **Other:** close(), detach(), reconfigure(), truncate()  "
   ]
  },
  {
   "cell_type": "markdown",
   "metadata": {},
   "source": [
    "Use the [dir-function](#dir) to browse the stream object or the [help-function](#help) for more information on specific methods."
   ]
  },
  {
   "cell_type": "markdown",
   "metadata": {},
   "source": [
    "<a name=\"pickle\"> </a>\n",
    "### **10.2&nbsp;&nbsp;&nbsp;Pickle** | [⭱](#files-&-pickle) | [⌂](#table-of-contents)"
   ]
  },
  {
   "cell_type": "markdown",
   "metadata": {},
   "source": [
    "Python provides a [standard module](#modules) called 'pickle' which you can use (after [importing](#imports)) to store any plain\n",
    "Python [object](#objects-basics) in a [file](#files) and then get it back later. This is called storing the object persistently.\n",
    "To store an object in a file use the `dump()` statement of the module:"
   ]
  },
  {
   "cell_type": "code",
   "execution_count": 44,
   "metadata": {},
   "outputs": [],
   "source": [
    "import pickle\n",
    "\n",
    "machine_learning_steps = ['Gathering Data', 'Preparing that Data', 'Choosing a Model',\n",
    "                          'Training (70%)', 'Evaluation (30%)', 'Hyperparameter Tuning',\n",
    "                          'Prediction']\n",
    "\n",
    "file = open('machine_learning_steps.data', 'wb')\n",
    "pickle.dump(machine_learning_steps, file)            # pickling\n",
    "file.close()"
   ]
  },
  {
   "cell_type": "markdown",
   "metadata": {},
   "source": [
    "Even if the oject was deleted or doesn't exist in the current source file until now, you can load it back from the file which it was stored in. Do this with the `load()` statement:"
   ]
  },
  {
   "cell_type": "code",
   "execution_count": 45,
   "metadata": {},
   "outputs": [
    {
     "name": "stdout",
     "output_type": "stream",
     "text": [
      "['Gathering Data', 'Preparing that Data', 'Choosing a Model', 'Training (70%)', 'Evaluation (30%)', 'Hyperparameter Tuning', 'Prediction']\n"
     ]
    }
   ],
   "source": [
    "del machine_learning_steps\n",
    "\n",
    "file = open('machine_learning_steps.data', 'rb')\n",
    "storedlist = pickle.load(file)         # unpickling\n",
    "file.close()\n",
    "\n",
    "print(storedlist)"
   ]
  },
  {
   "cell_type": "markdown",
   "metadata": {},
   "source": [
    "<a name=\"unicode-in-files\"> </a>\n",
    "### **10.3&nbsp;&nbsp;&nbsp;Unicode in Files** | [⭱](#files-&-pickle) | [⌂](#table-of-contents)"
   ]
  },
  {
   "cell_type": "markdown",
   "metadata": {},
   "source": [
    "---"
   ]
  },
  {
   "cell_type": "markdown",
   "metadata": {},
   "source": [
    "<a name=\"exceptions-&-unit-tests\"> </a>\n",
    "## **11&nbsp;&nbsp;&nbsp;EXCEPTIONS & UNIT TESTS** | [⌂](#table-of-contents)"
   ]
  },
  {
   "cell_type": "markdown",
   "metadata": {},
   "source": [
    "[Handling&nbsp;Exceptions](#handling-exceptions) | [Raising&nbsp;Exceptions](#raising-exceptions) | [try&nbsp;...&nbsp;finally](#try-finally) | [with-Statement](#with-statement) | [Unit&nbsp;Tests](#unit-tests)"
   ]
  },
  {
   "cell_type": "markdown",
   "metadata": {},
   "source": [
    "<a name=\"handling-exceptions\"> </a>\n",
    "### **11.1&nbsp;&nbsp;&nbsp;Handling Exceptions** | [⭱](#exceptions-&-unit-tests) | [⌂](#table-of-contents)"
   ]
  },
  {
   "cell_type": "markdown",
   "metadata": {},
   "source": [
    "<a name=\"raising-exceptions\"> </a>\n",
    "### **11.2&nbsp;&nbsp;&nbsp;Raising Exceptions** | [⭱](#exceptions-&-unit-tests) | [⌂](#table-of-contents)"
   ]
  },
  {
   "cell_type": "markdown",
   "metadata": {},
   "source": [
    "<a name=\"try-finally\"> </a>\n",
    "### **11.3&nbsp;&nbsp;&nbsp;`try` ... `finally`** | [⭱](#exceptions-&-unit-tests) | [⌂](#table-of-contents)"
   ]
  },
  {
   "cell_type": "markdown",
   "metadata": {},
   "source": [
    "<a name=\"with-statement\"> </a>\n",
    "### **11.4&nbsp;&nbsp;&nbsp;`with`-Statement** | [⭱](#exceptions-&-unit-tests) | [⌂](#table-of-contents)"
   ]
  },
  {
   "cell_type": "markdown",
   "metadata": {},
   "source": [
    "<a name=\"unit-tests\"> </a>\n",
    "### **11.5&nbsp;&nbsp;&nbsp;Unit Tests** | [⭱](#exceptions-&-unit-tests) | [⌂](#table-of-contents)"
   ]
  },
  {
   "cell_type": "markdown",
   "metadata": {},
   "source": [
    "---"
   ]
  },
  {
   "cell_type": "markdown",
   "metadata": {},
   "source": [
    "<a name=\"standard-library\"> </a>\n",
    "## **12&nbsp;&nbsp;&nbsp;STANDARD LIBRARY** | [⌂](#table-of-contents)"
   ]
  },
  {
   "cell_type": "markdown",
   "metadata": {},
   "source": [
    "---"
   ]
  },
  {
   "cell_type": "markdown",
   "metadata": {},
   "source": [
    "<a name=\"outlook-on-further-topics\"> </a>\n",
    "## **13&nbsp;&nbsp;&nbsp;OUTLOOK ON FURTHER TOPICS** | [⌂](#table-of-contents)"
   ]
  },
  {
   "cell_type": "markdown",
   "metadata": {},
   "source": [
    "[Other&nbsp;Libraries](#other-libraries) | [Functional&nbsp;Programming](#functional-programming) | [Graphical&nbsp;User&nbsp;Interface](#graphical-user-interface) | [Data&nbsp;Science](#data-science) | [Artificial&nbsp;Intelligence](#artificial-intelligence)"
   ]
  },
  {
   "cell_type": "markdown",
   "metadata": {},
   "source": [
    "<a name=\"other-libraries\"> </a>\n",
    "### **13.1&nbsp;&nbsp;&nbsp;Other Libraries** | [⭱](#further-topics) | [⌂](#table-of-contents)"
   ]
  },
  {
   "cell_type": "markdown",
   "metadata": {},
   "source": [
    "<a name=\"functional-programming\"> </a>\n",
    "### **13.2&nbsp;&nbsp;&nbsp;Functional Programming** | [⭱](#further-topics) | [⌂](#table-of-contents)"
   ]
  },
  {
   "cell_type": "markdown",
   "metadata": {},
   "source": [
    "<a name=\"graphical-user-interface\"> </a>\n",
    "### **13.3&nbsp;&nbsp;&nbsp;Graphical User Interface** | [⭱](#further-topics) | [⌂](#table-of-contents)"
   ]
  },
  {
   "cell_type": "markdown",
   "metadata": {},
   "source": [
    "<a name=\"data-science\"> </a>\n",
    "### **13.4&nbsp;&nbsp;&nbsp;Data Science** | [⭱](#further-topics) | [⌂](#table-of-contents)"
   ]
  },
  {
   "cell_type": "markdown",
   "metadata": {},
   "source": [
    "<a name=\"artificial-intelligence\"> </a>\n",
    "### **13.5&nbsp;&nbsp;&nbsp;Artificial Intelligence** | [⭱](#further-topics) | [⌂](#table-of-contents)"
   ]
  },
  {
   "cell_type": "markdown",
   "metadata": {},
   "source": [
    "---\n",
    "---"
   ]
  },
  {
   "cell_type": "markdown",
   "metadata": {},
   "source": [
    "## **APPENDIX**"
   ]
  },
  {
   "cell_type": "markdown",
   "metadata": {},
   "source": [
    "---"
   ]
  },
  {
   "cell_type": "markdown",
   "metadata": {},
   "source": [
    "<a name=\"essential-concepts\"> </a>\n",
    "## **A&nbsp;&nbsp;&nbsp;ESSENTIAL CONCEPTS** | [⌂](#table-of-contents)"
   ]
  },
  {
   "cell_type": "markdown",
   "metadata": {},
   "source": [
    "**ARGUMENT** a value passed to a function (or method) when calling the function. There are two kinds of arguments: positional arguments and keyword arguments."
   ]
  },
  {
   "cell_type": "markdown",
   "metadata": {},
   "source": [
    "**ATTRIBUTE** a value associated with an object which is referenced by name using dotted expressions. For example, if an object `tree` has an attribute `height` it would be referenced as `tree.height`."
   ]
  },
  {
   "cell_type": "markdown",
   "metadata": {},
   "source": [
    "**CLASS** a template for creating user-defined objects. Class definitions normally contain attributes and method definitions which operate on instances of the class (that is object level)."
   ]
  },
  {
   "cell_type": "markdown",
   "metadata": {},
   "source": [
    "**CONTROL FLOW** "
   ]
  },
  {
   "cell_type": "markdown",
   "metadata": {},
   "source": [
    "**DICTIONARY** an associative list, where arbitrary keys are mapped to values."
   ]
  },
  {
   "cell_type": "markdown",
   "metadata": {},
   "source": [
    "**DOCSTRING** a string literal which appears as the first expression in a class, function or module. While ignored when the suite is executed, it is recognized by the compiler and put into the `__doc__` attribute of the enclosing class, function or module. Since it is available via introspection, it is the canonical place for documentation of the object."
   ]
  },
  {
   "cell_type": "markdown",
   "metadata": {},
   "source": [
    "**EXPRESSION** a piece of syntax which can be evaluated to some value, for example `2*(1-kappa)`. In other words, an expression is an accumulation of elements like literals, names, attribute access, operators or function calls which all return a value."
   ]
  },
  {
   "cell_type": "markdown",
   "metadata": {},
   "source": [
    "**FUNCTION** a suite (\"block\" of code) which is executed when the function is called. It can be passed arguments which may be used in the execution of the body and on the other hand it can also return objects (values, etc.). The arguments are passed into the function's parameters."
   ]
  },
  {
   "cell_type": "markdown",
   "metadata": {},
   "source": [
    "**IDENTIFIER** an identifier is a name given to entities like classes, functions, variables, etc. The naming should be comprehensible and help to differentiate one entity from another. Keywords cannot be used as identifiers."
   ]
  },
  {
   "cell_type": "markdown",
   "metadata": {},
   "source": [
    "**IMPORTING** the process by which Python code in one module is made available to Python code in another module."
   ]
  },
  {
   "cell_type": "markdown",
   "metadata": {},
   "source": [
    "**INHERITANCE** "
   ]
  },
  {
   "cell_type": "markdown",
   "metadata": {},
   "source": [
    "**ITERABLE** an object capable of returning its members one at a time. Examples of iterables include all sequence types (such as list, str, and tuple) and some non-sequence types like dict, file objects, and objects of any classes you define with an `__iter__()` method or with a `__getitem__()` method that implements Sequence semantics."
   ]
  },
  {
   "cell_type": "markdown",
   "metadata": {},
   "source": [
    "**LAMBDA** an anonymous inline function consisting of a single expression which is evaluated when the function is called. The syntax to create a lambda function is `lambda [parameters]: expression`."
   ]
  },
  {
   "cell_type": "markdown",
   "metadata": {},
   "source": [
    "**METHOD** a function which is defined inside a class body. If called as an attribute of an instance (object) of that class, the method will get the instance object as its first argument (which is usually called `self`). A method is referenced by name using dotted expressions. For example, if an object `tree` has a method `grow()` it would be referenced as `tree.grow()`."
   ]
  },
  {
   "cell_type": "markdown",
   "metadata": {},
   "source": [
    "**MODULE** an object that serves as an organizational unit of Python code. Modules have a namespace containing arbitrary Python objects. Modules are loaded into Python by the process of importing."
   ]
  },
  {
   "cell_type": "markdown",
   "metadata": {},
   "source": [
    "**OBJECT** any data with state (attributes or value) and defined behavior (methods). Objects are instances of classes. In Python anything is an object."
   ]
  },
  {
   "cell_type": "markdown",
   "metadata": {},
   "source": [
    "**OBJECT ORIENTATION** "
   ]
  },
  {
   "cell_type": "markdown",
   "metadata": {},
   "source": [
    "**PACKAGE** a Python module which can contain submodules or recursively, subpackages. Technically, a package is a Python module with a `__path__` attribute."
   ]
  },
  {
   "cell_type": "markdown",
   "metadata": {},
   "source": [
    "**PARAMETER** a named entity in a function (or method) definition that specifies an argument (or in some cases, arguments) that the function can accept. When calling the function the arguments are passed into its parameters. There are five kinds of parameters: positional-or-keyword, positional-only, keyword-only, var-positional and var-keyword."
   ]
  },
  {
   "cell_type": "markdown",
   "metadata": {},
   "source": [
    "**STATEMENT** part of a suite (a “block” of code). A statement is either an expression or one of several control flow constructs with a keyword, such as `if`, `while` or `for`."
   ]
  },
  {
   "cell_type": "markdown",
   "metadata": {},
   "source": [
    "**TYPE** determines what kind of object something is; every object has a type. An object’s type is accessible as its `__class__` attribute or can be retrieved with `type(object)`."
   ]
  },
  {
   "cell_type": "markdown",
   "metadata": {},
   "source": [
    "**VARIABLE** containers for storing data values. A variable is referenced by it’s identifier. Unlike other programming languages, Python has no command for declaring a variable."
   ]
  },
  {
   "cell_type": "markdown",
   "metadata": {},
   "source": [
    "---"
   ]
  },
  {
   "cell_type": "markdown",
   "metadata": {},
   "source": [
    "<a name=\"references\"> </a>\n",
    "## **B&nbsp;&nbsp;&nbsp;REFERENCES** | [⌂](#table-of-contents)"
   ]
  },
  {
   "cell_type": "markdown",
   "metadata": {},
   "source": [
    "---\n",
    "---"
   ]
  },
  {
   "cell_type": "markdown",
   "metadata": {},
   "source": [
    "## **SELECTED PACKAGES**"
   ]
  },
  {
   "cell_type": "markdown",
   "metadata": {},
   "source": [
    "---"
   ]
  },
  {
   "cell_type": "markdown",
   "metadata": {},
   "source": [
    "<a name=\"numpy\"> </a>\n",
    "## **📦&nbsp;&nbsp;&nbsp;NUMPY** | [⌂](#table-of-contents)"
   ]
  },
  {
   "cell_type": "code",
   "execution_count": 46,
   "metadata": {},
   "outputs": [],
   "source": [
    "import numpy as np"
   ]
  },
  {
   "cell_type": "markdown",
   "metadata": {},
   "source": [
    "---"
   ]
  },
  {
   "cell_type": "markdown",
   "metadata": {},
   "source": [
    "<a name=\"pandas\"> </a>\n",
    "## **📦&nbsp;&nbsp;&nbsp;PANDAS** | [⌂](#table-of-contents)"
   ]
  },
  {
   "cell_type": "code",
   "execution_count": 47,
   "metadata": {},
   "outputs": [],
   "source": [
    "import pandas as pd"
   ]
  },
  {
   "cell_type": "markdown",
   "metadata": {},
   "source": [
    "---"
   ]
  },
  {
   "cell_type": "markdown",
   "metadata": {},
   "source": [
    "<a name=\"matplotlib\"> </a>\n",
    "## **📦&nbsp;&nbsp;&nbsp;MATPLOTLIB** | [⌂](#table-of-contents)"
   ]
  },
  {
   "cell_type": "code",
   "execution_count": 48,
   "metadata": {},
   "outputs": [],
   "source": [
    "import matplotlib\n",
    "import matplotlib.pyplot as plt\n",
    "%matplotlib inline\n",
    "matplotlib.use('SVG')\n",
    "%config InlineBackend.figure_format='svg'\n",
    "plt.ion()\n",
    "from pandas.plotting import register_matplotlib_converters\n",
    "register_matplotlib_converters()\n",
    "import datetime as dt"
   ]
  },
  {
   "cell_type": "code",
   "execution_count": 49,
   "metadata": {},
   "outputs": [
    {
     "name": "stdout",
     "output_type": "stream",
     "text": [
      "Index(['TG', 'TN', 'TM', 'TX', 'RFM', 'FM', 'FX', 'SO', 'NM', 'RR'], dtype='object')\n"
     ]
    }
   ],
   "source": [
    "df_weather_data = pd.read_csv('weather_2019_07.csv', index_col='YYYY-MM-DD',\n",
    "                         parse_dates=True, infer_datetime_format=True).sort_index()\n",
    "print(df_weather_data.columns[1:-1])"
   ]
  },
  {
   "cell_type": "code",
   "execution_count": 51,
   "metadata": {},
   "outputs": [
    {
     "data": {
      "image/svg+xml": [
       "<?xml version=\"1.0\" encoding=\"utf-8\" standalone=\"no\"?>\r\n",
       "<!DOCTYPE svg PUBLIC \"-//W3C//DTD SVG 1.1//EN\"\r\n",
       "  \"http://www.w3.org/Graphics/SVG/1.1/DTD/svg11.dtd\">\r\n",
       "<!-- Created with matplotlib (https://matplotlib.org/) -->\r\n",
       "<svg height=\"338.4pt\" version=\"1.1\" viewBox=\"0 0 914.4 338.4\" width=\"914.4pt\" xmlns=\"http://www.w3.org/2000/svg\" xmlns:xlink=\"http://www.w3.org/1999/xlink\">\r\n",
       " <defs>\r\n",
       "  <style type=\"text/css\">\r\n",
       "*{stroke-linecap:butt;stroke-linejoin:round;}\r\n",
       "  </style>\r\n",
       " </defs>\r\n",
       " <g id=\"figure_1\">\r\n",
       "  <g id=\"patch_1\">\r\n",
       "   <path d=\"M 0 338.4 \r\n",
       "L 914.4 338.4 \r\n",
       "L 914.4 0 \r\n",
       "L 0 0 \r\n",
       "z\r\n",
       "\" style=\"fill:#ffffff;\"/>\r\n",
       "  </g>\r\n",
       "  <g id=\"axes_1\">\r\n",
       "   <g id=\"patch_2\">\r\n",
       "    <path d=\"M 40.603125 282.581396 \r\n",
       "L 903.7 282.581396 \r\n",
       "L 903.7 32.396875 \r\n",
       "L 40.603125 32.396875 \r\n",
       "z\r\n",
       "\" style=\"fill:#ffffff;\"/>\r\n",
       "   </g>\r\n",
       "   <g id=\"patch_3\">\r\n",
       "    <path clip-path=\"url(#pbdd25f7e61)\" d=\"M 690.323273 282.581396 \r\n",
       "L 690.323273 32.396875 \r\n",
       "L 764.645503 32.396875 \r\n",
       "L 764.645503 282.581396 \r\n",
       "z\r\n",
       "\" style=\"fill:#f9e79f;stroke:#f9e79f;stroke-linejoin:miter;\"/>\r\n",
       "   </g>\r\n",
       "   <g id=\"matplotlib.axis_1\">\r\n",
       "    <g id=\"xtick_1\">\r\n",
       "     <g id=\"line2d_1\">\r\n",
       "      <path clip-path=\"url(#pbdd25f7e61)\" d=\"M 40.603125 282.581396 \r\n",
       "L 40.603125 32.396875 \r\n",
       "\" style=\"fill:none;stroke:#b0b0b0;stroke-linecap:square;stroke-width:0.8;\"/>\r\n",
       "     </g>\r\n",
       "     <g id=\"line2d_2\">\r\n",
       "      <defs>\r\n",
       "       <path d=\"M 0 0 \r\n",
       "L 0 3.5 \r\n",
       "\" id=\"m33ecb87eb9\" style=\"stroke:#000000;stroke-width:0.8;\"/>\r\n",
       "      </defs>\r\n",
       "      <g>\r\n",
       "       <use style=\"stroke:#000000;stroke-width:0.8;\" x=\"40.603125\" xlink:href=\"#m33ecb87eb9\" y=\"282.581396\"/>\r\n",
       "      </g>\r\n",
       "     </g>\r\n",
       "     <g id=\"text_1\">\r\n",
       "      <!-- Mon, 01. -->\r\n",
       "      <defs>\r\n",
       "       <path d=\"M 9.8125 72.90625 \r\n",
       "L 24.515625 72.90625 \r\n",
       "L 43.109375 23.296875 \r\n",
       "L 61.8125 72.90625 \r\n",
       "L 76.515625 72.90625 \r\n",
       "L 76.515625 0 \r\n",
       "L 66.890625 0 \r\n",
       "L 66.890625 64.015625 \r\n",
       "L 48.09375 14.015625 \r\n",
       "L 38.1875 14.015625 \r\n",
       "L 19.390625 64.015625 \r\n",
       "L 19.390625 0 \r\n",
       "L 9.8125 0 \r\n",
       "z\r\n",
       "\" id=\"DejaVuSans-77\"/>\r\n",
       "       <path d=\"M 30.609375 48.390625 \r\n",
       "Q 23.390625 48.390625 19.1875 42.75 \r\n",
       "Q 14.984375 37.109375 14.984375 27.296875 \r\n",
       "Q 14.984375 17.484375 19.15625 11.84375 \r\n",
       "Q 23.34375 6.203125 30.609375 6.203125 \r\n",
       "Q 37.796875 6.203125 41.984375 11.859375 \r\n",
       "Q 46.1875 17.53125 46.1875 27.296875 \r\n",
       "Q 46.1875 37.015625 41.984375 42.703125 \r\n",
       "Q 37.796875 48.390625 30.609375 48.390625 \r\n",
       "z\r\n",
       "M 30.609375 56 \r\n",
       "Q 42.328125 56 49.015625 48.375 \r\n",
       "Q 55.71875 40.765625 55.71875 27.296875 \r\n",
       "Q 55.71875 13.875 49.015625 6.21875 \r\n",
       "Q 42.328125 -1.421875 30.609375 -1.421875 \r\n",
       "Q 18.84375 -1.421875 12.171875 6.21875 \r\n",
       "Q 5.515625 13.875 5.515625 27.296875 \r\n",
       "Q 5.515625 40.765625 12.171875 48.375 \r\n",
       "Q 18.84375 56 30.609375 56 \r\n",
       "z\r\n",
       "\" id=\"DejaVuSans-111\"/>\r\n",
       "       <path d=\"M 54.890625 33.015625 \r\n",
       "L 54.890625 0 \r\n",
       "L 45.90625 0 \r\n",
       "L 45.90625 32.71875 \r\n",
       "Q 45.90625 40.484375 42.875 44.328125 \r\n",
       "Q 39.84375 48.1875 33.796875 48.1875 \r\n",
       "Q 26.515625 48.1875 22.3125 43.546875 \r\n",
       "Q 18.109375 38.921875 18.109375 30.90625 \r\n",
       "L 18.109375 0 \r\n",
       "L 9.078125 0 \r\n",
       "L 9.078125 54.6875 \r\n",
       "L 18.109375 54.6875 \r\n",
       "L 18.109375 46.1875 \r\n",
       "Q 21.34375 51.125 25.703125 53.5625 \r\n",
       "Q 30.078125 56 35.796875 56 \r\n",
       "Q 45.21875 56 50.046875 50.171875 \r\n",
       "Q 54.890625 44.34375 54.890625 33.015625 \r\n",
       "z\r\n",
       "\" id=\"DejaVuSans-110\"/>\r\n",
       "       <path d=\"M 11.71875 12.40625 \r\n",
       "L 22.015625 12.40625 \r\n",
       "L 22.015625 4 \r\n",
       "L 14.015625 -11.625 \r\n",
       "L 7.71875 -11.625 \r\n",
       "L 11.71875 4 \r\n",
       "z\r\n",
       "\" id=\"DejaVuSans-44\"/>\r\n",
       "       <path id=\"DejaVuSans-32\"/>\r\n",
       "       <path d=\"M 31.78125 66.40625 \r\n",
       "Q 24.171875 66.40625 20.328125 58.90625 \r\n",
       "Q 16.5 51.421875 16.5 36.375 \r\n",
       "Q 16.5 21.390625 20.328125 13.890625 \r\n",
       "Q 24.171875 6.390625 31.78125 6.390625 \r\n",
       "Q 39.453125 6.390625 43.28125 13.890625 \r\n",
       "Q 47.125 21.390625 47.125 36.375 \r\n",
       "Q 47.125 51.421875 43.28125 58.90625 \r\n",
       "Q 39.453125 66.40625 31.78125 66.40625 \r\n",
       "z\r\n",
       "M 31.78125 74.21875 \r\n",
       "Q 44.046875 74.21875 50.515625 64.515625 \r\n",
       "Q 56.984375 54.828125 56.984375 36.375 \r\n",
       "Q 56.984375 17.96875 50.515625 8.265625 \r\n",
       "Q 44.046875 -1.421875 31.78125 -1.421875 \r\n",
       "Q 19.53125 -1.421875 13.0625 8.265625 \r\n",
       "Q 6.59375 17.96875 6.59375 36.375 \r\n",
       "Q 6.59375 54.828125 13.0625 64.515625 \r\n",
       "Q 19.53125 74.21875 31.78125 74.21875 \r\n",
       "z\r\n",
       "\" id=\"DejaVuSans-48\"/>\r\n",
       "       <path d=\"M 12.40625 8.296875 \r\n",
       "L 28.515625 8.296875 \r\n",
       "L 28.515625 63.921875 \r\n",
       "L 10.984375 60.40625 \r\n",
       "L 10.984375 69.390625 \r\n",
       "L 28.421875 72.90625 \r\n",
       "L 38.28125 72.90625 \r\n",
       "L 38.28125 8.296875 \r\n",
       "L 54.390625 8.296875 \r\n",
       "L 54.390625 0 \r\n",
       "L 12.40625 0 \r\n",
       "z\r\n",
       "\" id=\"DejaVuSans-49\"/>\r\n",
       "       <path d=\"M 10.6875 12.40625 \r\n",
       "L 21 12.40625 \r\n",
       "L 21 0 \r\n",
       "L 10.6875 0 \r\n",
       "z\r\n",
       "\" id=\"DejaVuSans-46\"/>\r\n",
       "      </defs>\r\n",
       "      <g transform=\"translate(14.038591 328.944802)rotate(-55)scale(0.1 -0.1)\">\r\n",
       "       <use xlink:href=\"#DejaVuSans-77\"/>\r\n",
       "       <use x=\"86.279297\" xlink:href=\"#DejaVuSans-111\"/>\r\n",
       "       <use x=\"147.460938\" xlink:href=\"#DejaVuSans-110\"/>\r\n",
       "       <use x=\"210.839844\" xlink:href=\"#DejaVuSans-44\"/>\r\n",
       "       <use x=\"242.626953\" xlink:href=\"#DejaVuSans-32\"/>\r\n",
       "       <use x=\"274.414062\" xlink:href=\"#DejaVuSans-48\"/>\r\n",
       "       <use x=\"338.037109\" xlink:href=\"#DejaVuSans-49\"/>\r\n",
       "       <use x=\"401.660156\" xlink:href=\"#DejaVuSans-46\"/>\r\n",
       "      </g>\r\n",
       "     </g>\r\n",
       "    </g>\r\n",
       "    <g id=\"xtick_2\">\r\n",
       "     <g id=\"line2d_3\">\r\n",
       "      <path clip-path=\"url(#pbdd25f7e61)\" d=\"M 69.373021 282.581396 \r\n",
       "L 69.373021 32.396875 \r\n",
       "\" style=\"fill:none;stroke:#b0b0b0;stroke-linecap:square;stroke-width:0.8;\"/>\r\n",
       "     </g>\r\n",
       "     <g id=\"line2d_4\">\r\n",
       "      <g>\r\n",
       "       <use style=\"stroke:#000000;stroke-width:0.8;\" x=\"69.373021\" xlink:href=\"#m33ecb87eb9\" y=\"282.581396\"/>\r\n",
       "      </g>\r\n",
       "     </g>\r\n",
       "     <g id=\"text_2\">\r\n",
       "      <!-- Tue, 02. -->\r\n",
       "      <defs>\r\n",
       "       <path d=\"M -0.296875 72.90625 \r\n",
       "L 61.375 72.90625 \r\n",
       "L 61.375 64.59375 \r\n",
       "L 35.5 64.59375 \r\n",
       "L 35.5 0 \r\n",
       "L 25.59375 0 \r\n",
       "L 25.59375 64.59375 \r\n",
       "L -0.296875 64.59375 \r\n",
       "z\r\n",
       "\" id=\"DejaVuSans-84\"/>\r\n",
       "       <path d=\"M 8.5 21.578125 \r\n",
       "L 8.5 54.6875 \r\n",
       "L 17.484375 54.6875 \r\n",
       "L 17.484375 21.921875 \r\n",
       "Q 17.484375 14.15625 20.5 10.265625 \r\n",
       "Q 23.53125 6.390625 29.59375 6.390625 \r\n",
       "Q 36.859375 6.390625 41.078125 11.03125 \r\n",
       "Q 45.3125 15.671875 45.3125 23.6875 \r\n",
       "L 45.3125 54.6875 \r\n",
       "L 54.296875 54.6875 \r\n",
       "L 54.296875 0 \r\n",
       "L 45.3125 0 \r\n",
       "L 45.3125 8.40625 \r\n",
       "Q 42.046875 3.421875 37.71875 1 \r\n",
       "Q 33.40625 -1.421875 27.6875 -1.421875 \r\n",
       "Q 18.265625 -1.421875 13.375 4.4375 \r\n",
       "Q 8.5 10.296875 8.5 21.578125 \r\n",
       "z\r\n",
       "M 31.109375 56 \r\n",
       "z\r\n",
       "\" id=\"DejaVuSans-117\"/>\r\n",
       "       <path d=\"M 56.203125 29.59375 \r\n",
       "L 56.203125 25.203125 \r\n",
       "L 14.890625 25.203125 \r\n",
       "Q 15.484375 15.921875 20.484375 11.0625 \r\n",
       "Q 25.484375 6.203125 34.421875 6.203125 \r\n",
       "Q 39.59375 6.203125 44.453125 7.46875 \r\n",
       "Q 49.3125 8.734375 54.109375 11.28125 \r\n",
       "L 54.109375 2.78125 \r\n",
       "Q 49.265625 0.734375 44.1875 -0.34375 \r\n",
       "Q 39.109375 -1.421875 33.890625 -1.421875 \r\n",
       "Q 20.796875 -1.421875 13.15625 6.1875 \r\n",
       "Q 5.515625 13.8125 5.515625 26.8125 \r\n",
       "Q 5.515625 40.234375 12.765625 48.109375 \r\n",
       "Q 20.015625 56 32.328125 56 \r\n",
       "Q 43.359375 56 49.78125 48.890625 \r\n",
       "Q 56.203125 41.796875 56.203125 29.59375 \r\n",
       "z\r\n",
       "M 47.21875 32.234375 \r\n",
       "Q 47.125 39.59375 43.09375 43.984375 \r\n",
       "Q 39.0625 48.390625 32.421875 48.390625 \r\n",
       "Q 24.90625 48.390625 20.390625 44.140625 \r\n",
       "Q 15.875 39.890625 15.1875 32.171875 \r\n",
       "z\r\n",
       "\" id=\"DejaVuSans-101\"/>\r\n",
       "       <path d=\"M 19.1875 8.296875 \r\n",
       "L 53.609375 8.296875 \r\n",
       "L 53.609375 0 \r\n",
       "L 7.328125 0 \r\n",
       "L 7.328125 8.296875 \r\n",
       "Q 12.9375 14.109375 22.625 23.890625 \r\n",
       "Q 32.328125 33.6875 34.8125 36.53125 \r\n",
       "Q 39.546875 41.84375 41.421875 45.53125 \r\n",
       "Q 43.3125 49.21875 43.3125 52.78125 \r\n",
       "Q 43.3125 58.59375 39.234375 62.25 \r\n",
       "Q 35.15625 65.921875 28.609375 65.921875 \r\n",
       "Q 23.96875 65.921875 18.8125 64.3125 \r\n",
       "Q 13.671875 62.703125 7.8125 59.421875 \r\n",
       "L 7.8125 69.390625 \r\n",
       "Q 13.765625 71.78125 18.9375 73 \r\n",
       "Q 24.125 74.21875 28.421875 74.21875 \r\n",
       "Q 39.75 74.21875 46.484375 68.546875 \r\n",
       "Q 53.21875 62.890625 53.21875 53.421875 \r\n",
       "Q 53.21875 48.921875 51.53125 44.890625 \r\n",
       "Q 49.859375 40.875 45.40625 35.40625 \r\n",
       "Q 44.1875 33.984375 37.640625 27.21875 \r\n",
       "Q 31.109375 20.453125 19.1875 8.296875 \r\n",
       "z\r\n",
       "\" id=\"DejaVuSans-50\"/>\r\n",
       "      </defs>\r\n",
       "      <g transform=\"translate(44.247805 326.889243)rotate(-55)scale(0.1 -0.1)\">\r\n",
       "       <use xlink:href=\"#DejaVuSans-84\"/>\r\n",
       "       <use x=\"60.849609\" xlink:href=\"#DejaVuSans-117\"/>\r\n",
       "       <use x=\"124.228516\" xlink:href=\"#DejaVuSans-101\"/>\r\n",
       "       <use x=\"185.751953\" xlink:href=\"#DejaVuSans-44\"/>\r\n",
       "       <use x=\"217.539062\" xlink:href=\"#DejaVuSans-32\"/>\r\n",
       "       <use x=\"249.326172\" xlink:href=\"#DejaVuSans-48\"/>\r\n",
       "       <use x=\"312.949219\" xlink:href=\"#DejaVuSans-50\"/>\r\n",
       "       <use x=\"376.572266\" xlink:href=\"#DejaVuSans-46\"/>\r\n",
       "      </g>\r\n",
       "     </g>\r\n",
       "    </g>\r\n",
       "    <g id=\"xtick_3\">\r\n",
       "     <g id=\"line2d_5\">\r\n",
       "      <path clip-path=\"url(#pbdd25f7e61)\" d=\"M 98.142917 282.581396 \r\n",
       "L 98.142917 32.396875 \r\n",
       "\" style=\"fill:none;stroke:#b0b0b0;stroke-linecap:square;stroke-width:0.8;\"/>\r\n",
       "     </g>\r\n",
       "     <g id=\"line2d_6\">\r\n",
       "      <g>\r\n",
       "       <use style=\"stroke:#000000;stroke-width:0.8;\" x=\"98.142917\" xlink:href=\"#m33ecb87eb9\" y=\"282.581396\"/>\r\n",
       "      </g>\r\n",
       "     </g>\r\n",
       "     <g id=\"text_3\">\r\n",
       "      <!-- Wed, 03. -->\r\n",
       "      <defs>\r\n",
       "       <path d=\"M 3.328125 72.90625 \r\n",
       "L 13.28125 72.90625 \r\n",
       "L 28.609375 11.28125 \r\n",
       "L 43.890625 72.90625 \r\n",
       "L 54.984375 72.90625 \r\n",
       "L 70.3125 11.28125 \r\n",
       "L 85.59375 72.90625 \r\n",
       "L 95.609375 72.90625 \r\n",
       "L 77.296875 0 \r\n",
       "L 64.890625 0 \r\n",
       "L 49.515625 63.28125 \r\n",
       "L 33.984375 0 \r\n",
       "L 21.578125 0 \r\n",
       "z\r\n",
       "\" id=\"DejaVuSans-87\"/>\r\n",
       "       <path d=\"M 45.40625 46.390625 \r\n",
       "L 45.40625 75.984375 \r\n",
       "L 54.390625 75.984375 \r\n",
       "L 54.390625 0 \r\n",
       "L 45.40625 0 \r\n",
       "L 45.40625 8.203125 \r\n",
       "Q 42.578125 3.328125 38.25 0.953125 \r\n",
       "Q 33.9375 -1.421875 27.875 -1.421875 \r\n",
       "Q 17.96875 -1.421875 11.734375 6.484375 \r\n",
       "Q 5.515625 14.40625 5.515625 27.296875 \r\n",
       "Q 5.515625 40.1875 11.734375 48.09375 \r\n",
       "Q 17.96875 56 27.875 56 \r\n",
       "Q 33.9375 56 38.25 53.625 \r\n",
       "Q 42.578125 51.265625 45.40625 46.390625 \r\n",
       "z\r\n",
       "M 14.796875 27.296875 \r\n",
       "Q 14.796875 17.390625 18.875 11.75 \r\n",
       "Q 22.953125 6.109375 30.078125 6.109375 \r\n",
       "Q 37.203125 6.109375 41.296875 11.75 \r\n",
       "Q 45.40625 17.390625 45.40625 27.296875 \r\n",
       "Q 45.40625 37.203125 41.296875 42.84375 \r\n",
       "Q 37.203125 48.484375 30.078125 48.484375 \r\n",
       "Q 22.953125 48.484375 18.875 42.84375 \r\n",
       "Q 14.796875 37.203125 14.796875 27.296875 \r\n",
       "z\r\n",
       "\" id=\"DejaVuSans-100\"/>\r\n",
       "       <path d=\"M 40.578125 39.3125 \r\n",
       "Q 47.65625 37.796875 51.625 33 \r\n",
       "Q 55.609375 28.21875 55.609375 21.1875 \r\n",
       "Q 55.609375 10.40625 48.1875 4.484375 \r\n",
       "Q 40.765625 -1.421875 27.09375 -1.421875 \r\n",
       "Q 22.515625 -1.421875 17.65625 -0.515625 \r\n",
       "Q 12.796875 0.390625 7.625 2.203125 \r\n",
       "L 7.625 11.71875 \r\n",
       "Q 11.71875 9.328125 16.59375 8.109375 \r\n",
       "Q 21.484375 6.890625 26.8125 6.890625 \r\n",
       "Q 36.078125 6.890625 40.9375 10.546875 \r\n",
       "Q 45.796875 14.203125 45.796875 21.1875 \r\n",
       "Q 45.796875 27.640625 41.28125 31.265625 \r\n",
       "Q 36.765625 34.90625 28.71875 34.90625 \r\n",
       "L 20.21875 34.90625 \r\n",
       "L 20.21875 43.015625 \r\n",
       "L 29.109375 43.015625 \r\n",
       "Q 36.375 43.015625 40.234375 45.921875 \r\n",
       "Q 44.09375 48.828125 44.09375 54.296875 \r\n",
       "Q 44.09375 59.90625 40.109375 62.90625 \r\n",
       "Q 36.140625 65.921875 28.71875 65.921875 \r\n",
       "Q 24.65625 65.921875 20.015625 65.03125 \r\n",
       "Q 15.375 64.15625 9.8125 62.3125 \r\n",
       "L 9.8125 71.09375 \r\n",
       "Q 15.4375 72.65625 20.34375 73.4375 \r\n",
       "Q 25.25 74.21875 29.59375 74.21875 \r\n",
       "Q 40.828125 74.21875 47.359375 69.109375 \r\n",
       "Q 53.90625 64.015625 53.90625 55.328125 \r\n",
       "Q 53.90625 49.265625 50.4375 45.09375 \r\n",
       "Q 46.96875 40.921875 40.578125 39.3125 \r\n",
       "z\r\n",
       "\" id=\"DejaVuSans-51\"/>\r\n",
       "      </defs>\r\n",
       "      <g transform=\"translate(70.834526 330.00714)rotate(-55)scale(0.1 -0.1)\">\r\n",
       "       <use xlink:href=\"#DejaVuSans-87\"/>\r\n",
       "       <use x=\"98.798828\" xlink:href=\"#DejaVuSans-101\"/>\r\n",
       "       <use x=\"160.322266\" xlink:href=\"#DejaVuSans-100\"/>\r\n",
       "       <use x=\"223.798828\" xlink:href=\"#DejaVuSans-44\"/>\r\n",
       "       <use x=\"255.585938\" xlink:href=\"#DejaVuSans-32\"/>\r\n",
       "       <use x=\"287.373047\" xlink:href=\"#DejaVuSans-48\"/>\r\n",
       "       <use x=\"350.996094\" xlink:href=\"#DejaVuSans-51\"/>\r\n",
       "       <use x=\"414.619141\" xlink:href=\"#DejaVuSans-46\"/>\r\n",
       "      </g>\r\n",
       "     </g>\r\n",
       "    </g>\r\n",
       "    <g id=\"xtick_4\">\r\n",
       "     <g id=\"line2d_7\">\r\n",
       "      <path clip-path=\"url(#pbdd25f7e61)\" d=\"M 126.912812 282.581396 \r\n",
       "L 126.912812 32.396875 \r\n",
       "\" style=\"fill:none;stroke:#b0b0b0;stroke-linecap:square;stroke-width:0.8;\"/>\r\n",
       "     </g>\r\n",
       "     <g id=\"line2d_8\">\r\n",
       "      <g>\r\n",
       "       <use style=\"stroke:#000000;stroke-width:0.8;\" x=\"126.912812\" xlink:href=\"#m33ecb87eb9\" y=\"282.581396\"/>\r\n",
       "      </g>\r\n",
       "     </g>\r\n",
       "     <g id=\"text_4\">\r\n",
       "      <!-- Thu, 04. -->\r\n",
       "      <defs>\r\n",
       "       <path d=\"M 54.890625 33.015625 \r\n",
       "L 54.890625 0 \r\n",
       "L 45.90625 0 \r\n",
       "L 45.90625 32.71875 \r\n",
       "Q 45.90625 40.484375 42.875 44.328125 \r\n",
       "Q 39.84375 48.1875 33.796875 48.1875 \r\n",
       "Q 26.515625 48.1875 22.3125 43.546875 \r\n",
       "Q 18.109375 38.921875 18.109375 30.90625 \r\n",
       "L 18.109375 0 \r\n",
       "L 9.078125 0 \r\n",
       "L 9.078125 75.984375 \r\n",
       "L 18.109375 75.984375 \r\n",
       "L 18.109375 46.1875 \r\n",
       "Q 21.34375 51.125 25.703125 53.5625 \r\n",
       "Q 30.078125 56 35.796875 56 \r\n",
       "Q 45.21875 56 50.046875 50.171875 \r\n",
       "Q 54.890625 44.34375 54.890625 33.015625 \r\n",
       "z\r\n",
       "\" id=\"DejaVuSans-104\"/>\r\n",
       "       <path d=\"M 37.796875 64.3125 \r\n",
       "L 12.890625 25.390625 \r\n",
       "L 37.796875 25.390625 \r\n",
       "z\r\n",
       "M 35.203125 72.90625 \r\n",
       "L 47.609375 72.90625 \r\n",
       "L 47.609375 25.390625 \r\n",
       "L 58.015625 25.390625 \r\n",
       "L 58.015625 17.1875 \r\n",
       "L 47.609375 17.1875 \r\n",
       "L 47.609375 0 \r\n",
       "L 37.796875 0 \r\n",
       "L 37.796875 17.1875 \r\n",
       "L 4.890625 17.1875 \r\n",
       "L 4.890625 26.703125 \r\n",
       "z\r\n",
       "\" id=\"DejaVuSans-52\"/>\r\n",
       "      </defs>\r\n",
       "      <g transform=\"translate(101.668401 327.059473)rotate(-55)scale(0.1 -0.1)\">\r\n",
       "       <use xlink:href=\"#DejaVuSans-84\"/>\r\n",
       "       <use x=\"61.083984\" xlink:href=\"#DejaVuSans-104\"/>\r\n",
       "       <use x=\"124.462891\" xlink:href=\"#DejaVuSans-117\"/>\r\n",
       "       <use x=\"187.841797\" xlink:href=\"#DejaVuSans-44\"/>\r\n",
       "       <use x=\"219.628906\" xlink:href=\"#DejaVuSans-32\"/>\r\n",
       "       <use x=\"251.416016\" xlink:href=\"#DejaVuSans-48\"/>\r\n",
       "       <use x=\"315.039062\" xlink:href=\"#DejaVuSans-52\"/>\r\n",
       "       <use x=\"378.662109\" xlink:href=\"#DejaVuSans-46\"/>\r\n",
       "      </g>\r\n",
       "     </g>\r\n",
       "    </g>\r\n",
       "    <g id=\"xtick_5\">\r\n",
       "     <g id=\"line2d_9\">\r\n",
       "      <path clip-path=\"url(#pbdd25f7e61)\" d=\"M 155.682708 282.581396 \r\n",
       "L 155.682708 32.396875 \r\n",
       "\" style=\"fill:none;stroke:#b0b0b0;stroke-linecap:square;stroke-width:0.8;\"/>\r\n",
       "     </g>\r\n",
       "     <g id=\"line2d_10\">\r\n",
       "      <g>\r\n",
       "       <use style=\"stroke:#000000;stroke-width:0.8;\" x=\"155.682708\" xlink:href=\"#m33ecb87eb9\" y=\"282.581396\"/>\r\n",
       "      </g>\r\n",
       "     </g>\r\n",
       "     <g id=\"text_5\">\r\n",
       "      <!-- Fri, 05. -->\r\n",
       "      <defs>\r\n",
       "       <path d=\"M 9.8125 72.90625 \r\n",
       "L 51.703125 72.90625 \r\n",
       "L 51.703125 64.59375 \r\n",
       "L 19.671875 64.59375 \r\n",
       "L 19.671875 43.109375 \r\n",
       "L 48.578125 43.109375 \r\n",
       "L 48.578125 34.8125 \r\n",
       "L 19.671875 34.8125 \r\n",
       "L 19.671875 0 \r\n",
       "L 9.8125 0 \r\n",
       "z\r\n",
       "\" id=\"DejaVuSans-70\"/>\r\n",
       "       <path d=\"M 41.109375 46.296875 \r\n",
       "Q 39.59375 47.171875 37.8125 47.578125 \r\n",
       "Q 36.03125 48 33.890625 48 \r\n",
       "Q 26.265625 48 22.1875 43.046875 \r\n",
       "Q 18.109375 38.09375 18.109375 28.8125 \r\n",
       "L 18.109375 0 \r\n",
       "L 9.078125 0 \r\n",
       "L 9.078125 54.6875 \r\n",
       "L 18.109375 54.6875 \r\n",
       "L 18.109375 46.1875 \r\n",
       "Q 20.953125 51.171875 25.484375 53.578125 \r\n",
       "Q 30.03125 56 36.53125 56 \r\n",
       "Q 37.453125 56 38.578125 55.875 \r\n",
       "Q 39.703125 55.765625 41.0625 55.515625 \r\n",
       "z\r\n",
       "\" id=\"DejaVuSans-114\"/>\r\n",
       "       <path d=\"M 9.421875 54.6875 \r\n",
       "L 18.40625 54.6875 \r\n",
       "L 18.40625 0 \r\n",
       "L 9.421875 0 \r\n",
       "z\r\n",
       "M 9.421875 75.984375 \r\n",
       "L 18.40625 75.984375 \r\n",
       "L 18.40625 64.59375 \r\n",
       "L 9.421875 64.59375 \r\n",
       "z\r\n",
       "\" id=\"DejaVuSans-105\"/>\r\n",
       "       <path d=\"M 10.796875 72.90625 \r\n",
       "L 49.515625 72.90625 \r\n",
       "L 49.515625 64.59375 \r\n",
       "L 19.828125 64.59375 \r\n",
       "L 19.828125 46.734375 \r\n",
       "Q 21.96875 47.46875 24.109375 47.828125 \r\n",
       "Q 26.265625 48.1875 28.421875 48.1875 \r\n",
       "Q 40.625 48.1875 47.75 41.5 \r\n",
       "Q 54.890625 34.8125 54.890625 23.390625 \r\n",
       "Q 54.890625 11.625 47.5625 5.09375 \r\n",
       "Q 40.234375 -1.421875 26.90625 -1.421875 \r\n",
       "Q 22.3125 -1.421875 17.546875 -0.640625 \r\n",
       "Q 12.796875 0.140625 7.71875 1.703125 \r\n",
       "L 7.71875 11.625 \r\n",
       "Q 12.109375 9.234375 16.796875 8.0625 \r\n",
       "Q 21.484375 6.890625 26.703125 6.890625 \r\n",
       "Q 35.15625 6.890625 40.078125 11.328125 \r\n",
       "Q 45.015625 15.765625 45.015625 23.390625 \r\n",
       "Q 45.015625 31 40.078125 35.4375 \r\n",
       "Q 35.15625 39.890625 26.703125 39.890625 \r\n",
       "Q 22.75 39.890625 18.8125 39.015625 \r\n",
       "Q 14.890625 38.140625 10.796875 36.28125 \r\n",
       "z\r\n",
       "\" id=\"DejaVuSans-53\"/>\r\n",
       "      </defs>\r\n",
       "      <g transform=\"translate(133.967584 322.019128)rotate(-55)scale(0.1 -0.1)\">\r\n",
       "       <use xlink:href=\"#DejaVuSans-70\"/>\r\n",
       "       <use x=\"57.410156\" xlink:href=\"#DejaVuSans-114\"/>\r\n",
       "       <use x=\"98.523438\" xlink:href=\"#DejaVuSans-105\"/>\r\n",
       "       <use x=\"126.306641\" xlink:href=\"#DejaVuSans-44\"/>\r\n",
       "       <use x=\"158.09375\" xlink:href=\"#DejaVuSans-32\"/>\r\n",
       "       <use x=\"189.880859\" xlink:href=\"#DejaVuSans-48\"/>\r\n",
       "       <use x=\"253.503906\" xlink:href=\"#DejaVuSans-53\"/>\r\n",
       "       <use x=\"317.126953\" xlink:href=\"#DejaVuSans-46\"/>\r\n",
       "      </g>\r\n",
       "     </g>\r\n",
       "    </g>\r\n",
       "    <g id=\"xtick_6\">\r\n",
       "     <g id=\"line2d_11\">\r\n",
       "      <path clip-path=\"url(#pbdd25f7e61)\" d=\"M 184.452604 282.581396 \r\n",
       "L 184.452604 32.396875 \r\n",
       "\" style=\"fill:none;stroke:#b0b0b0;stroke-linecap:square;stroke-width:0.8;\"/>\r\n",
       "     </g>\r\n",
       "     <g id=\"line2d_12\">\r\n",
       "      <g>\r\n",
       "       <use style=\"stroke:#000000;stroke-width:0.8;\" x=\"184.452604\" xlink:href=\"#m33ecb87eb9\" y=\"282.581396\"/>\r\n",
       "      </g>\r\n",
       "     </g>\r\n",
       "     <g id=\"text_6\">\r\n",
       "      <!-- Sat, 06. -->\r\n",
       "      <defs>\r\n",
       "       <path d=\"M 53.515625 70.515625 \r\n",
       "L 53.515625 60.890625 \r\n",
       "Q 47.90625 63.578125 42.921875 64.890625 \r\n",
       "Q 37.9375 66.21875 33.296875 66.21875 \r\n",
       "Q 25.25 66.21875 20.875 63.09375 \r\n",
       "Q 16.5 59.96875 16.5 54.203125 \r\n",
       "Q 16.5 49.359375 19.40625 46.890625 \r\n",
       "Q 22.3125 44.4375 30.421875 42.921875 \r\n",
       "L 36.375 41.703125 \r\n",
       "Q 47.40625 39.59375 52.65625 34.296875 \r\n",
       "Q 57.90625 29 57.90625 20.125 \r\n",
       "Q 57.90625 9.515625 50.796875 4.046875 \r\n",
       "Q 43.703125 -1.421875 29.984375 -1.421875 \r\n",
       "Q 24.8125 -1.421875 18.96875 -0.25 \r\n",
       "Q 13.140625 0.921875 6.890625 3.21875 \r\n",
       "L 6.890625 13.375 \r\n",
       "Q 12.890625 10.015625 18.65625 8.296875 \r\n",
       "Q 24.421875 6.59375 29.984375 6.59375 \r\n",
       "Q 38.421875 6.59375 43.015625 9.90625 \r\n",
       "Q 47.609375 13.234375 47.609375 19.390625 \r\n",
       "Q 47.609375 24.75 44.3125 27.78125 \r\n",
       "Q 41.015625 30.8125 33.5 32.328125 \r\n",
       "L 27.484375 33.5 \r\n",
       "Q 16.453125 35.6875 11.515625 40.375 \r\n",
       "Q 6.59375 45.0625 6.59375 53.421875 \r\n",
       "Q 6.59375 63.09375 13.40625 68.65625 \r\n",
       "Q 20.21875 74.21875 32.171875 74.21875 \r\n",
       "Q 37.3125 74.21875 42.625 73.28125 \r\n",
       "Q 47.953125 72.359375 53.515625 70.515625 \r\n",
       "z\r\n",
       "\" id=\"DejaVuSans-83\"/>\r\n",
       "       <path d=\"M 34.28125 27.484375 \r\n",
       "Q 23.390625 27.484375 19.1875 25 \r\n",
       "Q 14.984375 22.515625 14.984375 16.5 \r\n",
       "Q 14.984375 11.71875 18.140625 8.90625 \r\n",
       "Q 21.296875 6.109375 26.703125 6.109375 \r\n",
       "Q 34.1875 6.109375 38.703125 11.40625 \r\n",
       "Q 43.21875 16.703125 43.21875 25.484375 \r\n",
       "L 43.21875 27.484375 \r\n",
       "z\r\n",
       "M 52.203125 31.203125 \r\n",
       "L 52.203125 0 \r\n",
       "L 43.21875 0 \r\n",
       "L 43.21875 8.296875 \r\n",
       "Q 40.140625 3.328125 35.546875 0.953125 \r\n",
       "Q 30.953125 -1.421875 24.3125 -1.421875 \r\n",
       "Q 15.921875 -1.421875 10.953125 3.296875 \r\n",
       "Q 6 8.015625 6 15.921875 \r\n",
       "Q 6 25.140625 12.171875 29.828125 \r\n",
       "Q 18.359375 34.515625 30.609375 34.515625 \r\n",
       "L 43.21875 34.515625 \r\n",
       "L 43.21875 35.40625 \r\n",
       "Q 43.21875 41.609375 39.140625 45 \r\n",
       "Q 35.0625 48.390625 27.6875 48.390625 \r\n",
       "Q 23 48.390625 18.546875 47.265625 \r\n",
       "Q 14.109375 46.140625 10.015625 43.890625 \r\n",
       "L 10.015625 52.203125 \r\n",
       "Q 14.9375 54.109375 19.578125 55.046875 \r\n",
       "Q 24.21875 56 28.609375 56 \r\n",
       "Q 40.484375 56 46.34375 49.84375 \r\n",
       "Q 52.203125 43.703125 52.203125 31.203125 \r\n",
       "z\r\n",
       "\" id=\"DejaVuSans-97\"/>\r\n",
       "       <path d=\"M 18.3125 70.21875 \r\n",
       "L 18.3125 54.6875 \r\n",
       "L 36.8125 54.6875 \r\n",
       "L 36.8125 47.703125 \r\n",
       "L 18.3125 47.703125 \r\n",
       "L 18.3125 18.015625 \r\n",
       "Q 18.3125 11.328125 20.140625 9.421875 \r\n",
       "Q 21.96875 7.515625 27.59375 7.515625 \r\n",
       "L 36.8125 7.515625 \r\n",
       "L 36.8125 0 \r\n",
       "L 27.59375 0 \r\n",
       "Q 17.1875 0 13.234375 3.875 \r\n",
       "Q 9.28125 7.765625 9.28125 18.015625 \r\n",
       "L 9.28125 47.703125 \r\n",
       "L 2.6875 47.703125 \r\n",
       "L 2.6875 54.6875 \r\n",
       "L 9.28125 54.6875 \r\n",
       "L 9.28125 70.21875 \r\n",
       "z\r\n",
       "\" id=\"DejaVuSans-116\"/>\r\n",
       "       <path d=\"M 33.015625 40.375 \r\n",
       "Q 26.375 40.375 22.484375 35.828125 \r\n",
       "Q 18.609375 31.296875 18.609375 23.390625 \r\n",
       "Q 18.609375 15.53125 22.484375 10.953125 \r\n",
       "Q 26.375 6.390625 33.015625 6.390625 \r\n",
       "Q 39.65625 6.390625 43.53125 10.953125 \r\n",
       "Q 47.40625 15.53125 47.40625 23.390625 \r\n",
       "Q 47.40625 31.296875 43.53125 35.828125 \r\n",
       "Q 39.65625 40.375 33.015625 40.375 \r\n",
       "z\r\n",
       "M 52.59375 71.296875 \r\n",
       "L 52.59375 62.3125 \r\n",
       "Q 48.875 64.0625 45.09375 64.984375 \r\n",
       "Q 41.3125 65.921875 37.59375 65.921875 \r\n",
       "Q 27.828125 65.921875 22.671875 59.328125 \r\n",
       "Q 17.53125 52.734375 16.796875 39.40625 \r\n",
       "Q 19.671875 43.65625 24.015625 45.921875 \r\n",
       "Q 28.375 48.1875 33.59375 48.1875 \r\n",
       "Q 44.578125 48.1875 50.953125 41.515625 \r\n",
       "Q 57.328125 34.859375 57.328125 23.390625 \r\n",
       "Q 57.328125 12.15625 50.6875 5.359375 \r\n",
       "Q 44.046875 -1.421875 33.015625 -1.421875 \r\n",
       "Q 20.359375 -1.421875 13.671875 8.265625 \r\n",
       "Q 6.984375 17.96875 6.984375 36.375 \r\n",
       "Q 6.984375 53.65625 15.1875 63.9375 \r\n",
       "Q 23.390625 74.21875 37.203125 74.21875 \r\n",
       "Q 40.921875 74.21875 44.703125 73.484375 \r\n",
       "Q 48.484375 72.75 52.59375 71.296875 \r\n",
       "z\r\n",
       "\" id=\"DejaVuSans-54\"/>\r\n",
       "      </defs>\r\n",
       "      <g transform=\"translate(160.57671 325.105027)rotate(-55)scale(0.1 -0.1)\">\r\n",
       "       <use xlink:href=\"#DejaVuSans-83\"/>\r\n",
       "       <use x=\"63.476562\" xlink:href=\"#DejaVuSans-97\"/>\r\n",
       "       <use x=\"124.755859\" xlink:href=\"#DejaVuSans-116\"/>\r\n",
       "       <use x=\"163.964844\" xlink:href=\"#DejaVuSans-44\"/>\r\n",
       "       <use x=\"195.751953\" xlink:href=\"#DejaVuSans-32\"/>\r\n",
       "       <use x=\"227.539062\" xlink:href=\"#DejaVuSans-48\"/>\r\n",
       "       <use x=\"291.162109\" xlink:href=\"#DejaVuSans-54\"/>\r\n",
       "       <use x=\"354.785156\" xlink:href=\"#DejaVuSans-46\"/>\r\n",
       "      </g>\r\n",
       "     </g>\r\n",
       "    </g>\r\n",
       "    <g id=\"xtick_7\">\r\n",
       "     <g id=\"line2d_13\">\r\n",
       "      <path clip-path=\"url(#pbdd25f7e61)\" d=\"M 213.2225 282.581396 \r\n",
       "L 213.2225 32.396875 \r\n",
       "\" style=\"fill:none;stroke:#b0b0b0;stroke-linecap:square;stroke-width:0.8;\"/>\r\n",
       "     </g>\r\n",
       "     <g id=\"line2d_14\">\r\n",
       "      <g>\r\n",
       "       <use style=\"stroke:#000000;stroke-width:0.8;\" x=\"213.2225\" xlink:href=\"#m33ecb87eb9\" y=\"282.581396\"/>\r\n",
       "      </g>\r\n",
       "     </g>\r\n",
       "     <g id=\"text_7\">\r\n",
       "      <!-- Sun, 07. -->\r\n",
       "      <defs>\r\n",
       "       <path d=\"M 8.203125 72.90625 \r\n",
       "L 55.078125 72.90625 \r\n",
       "L 55.078125 68.703125 \r\n",
       "L 28.609375 0 \r\n",
       "L 18.3125 0 \r\n",
       "L 43.21875 64.59375 \r\n",
       "L 8.203125 64.59375 \r\n",
       "z\r\n",
       "\" id=\"DejaVuSans-55\"/>\r\n",
       "      </defs>\r\n",
       "      <g transform=\"translate(187.840071 327.256581)rotate(-55)scale(0.1 -0.1)\">\r\n",
       "       <use xlink:href=\"#DejaVuSans-83\"/>\r\n",
       "       <use x=\"63.476562\" xlink:href=\"#DejaVuSans-117\"/>\r\n",
       "       <use x=\"126.855469\" xlink:href=\"#DejaVuSans-110\"/>\r\n",
       "       <use x=\"190.234375\" xlink:href=\"#DejaVuSans-44\"/>\r\n",
       "       <use x=\"222.021484\" xlink:href=\"#DejaVuSans-32\"/>\r\n",
       "       <use x=\"253.808594\" xlink:href=\"#DejaVuSans-48\"/>\r\n",
       "       <use x=\"317.431641\" xlink:href=\"#DejaVuSans-55\"/>\r\n",
       "       <use x=\"381.054688\" xlink:href=\"#DejaVuSans-46\"/>\r\n",
       "      </g>\r\n",
       "     </g>\r\n",
       "    </g>\r\n",
       "    <g id=\"xtick_8\">\r\n",
       "     <g id=\"line2d_15\">\r\n",
       "      <path clip-path=\"url(#pbdd25f7e61)\" d=\"M 241.992396 282.581396 \r\n",
       "L 241.992396 32.396875 \r\n",
       "\" style=\"fill:none;stroke:#b0b0b0;stroke-linecap:square;stroke-width:0.8;\"/>\r\n",
       "     </g>\r\n",
       "     <g id=\"line2d_16\">\r\n",
       "      <g>\r\n",
       "       <use style=\"stroke:#000000;stroke-width:0.8;\" x=\"241.992396\" xlink:href=\"#m33ecb87eb9\" y=\"282.581396\"/>\r\n",
       "      </g>\r\n",
       "     </g>\r\n",
       "     <g id=\"text_8\">\r\n",
       "      <!-- Mon, 08. -->\r\n",
       "      <defs>\r\n",
       "       <path d=\"M 31.78125 34.625 \r\n",
       "Q 24.75 34.625 20.71875 30.859375 \r\n",
       "Q 16.703125 27.09375 16.703125 20.515625 \r\n",
       "Q 16.703125 13.921875 20.71875 10.15625 \r\n",
       "Q 24.75 6.390625 31.78125 6.390625 \r\n",
       "Q 38.8125 6.390625 42.859375 10.171875 \r\n",
       "Q 46.921875 13.96875 46.921875 20.515625 \r\n",
       "Q 46.921875 27.09375 42.890625 30.859375 \r\n",
       "Q 38.875 34.625 31.78125 34.625 \r\n",
       "z\r\n",
       "M 21.921875 38.8125 \r\n",
       "Q 15.578125 40.375 12.03125 44.71875 \r\n",
       "Q 8.5 49.078125 8.5 55.328125 \r\n",
       "Q 8.5 64.0625 14.71875 69.140625 \r\n",
       "Q 20.953125 74.21875 31.78125 74.21875 \r\n",
       "Q 42.671875 74.21875 48.875 69.140625 \r\n",
       "Q 55.078125 64.0625 55.078125 55.328125 \r\n",
       "Q 55.078125 49.078125 51.53125 44.71875 \r\n",
       "Q 48 40.375 41.703125 38.8125 \r\n",
       "Q 48.828125 37.15625 52.796875 32.3125 \r\n",
       "Q 56.78125 27.484375 56.78125 20.515625 \r\n",
       "Q 56.78125 9.90625 50.3125 4.234375 \r\n",
       "Q 43.84375 -1.421875 31.78125 -1.421875 \r\n",
       "Q 19.734375 -1.421875 13.25 4.234375 \r\n",
       "Q 6.78125 9.90625 6.78125 20.515625 \r\n",
       "Q 6.78125 27.484375 10.78125 32.3125 \r\n",
       "Q 14.796875 37.15625 21.921875 38.8125 \r\n",
       "z\r\n",
       "M 18.3125 54.390625 \r\n",
       "Q 18.3125 48.734375 21.84375 45.5625 \r\n",
       "Q 25.390625 42.390625 31.78125 42.390625 \r\n",
       "Q 38.140625 42.390625 41.71875 45.5625 \r\n",
       "Q 45.3125 48.734375 45.3125 54.390625 \r\n",
       "Q 45.3125 60.0625 41.71875 63.234375 \r\n",
       "Q 38.140625 66.40625 31.78125 66.40625 \r\n",
       "Q 25.390625 66.40625 21.84375 63.234375 \r\n",
       "Q 18.3125 60.0625 18.3125 54.390625 \r\n",
       "z\r\n",
       "\" id=\"DejaVuSans-56\"/>\r\n",
       "      </defs>\r\n",
       "      <g transform=\"translate(215.427862 328.944802)rotate(-55)scale(0.1 -0.1)\">\r\n",
       "       <use xlink:href=\"#DejaVuSans-77\"/>\r\n",
       "       <use x=\"86.279297\" xlink:href=\"#DejaVuSans-111\"/>\r\n",
       "       <use x=\"147.460938\" xlink:href=\"#DejaVuSans-110\"/>\r\n",
       "       <use x=\"210.839844\" xlink:href=\"#DejaVuSans-44\"/>\r\n",
       "       <use x=\"242.626953\" xlink:href=\"#DejaVuSans-32\"/>\r\n",
       "       <use x=\"274.414062\" xlink:href=\"#DejaVuSans-48\"/>\r\n",
       "       <use x=\"338.037109\" xlink:href=\"#DejaVuSans-56\"/>\r\n",
       "       <use x=\"401.660156\" xlink:href=\"#DejaVuSans-46\"/>\r\n",
       "      </g>\r\n",
       "     </g>\r\n",
       "    </g>\r\n",
       "    <g id=\"xtick_9\">\r\n",
       "     <g id=\"line2d_17\">\r\n",
       "      <path clip-path=\"url(#pbdd25f7e61)\" d=\"M 270.762292 282.581396 \r\n",
       "L 270.762292 32.396875 \r\n",
       "\" style=\"fill:none;stroke:#b0b0b0;stroke-linecap:square;stroke-width:0.8;\"/>\r\n",
       "     </g>\r\n",
       "     <g id=\"line2d_18\">\r\n",
       "      <g>\r\n",
       "       <use style=\"stroke:#000000;stroke-width:0.8;\" x=\"270.762292\" xlink:href=\"#m33ecb87eb9\" y=\"282.581396\"/>\r\n",
       "      </g>\r\n",
       "     </g>\r\n",
       "     <g id=\"text_9\">\r\n",
       "      <!-- Tue, 09. -->\r\n",
       "      <defs>\r\n",
       "       <path d=\"M 10.984375 1.515625 \r\n",
       "L 10.984375 10.5 \r\n",
       "Q 14.703125 8.734375 18.5 7.8125 \r\n",
       "Q 22.3125 6.890625 25.984375 6.890625 \r\n",
       "Q 35.75 6.890625 40.890625 13.453125 \r\n",
       "Q 46.046875 20.015625 46.78125 33.40625 \r\n",
       "Q 43.953125 29.203125 39.59375 26.953125 \r\n",
       "Q 35.25 24.703125 29.984375 24.703125 \r\n",
       "Q 19.046875 24.703125 12.671875 31.3125 \r\n",
       "Q 6.296875 37.9375 6.296875 49.421875 \r\n",
       "Q 6.296875 60.640625 12.9375 67.421875 \r\n",
       "Q 19.578125 74.21875 30.609375 74.21875 \r\n",
       "Q 43.265625 74.21875 49.921875 64.515625 \r\n",
       "Q 56.59375 54.828125 56.59375 36.375 \r\n",
       "Q 56.59375 19.140625 48.40625 8.859375 \r\n",
       "Q 40.234375 -1.421875 26.421875 -1.421875 \r\n",
       "Q 22.703125 -1.421875 18.890625 -0.6875 \r\n",
       "Q 15.09375 0.046875 10.984375 1.515625 \r\n",
       "z\r\n",
       "M 30.609375 32.421875 \r\n",
       "Q 37.25 32.421875 41.125 36.953125 \r\n",
       "Q 45.015625 41.5 45.015625 49.421875 \r\n",
       "Q 45.015625 57.28125 41.125 61.84375 \r\n",
       "Q 37.25 66.40625 30.609375 66.40625 \r\n",
       "Q 23.96875 66.40625 20.09375 61.84375 \r\n",
       "Q 16.21875 57.28125 16.21875 49.421875 \r\n",
       "Q 16.21875 41.5 20.09375 36.953125 \r\n",
       "Q 23.96875 32.421875 30.609375 32.421875 \r\n",
       "z\r\n",
       "\" id=\"DejaVuSans-57\"/>\r\n",
       "      </defs>\r\n",
       "      <g transform=\"translate(245.637076 326.889243)rotate(-55)scale(0.1 -0.1)\">\r\n",
       "       <use xlink:href=\"#DejaVuSans-84\"/>\r\n",
       "       <use x=\"60.849609\" xlink:href=\"#DejaVuSans-117\"/>\r\n",
       "       <use x=\"124.228516\" xlink:href=\"#DejaVuSans-101\"/>\r\n",
       "       <use x=\"185.751953\" xlink:href=\"#DejaVuSans-44\"/>\r\n",
       "       <use x=\"217.539062\" xlink:href=\"#DejaVuSans-32\"/>\r\n",
       "       <use x=\"249.326172\" xlink:href=\"#DejaVuSans-48\"/>\r\n",
       "       <use x=\"312.949219\" xlink:href=\"#DejaVuSans-57\"/>\r\n",
       "       <use x=\"376.572266\" xlink:href=\"#DejaVuSans-46\"/>\r\n",
       "      </g>\r\n",
       "     </g>\r\n",
       "    </g>\r\n",
       "    <g id=\"xtick_10\">\r\n",
       "     <g id=\"line2d_19\">\r\n",
       "      <path clip-path=\"url(#pbdd25f7e61)\" d=\"M 299.532187 282.581396 \r\n",
       "L 299.532187 32.396875 \r\n",
       "\" style=\"fill:none;stroke:#b0b0b0;stroke-linecap:square;stroke-width:0.8;\"/>\r\n",
       "     </g>\r\n",
       "     <g id=\"line2d_20\">\r\n",
       "      <g>\r\n",
       "       <use style=\"stroke:#000000;stroke-width:0.8;\" x=\"299.532187\" xlink:href=\"#m33ecb87eb9\" y=\"282.581396\"/>\r\n",
       "      </g>\r\n",
       "     </g>\r\n",
       "     <g id=\"text_10\">\r\n",
       "      <!-- Wed, 10. -->\r\n",
       "      <g transform=\"translate(272.223797 330.00714)rotate(-55)scale(0.1 -0.1)\">\r\n",
       "       <use xlink:href=\"#DejaVuSans-87\"/>\r\n",
       "       <use x=\"98.798828\" xlink:href=\"#DejaVuSans-101\"/>\r\n",
       "       <use x=\"160.322266\" xlink:href=\"#DejaVuSans-100\"/>\r\n",
       "       <use x=\"223.798828\" xlink:href=\"#DejaVuSans-44\"/>\r\n",
       "       <use x=\"255.585938\" xlink:href=\"#DejaVuSans-32\"/>\r\n",
       "       <use x=\"287.373047\" xlink:href=\"#DejaVuSans-49\"/>\r\n",
       "       <use x=\"350.996094\" xlink:href=\"#DejaVuSans-48\"/>\r\n",
       "       <use x=\"414.619141\" xlink:href=\"#DejaVuSans-46\"/>\r\n",
       "      </g>\r\n",
       "     </g>\r\n",
       "    </g>\r\n",
       "    <g id=\"xtick_11\">\r\n",
       "     <g id=\"line2d_21\">\r\n",
       "      <path clip-path=\"url(#pbdd25f7e61)\" d=\"M 328.302083 282.581396 \r\n",
       "L 328.302083 32.396875 \r\n",
       "\" style=\"fill:none;stroke:#b0b0b0;stroke-linecap:square;stroke-width:0.8;\"/>\r\n",
       "     </g>\r\n",
       "     <g id=\"line2d_22\">\r\n",
       "      <g>\r\n",
       "       <use style=\"stroke:#000000;stroke-width:0.8;\" x=\"328.302083\" xlink:href=\"#m33ecb87eb9\" y=\"282.581396\"/>\r\n",
       "      </g>\r\n",
       "     </g>\r\n",
       "     <g id=\"text_11\">\r\n",
       "      <!-- Thu, 11. -->\r\n",
       "      <g transform=\"translate(303.057671 327.059473)rotate(-55)scale(0.1 -0.1)\">\r\n",
       "       <use xlink:href=\"#DejaVuSans-84\"/>\r\n",
       "       <use x=\"61.083984\" xlink:href=\"#DejaVuSans-104\"/>\r\n",
       "       <use x=\"124.462891\" xlink:href=\"#DejaVuSans-117\"/>\r\n",
       "       <use x=\"187.841797\" xlink:href=\"#DejaVuSans-44\"/>\r\n",
       "       <use x=\"219.628906\" xlink:href=\"#DejaVuSans-32\"/>\r\n",
       "       <use x=\"251.416016\" xlink:href=\"#DejaVuSans-49\"/>\r\n",
       "       <use x=\"315.039062\" xlink:href=\"#DejaVuSans-49\"/>\r\n",
       "       <use x=\"378.662109\" xlink:href=\"#DejaVuSans-46\"/>\r\n",
       "      </g>\r\n",
       "     </g>\r\n",
       "    </g>\r\n",
       "    <g id=\"xtick_12\">\r\n",
       "     <g id=\"line2d_23\">\r\n",
       "      <path clip-path=\"url(#pbdd25f7e61)\" d=\"M 357.071979 282.581396 \r\n",
       "L 357.071979 32.396875 \r\n",
       "\" style=\"fill:none;stroke:#b0b0b0;stroke-linecap:square;stroke-width:0.8;\"/>\r\n",
       "     </g>\r\n",
       "     <g id=\"line2d_24\">\r\n",
       "      <g>\r\n",
       "       <use style=\"stroke:#000000;stroke-width:0.8;\" x=\"357.071979\" xlink:href=\"#m33ecb87eb9\" y=\"282.581396\"/>\r\n",
       "      </g>\r\n",
       "     </g>\r\n",
       "     <g id=\"text_12\">\r\n",
       "      <!-- Fri, 12. -->\r\n",
       "      <g transform=\"translate(335.356855 322.019128)rotate(-55)scale(0.1 -0.1)\">\r\n",
       "       <use xlink:href=\"#DejaVuSans-70\"/>\r\n",
       "       <use x=\"57.410156\" xlink:href=\"#DejaVuSans-114\"/>\r\n",
       "       <use x=\"98.523438\" xlink:href=\"#DejaVuSans-105\"/>\r\n",
       "       <use x=\"126.306641\" xlink:href=\"#DejaVuSans-44\"/>\r\n",
       "       <use x=\"158.09375\" xlink:href=\"#DejaVuSans-32\"/>\r\n",
       "       <use x=\"189.880859\" xlink:href=\"#DejaVuSans-49\"/>\r\n",
       "       <use x=\"253.503906\" xlink:href=\"#DejaVuSans-50\"/>\r\n",
       "       <use x=\"317.126953\" xlink:href=\"#DejaVuSans-46\"/>\r\n",
       "      </g>\r\n",
       "     </g>\r\n",
       "    </g>\r\n",
       "    <g id=\"xtick_13\">\r\n",
       "     <g id=\"line2d_25\">\r\n",
       "      <path clip-path=\"url(#pbdd25f7e61)\" d=\"M 385.841875 282.581396 \r\n",
       "L 385.841875 32.396875 \r\n",
       "\" style=\"fill:none;stroke:#b0b0b0;stroke-linecap:square;stroke-width:0.8;\"/>\r\n",
       "     </g>\r\n",
       "     <g id=\"line2d_26\">\r\n",
       "      <g>\r\n",
       "       <use style=\"stroke:#000000;stroke-width:0.8;\" x=\"385.841875\" xlink:href=\"#m33ecb87eb9\" y=\"282.581396\"/>\r\n",
       "      </g>\r\n",
       "     </g>\r\n",
       "     <g id=\"text_13\">\r\n",
       "      <!-- Sat, 13. -->\r\n",
       "      <g transform=\"translate(361.965981 325.105027)rotate(-55)scale(0.1 -0.1)\">\r\n",
       "       <use xlink:href=\"#DejaVuSans-83\"/>\r\n",
       "       <use x=\"63.476562\" xlink:href=\"#DejaVuSans-97\"/>\r\n",
       "       <use x=\"124.755859\" xlink:href=\"#DejaVuSans-116\"/>\r\n",
       "       <use x=\"163.964844\" xlink:href=\"#DejaVuSans-44\"/>\r\n",
       "       <use x=\"195.751953\" xlink:href=\"#DejaVuSans-32\"/>\r\n",
       "       <use x=\"227.539062\" xlink:href=\"#DejaVuSans-49\"/>\r\n",
       "       <use x=\"291.162109\" xlink:href=\"#DejaVuSans-51\"/>\r\n",
       "       <use x=\"354.785156\" xlink:href=\"#DejaVuSans-46\"/>\r\n",
       "      </g>\r\n",
       "     </g>\r\n",
       "    </g>\r\n",
       "    <g id=\"xtick_14\">\r\n",
       "     <g id=\"line2d_27\">\r\n",
       "      <path clip-path=\"url(#pbdd25f7e61)\" d=\"M 414.611771 282.581396 \r\n",
       "L 414.611771 32.396875 \r\n",
       "\" style=\"fill:none;stroke:#b0b0b0;stroke-linecap:square;stroke-width:0.8;\"/>\r\n",
       "     </g>\r\n",
       "     <g id=\"line2d_28\">\r\n",
       "      <g>\r\n",
       "       <use style=\"stroke:#000000;stroke-width:0.8;\" x=\"414.611771\" xlink:href=\"#m33ecb87eb9\" y=\"282.581396\"/>\r\n",
       "      </g>\r\n",
       "     </g>\r\n",
       "     <g id=\"text_14\">\r\n",
       "      <!-- Sun, 14. -->\r\n",
       "      <g transform=\"translate(389.229342 327.256581)rotate(-55)scale(0.1 -0.1)\">\r\n",
       "       <use xlink:href=\"#DejaVuSans-83\"/>\r\n",
       "       <use x=\"63.476562\" xlink:href=\"#DejaVuSans-117\"/>\r\n",
       "       <use x=\"126.855469\" xlink:href=\"#DejaVuSans-110\"/>\r\n",
       "       <use x=\"190.234375\" xlink:href=\"#DejaVuSans-44\"/>\r\n",
       "       <use x=\"222.021484\" xlink:href=\"#DejaVuSans-32\"/>\r\n",
       "       <use x=\"253.808594\" xlink:href=\"#DejaVuSans-49\"/>\r\n",
       "       <use x=\"317.431641\" xlink:href=\"#DejaVuSans-52\"/>\r\n",
       "       <use x=\"381.054688\" xlink:href=\"#DejaVuSans-46\"/>\r\n",
       "      </g>\r\n",
       "     </g>\r\n",
       "    </g>\r\n",
       "    <g id=\"xtick_15\">\r\n",
       "     <g id=\"line2d_29\">\r\n",
       "      <path clip-path=\"url(#pbdd25f7e61)\" d=\"M 443.381667 282.581396 \r\n",
       "L 443.381667 32.396875 \r\n",
       "\" style=\"fill:none;stroke:#b0b0b0;stroke-linecap:square;stroke-width:0.8;\"/>\r\n",
       "     </g>\r\n",
       "     <g id=\"line2d_30\">\r\n",
       "      <g>\r\n",
       "       <use style=\"stroke:#000000;stroke-width:0.8;\" x=\"443.381667\" xlink:href=\"#m33ecb87eb9\" y=\"282.581396\"/>\r\n",
       "      </g>\r\n",
       "     </g>\r\n",
       "     <g id=\"text_15\">\r\n",
       "      <!-- Mon, 15. -->\r\n",
       "      <g transform=\"translate(416.817133 328.944802)rotate(-55)scale(0.1 -0.1)\">\r\n",
       "       <use xlink:href=\"#DejaVuSans-77\"/>\r\n",
       "       <use x=\"86.279297\" xlink:href=\"#DejaVuSans-111\"/>\r\n",
       "       <use x=\"147.460938\" xlink:href=\"#DejaVuSans-110\"/>\r\n",
       "       <use x=\"210.839844\" xlink:href=\"#DejaVuSans-44\"/>\r\n",
       "       <use x=\"242.626953\" xlink:href=\"#DejaVuSans-32\"/>\r\n",
       "       <use x=\"274.414062\" xlink:href=\"#DejaVuSans-49\"/>\r\n",
       "       <use x=\"338.037109\" xlink:href=\"#DejaVuSans-53\"/>\r\n",
       "       <use x=\"401.660156\" xlink:href=\"#DejaVuSans-46\"/>\r\n",
       "      </g>\r\n",
       "     </g>\r\n",
       "    </g>\r\n",
       "    <g id=\"xtick_16\">\r\n",
       "     <g id=\"line2d_31\">\r\n",
       "      <path clip-path=\"url(#pbdd25f7e61)\" d=\"M 472.151562 282.581396 \r\n",
       "L 472.151562 32.396875 \r\n",
       "\" style=\"fill:none;stroke:#b0b0b0;stroke-linecap:square;stroke-width:0.8;\"/>\r\n",
       "     </g>\r\n",
       "     <g id=\"line2d_32\">\r\n",
       "      <g>\r\n",
       "       <use style=\"stroke:#000000;stroke-width:0.8;\" x=\"472.151562\" xlink:href=\"#m33ecb87eb9\" y=\"282.581396\"/>\r\n",
       "      </g>\r\n",
       "     </g>\r\n",
       "     <g id=\"text_16\">\r\n",
       "      <!-- Tue, 16. -->\r\n",
       "      <g transform=\"translate(447.026347 326.889243)rotate(-55)scale(0.1 -0.1)\">\r\n",
       "       <use xlink:href=\"#DejaVuSans-84\"/>\r\n",
       "       <use x=\"60.849609\" xlink:href=\"#DejaVuSans-117\"/>\r\n",
       "       <use x=\"124.228516\" xlink:href=\"#DejaVuSans-101\"/>\r\n",
       "       <use x=\"185.751953\" xlink:href=\"#DejaVuSans-44\"/>\r\n",
       "       <use x=\"217.539062\" xlink:href=\"#DejaVuSans-32\"/>\r\n",
       "       <use x=\"249.326172\" xlink:href=\"#DejaVuSans-49\"/>\r\n",
       "       <use x=\"312.949219\" xlink:href=\"#DejaVuSans-54\"/>\r\n",
       "       <use x=\"376.572266\" xlink:href=\"#DejaVuSans-46\"/>\r\n",
       "      </g>\r\n",
       "     </g>\r\n",
       "    </g>\r\n",
       "    <g id=\"xtick_17\">\r\n",
       "     <g id=\"line2d_33\">\r\n",
       "      <path clip-path=\"url(#pbdd25f7e61)\" d=\"M 500.921458 282.581396 \r\n",
       "L 500.921458 32.396875 \r\n",
       "\" style=\"fill:none;stroke:#b0b0b0;stroke-linecap:square;stroke-width:0.8;\"/>\r\n",
       "     </g>\r\n",
       "     <g id=\"line2d_34\">\r\n",
       "      <g>\r\n",
       "       <use style=\"stroke:#000000;stroke-width:0.8;\" x=\"500.921458\" xlink:href=\"#m33ecb87eb9\" y=\"282.581396\"/>\r\n",
       "      </g>\r\n",
       "     </g>\r\n",
       "     <g id=\"text_17\">\r\n",
       "      <!-- Wed, 17. -->\r\n",
       "      <g transform=\"translate(473.613067 330.00714)rotate(-55)scale(0.1 -0.1)\">\r\n",
       "       <use xlink:href=\"#DejaVuSans-87\"/>\r\n",
       "       <use x=\"98.798828\" xlink:href=\"#DejaVuSans-101\"/>\r\n",
       "       <use x=\"160.322266\" xlink:href=\"#DejaVuSans-100\"/>\r\n",
       "       <use x=\"223.798828\" xlink:href=\"#DejaVuSans-44\"/>\r\n",
       "       <use x=\"255.585938\" xlink:href=\"#DejaVuSans-32\"/>\r\n",
       "       <use x=\"287.373047\" xlink:href=\"#DejaVuSans-49\"/>\r\n",
       "       <use x=\"350.996094\" xlink:href=\"#DejaVuSans-55\"/>\r\n",
       "       <use x=\"414.619141\" xlink:href=\"#DejaVuSans-46\"/>\r\n",
       "      </g>\r\n",
       "     </g>\r\n",
       "    </g>\r\n",
       "    <g id=\"xtick_18\">\r\n",
       "     <g id=\"line2d_35\">\r\n",
       "      <path clip-path=\"url(#pbdd25f7e61)\" d=\"M 529.691354 282.581396 \r\n",
       "L 529.691354 32.396875 \r\n",
       "\" style=\"fill:none;stroke:#b0b0b0;stroke-linecap:square;stroke-width:0.8;\"/>\r\n",
       "     </g>\r\n",
       "     <g id=\"line2d_36\">\r\n",
       "      <g>\r\n",
       "       <use style=\"stroke:#000000;stroke-width:0.8;\" x=\"529.691354\" xlink:href=\"#m33ecb87eb9\" y=\"282.581396\"/>\r\n",
       "      </g>\r\n",
       "     </g>\r\n",
       "     <g id=\"text_18\">\r\n",
       "      <!-- Thu, 18. -->\r\n",
       "      <g transform=\"translate(504.446942 327.059473)rotate(-55)scale(0.1 -0.1)\">\r\n",
       "       <use xlink:href=\"#DejaVuSans-84\"/>\r\n",
       "       <use x=\"61.083984\" xlink:href=\"#DejaVuSans-104\"/>\r\n",
       "       <use x=\"124.462891\" xlink:href=\"#DejaVuSans-117\"/>\r\n",
       "       <use x=\"187.841797\" xlink:href=\"#DejaVuSans-44\"/>\r\n",
       "       <use x=\"219.628906\" xlink:href=\"#DejaVuSans-32\"/>\r\n",
       "       <use x=\"251.416016\" xlink:href=\"#DejaVuSans-49\"/>\r\n",
       "       <use x=\"315.039062\" xlink:href=\"#DejaVuSans-56\"/>\r\n",
       "       <use x=\"378.662109\" xlink:href=\"#DejaVuSans-46\"/>\r\n",
       "      </g>\r\n",
       "     </g>\r\n",
       "    </g>\r\n",
       "    <g id=\"xtick_19\">\r\n",
       "     <g id=\"line2d_37\">\r\n",
       "      <path clip-path=\"url(#pbdd25f7e61)\" d=\"M 558.46125 282.581396 \r\n",
       "L 558.46125 32.396875 \r\n",
       "\" style=\"fill:none;stroke:#b0b0b0;stroke-linecap:square;stroke-width:0.8;\"/>\r\n",
       "     </g>\r\n",
       "     <g id=\"line2d_38\">\r\n",
       "      <g>\r\n",
       "       <use style=\"stroke:#000000;stroke-width:0.8;\" x=\"558.46125\" xlink:href=\"#m33ecb87eb9\" y=\"282.581396\"/>\r\n",
       "      </g>\r\n",
       "     </g>\r\n",
       "     <g id=\"text_19\">\r\n",
       "      <!-- Fri, 19. -->\r\n",
       "      <g transform=\"translate(536.746126 322.019128)rotate(-55)scale(0.1 -0.1)\">\r\n",
       "       <use xlink:href=\"#DejaVuSans-70\"/>\r\n",
       "       <use x=\"57.410156\" xlink:href=\"#DejaVuSans-114\"/>\r\n",
       "       <use x=\"98.523438\" xlink:href=\"#DejaVuSans-105\"/>\r\n",
       "       <use x=\"126.306641\" xlink:href=\"#DejaVuSans-44\"/>\r\n",
       "       <use x=\"158.09375\" xlink:href=\"#DejaVuSans-32\"/>\r\n",
       "       <use x=\"189.880859\" xlink:href=\"#DejaVuSans-49\"/>\r\n",
       "       <use x=\"253.503906\" xlink:href=\"#DejaVuSans-57\"/>\r\n",
       "       <use x=\"317.126953\" xlink:href=\"#DejaVuSans-46\"/>\r\n",
       "      </g>\r\n",
       "     </g>\r\n",
       "    </g>\r\n",
       "    <g id=\"xtick_20\">\r\n",
       "     <g id=\"line2d_39\">\r\n",
       "      <path clip-path=\"url(#pbdd25f7e61)\" d=\"M 587.231146 282.581396 \r\n",
       "L 587.231146 32.396875 \r\n",
       "\" style=\"fill:none;stroke:#b0b0b0;stroke-linecap:square;stroke-width:0.8;\"/>\r\n",
       "     </g>\r\n",
       "     <g id=\"line2d_40\">\r\n",
       "      <g>\r\n",
       "       <use style=\"stroke:#000000;stroke-width:0.8;\" x=\"587.231146\" xlink:href=\"#m33ecb87eb9\" y=\"282.581396\"/>\r\n",
       "      </g>\r\n",
       "     </g>\r\n",
       "     <g id=\"text_20\">\r\n",
       "      <!-- Sat, 20. -->\r\n",
       "      <g transform=\"translate(563.355251 325.105027)rotate(-55)scale(0.1 -0.1)\">\r\n",
       "       <use xlink:href=\"#DejaVuSans-83\"/>\r\n",
       "       <use x=\"63.476562\" xlink:href=\"#DejaVuSans-97\"/>\r\n",
       "       <use x=\"124.755859\" xlink:href=\"#DejaVuSans-116\"/>\r\n",
       "       <use x=\"163.964844\" xlink:href=\"#DejaVuSans-44\"/>\r\n",
       "       <use x=\"195.751953\" xlink:href=\"#DejaVuSans-32\"/>\r\n",
       "       <use x=\"227.539062\" xlink:href=\"#DejaVuSans-50\"/>\r\n",
       "       <use x=\"291.162109\" xlink:href=\"#DejaVuSans-48\"/>\r\n",
       "       <use x=\"354.785156\" xlink:href=\"#DejaVuSans-46\"/>\r\n",
       "      </g>\r\n",
       "     </g>\r\n",
       "    </g>\r\n",
       "    <g id=\"xtick_21\">\r\n",
       "     <g id=\"line2d_41\">\r\n",
       "      <path clip-path=\"url(#pbdd25f7e61)\" d=\"M 616.001042 282.581396 \r\n",
       "L 616.001042 32.396875 \r\n",
       "\" style=\"fill:none;stroke:#b0b0b0;stroke-linecap:square;stroke-width:0.8;\"/>\r\n",
       "     </g>\r\n",
       "     <g id=\"line2d_42\">\r\n",
       "      <g>\r\n",
       "       <use style=\"stroke:#000000;stroke-width:0.8;\" x=\"616.001042\" xlink:href=\"#m33ecb87eb9\" y=\"282.581396\"/>\r\n",
       "      </g>\r\n",
       "     </g>\r\n",
       "     <g id=\"text_21\">\r\n",
       "      <!-- Sun, 21. -->\r\n",
       "      <g transform=\"translate(590.618613 327.256581)rotate(-55)scale(0.1 -0.1)\">\r\n",
       "       <use xlink:href=\"#DejaVuSans-83\"/>\r\n",
       "       <use x=\"63.476562\" xlink:href=\"#DejaVuSans-117\"/>\r\n",
       "       <use x=\"126.855469\" xlink:href=\"#DejaVuSans-110\"/>\r\n",
       "       <use x=\"190.234375\" xlink:href=\"#DejaVuSans-44\"/>\r\n",
       "       <use x=\"222.021484\" xlink:href=\"#DejaVuSans-32\"/>\r\n",
       "       <use x=\"253.808594\" xlink:href=\"#DejaVuSans-50\"/>\r\n",
       "       <use x=\"317.431641\" xlink:href=\"#DejaVuSans-49\"/>\r\n",
       "       <use x=\"381.054688\" xlink:href=\"#DejaVuSans-46\"/>\r\n",
       "      </g>\r\n",
       "     </g>\r\n",
       "    </g>\r\n",
       "    <g id=\"xtick_22\">\r\n",
       "     <g id=\"line2d_43\">\r\n",
       "      <path clip-path=\"url(#pbdd25f7e61)\" d=\"M 644.770937 282.581396 \r\n",
       "L 644.770937 32.396875 \r\n",
       "\" style=\"fill:none;stroke:#b0b0b0;stroke-linecap:square;stroke-width:0.8;\"/>\r\n",
       "     </g>\r\n",
       "     <g id=\"line2d_44\">\r\n",
       "      <g>\r\n",
       "       <use style=\"stroke:#000000;stroke-width:0.8;\" x=\"644.770937\" xlink:href=\"#m33ecb87eb9\" y=\"282.581396\"/>\r\n",
       "      </g>\r\n",
       "     </g>\r\n",
       "     <g id=\"text_22\">\r\n",
       "      <!-- Mon, 22. -->\r\n",
       "      <g transform=\"translate(618.206404 328.944802)rotate(-55)scale(0.1 -0.1)\">\r\n",
       "       <use xlink:href=\"#DejaVuSans-77\"/>\r\n",
       "       <use x=\"86.279297\" xlink:href=\"#DejaVuSans-111\"/>\r\n",
       "       <use x=\"147.460938\" xlink:href=\"#DejaVuSans-110\"/>\r\n",
       "       <use x=\"210.839844\" xlink:href=\"#DejaVuSans-44\"/>\r\n",
       "       <use x=\"242.626953\" xlink:href=\"#DejaVuSans-32\"/>\r\n",
       "       <use x=\"274.414062\" xlink:href=\"#DejaVuSans-50\"/>\r\n",
       "       <use x=\"338.037109\" xlink:href=\"#DejaVuSans-50\"/>\r\n",
       "       <use x=\"401.660156\" xlink:href=\"#DejaVuSans-46\"/>\r\n",
       "      </g>\r\n",
       "     </g>\r\n",
       "    </g>\r\n",
       "    <g id=\"xtick_23\">\r\n",
       "     <g id=\"line2d_45\">\r\n",
       "      <path clip-path=\"url(#pbdd25f7e61)\" d=\"M 673.540833 282.581396 \r\n",
       "L 673.540833 32.396875 \r\n",
       "\" style=\"fill:none;stroke:#b0b0b0;stroke-linecap:square;stroke-width:0.8;\"/>\r\n",
       "     </g>\r\n",
       "     <g id=\"line2d_46\">\r\n",
       "      <g>\r\n",
       "       <use style=\"stroke:#000000;stroke-width:0.8;\" x=\"673.540833\" xlink:href=\"#m33ecb87eb9\" y=\"282.581396\"/>\r\n",
       "      </g>\r\n",
       "     </g>\r\n",
       "     <g id=\"text_23\">\r\n",
       "      <!-- Tue, 23. -->\r\n",
       "      <g transform=\"translate(648.415618 326.889243)rotate(-55)scale(0.1 -0.1)\">\r\n",
       "       <use xlink:href=\"#DejaVuSans-84\"/>\r\n",
       "       <use x=\"60.849609\" xlink:href=\"#DejaVuSans-117\"/>\r\n",
       "       <use x=\"124.228516\" xlink:href=\"#DejaVuSans-101\"/>\r\n",
       "       <use x=\"185.751953\" xlink:href=\"#DejaVuSans-44\"/>\r\n",
       "       <use x=\"217.539062\" xlink:href=\"#DejaVuSans-32\"/>\r\n",
       "       <use x=\"249.326172\" xlink:href=\"#DejaVuSans-50\"/>\r\n",
       "       <use x=\"312.949219\" xlink:href=\"#DejaVuSans-51\"/>\r\n",
       "       <use x=\"376.572266\" xlink:href=\"#DejaVuSans-46\"/>\r\n",
       "      </g>\r\n",
       "     </g>\r\n",
       "    </g>\r\n",
       "    <g id=\"xtick_24\">\r\n",
       "     <g id=\"line2d_47\">\r\n",
       "      <path clip-path=\"url(#pbdd25f7e61)\" d=\"M 702.310729 282.581396 \r\n",
       "L 702.310729 32.396875 \r\n",
       "\" style=\"fill:none;stroke:#b0b0b0;stroke-linecap:square;stroke-width:0.8;\"/>\r\n",
       "     </g>\r\n",
       "     <g id=\"line2d_48\">\r\n",
       "      <g>\r\n",
       "       <use style=\"stroke:#000000;stroke-width:0.8;\" x=\"702.310729\" xlink:href=\"#m33ecb87eb9\" y=\"282.581396\"/>\r\n",
       "      </g>\r\n",
       "     </g>\r\n",
       "     <g id=\"text_24\">\r\n",
       "      <!-- Wed, 24. -->\r\n",
       "      <g transform=\"translate(675.002338 330.00714)rotate(-55)scale(0.1 -0.1)\">\r\n",
       "       <use xlink:href=\"#DejaVuSans-87\"/>\r\n",
       "       <use x=\"98.798828\" xlink:href=\"#DejaVuSans-101\"/>\r\n",
       "       <use x=\"160.322266\" xlink:href=\"#DejaVuSans-100\"/>\r\n",
       "       <use x=\"223.798828\" xlink:href=\"#DejaVuSans-44\"/>\r\n",
       "       <use x=\"255.585938\" xlink:href=\"#DejaVuSans-32\"/>\r\n",
       "       <use x=\"287.373047\" xlink:href=\"#DejaVuSans-50\"/>\r\n",
       "       <use x=\"350.996094\" xlink:href=\"#DejaVuSans-52\"/>\r\n",
       "       <use x=\"414.619141\" xlink:href=\"#DejaVuSans-46\"/>\r\n",
       "      </g>\r\n",
       "     </g>\r\n",
       "    </g>\r\n",
       "    <g id=\"xtick_25\">\r\n",
       "     <g id=\"line2d_49\">\r\n",
       "      <path clip-path=\"url(#pbdd25f7e61)\" d=\"M 731.080625 282.581396 \r\n",
       "L 731.080625 32.396875 \r\n",
       "\" style=\"fill:none;stroke:#b0b0b0;stroke-linecap:square;stroke-width:0.8;\"/>\r\n",
       "     </g>\r\n",
       "     <g id=\"line2d_50\">\r\n",
       "      <g>\r\n",
       "       <use style=\"stroke:#000000;stroke-width:0.8;\" x=\"731.080625\" xlink:href=\"#m33ecb87eb9\" y=\"282.581396\"/>\r\n",
       "      </g>\r\n",
       "     </g>\r\n",
       "     <g id=\"text_25\">\r\n",
       "      <!-- Thu, 25. -->\r\n",
       "      <g transform=\"translate(705.836213 327.059473)rotate(-55)scale(0.1 -0.1)\">\r\n",
       "       <use xlink:href=\"#DejaVuSans-84\"/>\r\n",
       "       <use x=\"61.083984\" xlink:href=\"#DejaVuSans-104\"/>\r\n",
       "       <use x=\"124.462891\" xlink:href=\"#DejaVuSans-117\"/>\r\n",
       "       <use x=\"187.841797\" xlink:href=\"#DejaVuSans-44\"/>\r\n",
       "       <use x=\"219.628906\" xlink:href=\"#DejaVuSans-32\"/>\r\n",
       "       <use x=\"251.416016\" xlink:href=\"#DejaVuSans-50\"/>\r\n",
       "       <use x=\"315.039062\" xlink:href=\"#DejaVuSans-53\"/>\r\n",
       "       <use x=\"378.662109\" xlink:href=\"#DejaVuSans-46\"/>\r\n",
       "      </g>\r\n",
       "     </g>\r\n",
       "    </g>\r\n",
       "    <g id=\"xtick_26\">\r\n",
       "     <g id=\"line2d_51\">\r\n",
       "      <path clip-path=\"url(#pbdd25f7e61)\" d=\"M 759.850521 282.581396 \r\n",
       "L 759.850521 32.396875 \r\n",
       "\" style=\"fill:none;stroke:#b0b0b0;stroke-linecap:square;stroke-width:0.8;\"/>\r\n",
       "     </g>\r\n",
       "     <g id=\"line2d_52\">\r\n",
       "      <g>\r\n",
       "       <use style=\"stroke:#000000;stroke-width:0.8;\" x=\"759.850521\" xlink:href=\"#m33ecb87eb9\" y=\"282.581396\"/>\r\n",
       "      </g>\r\n",
       "     </g>\r\n",
       "     <g id=\"text_26\">\r\n",
       "      <!-- Fri, 26. -->\r\n",
       "      <g transform=\"translate(738.135396 322.019128)rotate(-55)scale(0.1 -0.1)\">\r\n",
       "       <use xlink:href=\"#DejaVuSans-70\"/>\r\n",
       "       <use x=\"57.410156\" xlink:href=\"#DejaVuSans-114\"/>\r\n",
       "       <use x=\"98.523438\" xlink:href=\"#DejaVuSans-105\"/>\r\n",
       "       <use x=\"126.306641\" xlink:href=\"#DejaVuSans-44\"/>\r\n",
       "       <use x=\"158.09375\" xlink:href=\"#DejaVuSans-32\"/>\r\n",
       "       <use x=\"189.880859\" xlink:href=\"#DejaVuSans-50\"/>\r\n",
       "       <use x=\"253.503906\" xlink:href=\"#DejaVuSans-54\"/>\r\n",
       "       <use x=\"317.126953\" xlink:href=\"#DejaVuSans-46\"/>\r\n",
       "      </g>\r\n",
       "     </g>\r\n",
       "    </g>\r\n",
       "    <g id=\"xtick_27\">\r\n",
       "     <g id=\"line2d_53\">\r\n",
       "      <path clip-path=\"url(#pbdd25f7e61)\" d=\"M 788.620417 282.581396 \r\n",
       "L 788.620417 32.396875 \r\n",
       "\" style=\"fill:none;stroke:#b0b0b0;stroke-linecap:square;stroke-width:0.8;\"/>\r\n",
       "     </g>\r\n",
       "     <g id=\"line2d_54\">\r\n",
       "      <g>\r\n",
       "       <use style=\"stroke:#000000;stroke-width:0.8;\" x=\"788.620417\" xlink:href=\"#m33ecb87eb9\" y=\"282.581396\"/>\r\n",
       "      </g>\r\n",
       "     </g>\r\n",
       "     <g id=\"text_27\">\r\n",
       "      <!-- Sat, 27. -->\r\n",
       "      <g transform=\"translate(764.744522 325.105027)rotate(-55)scale(0.1 -0.1)\">\r\n",
       "       <use xlink:href=\"#DejaVuSans-83\"/>\r\n",
       "       <use x=\"63.476562\" xlink:href=\"#DejaVuSans-97\"/>\r\n",
       "       <use x=\"124.755859\" xlink:href=\"#DejaVuSans-116\"/>\r\n",
       "       <use x=\"163.964844\" xlink:href=\"#DejaVuSans-44\"/>\r\n",
       "       <use x=\"195.751953\" xlink:href=\"#DejaVuSans-32\"/>\r\n",
       "       <use x=\"227.539062\" xlink:href=\"#DejaVuSans-50\"/>\r\n",
       "       <use x=\"291.162109\" xlink:href=\"#DejaVuSans-55\"/>\r\n",
       "       <use x=\"354.785156\" xlink:href=\"#DejaVuSans-46\"/>\r\n",
       "      </g>\r\n",
       "     </g>\r\n",
       "    </g>\r\n",
       "    <g id=\"xtick_28\">\r\n",
       "     <g id=\"line2d_55\">\r\n",
       "      <path clip-path=\"url(#pbdd25f7e61)\" d=\"M 817.390313 282.581396 \r\n",
       "L 817.390313 32.396875 \r\n",
       "\" style=\"fill:none;stroke:#b0b0b0;stroke-linecap:square;stroke-width:0.8;\"/>\r\n",
       "     </g>\r\n",
       "     <g id=\"line2d_56\">\r\n",
       "      <g>\r\n",
       "       <use style=\"stroke:#000000;stroke-width:0.8;\" x=\"817.390313\" xlink:href=\"#m33ecb87eb9\" y=\"282.581396\"/>\r\n",
       "      </g>\r\n",
       "     </g>\r\n",
       "     <g id=\"text_28\">\r\n",
       "      <!-- Sun, 28. -->\r\n",
       "      <g transform=\"translate(792.007884 327.256581)rotate(-55)scale(0.1 -0.1)\">\r\n",
       "       <use xlink:href=\"#DejaVuSans-83\"/>\r\n",
       "       <use x=\"63.476562\" xlink:href=\"#DejaVuSans-117\"/>\r\n",
       "       <use x=\"126.855469\" xlink:href=\"#DejaVuSans-110\"/>\r\n",
       "       <use x=\"190.234375\" xlink:href=\"#DejaVuSans-44\"/>\r\n",
       "       <use x=\"222.021484\" xlink:href=\"#DejaVuSans-32\"/>\r\n",
       "       <use x=\"253.808594\" xlink:href=\"#DejaVuSans-50\"/>\r\n",
       "       <use x=\"317.431641\" xlink:href=\"#DejaVuSans-56\"/>\r\n",
       "       <use x=\"381.054688\" xlink:href=\"#DejaVuSans-46\"/>\r\n",
       "      </g>\r\n",
       "     </g>\r\n",
       "    </g>\r\n",
       "    <g id=\"xtick_29\">\r\n",
       "     <g id=\"line2d_57\">\r\n",
       "      <path clip-path=\"url(#pbdd25f7e61)\" d=\"M 846.160208 282.581396 \r\n",
       "L 846.160208 32.396875 \r\n",
       "\" style=\"fill:none;stroke:#b0b0b0;stroke-linecap:square;stroke-width:0.8;\"/>\r\n",
       "     </g>\r\n",
       "     <g id=\"line2d_58\">\r\n",
       "      <g>\r\n",
       "       <use style=\"stroke:#000000;stroke-width:0.8;\" x=\"846.160208\" xlink:href=\"#m33ecb87eb9\" y=\"282.581396\"/>\r\n",
       "      </g>\r\n",
       "     </g>\r\n",
       "     <g id=\"text_29\">\r\n",
       "      <!-- Mon, 29. -->\r\n",
       "      <g transform=\"translate(819.595674 328.944802)rotate(-55)scale(0.1 -0.1)\">\r\n",
       "       <use xlink:href=\"#DejaVuSans-77\"/>\r\n",
       "       <use x=\"86.279297\" xlink:href=\"#DejaVuSans-111\"/>\r\n",
       "       <use x=\"147.460938\" xlink:href=\"#DejaVuSans-110\"/>\r\n",
       "       <use x=\"210.839844\" xlink:href=\"#DejaVuSans-44\"/>\r\n",
       "       <use x=\"242.626953\" xlink:href=\"#DejaVuSans-32\"/>\r\n",
       "       <use x=\"274.414062\" xlink:href=\"#DejaVuSans-50\"/>\r\n",
       "       <use x=\"338.037109\" xlink:href=\"#DejaVuSans-57\"/>\r\n",
       "       <use x=\"401.660156\" xlink:href=\"#DejaVuSans-46\"/>\r\n",
       "      </g>\r\n",
       "     </g>\r\n",
       "    </g>\r\n",
       "    <g id=\"xtick_30\">\r\n",
       "     <g id=\"line2d_59\">\r\n",
       "      <path clip-path=\"url(#pbdd25f7e61)\" d=\"M 874.930104 282.581396 \r\n",
       "L 874.930104 32.396875 \r\n",
       "\" style=\"fill:none;stroke:#b0b0b0;stroke-linecap:square;stroke-width:0.8;\"/>\r\n",
       "     </g>\r\n",
       "     <g id=\"line2d_60\">\r\n",
       "      <g>\r\n",
       "       <use style=\"stroke:#000000;stroke-width:0.8;\" x=\"874.930104\" xlink:href=\"#m33ecb87eb9\" y=\"282.581396\"/>\r\n",
       "      </g>\r\n",
       "     </g>\r\n",
       "     <g id=\"text_30\">\r\n",
       "      <!-- Tue, 30. -->\r\n",
       "      <g transform=\"translate(849.804889 326.889243)rotate(-55)scale(0.1 -0.1)\">\r\n",
       "       <use xlink:href=\"#DejaVuSans-84\"/>\r\n",
       "       <use x=\"60.849609\" xlink:href=\"#DejaVuSans-117\"/>\r\n",
       "       <use x=\"124.228516\" xlink:href=\"#DejaVuSans-101\"/>\r\n",
       "       <use x=\"185.751953\" xlink:href=\"#DejaVuSans-44\"/>\r\n",
       "       <use x=\"217.539062\" xlink:href=\"#DejaVuSans-32\"/>\r\n",
       "       <use x=\"249.326172\" xlink:href=\"#DejaVuSans-51\"/>\r\n",
       "       <use x=\"312.949219\" xlink:href=\"#DejaVuSans-48\"/>\r\n",
       "       <use x=\"376.572266\" xlink:href=\"#DejaVuSans-46\"/>\r\n",
       "      </g>\r\n",
       "     </g>\r\n",
       "    </g>\r\n",
       "    <g id=\"xtick_31\">\r\n",
       "     <g id=\"line2d_61\">\r\n",
       "      <path clip-path=\"url(#pbdd25f7e61)\" d=\"M 903.7 282.581396 \r\n",
       "L 903.7 32.396875 \r\n",
       "\" style=\"fill:none;stroke:#b0b0b0;stroke-linecap:square;stroke-width:0.8;\"/>\r\n",
       "     </g>\r\n",
       "     <g id=\"line2d_62\">\r\n",
       "      <g>\r\n",
       "       <use style=\"stroke:#000000;stroke-width:0.8;\" x=\"903.7\" xlink:href=\"#m33ecb87eb9\" y=\"282.581396\"/>\r\n",
       "      </g>\r\n",
       "     </g>\r\n",
       "     <g id=\"text_31\">\r\n",
       "      <!-- Wed, 31. -->\r\n",
       "      <g transform=\"translate(876.391609 330.00714)rotate(-55)scale(0.1 -0.1)\">\r\n",
       "       <use xlink:href=\"#DejaVuSans-87\"/>\r\n",
       "       <use x=\"98.798828\" xlink:href=\"#DejaVuSans-101\"/>\r\n",
       "       <use x=\"160.322266\" xlink:href=\"#DejaVuSans-100\"/>\r\n",
       "       <use x=\"223.798828\" xlink:href=\"#DejaVuSans-44\"/>\r\n",
       "       <use x=\"255.585938\" xlink:href=\"#DejaVuSans-32\"/>\r\n",
       "       <use x=\"287.373047\" xlink:href=\"#DejaVuSans-51\"/>\r\n",
       "       <use x=\"350.996094\" xlink:href=\"#DejaVuSans-49\"/>\r\n",
       "       <use x=\"414.619141\" xlink:href=\"#DejaVuSans-46\"/>\r\n",
       "      </g>\r\n",
       "     </g>\r\n",
       "    </g>\r\n",
       "   </g>\r\n",
       "   <g id=\"matplotlib.axis_2\">\r\n",
       "    <g id=\"ytick_1\">\r\n",
       "     <g id=\"line2d_63\">\r\n",
       "      <path clip-path=\"url(#pbdd25f7e61)\" d=\"M 40.603125 282.581396 \r\n",
       "L 903.7 282.581396 \r\n",
       "\" style=\"fill:none;stroke:#b0b0b0;stroke-linecap:square;stroke-width:0.8;\"/>\r\n",
       "     </g>\r\n",
       "     <g id=\"line2d_64\">\r\n",
       "      <defs>\r\n",
       "       <path d=\"M 0 0 \r\n",
       "L -3.5 0 \r\n",
       "\" id=\"ma65fb55a5d\" style=\"stroke:#000000;stroke-width:0.8;\"/>\r\n",
       "      </defs>\r\n",
       "      <g>\r\n",
       "       <use style=\"stroke:#000000;stroke-width:0.8;\" x=\"40.603125\" xlink:href=\"#ma65fb55a5d\" y=\"282.581396\"/>\r\n",
       "      </g>\r\n",
       "     </g>\r\n",
       "     <g id=\"text_32\">\r\n",
       "      <!-- 0 -->\r\n",
       "      <g transform=\"translate(27.240625 286.380615)scale(0.1 -0.1)\">\r\n",
       "       <use xlink:href=\"#DejaVuSans-48\"/>\r\n",
       "      </g>\r\n",
       "     </g>\r\n",
       "    </g>\r\n",
       "    <g id=\"ytick_2\">\r\n",
       "     <g id=\"line2d_65\">\r\n",
       "      <path clip-path=\"url(#pbdd25f7e61)\" d=\"M 40.603125 254.783116 \r\n",
       "L 903.7 254.783116 \r\n",
       "\" style=\"fill:none;stroke:#b0b0b0;stroke-linecap:square;stroke-width:0.8;\"/>\r\n",
       "     </g>\r\n",
       "     <g id=\"line2d_66\">\r\n",
       "      <g>\r\n",
       "       <use style=\"stroke:#000000;stroke-width:0.8;\" x=\"40.603125\" xlink:href=\"#ma65fb55a5d\" y=\"254.783116\"/>\r\n",
       "      </g>\r\n",
       "     </g>\r\n",
       "     <g id=\"text_33\">\r\n",
       "      <!-- 5 -->\r\n",
       "      <g transform=\"translate(27.240625 258.582335)scale(0.1 -0.1)\">\r\n",
       "       <use xlink:href=\"#DejaVuSans-53\"/>\r\n",
       "      </g>\r\n",
       "     </g>\r\n",
       "    </g>\r\n",
       "    <g id=\"ytick_3\">\r\n",
       "     <g id=\"line2d_67\">\r\n",
       "      <path clip-path=\"url(#pbdd25f7e61)\" d=\"M 40.603125 226.984836 \r\n",
       "L 903.7 226.984836 \r\n",
       "\" style=\"fill:none;stroke:#b0b0b0;stroke-linecap:square;stroke-width:0.8;\"/>\r\n",
       "     </g>\r\n",
       "     <g id=\"line2d_68\">\r\n",
       "      <g>\r\n",
       "       <use style=\"stroke:#000000;stroke-width:0.8;\" x=\"40.603125\" xlink:href=\"#ma65fb55a5d\" y=\"226.984836\"/>\r\n",
       "      </g>\r\n",
       "     </g>\r\n",
       "     <g id=\"text_34\">\r\n",
       "      <!-- 10 -->\r\n",
       "      <g transform=\"translate(20.878125 230.784055)scale(0.1 -0.1)\">\r\n",
       "       <use xlink:href=\"#DejaVuSans-49\"/>\r\n",
       "       <use x=\"63.623047\" xlink:href=\"#DejaVuSans-48\"/>\r\n",
       "      </g>\r\n",
       "     </g>\r\n",
       "    </g>\r\n",
       "    <g id=\"ytick_4\">\r\n",
       "     <g id=\"line2d_69\">\r\n",
       "      <path clip-path=\"url(#pbdd25f7e61)\" d=\"M 40.603125 199.186556 \r\n",
       "L 903.7 199.186556 \r\n",
       "\" style=\"fill:none;stroke:#b0b0b0;stroke-linecap:square;stroke-width:0.8;\"/>\r\n",
       "     </g>\r\n",
       "     <g id=\"line2d_70\">\r\n",
       "      <g>\r\n",
       "       <use style=\"stroke:#000000;stroke-width:0.8;\" x=\"40.603125\" xlink:href=\"#ma65fb55a5d\" y=\"199.186556\"/>\r\n",
       "      </g>\r\n",
       "     </g>\r\n",
       "     <g id=\"text_35\">\r\n",
       "      <!-- 15 -->\r\n",
       "      <g transform=\"translate(20.878125 202.985775)scale(0.1 -0.1)\">\r\n",
       "       <use xlink:href=\"#DejaVuSans-49\"/>\r\n",
       "       <use x=\"63.623047\" xlink:href=\"#DejaVuSans-53\"/>\r\n",
       "      </g>\r\n",
       "     </g>\r\n",
       "    </g>\r\n",
       "    <g id=\"ytick_5\">\r\n",
       "     <g id=\"line2d_71\">\r\n",
       "      <path clip-path=\"url(#pbdd25f7e61)\" d=\"M 40.603125 171.388276 \r\n",
       "L 903.7 171.388276 \r\n",
       "\" style=\"fill:none;stroke:#b0b0b0;stroke-linecap:square;stroke-width:0.8;\"/>\r\n",
       "     </g>\r\n",
       "     <g id=\"line2d_72\">\r\n",
       "      <g>\r\n",
       "       <use style=\"stroke:#000000;stroke-width:0.8;\" x=\"40.603125\" xlink:href=\"#ma65fb55a5d\" y=\"171.388276\"/>\r\n",
       "      </g>\r\n",
       "     </g>\r\n",
       "     <g id=\"text_36\">\r\n",
       "      <!-- 20 -->\r\n",
       "      <g transform=\"translate(20.878125 175.187494)scale(0.1 -0.1)\">\r\n",
       "       <use xlink:href=\"#DejaVuSans-50\"/>\r\n",
       "       <use x=\"63.623047\" xlink:href=\"#DejaVuSans-48\"/>\r\n",
       "      </g>\r\n",
       "     </g>\r\n",
       "    </g>\r\n",
       "    <g id=\"ytick_6\">\r\n",
       "     <g id=\"line2d_73\">\r\n",
       "      <path clip-path=\"url(#pbdd25f7e61)\" d=\"M 40.603125 143.589996 \r\n",
       "L 903.7 143.589996 \r\n",
       "\" style=\"fill:none;stroke:#b0b0b0;stroke-linecap:square;stroke-width:0.8;\"/>\r\n",
       "     </g>\r\n",
       "     <g id=\"line2d_74\">\r\n",
       "      <g>\r\n",
       "       <use style=\"stroke:#000000;stroke-width:0.8;\" x=\"40.603125\" xlink:href=\"#ma65fb55a5d\" y=\"143.589996\"/>\r\n",
       "      </g>\r\n",
       "     </g>\r\n",
       "     <g id=\"text_37\">\r\n",
       "      <!-- 25 -->\r\n",
       "      <g transform=\"translate(20.878125 147.389214)scale(0.1 -0.1)\">\r\n",
       "       <use xlink:href=\"#DejaVuSans-50\"/>\r\n",
       "       <use x=\"63.623047\" xlink:href=\"#DejaVuSans-53\"/>\r\n",
       "      </g>\r\n",
       "     </g>\r\n",
       "    </g>\r\n",
       "    <g id=\"ytick_7\">\r\n",
       "     <g id=\"line2d_75\">\r\n",
       "      <path clip-path=\"url(#pbdd25f7e61)\" d=\"M 40.603125 115.791715 \r\n",
       "L 903.7 115.791715 \r\n",
       "\" style=\"fill:none;stroke:#b0b0b0;stroke-linecap:square;stroke-width:0.8;\"/>\r\n",
       "     </g>\r\n",
       "     <g id=\"line2d_76\">\r\n",
       "      <g>\r\n",
       "       <use style=\"stroke:#000000;stroke-width:0.8;\" x=\"40.603125\" xlink:href=\"#ma65fb55a5d\" y=\"115.791715\"/>\r\n",
       "      </g>\r\n",
       "     </g>\r\n",
       "     <g id=\"text_38\">\r\n",
       "      <!-- 30 -->\r\n",
       "      <g transform=\"translate(20.878125 119.590934)scale(0.1 -0.1)\">\r\n",
       "       <use xlink:href=\"#DejaVuSans-51\"/>\r\n",
       "       <use x=\"63.623047\" xlink:href=\"#DejaVuSans-48\"/>\r\n",
       "      </g>\r\n",
       "     </g>\r\n",
       "    </g>\r\n",
       "    <g id=\"ytick_8\">\r\n",
       "     <g id=\"line2d_77\">\r\n",
       "      <path clip-path=\"url(#pbdd25f7e61)\" d=\"M 40.603125 87.993435 \r\n",
       "L 903.7 87.993435 \r\n",
       "\" style=\"fill:none;stroke:#b0b0b0;stroke-linecap:square;stroke-width:0.8;\"/>\r\n",
       "     </g>\r\n",
       "     <g id=\"line2d_78\">\r\n",
       "      <g>\r\n",
       "       <use style=\"stroke:#000000;stroke-width:0.8;\" x=\"40.603125\" xlink:href=\"#ma65fb55a5d\" y=\"87.993435\"/>\r\n",
       "      </g>\r\n",
       "     </g>\r\n",
       "     <g id=\"text_39\">\r\n",
       "      <!-- 35 -->\r\n",
       "      <g transform=\"translate(20.878125 91.792654)scale(0.1 -0.1)\">\r\n",
       "       <use xlink:href=\"#DejaVuSans-51\"/>\r\n",
       "       <use x=\"63.623047\" xlink:href=\"#DejaVuSans-53\"/>\r\n",
       "      </g>\r\n",
       "     </g>\r\n",
       "    </g>\r\n",
       "    <g id=\"ytick_9\">\r\n",
       "     <g id=\"line2d_79\">\r\n",
       "      <path clip-path=\"url(#pbdd25f7e61)\" d=\"M 40.603125 60.195155 \r\n",
       "L 903.7 60.195155 \r\n",
       "\" style=\"fill:none;stroke:#b0b0b0;stroke-linecap:square;stroke-width:0.8;\"/>\r\n",
       "     </g>\r\n",
       "     <g id=\"line2d_80\">\r\n",
       "      <g>\r\n",
       "       <use style=\"stroke:#000000;stroke-width:0.8;\" x=\"40.603125\" xlink:href=\"#ma65fb55a5d\" y=\"60.195155\"/>\r\n",
       "      </g>\r\n",
       "     </g>\r\n",
       "     <g id=\"text_40\">\r\n",
       "      <!-- 40 -->\r\n",
       "      <g transform=\"translate(20.878125 63.994374)scale(0.1 -0.1)\">\r\n",
       "       <use xlink:href=\"#DejaVuSans-52\"/>\r\n",
       "       <use x=\"63.623047\" xlink:href=\"#DejaVuSans-48\"/>\r\n",
       "      </g>\r\n",
       "     </g>\r\n",
       "    </g>\r\n",
       "    <g id=\"ytick_10\">\r\n",
       "     <g id=\"line2d_81\">\r\n",
       "      <path clip-path=\"url(#pbdd25f7e61)\" d=\"M 40.603125 32.396875 \r\n",
       "L 903.7 32.396875 \r\n",
       "\" style=\"fill:none;stroke:#b0b0b0;stroke-linecap:square;stroke-width:0.8;\"/>\r\n",
       "     </g>\r\n",
       "     <g id=\"line2d_82\">\r\n",
       "      <g>\r\n",
       "       <use style=\"stroke:#000000;stroke-width:0.8;\" x=\"40.603125\" xlink:href=\"#ma65fb55a5d\" y=\"32.396875\"/>\r\n",
       "      </g>\r\n",
       "     </g>\r\n",
       "     <g id=\"text_41\">\r\n",
       "      <!-- 45 -->\r\n",
       "      <g transform=\"translate(20.878125 36.196094)scale(0.1 -0.1)\">\r\n",
       "       <use xlink:href=\"#DejaVuSans-52\"/>\r\n",
       "       <use x=\"63.623047\" xlink:href=\"#DejaVuSans-53\"/>\r\n",
       "      </g>\r\n",
       "     </g>\r\n",
       "    </g>\r\n",
       "    <g id=\"text_42\">\r\n",
       "     <!-- Temperature [°C] -->\r\n",
       "     <defs>\r\n",
       "      <path d=\"M 52 44.1875 \r\n",
       "Q 55.375 50.25 60.0625 53.125 \r\n",
       "Q 64.75 56 71.09375 56 \r\n",
       "Q 79.640625 56 84.28125 50.015625 \r\n",
       "Q 88.921875 44.046875 88.921875 33.015625 \r\n",
       "L 88.921875 0 \r\n",
       "L 79.890625 0 \r\n",
       "L 79.890625 32.71875 \r\n",
       "Q 79.890625 40.578125 77.09375 44.375 \r\n",
       "Q 74.3125 48.1875 68.609375 48.1875 \r\n",
       "Q 61.625 48.1875 57.5625 43.546875 \r\n",
       "Q 53.515625 38.921875 53.515625 30.90625 \r\n",
       "L 53.515625 0 \r\n",
       "L 44.484375 0 \r\n",
       "L 44.484375 32.71875 \r\n",
       "Q 44.484375 40.625 41.703125 44.40625 \r\n",
       "Q 38.921875 48.1875 33.109375 48.1875 \r\n",
       "Q 26.21875 48.1875 22.15625 43.53125 \r\n",
       "Q 18.109375 38.875 18.109375 30.90625 \r\n",
       "L 18.109375 0 \r\n",
       "L 9.078125 0 \r\n",
       "L 9.078125 54.6875 \r\n",
       "L 18.109375 54.6875 \r\n",
       "L 18.109375 46.1875 \r\n",
       "Q 21.1875 51.21875 25.484375 53.609375 \r\n",
       "Q 29.78125 56 35.6875 56 \r\n",
       "Q 41.65625 56 45.828125 52.96875 \r\n",
       "Q 50 49.953125 52 44.1875 \r\n",
       "z\r\n",
       "\" id=\"DejaVuSans-109\"/>\r\n",
       "      <path d=\"M 18.109375 8.203125 \r\n",
       "L 18.109375 -20.796875 \r\n",
       "L 9.078125 -20.796875 \r\n",
       "L 9.078125 54.6875 \r\n",
       "L 18.109375 54.6875 \r\n",
       "L 18.109375 46.390625 \r\n",
       "Q 20.953125 51.265625 25.265625 53.625 \r\n",
       "Q 29.59375 56 35.59375 56 \r\n",
       "Q 45.5625 56 51.78125 48.09375 \r\n",
       "Q 58.015625 40.1875 58.015625 27.296875 \r\n",
       "Q 58.015625 14.40625 51.78125 6.484375 \r\n",
       "Q 45.5625 -1.421875 35.59375 -1.421875 \r\n",
       "Q 29.59375 -1.421875 25.265625 0.953125 \r\n",
       "Q 20.953125 3.328125 18.109375 8.203125 \r\n",
       "z\r\n",
       "M 48.6875 27.296875 \r\n",
       "Q 48.6875 37.203125 44.609375 42.84375 \r\n",
       "Q 40.53125 48.484375 33.40625 48.484375 \r\n",
       "Q 26.265625 48.484375 22.1875 42.84375 \r\n",
       "Q 18.109375 37.203125 18.109375 27.296875 \r\n",
       "Q 18.109375 17.390625 22.1875 11.75 \r\n",
       "Q 26.265625 6.109375 33.40625 6.109375 \r\n",
       "Q 40.53125 6.109375 44.609375 11.75 \r\n",
       "Q 48.6875 17.390625 48.6875 27.296875 \r\n",
       "z\r\n",
       "\" id=\"DejaVuSans-112\"/>\r\n",
       "      <path d=\"M 8.59375 75.984375 \r\n",
       "L 29.296875 75.984375 \r\n",
       "L 29.296875 69 \r\n",
       "L 17.578125 69 \r\n",
       "L 17.578125 -6.203125 \r\n",
       "L 29.296875 -6.203125 \r\n",
       "L 29.296875 -13.1875 \r\n",
       "L 8.59375 -13.1875 \r\n",
       "z\r\n",
       "\" id=\"DejaVuSans-91\"/>\r\n",
       "      <path d=\"M 25 67.921875 \r\n",
       "Q 21.09375 67.921875 18.40625 65.203125 \r\n",
       "Q 15.71875 62.5 15.71875 58.59375 \r\n",
       "Q 15.71875 54.734375 18.40625 52.078125 \r\n",
       "Q 21.09375 49.421875 25 49.421875 \r\n",
       "Q 28.90625 49.421875 31.59375 52.078125 \r\n",
       "Q 34.28125 54.734375 34.28125 58.59375 \r\n",
       "Q 34.28125 62.453125 31.5625 65.1875 \r\n",
       "Q 28.859375 67.921875 25 67.921875 \r\n",
       "z\r\n",
       "M 25 74.21875 \r\n",
       "Q 28.125 74.21875 31 73.015625 \r\n",
       "Q 33.890625 71.828125 35.984375 69.578125 \r\n",
       "Q 38.234375 67.390625 39.359375 64.59375 \r\n",
       "Q 40.484375 61.8125 40.484375 58.59375 \r\n",
       "Q 40.484375 52.15625 35.96875 47.6875 \r\n",
       "Q 31.453125 43.21875 24.90625 43.21875 \r\n",
       "Q 18.3125 43.21875 13.90625 47.609375 \r\n",
       "Q 9.515625 52 9.515625 58.59375 \r\n",
       "Q 9.515625 65.140625 14 69.671875 \r\n",
       "Q 18.5 74.21875 25 74.21875 \r\n",
       "z\r\n",
       "\" id=\"DejaVuSans-176\"/>\r\n",
       "      <path d=\"M 64.40625 67.28125 \r\n",
       "L 64.40625 56.890625 \r\n",
       "Q 59.421875 61.53125 53.78125 63.8125 \r\n",
       "Q 48.140625 66.109375 41.796875 66.109375 \r\n",
       "Q 29.296875 66.109375 22.65625 58.46875 \r\n",
       "Q 16.015625 50.828125 16.015625 36.375 \r\n",
       "Q 16.015625 21.96875 22.65625 14.328125 \r\n",
       "Q 29.296875 6.6875 41.796875 6.6875 \r\n",
       "Q 48.140625 6.6875 53.78125 8.984375 \r\n",
       "Q 59.421875 11.28125 64.40625 15.921875 \r\n",
       "L 64.40625 5.609375 \r\n",
       "Q 59.234375 2.09375 53.4375 0.328125 \r\n",
       "Q 47.65625 -1.421875 41.21875 -1.421875 \r\n",
       "Q 24.65625 -1.421875 15.125 8.703125 \r\n",
       "Q 5.609375 18.84375 5.609375 36.375 \r\n",
       "Q 5.609375 53.953125 15.125 64.078125 \r\n",
       "Q 24.65625 74.21875 41.21875 74.21875 \r\n",
       "Q 47.75 74.21875 53.53125 72.484375 \r\n",
       "Q 59.328125 70.75 64.40625 67.28125 \r\n",
       "z\r\n",
       "\" id=\"DejaVuSans-67\"/>\r\n",
       "      <path d=\"M 30.421875 75.984375 \r\n",
       "L 30.421875 -13.1875 \r\n",
       "L 9.71875 -13.1875 \r\n",
       "L 9.71875 -6.203125 \r\n",
       "L 21.390625 -6.203125 \r\n",
       "L 21.390625 69 \r\n",
       "L 9.71875 69 \r\n",
       "L 9.71875 75.984375 \r\n",
       "z\r\n",
       "\" id=\"DejaVuSans-93\"/>\r\n",
       "     </defs>\r\n",
       "     <g transform=\"translate(14.798438 201.588354)rotate(-90)scale(0.1 -0.1)\">\r\n",
       "      <use xlink:href=\"#DejaVuSans-84\"/>\r\n",
       "      <use x=\"60.818359\" xlink:href=\"#DejaVuSans-101\"/>\r\n",
       "      <use x=\"122.341797\" xlink:href=\"#DejaVuSans-109\"/>\r\n",
       "      <use x=\"219.753906\" xlink:href=\"#DejaVuSans-112\"/>\r\n",
       "      <use x=\"283.230469\" xlink:href=\"#DejaVuSans-101\"/>\r\n",
       "      <use x=\"344.753906\" xlink:href=\"#DejaVuSans-114\"/>\r\n",
       "      <use x=\"385.867188\" xlink:href=\"#DejaVuSans-97\"/>\r\n",
       "      <use x=\"447.146484\" xlink:href=\"#DejaVuSans-116\"/>\r\n",
       "      <use x=\"486.355469\" xlink:href=\"#DejaVuSans-117\"/>\r\n",
       "      <use x=\"549.734375\" xlink:href=\"#DejaVuSans-114\"/>\r\n",
       "      <use x=\"590.816406\" xlink:href=\"#DejaVuSans-101\"/>\r\n",
       "      <use x=\"652.339844\" xlink:href=\"#DejaVuSans-32\"/>\r\n",
       "      <use x=\"684.126953\" xlink:href=\"#DejaVuSans-91\"/>\r\n",
       "      <use x=\"723.140625\" xlink:href=\"#DejaVuSans-176\"/>\r\n",
       "      <use x=\"773.140625\" xlink:href=\"#DejaVuSans-67\"/>\r\n",
       "      <use x=\"842.964844\" xlink:href=\"#DejaVuSans-93\"/>\r\n",
       "     </g>\r\n",
       "    </g>\r\n",
       "   </g>\r\n",
       "   <g id=\"line2d_83\">\r\n",
       "    <path clip-path=\"url(#pbdd25f7e61)\" d=\"M 40.603125 199.186556 \r\n",
       "L 69.373021 225.316939 \r\n",
       "L 98.142917 214.753593 \r\n",
       "L 126.912812 229.208698 \r\n",
       "L 155.682708 200.298487 \r\n",
       "L 184.452604 213.641662 \r\n",
       "L 213.2225 228.652733 \r\n",
       "L 241.992396 243.663804 \r\n",
       "L 270.762292 224.205008 \r\n",
       "L 299.532187 239.772045 \r\n",
       "L 328.302083 200.298487 \r\n",
       "L 357.071979 208.082006 \r\n",
       "L 385.841875 201.966384 \r\n",
       "L 414.611771 206.970074 \r\n",
       "L 443.381667 233.100458 \r\n",
       "L 472.151562 236.992217 \r\n",
       "L 500.921458 230.32063 \r\n",
       "L 529.691354 215.309558 \r\n",
       "L 558.46125 187.511278 \r\n",
       "L 587.231146 187.511278 \r\n",
       "L 616.001042 199.742521 \r\n",
       "L 644.770937 204.190246 \r\n",
       "L 673.540833 199.186556 \r\n",
       "L 702.310729 172.500207 \r\n",
       "L 731.080625 176.391966 \r\n",
       "L 759.850521 169.720379 \r\n",
       "L 788.620417 175.280035 \r\n",
       "L 817.390313 183.619519 \r\n",
       "L 846.160208 194.738831 \r\n",
       "L 874.930104 210.305868 \r\n",
       "L 903.7 194.738831 \r\n",
       "\" style=\"fill:none;stroke:#3498db;stroke-linecap:square;stroke-width:1.5;\"/>\r\n",
       "    <defs>\r\n",
       "     <path d=\"M 0 1.5 \r\n",
       "C 0.397805 1.5 0.77937 1.341951 1.06066 1.06066 \r\n",
       "C 1.341951 0.77937 1.5 0.397805 1.5 0 \r\n",
       "C 1.5 -0.397805 1.341951 -0.77937 1.06066 -1.06066 \r\n",
       "C 0.77937 -1.341951 0.397805 -1.5 0 -1.5 \r\n",
       "C -0.397805 -1.5 -0.77937 -1.341951 -1.06066 -1.06066 \r\n",
       "C -1.341951 -0.77937 -1.5 -0.397805 -1.5 0 \r\n",
       "C -1.5 0.397805 -1.341951 0.77937 -1.06066 1.06066 \r\n",
       "C -0.77937 1.341951 -0.397805 1.5 0 1.5 \r\n",
       "z\r\n",
       "\" id=\"m282e5d3879\" style=\"stroke:#3498db;\"/>\r\n",
       "    </defs>\r\n",
       "    <g clip-path=\"url(#pbdd25f7e61)\">\r\n",
       "     <use style=\"fill:#3498db;stroke:#3498db;\" x=\"40.603125\" xlink:href=\"#m282e5d3879\" y=\"199.186556\"/>\r\n",
       "     <use style=\"fill:#3498db;stroke:#3498db;\" x=\"69.373021\" xlink:href=\"#m282e5d3879\" y=\"225.316939\"/>\r\n",
       "     <use style=\"fill:#3498db;stroke:#3498db;\" x=\"98.142917\" xlink:href=\"#m282e5d3879\" y=\"214.753593\"/>\r\n",
       "     <use style=\"fill:#3498db;stroke:#3498db;\" x=\"126.912812\" xlink:href=\"#m282e5d3879\" y=\"229.208698\"/>\r\n",
       "     <use style=\"fill:#3498db;stroke:#3498db;\" x=\"155.682708\" xlink:href=\"#m282e5d3879\" y=\"200.298487\"/>\r\n",
       "     <use style=\"fill:#3498db;stroke:#3498db;\" x=\"184.452604\" xlink:href=\"#m282e5d3879\" y=\"213.641662\"/>\r\n",
       "     <use style=\"fill:#3498db;stroke:#3498db;\" x=\"213.2225\" xlink:href=\"#m282e5d3879\" y=\"228.652733\"/>\r\n",
       "     <use style=\"fill:#3498db;stroke:#3498db;\" x=\"241.992396\" xlink:href=\"#m282e5d3879\" y=\"243.663804\"/>\r\n",
       "     <use style=\"fill:#3498db;stroke:#3498db;\" x=\"270.762292\" xlink:href=\"#m282e5d3879\" y=\"224.205008\"/>\r\n",
       "     <use style=\"fill:#3498db;stroke:#3498db;\" x=\"299.532187\" xlink:href=\"#m282e5d3879\" y=\"239.772045\"/>\r\n",
       "     <use style=\"fill:#3498db;stroke:#3498db;\" x=\"328.302083\" xlink:href=\"#m282e5d3879\" y=\"200.298487\"/>\r\n",
       "     <use style=\"fill:#3498db;stroke:#3498db;\" x=\"357.071979\" xlink:href=\"#m282e5d3879\" y=\"208.082006\"/>\r\n",
       "     <use style=\"fill:#3498db;stroke:#3498db;\" x=\"385.841875\" xlink:href=\"#m282e5d3879\" y=\"201.966384\"/>\r\n",
       "     <use style=\"fill:#3498db;stroke:#3498db;\" x=\"414.611771\" xlink:href=\"#m282e5d3879\" y=\"206.970074\"/>\r\n",
       "     <use style=\"fill:#3498db;stroke:#3498db;\" x=\"443.381667\" xlink:href=\"#m282e5d3879\" y=\"233.100458\"/>\r\n",
       "     <use style=\"fill:#3498db;stroke:#3498db;\" x=\"472.151562\" xlink:href=\"#m282e5d3879\" y=\"236.992217\"/>\r\n",
       "     <use style=\"fill:#3498db;stroke:#3498db;\" x=\"500.921458\" xlink:href=\"#m282e5d3879\" y=\"230.32063\"/>\r\n",
       "     <use style=\"fill:#3498db;stroke:#3498db;\" x=\"529.691354\" xlink:href=\"#m282e5d3879\" y=\"215.309558\"/>\r\n",
       "     <use style=\"fill:#3498db;stroke:#3498db;\" x=\"558.46125\" xlink:href=\"#m282e5d3879\" y=\"187.511278\"/>\r\n",
       "     <use style=\"fill:#3498db;stroke:#3498db;\" x=\"587.231146\" xlink:href=\"#m282e5d3879\" y=\"187.511278\"/>\r\n",
       "     <use style=\"fill:#3498db;stroke:#3498db;\" x=\"616.001042\" xlink:href=\"#m282e5d3879\" y=\"199.742521\"/>\r\n",
       "     <use style=\"fill:#3498db;stroke:#3498db;\" x=\"644.770937\" xlink:href=\"#m282e5d3879\" y=\"204.190246\"/>\r\n",
       "     <use style=\"fill:#3498db;stroke:#3498db;\" x=\"673.540833\" xlink:href=\"#m282e5d3879\" y=\"199.186556\"/>\r\n",
       "     <use style=\"fill:#3498db;stroke:#3498db;\" x=\"702.310729\" xlink:href=\"#m282e5d3879\" y=\"172.500207\"/>\r\n",
       "     <use style=\"fill:#3498db;stroke:#3498db;\" x=\"731.080625\" xlink:href=\"#m282e5d3879\" y=\"176.391966\"/>\r\n",
       "     <use style=\"fill:#3498db;stroke:#3498db;\" x=\"759.850521\" xlink:href=\"#m282e5d3879\" y=\"169.720379\"/>\r\n",
       "     <use style=\"fill:#3498db;stroke:#3498db;\" x=\"788.620417\" xlink:href=\"#m282e5d3879\" y=\"175.280035\"/>\r\n",
       "     <use style=\"fill:#3498db;stroke:#3498db;\" x=\"817.390313\" xlink:href=\"#m282e5d3879\" y=\"183.619519\"/>\r\n",
       "     <use style=\"fill:#3498db;stroke:#3498db;\" x=\"846.160208\" xlink:href=\"#m282e5d3879\" y=\"194.738831\"/>\r\n",
       "     <use style=\"fill:#3498db;stroke:#3498db;\" x=\"874.930104\" xlink:href=\"#m282e5d3879\" y=\"210.305868\"/>\r\n",
       "     <use style=\"fill:#3498db;stroke:#3498db;\" x=\"903.7\" xlink:href=\"#m282e5d3879\" y=\"194.738831\"/>\r\n",
       "    </g>\r\n",
       "   </g>\r\n",
       "   <g id=\"line2d_84\">\r\n",
       "    <path clip-path=\"url(#pbdd25f7e61)\" d=\"M 40.603125 140.254202 \r\n",
       "L 69.373021 149.705617 \r\n",
       "L 98.142917 157.489136 \r\n",
       "L 126.912812 144.701927 \r\n",
       "L 155.682708 131.914718 \r\n",
       "L 184.452604 132.470684 \r\n",
       "L 213.2225 168.052482 \r\n",
       "L 241.992396 178.615829 \r\n",
       "L 270.762292 160.268964 \r\n",
       "L 299.532187 148.03772 \r\n",
       "L 328.302083 138.586305 \r\n",
       "L 357.071979 139.698236 \r\n",
       "L 385.841875 151.373514 \r\n",
       "L 414.611771 176.947932 \r\n",
       "L 443.381667 182.507588 \r\n",
       "L 472.151562 166.384585 \r\n",
       "L 500.921458 151.373514 \r\n",
       "L 529.691354 135.250512 \r\n",
       "L 558.46125 137.474374 \r\n",
       "L 587.231146 118.571543 \r\n",
       "L 616.001042 140.254202 \r\n",
       "L 644.770937 120.23944 \r\n",
       "L 673.540833 88.549401 \r\n",
       "L 702.310729 65.198846 \r\n",
       "L 731.080625 56.303396 \r\n",
       "L 759.850521 62.419018 \r\n",
       "L 788.620417 129.690856 \r\n",
       "L 817.390313 165.82862 \r\n",
       "L 846.160208 134.13858 \r\n",
       "L 874.930104 109.676094 \r\n",
       "L 903.7 142.478064 \r\n",
       "\" style=\"fill:none;stroke:#f39c12;stroke-linecap:square;stroke-width:1.5;\"/>\r\n",
       "    <defs>\r\n",
       "     <path d=\"M 0 1.5 \r\n",
       "C 0.397805 1.5 0.77937 1.341951 1.06066 1.06066 \r\n",
       "C 1.341951 0.77937 1.5 0.397805 1.5 0 \r\n",
       "C 1.5 -0.397805 1.341951 -0.77937 1.06066 -1.06066 \r\n",
       "C 0.77937 -1.341951 0.397805 -1.5 0 -1.5 \r\n",
       "C -0.397805 -1.5 -0.77937 -1.341951 -1.06066 -1.06066 \r\n",
       "C -1.341951 -0.77937 -1.5 -0.397805 -1.5 0 \r\n",
       "C -1.5 0.397805 -1.341951 0.77937 -1.06066 1.06066 \r\n",
       "C -0.77937 1.341951 -0.397805 1.5 0 1.5 \r\n",
       "z\r\n",
       "\" id=\"m5d4f65a1cf\" style=\"stroke:#f39c12;\"/>\r\n",
       "    </defs>\r\n",
       "    <g clip-path=\"url(#pbdd25f7e61)\">\r\n",
       "     <use style=\"fill:#f39c12;stroke:#f39c12;\" x=\"40.603125\" xlink:href=\"#m5d4f65a1cf\" y=\"140.254202\"/>\r\n",
       "     <use style=\"fill:#f39c12;stroke:#f39c12;\" x=\"69.373021\" xlink:href=\"#m5d4f65a1cf\" y=\"149.705617\"/>\r\n",
       "     <use style=\"fill:#f39c12;stroke:#f39c12;\" x=\"98.142917\" xlink:href=\"#m5d4f65a1cf\" y=\"157.489136\"/>\r\n",
       "     <use style=\"fill:#f39c12;stroke:#f39c12;\" x=\"126.912812\" xlink:href=\"#m5d4f65a1cf\" y=\"144.701927\"/>\r\n",
       "     <use style=\"fill:#f39c12;stroke:#f39c12;\" x=\"155.682708\" xlink:href=\"#m5d4f65a1cf\" y=\"131.914718\"/>\r\n",
       "     <use style=\"fill:#f39c12;stroke:#f39c12;\" x=\"184.452604\" xlink:href=\"#m5d4f65a1cf\" y=\"132.470684\"/>\r\n",
       "     <use style=\"fill:#f39c12;stroke:#f39c12;\" x=\"213.2225\" xlink:href=\"#m5d4f65a1cf\" y=\"168.052482\"/>\r\n",
       "     <use style=\"fill:#f39c12;stroke:#f39c12;\" x=\"241.992396\" xlink:href=\"#m5d4f65a1cf\" y=\"178.615829\"/>\r\n",
       "     <use style=\"fill:#f39c12;stroke:#f39c12;\" x=\"270.762292\" xlink:href=\"#m5d4f65a1cf\" y=\"160.268964\"/>\r\n",
       "     <use style=\"fill:#f39c12;stroke:#f39c12;\" x=\"299.532187\" xlink:href=\"#m5d4f65a1cf\" y=\"148.03772\"/>\r\n",
       "     <use style=\"fill:#f39c12;stroke:#f39c12;\" x=\"328.302083\" xlink:href=\"#m5d4f65a1cf\" y=\"138.586305\"/>\r\n",
       "     <use style=\"fill:#f39c12;stroke:#f39c12;\" x=\"357.071979\" xlink:href=\"#m5d4f65a1cf\" y=\"139.698236\"/>\r\n",
       "     <use style=\"fill:#f39c12;stroke:#f39c12;\" x=\"385.841875\" xlink:href=\"#m5d4f65a1cf\" y=\"151.373514\"/>\r\n",
       "     <use style=\"fill:#f39c12;stroke:#f39c12;\" x=\"414.611771\" xlink:href=\"#m5d4f65a1cf\" y=\"176.947932\"/>\r\n",
       "     <use style=\"fill:#f39c12;stroke:#f39c12;\" x=\"443.381667\" xlink:href=\"#m5d4f65a1cf\" y=\"182.507588\"/>\r\n",
       "     <use style=\"fill:#f39c12;stroke:#f39c12;\" x=\"472.151562\" xlink:href=\"#m5d4f65a1cf\" y=\"166.384585\"/>\r\n",
       "     <use style=\"fill:#f39c12;stroke:#f39c12;\" x=\"500.921458\" xlink:href=\"#m5d4f65a1cf\" y=\"151.373514\"/>\r\n",
       "     <use style=\"fill:#f39c12;stroke:#f39c12;\" x=\"529.691354\" xlink:href=\"#m5d4f65a1cf\" y=\"135.250512\"/>\r\n",
       "     <use style=\"fill:#f39c12;stroke:#f39c12;\" x=\"558.46125\" xlink:href=\"#m5d4f65a1cf\" y=\"137.474374\"/>\r\n",
       "     <use style=\"fill:#f39c12;stroke:#f39c12;\" x=\"587.231146\" xlink:href=\"#m5d4f65a1cf\" y=\"118.571543\"/>\r\n",
       "     <use style=\"fill:#f39c12;stroke:#f39c12;\" x=\"616.001042\" xlink:href=\"#m5d4f65a1cf\" y=\"140.254202\"/>\r\n",
       "     <use style=\"fill:#f39c12;stroke:#f39c12;\" x=\"644.770937\" xlink:href=\"#m5d4f65a1cf\" y=\"120.23944\"/>\r\n",
       "     <use style=\"fill:#f39c12;stroke:#f39c12;\" x=\"673.540833\" xlink:href=\"#m5d4f65a1cf\" y=\"88.549401\"/>\r\n",
       "     <use style=\"fill:#f39c12;stroke:#f39c12;\" x=\"702.310729\" xlink:href=\"#m5d4f65a1cf\" y=\"65.198846\"/>\r\n",
       "     <use style=\"fill:#f39c12;stroke:#f39c12;\" x=\"731.080625\" xlink:href=\"#m5d4f65a1cf\" y=\"56.303396\"/>\r\n",
       "     <use style=\"fill:#f39c12;stroke:#f39c12;\" x=\"759.850521\" xlink:href=\"#m5d4f65a1cf\" y=\"62.419018\"/>\r\n",
       "     <use style=\"fill:#f39c12;stroke:#f39c12;\" x=\"788.620417\" xlink:href=\"#m5d4f65a1cf\" y=\"129.690856\"/>\r\n",
       "     <use style=\"fill:#f39c12;stroke:#f39c12;\" x=\"817.390313\" xlink:href=\"#m5d4f65a1cf\" y=\"165.82862\"/>\r\n",
       "     <use style=\"fill:#f39c12;stroke:#f39c12;\" x=\"846.160208\" xlink:href=\"#m5d4f65a1cf\" y=\"134.13858\"/>\r\n",
       "     <use style=\"fill:#f39c12;stroke:#f39c12;\" x=\"874.930104\" xlink:href=\"#m5d4f65a1cf\" y=\"109.676094\"/>\r\n",
       "     <use style=\"fill:#f39c12;stroke:#f39c12;\" x=\"903.7\" xlink:href=\"#m5d4f65a1cf\" y=\"142.478064\"/>\r\n",
       "    </g>\r\n",
       "   </g>\r\n",
       "   <g id=\"line2d_85\">\r\n",
       "    <path clip-path=\"url(#pbdd25f7e61)\" d=\"M 40.603125 74.094295 \r\n",
       "L 903.7 74.094295 \r\n",
       "\" style=\"fill:none;stroke:#ff0000;stroke-dasharray:5.55,2.4;stroke-dashoffset:0;stroke-width:1.5;\"/>\r\n",
       "   </g>\r\n",
       "   <g id=\"patch_4\">\r\n",
       "    <path d=\"M 40.603125 282.581396 \r\n",
       "L 40.603125 32.396875 \r\n",
       "\" style=\"fill:none;stroke:#000000;stroke-linecap:square;stroke-linejoin:miter;stroke-width:0.8;\"/>\r\n",
       "   </g>\r\n",
       "   <g id=\"patch_5\">\r\n",
       "    <path d=\"M 903.7 282.581396 \r\n",
       "L 903.7 32.396875 \r\n",
       "\" style=\"fill:none;stroke:#000000;stroke-linecap:square;stroke-linejoin:miter;stroke-width:0.8;\"/>\r\n",
       "   </g>\r\n",
       "   <g id=\"patch_6\">\r\n",
       "    <path d=\"M 40.603125 282.581396 \r\n",
       "L 903.7 282.581396 \r\n",
       "\" style=\"fill:none;stroke:#000000;stroke-linecap:square;stroke-linejoin:miter;stroke-width:0.8;\"/>\r\n",
       "   </g>\r\n",
       "   <g id=\"patch_7\">\r\n",
       "    <path d=\"M 40.603125 32.396875 \r\n",
       "L 903.7 32.396875 \r\n",
       "\" style=\"fill:none;stroke:#000000;stroke-linecap:square;stroke-linejoin:miter;stroke-width:0.8;\"/>\r\n",
       "   </g>\r\n",
       "   <g id=\"text_43\">\r\n",
       "    <!-- Temperatures of July 2019 -->\r\n",
       "    <defs>\r\n",
       "     <path d=\"M 0.484375 72.90625 \r\n",
       "L 67.671875 72.90625 \r\n",
       "L 67.671875 58.6875 \r\n",
       "L 43.5 58.6875 \r\n",
       "L 43.5 0 \r\n",
       "L 24.703125 0 \r\n",
       "L 24.703125 58.6875 \r\n",
       "L 0.484375 58.6875 \r\n",
       "z\r\n",
       "\" id=\"DejaVuSans-Bold-84\"/>\r\n",
       "     <path d=\"M 62.984375 27.484375 \r\n",
       "L 62.984375 22.515625 \r\n",
       "L 22.125 22.515625 \r\n",
       "Q 22.75 16.359375 26.5625 13.28125 \r\n",
       "Q 30.375 10.203125 37.203125 10.203125 \r\n",
       "Q 42.71875 10.203125 48.5 11.84375 \r\n",
       "Q 54.296875 13.484375 60.40625 16.796875 \r\n",
       "L 60.40625 3.328125 \r\n",
       "Q 54.203125 0.984375 48 -0.21875 \r\n",
       "Q 41.796875 -1.421875 35.59375 -1.421875 \r\n",
       "Q 20.75 -1.421875 12.515625 6.125 \r\n",
       "Q 4.296875 13.671875 4.296875 27.296875 \r\n",
       "Q 4.296875 40.671875 12.375 48.328125 \r\n",
       "Q 20.453125 56 34.625 56 \r\n",
       "Q 47.515625 56 55.25 48.234375 \r\n",
       "Q 62.984375 40.484375 62.984375 27.484375 \r\n",
       "z\r\n",
       "M 45.015625 33.296875 \r\n",
       "Q 45.015625 38.28125 42.109375 41.328125 \r\n",
       "Q 39.203125 44.390625 34.515625 44.390625 \r\n",
       "Q 29.4375 44.390625 26.265625 41.53125 \r\n",
       "Q 23.09375 38.671875 22.3125 33.296875 \r\n",
       "z\r\n",
       "\" id=\"DejaVuSans-Bold-101\"/>\r\n",
       "     <path d=\"M 59.078125 45.609375 \r\n",
       "Q 62.40625 50.6875 66.96875 53.34375 \r\n",
       "Q 71.53125 56 77 56 \r\n",
       "Q 86.421875 56 91.359375 50.1875 \r\n",
       "Q 96.296875 44.390625 96.296875 33.296875 \r\n",
       "L 96.296875 0 \r\n",
       "L 78.71875 0 \r\n",
       "L 78.71875 28.515625 \r\n",
       "Q 78.765625 29.15625 78.78125 29.828125 \r\n",
       "Q 78.8125 30.515625 78.8125 31.78125 \r\n",
       "Q 78.8125 37.59375 77.09375 40.203125 \r\n",
       "Q 75.390625 42.828125 71.578125 42.828125 \r\n",
       "Q 66.609375 42.828125 63.890625 38.71875 \r\n",
       "Q 61.1875 34.625 61.078125 26.859375 \r\n",
       "L 61.078125 0 \r\n",
       "L 43.5 0 \r\n",
       "L 43.5 28.515625 \r\n",
       "Q 43.5 37.59375 41.9375 40.203125 \r\n",
       "Q 40.375 42.828125 36.375 42.828125 \r\n",
       "Q 31.34375 42.828125 28.609375 38.703125 \r\n",
       "Q 25.875 34.578125 25.875 26.90625 \r\n",
       "L 25.875 0 \r\n",
       "L 8.296875 0 \r\n",
       "L 8.296875 54.6875 \r\n",
       "L 25.875 54.6875 \r\n",
       "L 25.875 46.6875 \r\n",
       "Q 29.109375 51.3125 33.28125 53.65625 \r\n",
       "Q 37.453125 56 42.484375 56 \r\n",
       "Q 48.140625 56 52.484375 53.265625 \r\n",
       "Q 56.84375 50.53125 59.078125 45.609375 \r\n",
       "z\r\n",
       "\" id=\"DejaVuSans-Bold-109\"/>\r\n",
       "     <path d=\"M 25.875 7.90625 \r\n",
       "L 25.875 -20.796875 \r\n",
       "L 8.40625 -20.796875 \r\n",
       "L 8.40625 54.6875 \r\n",
       "L 25.875 54.6875 \r\n",
       "L 25.875 46.6875 \r\n",
       "Q 29.5 51.46875 33.890625 53.734375 \r\n",
       "Q 38.28125 56 44 56 \r\n",
       "Q 54.109375 56 60.59375 47.96875 \r\n",
       "Q 67.09375 39.9375 67.09375 27.296875 \r\n",
       "Q 67.09375 14.65625 60.59375 6.609375 \r\n",
       "Q 54.109375 -1.421875 44 -1.421875 \r\n",
       "Q 38.28125 -1.421875 33.890625 0.84375 \r\n",
       "Q 29.5 3.125 25.875 7.90625 \r\n",
       "z\r\n",
       "M 37.5 43.3125 \r\n",
       "Q 31.890625 43.3125 28.875 39.1875 \r\n",
       "Q 25.875 35.0625 25.875 27.296875 \r\n",
       "Q 25.875 19.53125 28.875 15.40625 \r\n",
       "Q 31.890625 11.28125 37.5 11.28125 \r\n",
       "Q 43.109375 11.28125 46.0625 15.375 \r\n",
       "Q 49.03125 19.484375 49.03125 27.296875 \r\n",
       "Q 49.03125 35.109375 46.0625 39.203125 \r\n",
       "Q 43.109375 43.3125 37.5 43.3125 \r\n",
       "z\r\n",
       "\" id=\"DejaVuSans-Bold-112\"/>\r\n",
       "     <path d=\"M 49.03125 39.796875 \r\n",
       "Q 46.734375 40.875 44.453125 41.375 \r\n",
       "Q 42.1875 41.890625 39.890625 41.890625 \r\n",
       "Q 33.15625 41.890625 29.515625 37.5625 \r\n",
       "Q 25.875 33.25 25.875 25.203125 \r\n",
       "L 25.875 0 \r\n",
       "L 8.40625 0 \r\n",
       "L 8.40625 54.6875 \r\n",
       "L 25.875 54.6875 \r\n",
       "L 25.875 45.703125 \r\n",
       "Q 29.25 51.078125 33.609375 53.53125 \r\n",
       "Q 37.984375 56 44.09375 56 \r\n",
       "Q 44.96875 56 45.984375 55.921875 \r\n",
       "Q 47.015625 55.859375 48.96875 55.609375 \r\n",
       "z\r\n",
       "\" id=\"DejaVuSans-Bold-114\"/>\r\n",
       "     <path d=\"M 32.90625 24.609375 \r\n",
       "Q 27.4375 24.609375 24.671875 22.75 \r\n",
       "Q 21.921875 20.90625 21.921875 17.28125 \r\n",
       "Q 21.921875 13.96875 24.140625 12.078125 \r\n",
       "Q 26.375 10.203125 30.328125 10.203125 \r\n",
       "Q 35.25 10.203125 38.625 13.734375 \r\n",
       "Q 42 17.28125 42 22.609375 \r\n",
       "L 42 24.609375 \r\n",
       "z\r\n",
       "M 59.625 31.203125 \r\n",
       "L 59.625 0 \r\n",
       "L 42 0 \r\n",
       "L 42 8.109375 \r\n",
       "Q 38.484375 3.125 34.078125 0.84375 \r\n",
       "Q 29.6875 -1.421875 23.390625 -1.421875 \r\n",
       "Q 14.890625 -1.421875 9.59375 3.53125 \r\n",
       "Q 4.296875 8.5 4.296875 16.40625 \r\n",
       "Q 4.296875 26.03125 10.90625 30.515625 \r\n",
       "Q 17.53125 35.015625 31.6875 35.015625 \r\n",
       "L 42 35.015625 \r\n",
       "L 42 36.375 \r\n",
       "Q 42 40.53125 38.71875 42.453125 \r\n",
       "Q 35.453125 44.390625 28.515625 44.390625 \r\n",
       "Q 22.90625 44.390625 18.0625 43.265625 \r\n",
       "Q 13.234375 42.140625 9.078125 39.890625 \r\n",
       "L 9.078125 53.21875 \r\n",
       "Q 14.703125 54.59375 20.359375 55.296875 \r\n",
       "Q 26.03125 56 31.6875 56 \r\n",
       "Q 46.484375 56 53.046875 50.171875 \r\n",
       "Q 59.625 44.34375 59.625 31.203125 \r\n",
       "z\r\n",
       "\" id=\"DejaVuSans-Bold-97\"/>\r\n",
       "     <path d=\"M 27.484375 70.21875 \r\n",
       "L 27.484375 54.6875 \r\n",
       "L 45.515625 54.6875 \r\n",
       "L 45.515625 42.1875 \r\n",
       "L 27.484375 42.1875 \r\n",
       "L 27.484375 19 \r\n",
       "Q 27.484375 15.1875 29 13.84375 \r\n",
       "Q 30.515625 12.5 35.015625 12.5 \r\n",
       "L 44 12.5 \r\n",
       "L 44 0 \r\n",
       "L 29 0 \r\n",
       "Q 18.65625 0 14.328125 4.3125 \r\n",
       "Q 10.015625 8.640625 10.015625 19 \r\n",
       "L 10.015625 42.1875 \r\n",
       "L 1.3125 42.1875 \r\n",
       "L 1.3125 54.6875 \r\n",
       "L 10.015625 54.6875 \r\n",
       "L 10.015625 70.21875 \r\n",
       "z\r\n",
       "\" id=\"DejaVuSans-Bold-116\"/>\r\n",
       "     <path d=\"M 7.8125 21.296875 \r\n",
       "L 7.8125 54.6875 \r\n",
       "L 25.390625 54.6875 \r\n",
       "L 25.390625 49.21875 \r\n",
       "Q 25.390625 44.78125 25.34375 38.0625 \r\n",
       "Q 25.296875 31.34375 25.296875 29.109375 \r\n",
       "Q 25.296875 22.515625 25.640625 19.609375 \r\n",
       "Q 25.984375 16.703125 26.8125 15.375 \r\n",
       "Q 27.875 13.671875 29.609375 12.734375 \r\n",
       "Q 31.34375 11.8125 33.59375 11.8125 \r\n",
       "Q 39.0625 11.8125 42.1875 16.015625 \r\n",
       "Q 45.3125 20.21875 45.3125 27.6875 \r\n",
       "L 45.3125 54.6875 \r\n",
       "L 62.796875 54.6875 \r\n",
       "L 62.796875 0 \r\n",
       "L 45.3125 0 \r\n",
       "L 45.3125 7.90625 \r\n",
       "Q 41.359375 3.125 36.9375 0.84375 \r\n",
       "Q 32.515625 -1.421875 27.203125 -1.421875 \r\n",
       "Q 17.71875 -1.421875 12.765625 4.390625 \r\n",
       "Q 7.8125 10.203125 7.8125 21.296875 \r\n",
       "z\r\n",
       "\" id=\"DejaVuSans-Bold-117\"/>\r\n",
       "     <path d=\"M 51.125 52.984375 \r\n",
       "L 51.125 39.703125 \r\n",
       "Q 45.515625 42.046875 40.28125 43.21875 \r\n",
       "Q 35.0625 44.390625 30.421875 44.390625 \r\n",
       "Q 25.4375 44.390625 23.015625 43.140625 \r\n",
       "Q 20.609375 41.890625 20.609375 39.3125 \r\n",
       "Q 20.609375 37.203125 22.4375 36.078125 \r\n",
       "Q 24.265625 34.96875 29 34.421875 \r\n",
       "L 32.078125 33.984375 \r\n",
       "Q 45.515625 32.28125 50.140625 28.375 \r\n",
       "Q 54.78125 24.46875 54.78125 16.109375 \r\n",
       "Q 54.78125 7.375 48.328125 2.96875 \r\n",
       "Q 41.890625 -1.421875 29.109375 -1.421875 \r\n",
       "Q 23.6875 -1.421875 17.890625 -0.5625 \r\n",
       "Q 12.109375 0.296875 6 2 \r\n",
       "L 6 15.28125 \r\n",
       "Q 11.234375 12.75 16.71875 11.46875 \r\n",
       "Q 22.21875 10.203125 27.875 10.203125 \r\n",
       "Q 33.015625 10.203125 35.59375 11.609375 \r\n",
       "Q 38.1875 13.03125 38.1875 15.828125 \r\n",
       "Q 38.1875 18.171875 36.40625 19.3125 \r\n",
       "Q 34.625 20.453125 29.296875 21.09375 \r\n",
       "L 26.21875 21.484375 \r\n",
       "Q 14.546875 22.953125 9.859375 26.90625 \r\n",
       "Q 5.171875 30.859375 5.171875 38.921875 \r\n",
       "Q 5.171875 47.609375 11.125 51.796875 \r\n",
       "Q 17.09375 56 29.390625 56 \r\n",
       "Q 34.234375 56 39.546875 55.265625 \r\n",
       "Q 44.875 54.546875 51.125 52.984375 \r\n",
       "z\r\n",
       "\" id=\"DejaVuSans-Bold-115\"/>\r\n",
       "     <path id=\"DejaVuSans-Bold-32\"/>\r\n",
       "     <path d=\"M 34.421875 43.5 \r\n",
       "Q 28.609375 43.5 25.5625 39.328125 \r\n",
       "Q 22.515625 35.15625 22.515625 27.296875 \r\n",
       "Q 22.515625 19.4375 25.5625 15.25 \r\n",
       "Q 28.609375 11.078125 34.421875 11.078125 \r\n",
       "Q 40.140625 11.078125 43.15625 15.25 \r\n",
       "Q 46.1875 19.4375 46.1875 27.296875 \r\n",
       "Q 46.1875 35.15625 43.15625 39.328125 \r\n",
       "Q 40.140625 43.5 34.421875 43.5 \r\n",
       "z\r\n",
       "M 34.421875 56 \r\n",
       "Q 48.53125 56 56.46875 48.375 \r\n",
       "Q 64.40625 40.765625 64.40625 27.296875 \r\n",
       "Q 64.40625 13.8125 56.46875 6.1875 \r\n",
       "Q 48.53125 -1.421875 34.421875 -1.421875 \r\n",
       "Q 20.265625 -1.421875 12.28125 6.1875 \r\n",
       "Q 4.296875 13.8125 4.296875 27.296875 \r\n",
       "Q 4.296875 40.765625 12.28125 48.375 \r\n",
       "Q 20.265625 56 34.421875 56 \r\n",
       "z\r\n",
       "\" id=\"DejaVuSans-Bold-111\"/>\r\n",
       "     <path d=\"M 44.390625 75.984375 \r\n",
       "L 44.390625 64.5 \r\n",
       "L 34.71875 64.5 \r\n",
       "Q 31 64.5 29.53125 63.15625 \r\n",
       "Q 28.078125 61.8125 28.078125 58.5 \r\n",
       "L 28.078125 54.6875 \r\n",
       "L 43.015625 54.6875 \r\n",
       "L 43.015625 42.1875 \r\n",
       "L 28.078125 42.1875 \r\n",
       "L 28.078125 0 \r\n",
       "L 10.59375 0 \r\n",
       "L 10.59375 42.1875 \r\n",
       "L 1.90625 42.1875 \r\n",
       "L 1.90625 54.6875 \r\n",
       "L 10.59375 54.6875 \r\n",
       "L 10.59375 58.5 \r\n",
       "Q 10.59375 67.4375 15.578125 71.703125 \r\n",
       "Q 20.5625 75.984375 31 75.984375 \r\n",
       "z\r\n",
       "\" id=\"DejaVuSans-Bold-102\"/>\r\n",
       "     <path d=\"M 9.1875 72.90625 \r\n",
       "L 27.984375 72.90625 \r\n",
       "L 27.984375 7.078125 \r\n",
       "Q 27.984375 -6.546875 20.578125 -13.28125 \r\n",
       "Q 13.1875 -20.015625 -1.8125 -20.015625 \r\n",
       "L -5.609375 -20.015625 \r\n",
       "L -5.609375 -5.8125 \r\n",
       "L -2.6875 -5.8125 \r\n",
       "Q 3.171875 -5.8125 6.171875 -2.53125 \r\n",
       "Q 9.1875 0.734375 9.1875 7.078125 \r\n",
       "z\r\n",
       "\" id=\"DejaVuSans-Bold-74\"/>\r\n",
       "     <path d=\"M 8.40625 75.984375 \r\n",
       "L 25.875 75.984375 \r\n",
       "L 25.875 0 \r\n",
       "L 8.40625 0 \r\n",
       "z\r\n",
       "\" id=\"DejaVuSans-Bold-108\"/>\r\n",
       "     <path d=\"M 1.21875 54.6875 \r\n",
       "L 18.703125 54.6875 \r\n",
       "L 33.40625 17.578125 \r\n",
       "L 45.90625 54.6875 \r\n",
       "L 63.375 54.6875 \r\n",
       "L 40.375 -5.171875 \r\n",
       "Q 36.921875 -14.3125 32.296875 -17.9375 \r\n",
       "Q 27.6875 -21.578125 20.125 -21.578125 \r\n",
       "L 10.015625 -21.578125 \r\n",
       "L 10.015625 -10.109375 \r\n",
       "L 15.484375 -10.109375 \r\n",
       "Q 19.921875 -10.109375 21.9375 -8.6875 \r\n",
       "Q 23.96875 -7.28125 25.09375 -3.609375 \r\n",
       "L 25.59375 -2.09375 \r\n",
       "z\r\n",
       "\" id=\"DejaVuSans-Bold-121\"/>\r\n",
       "     <path d=\"M 28.8125 13.8125 \r\n",
       "L 60.890625 13.8125 \r\n",
       "L 60.890625 0 \r\n",
       "L 7.90625 0 \r\n",
       "L 7.90625 13.8125 \r\n",
       "L 34.515625 37.3125 \r\n",
       "Q 38.09375 40.53125 39.796875 43.609375 \r\n",
       "Q 41.5 46.6875 41.5 50 \r\n",
       "Q 41.5 55.125 38.0625 58.25 \r\n",
       "Q 34.625 61.375 28.90625 61.375 \r\n",
       "Q 24.515625 61.375 19.28125 59.5 \r\n",
       "Q 14.0625 57.625 8.109375 53.90625 \r\n",
       "L 8.109375 69.921875 \r\n",
       "Q 14.453125 72.015625 20.65625 73.109375 \r\n",
       "Q 26.859375 74.21875 32.8125 74.21875 \r\n",
       "Q 45.90625 74.21875 53.15625 68.453125 \r\n",
       "Q 60.40625 62.703125 60.40625 52.390625 \r\n",
       "Q 60.40625 46.4375 57.328125 41.28125 \r\n",
       "Q 54.25 36.140625 44.390625 27.484375 \r\n",
       "z\r\n",
       "\" id=\"DejaVuSans-Bold-50\"/>\r\n",
       "     <path d=\"M 46 36.53125 \r\n",
       "Q 46 50.203125 43.4375 55.78125 \r\n",
       "Q 40.875 61.375 34.8125 61.375 \r\n",
       "Q 28.765625 61.375 26.171875 55.78125 \r\n",
       "Q 23.578125 50.203125 23.578125 36.53125 \r\n",
       "Q 23.578125 22.703125 26.171875 17.03125 \r\n",
       "Q 28.765625 11.375 34.8125 11.375 \r\n",
       "Q 40.828125 11.375 43.40625 17.03125 \r\n",
       "Q 46 22.703125 46 36.53125 \r\n",
       "z\r\n",
       "M 64.796875 36.375 \r\n",
       "Q 64.796875 18.265625 56.984375 8.421875 \r\n",
       "Q 49.171875 -1.421875 34.8125 -1.421875 \r\n",
       "Q 20.40625 -1.421875 12.59375 8.421875 \r\n",
       "Q 4.78125 18.265625 4.78125 36.375 \r\n",
       "Q 4.78125 54.546875 12.59375 64.375 \r\n",
       "Q 20.40625 74.21875 34.8125 74.21875 \r\n",
       "Q 49.171875 74.21875 56.984375 64.375 \r\n",
       "Q 64.796875 54.546875 64.796875 36.375 \r\n",
       "z\r\n",
       "\" id=\"DejaVuSans-Bold-48\"/>\r\n",
       "     <path d=\"M 11.71875 12.984375 \r\n",
       "L 28.328125 12.984375 \r\n",
       "L 28.328125 60.109375 \r\n",
       "L 11.28125 56.59375 \r\n",
       "L 11.28125 69.390625 \r\n",
       "L 28.21875 72.90625 \r\n",
       "L 46.09375 72.90625 \r\n",
       "L 46.09375 12.984375 \r\n",
       "L 62.703125 12.984375 \r\n",
       "L 62.703125 0 \r\n",
       "L 11.71875 0 \r\n",
       "z\r\n",
       "\" id=\"DejaVuSans-Bold-49\"/>\r\n",
       "     <path d=\"M 10.015625 1.609375 \r\n",
       "L 10.015625 15.09375 \r\n",
       "Q 14.5 12.984375 18.59375 11.9375 \r\n",
       "Q 22.703125 10.890625 26.703125 10.890625 \r\n",
       "Q 35.109375 10.890625 39.796875 15.546875 \r\n",
       "Q 44.484375 20.21875 45.3125 29.390625 \r\n",
       "Q 42 26.953125 38.234375 25.734375 \r\n",
       "Q 34.46875 24.515625 30.078125 24.515625 \r\n",
       "Q 18.890625 24.515625 12.03125 31.03125 \r\n",
       "Q 5.171875 37.546875 5.171875 48.1875 \r\n",
       "Q 5.171875 59.96875 12.8125 67.046875 \r\n",
       "Q 20.453125 74.125 33.296875 74.125 \r\n",
       "Q 47.5625 74.125 55.375 64.5 \r\n",
       "Q 63.1875 54.890625 63.1875 37.3125 \r\n",
       "Q 63.1875 19.234375 54.046875 8.90625 \r\n",
       "Q 44.921875 -1.421875 29 -1.421875 \r\n",
       "Q 23.875 -1.421875 19.1875 -0.65625 \r\n",
       "Q 14.5 0.09375 10.015625 1.609375 \r\n",
       "z\r\n",
       "M 33.203125 36.71875 \r\n",
       "Q 38.140625 36.71875 40.625 39.90625 \r\n",
       "Q 43.109375 43.109375 43.109375 49.515625 \r\n",
       "Q 43.109375 55.859375 40.625 59.078125 \r\n",
       "Q 38.140625 62.3125 33.203125 62.3125 \r\n",
       "Q 28.265625 62.3125 25.78125 59.078125 \r\n",
       "Q 23.296875 55.859375 23.296875 49.515625 \r\n",
       "Q 23.296875 43.109375 25.78125 39.90625 \r\n",
       "Q 28.265625 36.71875 33.203125 36.71875 \r\n",
       "z\r\n",
       "\" id=\"DejaVuSans-Bold-57\"/>\r\n",
       "    </defs>\r\n",
       "    <g transform=\"translate(322.68125 22.396875)scale(0.2 -0.2)\">\r\n",
       "     <use xlink:href=\"#DejaVuSans-Bold-84\"/>\r\n",
       "     <use x=\"68.009766\" xlink:href=\"#DejaVuSans-Bold-101\"/>\r\n",
       "     <use x=\"135.832031\" xlink:href=\"#DejaVuSans-Bold-109\"/>\r\n",
       "     <use x=\"240.03125\" xlink:href=\"#DejaVuSans-Bold-112\"/>\r\n",
       "     <use x=\"311.613281\" xlink:href=\"#DejaVuSans-Bold-101\"/>\r\n",
       "     <use x=\"379.435547\" xlink:href=\"#DejaVuSans-Bold-114\"/>\r\n",
       "     <use x=\"428.751953\" xlink:href=\"#DejaVuSans-Bold-97\"/>\r\n",
       "     <use x=\"496.232422\" xlink:href=\"#DejaVuSans-Bold-116\"/>\r\n",
       "     <use x=\"544.035156\" xlink:href=\"#DejaVuSans-Bold-117\"/>\r\n",
       "     <use x=\"615.226562\" xlink:href=\"#DejaVuSans-Bold-114\"/>\r\n",
       "     <use x=\"664.542969\" xlink:href=\"#DejaVuSans-Bold-101\"/>\r\n",
       "     <use x=\"732.365234\" xlink:href=\"#DejaVuSans-Bold-115\"/>\r\n",
       "     <use x=\"791.886719\" xlink:href=\"#DejaVuSans-Bold-32\"/>\r\n",
       "     <use x=\"826.701172\" xlink:href=\"#DejaVuSans-Bold-111\"/>\r\n",
       "     <use x=\"895.402344\" xlink:href=\"#DejaVuSans-Bold-102\"/>\r\n",
       "     <use x=\"938.908203\" xlink:href=\"#DejaVuSans-Bold-32\"/>\r\n",
       "     <use x=\"973.722656\" xlink:href=\"#DejaVuSans-Bold-74\"/>\r\n",
       "     <use x=\"1010.929688\" xlink:href=\"#DejaVuSans-Bold-117\"/>\r\n",
       "     <use x=\"1082.121094\" xlink:href=\"#DejaVuSans-Bold-108\"/>\r\n",
       "     <use x=\"1116.398438\" xlink:href=\"#DejaVuSans-Bold-121\"/>\r\n",
       "     <use x=\"1181.583984\" xlink:href=\"#DejaVuSans-Bold-32\"/>\r\n",
       "     <use x=\"1216.398438\" xlink:href=\"#DejaVuSans-Bold-50\"/>\r\n",
       "     <use x=\"1285.978516\" xlink:href=\"#DejaVuSans-Bold-48\"/>\r\n",
       "     <use x=\"1355.558594\" xlink:href=\"#DejaVuSans-Bold-49\"/>\r\n",
       "     <use x=\"1425.138672\" xlink:href=\"#DejaVuSans-Bold-57\"/>\r\n",
       "    </g>\r\n",
       "   </g>\r\n",
       "   <g id=\"legend_1\">\r\n",
       "    <g id=\"patch_8\">\r\n",
       "     <path d=\"M 49.003125 77.224375 \r\n",
       "L 199.456875 77.224375 \r\n",
       "Q 201.856875 77.224375 201.856875 74.824375 \r\n",
       "L 201.856875 40.796875 \r\n",
       "Q 201.856875 38.396875 199.456875 38.396875 \r\n",
       "L 49.003125 38.396875 \r\n",
       "Q 46.603125 38.396875 46.603125 40.796875 \r\n",
       "L 46.603125 74.824375 \r\n",
       "Q 46.603125 77.224375 49.003125 77.224375 \r\n",
       "z\r\n",
       "\" style=\"fill:#ffffff;opacity:0.8;stroke:#cccccc;stroke-linejoin:miter;\"/>\r\n",
       "    </g>\r\n",
       "    <g id=\"line2d_86\">\r\n",
       "     <path d=\"M 51.403125 48.115 \r\n",
       "L 75.403125 48.115 \r\n",
       "\" style=\"fill:none;stroke:#3498db;stroke-linecap:square;stroke-width:1.5;\"/>\r\n",
       "    </g>\r\n",
       "    <g id=\"line2d_87\">\r\n",
       "     <g>\r\n",
       "      <use style=\"fill:#3498db;stroke:#3498db;\" x=\"63.403125\" xlink:href=\"#m282e5d3879\" y=\"48.115\"/>\r\n",
       "     </g>\r\n",
       "    </g>\r\n",
       "    <g id=\"text_44\">\r\n",
       "     <!-- min. Temperature -->\r\n",
       "     <g transform=\"translate(85.003125 52.315)scale(0.12 -0.12)\">\r\n",
       "      <use xlink:href=\"#DejaVuSans-109\"/>\r\n",
       "      <use x=\"97.412109\" xlink:href=\"#DejaVuSans-105\"/>\r\n",
       "      <use x=\"125.195312\" xlink:href=\"#DejaVuSans-110\"/>\r\n",
       "      <use x=\"188.574219\" xlink:href=\"#DejaVuSans-46\"/>\r\n",
       "      <use x=\"220.361328\" xlink:href=\"#DejaVuSans-32\"/>\r\n",
       "      <use x=\"252.148438\" xlink:href=\"#DejaVuSans-84\"/>\r\n",
       "      <use x=\"312.966797\" xlink:href=\"#DejaVuSans-101\"/>\r\n",
       "      <use x=\"374.490234\" xlink:href=\"#DejaVuSans-109\"/>\r\n",
       "      <use x=\"471.902344\" xlink:href=\"#DejaVuSans-112\"/>\r\n",
       "      <use x=\"535.378906\" xlink:href=\"#DejaVuSans-101\"/>\r\n",
       "      <use x=\"596.902344\" xlink:href=\"#DejaVuSans-114\"/>\r\n",
       "      <use x=\"638.015625\" xlink:href=\"#DejaVuSans-97\"/>\r\n",
       "      <use x=\"699.294922\" xlink:href=\"#DejaVuSans-116\"/>\r\n",
       "      <use x=\"738.503906\" xlink:href=\"#DejaVuSans-117\"/>\r\n",
       "      <use x=\"801.882812\" xlink:href=\"#DejaVuSans-114\"/>\r\n",
       "      <use x=\"842.964844\" xlink:href=\"#DejaVuSans-101\"/>\r\n",
       "     </g>\r\n",
       "    </g>\r\n",
       "    <g id=\"line2d_88\">\r\n",
       "     <path d=\"M 51.403125 65.72875 \r\n",
       "L 75.403125 65.72875 \r\n",
       "\" style=\"fill:none;stroke:#f39c12;stroke-linecap:square;stroke-width:1.5;\"/>\r\n",
       "    </g>\r\n",
       "    <g id=\"line2d_89\">\r\n",
       "     <g>\r\n",
       "      <use style=\"fill:#f39c12;stroke:#f39c12;\" x=\"63.403125\" xlink:href=\"#m5d4f65a1cf\" y=\"65.72875\"/>\r\n",
       "     </g>\r\n",
       "    </g>\r\n",
       "    <g id=\"text_45\">\r\n",
       "     <!-- max. Temperature -->\r\n",
       "     <defs>\r\n",
       "      <path d=\"M 54.890625 54.6875 \r\n",
       "L 35.109375 28.078125 \r\n",
       "L 55.90625 0 \r\n",
       "L 45.3125 0 \r\n",
       "L 29.390625 21.484375 \r\n",
       "L 13.484375 0 \r\n",
       "L 2.875 0 \r\n",
       "L 24.125 28.609375 \r\n",
       "L 4.6875 54.6875 \r\n",
       "L 15.28125 54.6875 \r\n",
       "L 29.78125 35.203125 \r\n",
       "L 44.28125 54.6875 \r\n",
       "z\r\n",
       "\" id=\"DejaVuSans-120\"/>\r\n",
       "     </defs>\r\n",
       "     <g transform=\"translate(85.003125 69.92875)scale(0.12 -0.12)\">\r\n",
       "      <use xlink:href=\"#DejaVuSans-109\"/>\r\n",
       "      <use x=\"97.412109\" xlink:href=\"#DejaVuSans-97\"/>\r\n",
       "      <use x=\"158.691406\" xlink:href=\"#DejaVuSans-120\"/>\r\n",
       "      <use x=\"217.871094\" xlink:href=\"#DejaVuSans-46\"/>\r\n",
       "      <use x=\"249.658203\" xlink:href=\"#DejaVuSans-32\"/>\r\n",
       "      <use x=\"281.445312\" xlink:href=\"#DejaVuSans-84\"/>\r\n",
       "      <use x=\"342.263672\" xlink:href=\"#DejaVuSans-101\"/>\r\n",
       "      <use x=\"403.787109\" xlink:href=\"#DejaVuSans-109\"/>\r\n",
       "      <use x=\"501.199219\" xlink:href=\"#DejaVuSans-112\"/>\r\n",
       "      <use x=\"564.675781\" xlink:href=\"#DejaVuSans-101\"/>\r\n",
       "      <use x=\"626.199219\" xlink:href=\"#DejaVuSans-114\"/>\r\n",
       "      <use x=\"667.3125\" xlink:href=\"#DejaVuSans-97\"/>\r\n",
       "      <use x=\"728.591797\" xlink:href=\"#DejaVuSans-116\"/>\r\n",
       "      <use x=\"767.800781\" xlink:href=\"#DejaVuSans-117\"/>\r\n",
       "      <use x=\"831.179688\" xlink:href=\"#DejaVuSans-114\"/>\r\n",
       "      <use x=\"872.261719\" xlink:href=\"#DejaVuSans-101\"/>\r\n",
       "     </g>\r\n",
       "    </g>\r\n",
       "   </g>\r\n",
       "  </g>\r\n",
       " </g>\r\n",
       " <defs>\r\n",
       "  <clipPath id=\"pbdd25f7e61\">\r\n",
       "   <rect height=\"250.184521\" width=\"863.096875\" x=\"40.603125\" y=\"32.396875\"/>\r\n",
       "  </clipPath>\r\n",
       " </defs>\r\n",
       "</svg>\r\n"
      ],
      "text/plain": [
       "<Figure size 921.6x345.6 with 1 Axes>"
      ]
     },
     "metadata": {},
     "output_type": "display_data"
    }
   ],
   "source": [
    "# Create figure and plots\n",
    "fig_temp, ax_temp = plt.subplots(1, figsize=(12.8, 4.8), tight_layout=True)\n",
    "fig_temp.patch.set_color('white')\n",
    "ax_temp.plot(df_weather_data['TN'], label='min. Temperature', color='#3498DB', marker='.')\n",
    "ax_temp.plot(df_weather_data['TX'], label='max. Temperature', color='#F39C12', marker='.')\n",
    "\n",
    "# Edit x-axis\n",
    "fmt_days = list()\n",
    "for date in df_weather_data.index:\n",
    "    fmt_days.append(f'{date:%a, %d.}')\n",
    "ax_temp.set_xticks(df_weather_data.index)\n",
    "ax_temp.set_xlim('2019-07-01', '2019-07-31')\n",
    "ax_temp.set_xticklabels(fmt_days, fontdict={'horizontalalignment': 'right'})\n",
    "ax_temp.tick_params(axis='x', labelrotation=55.0, pad=3)\n",
    "\n",
    "# Edit y-axis\n",
    "ax_temp.set_ylabel('Temperature [°C]')\n",
    "ax_temp.set_ylim(0.0, 45.0)\n",
    "\n",
    "# Add title and legend\n",
    "ax_temp.set_title('Temperatures of July 2019', pad=10, fontdict={'fontsize': 20, 'fontweight': 'bold'})\n",
    "ax_temp.legend(loc='upper left', fontsize='large')\n",
    "ax_temp.grid()\n",
    "\n",
    "ax_temp.axhline(37.5, color='red', linestyle='--')\n",
    "ax_temp.axvspan('2019-07-23-14', '2019-07-26-04', color='#F9E79F')\n",
    "\n",
    "fig_temp.savefig('temps_2019_07.svg', dpi=100)\n",
    "plt.show()\n"
   ]
  },
  {
   "cell_type": "markdown",
   "metadata": {},
   "source": [
    "---"
   ]
  },
  {
   "cell_type": "markdown",
   "metadata": {},
   "source": [
    "<a name=\"scikit-learn\"> </a>\n",
    "## **📦&nbsp;&nbsp;&nbsp;SCIKIT-LEARN** | [⌂](#table-of-contents)"
   ]
  },
  {
   "cell_type": "markdown",
   "metadata": {},
   "source": [
    "---\n",
    "---"
   ]
  },
  {
   "cell_type": "markdown",
   "metadata": {},
   "source": [
    "## **USEFUL NON-PYTHON STUFF**"
   ]
  },
  {
   "cell_type": "markdown",
   "metadata": {},
   "source": [
    "---"
   ]
  },
  {
   "cell_type": "markdown",
   "metadata": {},
   "source": [
    "<a name=\"windows-command-prompt\"> </a>\n",
    "## **🗎&nbsp;&nbsp;&nbsp;WINDOWS COMMAND PROMPT** | [⌂](#table-of-contents)"
   ]
  },
  {
   "cell_type": "markdown",
   "metadata": {},
   "source": [
    "---"
   ]
  },
  {
   "cell_type": "markdown",
   "metadata": {},
   "source": [
    "<a name=\"jupyter-cheatsheet\"> </a>\n",
    "## **🗎&nbsp;&nbsp;&nbsp;JUPYTER CHEATSHEET** | [⌂](#table-of-contents)"
   ]
  },
  {
   "cell_type": "markdown",
   "metadata": {},
   "source": [
    "---"
   ]
  },
  {
   "cell_type": "markdown",
   "metadata": {},
   "source": [
    "<a name=\"markdown-cheatsheet\"> </a>\n",
    "## **🗎&nbsp;&nbsp;&nbsp;MARKDOWN CHEATSHEET** | [⌂](#table-of-contents)"
   ]
  },
  {
   "cell_type": "markdown",
   "metadata": {},
   "source": [
    "For easy Markdown table generation visit *[Tables Generator](https://www.tablesgenerator.com/markdown_tables)*."
   ]
  },
  {
   "cell_type": "markdown",
   "metadata": {},
   "source": [
    "---"
   ]
  },
  {
   "cell_type": "markdown",
   "metadata": {},
   "source": [
    "<a name=\"html-cheatsheet\"> </a>\n",
    "## **🗎&nbsp;&nbsp;&nbsp;HTML CHEATSHEET** | [⌂](#table-of-contents)"
   ]
  },
  {
   "cell_type": "markdown",
   "metadata": {},
   "source": [
    "For easy HTML table generation visit *[Tables Generator](https://www.tablesgenerator.com/html_tables)*."
   ]
  },
  {
   "cell_type": "markdown",
   "metadata": {},
   "source": [
    "---"
   ]
  },
  {
   "cell_type": "markdown",
   "metadata": {},
   "source": [
    "<a name=\"latex-cheatsheet\"> </a>\n",
    "## **🗎&nbsp;&nbsp;&nbsp;$\\LaTeX$ CHEATSHEET** | [⌂](#table-of-contents)"
   ]
  },
  {
   "cell_type": "markdown",
   "metadata": {},
   "source": [
    "For easy LaTeX table generation visit *[Tables Generator](https://www.tablesgenerator.com/latex_tables)*."
   ]
  },
  {
   "cell_type": "markdown",
   "metadata": {},
   "source": [
    "---"
   ]
  },
  {
   "cell_type": "markdown",
   "metadata": {},
   "source": [
    "<a name=\"git-cheatsheet\"> </a>\n",
    "## **🗎&nbsp;&nbsp;&nbsp;GIT CHEATSHEET** | [⌂](#table-of-contents)"
   ]
  },
  {
   "cell_type": "markdown",
   "metadata": {},
   "source": [
    "---\n",
    "---"
   ]
  },
  {
   "cell_type": "markdown",
   "metadata": {},
   "source": [
    "## **UNORDERED STUFF** | [⌂](#table-of-contents)"
   ]
  },
  {
   "cell_type": "code",
   "execution_count": 1,
   "metadata": {},
   "outputs": [],
   "source": [
    "def color_code(a, b):\n",
    "    if a < b/2:\n",
    "        R = 255\n",
    "        G = int((a/(b/2)) * 255)\n",
    "    else:\n",
    "        R = int(255 - ((a-b/2)/(b-b/2)) * 255)\n",
    "        G = 255\n",
    "    B = 0\n",
    "    return (f\"#{R:02X}{G:02X}{B:02X}\")"
   ]
  }
 ],
 "metadata": {
  "kernelspec": {
   "display_name": "Python 3",
   "language": "python",
   "name": "python3"
  },
  "language_info": {
   "codemirror_mode": {
    "name": "ipython",
    "version": 3
   },
   "file_extension": ".py",
   "mimetype": "text/x-python",
   "name": "python",
   "nbconvert_exporter": "python",
   "pygments_lexer": "ipython3",
   "version": "3.7.3"
  }
 },
 "nbformat": 4,
 "nbformat_minor": 2
}
