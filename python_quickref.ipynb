{
 "cells": [
  {
   "cell_type": "markdown",
   "metadata": {},
   "source": [
    "# **Python - Quick Reference**\n",
    "##### by Frodo Peiffer"
   ]
  },
  {
   "cell_type": "markdown",
   "metadata": {},
   "source": [
    "---"
   ]
  },
  {
   "cell_type": "markdown",
   "metadata": {},
   "source": [
    "<a name=\"table-of-contents\"> </a>\n",
    "## Table of Contents (⌂)"
   ]
  },
  {
   "cell_type": "markdown",
   "metadata": {},
   "source": [
    "1. [Basics](#basics)<br/>\n",
    "2. [Input & Output](#input-&-output)<br/>\n",
    "3. [Data Structures](#data-structures)<br/>\n",
    "4. [Operators & Expressions](#operators-&-expressions)<br/>\n",
    "5. [Control Flow](#control-flow)<br/>\n",
    "6. [Useful Concepts](#useful-concepts)<br/>\n",
    "7. [Functions](#functions)<br/>\n",
    "8. [Object Oriented Programming](#object-oriented-programming)<br/>\n",
    "9. [Modules & Packages](#modules-&-packages)<br/>\n",
    "10. [Exceptions](#exceptions)<br/>\n",
    "\n",
    "Appendix: [Essential Concepts](#essential-concepts)<br/>\n",
    "\n",
    "[Unordered Content](#unordered-content)"
   ]
  },
  {
   "cell_type": "markdown",
   "metadata": {},
   "source": [
    "---"
   ]
  },
  {
   "cell_type": "markdown",
   "metadata": {},
   "source": [
    "<a name=\"notifications\"> </a>\n",
    "## Notifications | [⌂](#table-of-contents)"
   ]
  },
  {
   "cell_type": "markdown",
   "metadata": {},
   "source": [
    "The following code segment is significant only for the execution of jupyter notebooks. It forces every object to be displayed in the cell output, not just the last one."
   ]
  },
  {
   "cell_type": "code",
   "execution_count": 2,
   "metadata": {},
   "outputs": [],
   "source": [
    "from IPython.core.interactiveshell import InteractiveShell\n",
    "InteractiveShell.ast_node_interactivity = \"all\""
   ]
  },
  {
   "cell_type": "markdown",
   "metadata": {},
   "source": [
    "In this Python – Quick Reference code is displayed in gray cells and formatted in accordance with the highlighting of Jupyter Notebook. Any Output is displayed right below the cell if necessary."
   ]
  },
  {
   "cell_type": "code",
   "execution_count": 1,
   "metadata": {},
   "outputs": [
    {
     "name": "stdout",
     "output_type": "stream",
     "text": [
      "Hello World\n"
     ]
    }
   ],
   "source": [
    "print(\"Hello World\")"
   ]
  },
  {
   "cell_type": "markdown",
   "metadata": {},
   "source": [
    "Often, the code examples are just an excerpt from a larger code segment, and sometimes terms are used that are for explanation purpose only and cannot be interpreted correctly. Therefore, these examples cannot always be executed exactly as they are."
   ]
  },
  {
   "cell_type": "markdown",
   "metadata": {},
   "source": [
    "---"
   ]
  },
  {
   "cell_type": "markdown",
   "metadata": {},
   "source": [
    "<a name=\"basics\"> </a>\n",
    "## 1 Basics | [⌂](#table-of-contents)"
   ]
  },
  {
   "cell_type": "markdown",
   "metadata": {},
   "source": [
    "[Comments](#comments) | [Literal Constants](#literal-constants) | [Numbers](#numbers) | [Strings](#strings-basics) | [Keywords](#keywords) | [Variables](#variables) | [Objects](#objects-basics) | [Lines & Indentation](#lines-&-indentation) | [help()](#help)"
   ]
  },
  {
   "cell_type": "markdown",
   "metadata": {},
   "source": [
    "<b name=\"comments\"> </b>\n",
    "### 1.1 Comments | [↥](#basics) | [⌂](#table-of-contents)"
   ]
  },
  {
   "cell_type": "markdown",
   "metadata": {},
   "source": [
    "Comments are lines that won’t be executed when running the program. They are useful for readers of your program so that they can easily understand what the program is doing. Remember, that person can be yourself after six months!"
   ]
  },
  {
   "cell_type": "code",
   "execution_count": 3,
   "metadata": {},
   "outputs": [],
   "source": [
    "# This is a single line comment"
   ]
  },
  {
   "cell_type": "code",
   "execution_count": 4,
   "metadata": {},
   "outputs": [
    {
     "name": "stdout",
     "output_type": "stream",
     "text": [
      "This will run\n"
     ]
    }
   ],
   "source": [
    "print('This will run') # This inline comment won't run"
   ]
  },
  {
   "cell_type": "code",
   "execution_count": 5,
   "metadata": {},
   "outputs": [],
   "source": [
    "# Multiline comments don't exist in python\n",
    "# you must prefix every line with a #-sign"
   ]
  },
  {
   "cell_type": "code",
   "execution_count": 6,
   "metadata": {},
   "outputs": [
    {
     "data": {
      "text/plain": [
       "'Ok, there is a way to write\\nmultiline comments, but this is actually\\na string'"
      ]
     },
     "execution_count": 6,
     "metadata": {},
     "output_type": "execute_result"
    }
   ],
   "source": [
    "\"\"\"Ok, there is a way to write\n",
    "multiline comments, but this is actually\n",
    "a string\"\"\""
   ]
  },
  {
   "cell_type": "markdown",
   "metadata": {},
   "source": [
    "Code tells you how, comments should tell you why."
   ]
  },
  {
   "cell_type": "markdown",
   "metadata": {},
   "source": [
    "Comments should be D.R.Y. (don’t repeat yourself) not W.E.T (wrote everything twice)."
   ]
  },
  {
   "cell_type": "markdown",
   "metadata": {},
   "source": [
    "<a name=\"literal-constants\"> </a>\n",
    "### 1.2 Literal Constants | [↥](#basics) | [⌂](#table-of-contents)"
   ]
  },
  {
   "cell_type": "markdown",
   "metadata": {},
   "source": [
    "Here are some examples of literal constants:"
   ]
  },
  {
   "cell_type": "code",
   "execution_count": 8,
   "metadata": {},
   "outputs": [
    {
     "data": {
      "text/plain": [
       "5"
      ]
     },
     "execution_count": 8,
     "metadata": {},
     "output_type": "execute_result"
    },
    {
     "data": {
      "text/plain": [
       "1.23"
      ]
     },
     "execution_count": 8,
     "metadata": {},
     "output_type": "execute_result"
    },
    {
     "data": {
      "text/plain": [
       "0.00925"
      ]
     },
     "execution_count": 8,
     "metadata": {},
     "output_type": "execute_result"
    },
    {
     "data": {
      "text/plain": [
       "'This is a string'"
      ]
     },
     "execution_count": 8,
     "metadata": {},
     "output_type": "execute_result"
    },
    {
     "data": {
      "text/plain": [
       "\"It's another string\""
      ]
     },
     "execution_count": 8,
     "metadata": {},
     "output_type": "execute_result"
    }
   ],
   "source": [
    "5\n",
    "1.23\n",
    "9.25e-3\n",
    "'This is a string'\n",
    "\"It's another string\""
   ]
  },
  {
   "cell_type": "markdown",
   "metadata": {},
   "source": [
    "They are called *literal* because they represent themselves and nothing else. And they are called *constant* because their value cannot be changed."
   ]
  },
  {
   "cell_type": "markdown",
   "metadata": {},
   "source": [
    "<a name=\"numbers\"> </a>\n",
    "### 1.3 Numbers | [↥](#basics) | [⌂](#table-of-contents)"
   ]
  },
  {
   "cell_type": "markdown",
   "metadata": {},
   "source": [
    "There are three different types of numbers in python:"
   ]
  },
  {
   "cell_type": "markdown",
   "metadata": {},
   "source": [
    "- Integers (`2, -100, ...`)\n",
    "- Floats (`3.23, 52.3e-4, ...`)\n",
    "- Complex numbers (`1j, (3+2j), ...`)"
   ]
  },
  {
   "cell_type": "markdown",
   "metadata": {},
   "source": [
    "For using numbers in expressions see → [4](#operators-&-expressions)."
   ]
  },
  {
   "cell_type": "markdown",
   "metadata": {},
   "source": [
    "<a name=\"strings-basics\"> </a>\n",
    "### 1.4 Strings | [↥](#basics) | [⌂](#table-of-contents)"
   ]
  },
  {
   "cell_type": "markdown",
   "metadata": {},
   "source": [
    "A string is a sequence of characters. Strings are basically just a bunch of words. They are specified using single quotes `'`, double quotes `\"` or triple quotes `\"\"\"`."
   ]
  },
  {
   "cell_type": "code",
   "execution_count": 12,
   "metadata": {},
   "outputs": [
    {
     "data": {
      "text/plain": [
       "'This is a string'"
      ]
     },
     "execution_count": 12,
     "metadata": {},
     "output_type": "execute_result"
    },
    {
     "data": {
      "text/plain": [
       "\"It's another string\""
      ]
     },
     "execution_count": 12,
     "metadata": {},
     "output_type": "execute_result"
    },
    {
     "data": {
      "text/plain": [
       "'It\\'s a \"multiline\"\\nstring'"
      ]
     },
     "execution_count": 12,
     "metadata": {},
     "output_type": "execute_result"
    }
   ],
   "source": [
    "'This is a string' \t      # Don't use ' in here\n",
    "\n",
    "\"It's another string\" \t  # Don't use \" in here\n",
    "\n",
    "\"\"\"It's a \"multiline\"\n",
    "string\"\"\"\t\t\t      # You can use ' and \" in here ..."
   ]
  },
  {
   "cell_type": "markdown",
   "metadata": {},
   "source": [
    "For more on strings see → [3.6](#strings)."
   ]
  },
  {
   "cell_type": "markdown",
   "metadata": {},
   "source": [
    "<a name=\"keywords\"> </a>\n",
    "### 1.5 Keywords | [↥](#basics) | [⌂](#table-of-contents)"
   ]
  },
  {
   "cell_type": "markdown",
   "metadata": {},
   "source": [
    "Keywords are reserved words in Python. They are case sensitive and cannot be used as identifiers. Here is a list of all keywords in Python:"
   ]
  },
  {
   "cell_type": "markdown",
   "metadata": {},
   "source": [
    "```python\n",
    "False, None, True, and, as, assert, break, class,\n",
    "continue, def, del, elif, else, except, finally, for,\n",
    "from, global, if, import, in, is, lambda, nonlocal, not,\n",
    "or, pass, raise, return, try, while, with, yield\n",
    "```"
   ]
  },
  {
   "cell_type": "markdown",
   "metadata": {},
   "source": [
    "<a name=\"variables\"> </a>\n",
    "### 1.6 Variables | [↥](#basics) | [⌂](#table-of-contents)"
   ]
  },
  {
   "cell_type": "markdown",
   "metadata": {},
   "source": [
    "A variable is a container that holds data that may change. In simplest terms, a variable is just a box for storing stuff. Variables are referenced by their identifier."
   ]
  },
  {
   "cell_type": "code",
   "execution_count": 15,
   "metadata": {},
   "outputs": [],
   "source": [
    "special_value = 42"
   ]
  },
  {
   "cell_type": "markdown",
   "metadata": {},
   "source": [
    "Here the identifier is `special_value`, the data stored is `42` and `=` is the assignment operator (→ [4.3](#assignment-operators)). The identifier cannot be a keyword (→ [1.5](#keywords))."
   ]
  },
  {
   "cell_type": "markdown",
   "metadata": {},
   "source": [
    "Variables can hold values of different types called data types (→ [3.1](#data-types)). The basic types are numbers (→ [1.3](#numbers)) and strings (→ [1.4](#strings-basics)), more complex ones can be any object (→ [1.7](#objects-basics)). To create own types you can use classes (→ [8](#object-oriented-programming))."
   ]
  },
  {
   "cell_type": "markdown",
   "metadata": {},
   "source": [
    "<a name=\"objects-basics\"> </a>\n",
    "### 1.7 Objects | [↥](#basics) | [⌂](#table-of-contents)"
   ]
  },
  {
   "cell_type": "markdown",
   "metadata": {},
   "source": [
    "<a name=\"lines-&-indentation\"> </a>\n",
    "### 1.8 Lines & Indentation | [↥](#basics) | [⌂](#table-of-contents)"
   ]
  },
  {
   "cell_type": "markdown",
   "metadata": {},
   "source": [
    "<a name=\"help\"> </a>\n",
    "### 1.9 help() | [↥](#basics) | [⌂](#table-of-contents)"
   ]
  },
  {
   "cell_type": "markdown",
   "metadata": {},
   "source": [
    "Python provides a useful help function, you can pass nearly anything to."
   ]
  },
  {
   "cell_type": "code",
   "execution_count": 22,
   "metadata": {},
   "outputs": [
    {
     "name": "stdout",
     "output_type": "stream",
     "text": [
      "Help on class object in module builtins:\n",
      "\n",
      "class object\n",
      " |  The most base type\n",
      "\n"
     ]
    }
   ],
   "source": [
    "help(object)"
   ]
  },
  {
   "cell_type": "markdown",
   "metadata": {},
   "source": [
    "Just calling the help function without passing any argument to it starts an interactive help session."
   ]
  },
  {
   "cell_type": "code",
   "execution_count": 23,
   "metadata": {},
   "outputs": [
    {
     "name": "stdout",
     "output_type": "stream",
     "text": [
      "\n",
      "Welcome to Python 3.7's help utility!\n",
      "\n",
      "If this is your first time using Python, you should definitely check out\n",
      "the tutorial on the Internet at https://docs.python.org/3.7/tutorial/.\n",
      "\n",
      "Enter the name of any module, keyword, or topic to get help on writing\n",
      "Python programs and using Python modules.  To quit this help utility and\n",
      "return to the interpreter, just type \"quit\".\n",
      "\n",
      "To get a list of available modules, keywords, symbols, or topics, type\n",
      "\"modules\", \"keywords\", \"symbols\", or \"topics\".  Each module also comes\n",
      "with a one-line summary of what it does; to list the modules whose name\n",
      "or summary contain a given string such as \"spam\", type \"modules spam\".\n",
      "\n"
     ]
    },
    {
     "name": "stdin",
     "output_type": "stream",
     "text": [
      "help>  quit\n"
     ]
    },
    {
     "name": "stdout",
     "output_type": "stream",
     "text": [
      "\n",
      "You are now leaving help and returning to the Python interpreter.\n",
      "If you want to ask for help on a particular object directly from the\n",
      "interpreter, you can type \"help(object)\".  Executing \"help('string')\"\n",
      "has the same effect as typing a particular string at the help> prompt.\n"
     ]
    }
   ],
   "source": [
    "help()"
   ]
  },
  {
   "cell_type": "markdown",
   "metadata": {},
   "source": [
    "---"
   ]
  },
  {
   "cell_type": "markdown",
   "metadata": {},
   "source": [
    "<a name=\"input-&-output\"> </a>\n",
    "## 2 Input & Output | [⌂](#table-of-contents)"
   ]
  },
  {
   "cell_type": "markdown",
   "metadata": {},
   "source": [
    "---"
   ]
  },
  {
   "cell_type": "markdown",
   "metadata": {},
   "source": [
    "<a name=\"data-structures\"> </a>\n",
    "## 3 Data Structures | [⌂](#table-of-contents)"
   ]
  },
  {
   "cell_type": "markdown",
   "metadata": {},
   "source": [
    "---"
   ]
  },
  {
   "cell_type": "markdown",
   "metadata": {},
   "source": [
    "<a name=\"operators-&-expressions\"> </a>\n",
    "## 4 Operators & Expressions | [⌂](#table-of-contents)"
   ]
  },
  {
   "cell_type": "markdown",
   "metadata": {},
   "source": [
    "---"
   ]
  },
  {
   "cell_type": "markdown",
   "metadata": {},
   "source": [
    "<a name=\"control-flow\"> </a>\n",
    "## 5 Control Flow | [⌂](#table-of-contents)"
   ]
  },
  {
   "cell_type": "markdown",
   "metadata": {},
   "source": [
    "---"
   ]
  },
  {
   "cell_type": "markdown",
   "metadata": {},
   "source": [
    "<a name=\"useful-concepts\"> </a>\n",
    "## 6 Useful Concepts | [⌂](#table-of-contents)"
   ]
  },
  {
   "cell_type": "markdown",
   "metadata": {},
   "source": [
    "---"
   ]
  },
  {
   "cell_type": "markdown",
   "metadata": {},
   "source": [
    "<a name=\"functions\"> </a>\n",
    "## 7 Functions | [⌂](#table-of-contents)"
   ]
  },
  {
   "cell_type": "markdown",
   "metadata": {},
   "source": [
    "---"
   ]
  },
  {
   "cell_type": "markdown",
   "metadata": {},
   "source": [
    "<a name=\"object-oriented-programming\"> </a>\n",
    "## 8 Object Oriented Programming | [⌂](#table-of-contents)"
   ]
  },
  {
   "cell_type": "markdown",
   "metadata": {},
   "source": [
    "---"
   ]
  },
  {
   "cell_type": "markdown",
   "metadata": {},
   "source": [
    "<a name=\"modules-&-packages\"> </a>\n",
    "## 9 Modules & Packages | [⌂](#table-of-contents)"
   ]
  },
  {
   "cell_type": "markdown",
   "metadata": {},
   "source": [
    "---"
   ]
  },
  {
   "cell_type": "markdown",
   "metadata": {},
   "source": [
    "<a name=\"exceptions\"> </a>\n",
    "## 10 Exceptions | [⌂](#table-of-contents)"
   ]
  },
  {
   "cell_type": "markdown",
   "metadata": {},
   "source": [
    "---"
   ]
  },
  {
   "cell_type": "markdown",
   "metadata": {},
   "source": [
    "<a name=\"essential-concepts\"> </a>\n",
    "## Essential Concepts | [⌂](#table-of-contents)"
   ]
  },
  {
   "cell_type": "markdown",
   "metadata": {},
   "source": [
    "---"
   ]
  },
  {
   "cell_type": "markdown",
   "metadata": {},
   "source": [
    "<a name=\"unordered-content\"> </a>\n",
    "# Unordered Content | [⌂](#table-of-contents)"
   ]
  },
  {
   "cell_type": "code",
   "execution_count": 2,
   "metadata": {},
   "outputs": [
    {
     "data": {
      "text/plain": [
       "'The number is 0012.1235'"
      ]
     },
     "execution_count": 2,
     "metadata": {},
     "output_type": "execute_result"
    },
    {
     "data": {
      "text/plain": [
       "'The number is 1.212e+01'"
      ]
     },
     "execution_count": 2,
     "metadata": {},
     "output_type": "execute_result"
    },
    {
     "data": {
      "text/plain": [
       "'The number is +12.1234682546346'"
      ]
     },
     "execution_count": 2,
     "metadata": {},
     "output_type": "execute_result"
    },
    {
     "data": {
      "text/plain": [
       "'The number is 12'"
      ]
     },
     "execution_count": 2,
     "metadata": {},
     "output_type": "execute_result"
    },
    {
     "data": {
      "text/plain": [
       "'The number is 12.1234682546346'"
      ]
     },
     "execution_count": 2,
     "metadata": {},
     "output_type": "execute_result"
    },
    {
     "data": {
      "text/plain": [
       "'3.00'"
      ]
     },
     "execution_count": 2,
     "metadata": {},
     "output_type": "execute_result"
    }
   ],
   "source": [
    "number = 12.1234682546346\n",
    "f\"The number is {number:09.6}\"\n",
    "f\"The number is {number:.3e}\"\n",
    "f\"The number is {number:+}\"\n",
    "f\"The number is {number:.0f}\"\n",
    "f\"The number is {number:}\"\n",
    "f\"{3:.2f}\""
   ]
  },
  {
   "cell_type": "code",
   "execution_count": 27,
   "metadata": {},
   "outputs": [
    {
     "data": {
      "text/plain": [
       "'The integer is 00013'"
      ]
     },
     "execution_count": 27,
     "metadata": {},
     "output_type": "execute_result"
    },
    {
     "data": {
      "text/plain": [
       "'The integer is **13**'"
      ]
     },
     "execution_count": 27,
     "metadata": {},
     "output_type": "execute_result"
    },
    {
     "data": {
      "text/plain": [
       "'The integer is 13.00'"
      ]
     },
     "execution_count": 27,
     "metadata": {},
     "output_type": "execute_result"
    },
    {
     "data": {
      "text/plain": [
       "'The integer is +13'"
      ]
     },
     "execution_count": 27,
     "metadata": {},
     "output_type": "execute_result"
    },
    {
     "data": {
      "text/plain": [
       "'The integer is  13'"
      ]
     },
     "execution_count": 27,
     "metadata": {},
     "output_type": "execute_result"
    },
    {
     "data": {
      "text/plain": [
       "'The integer is 15'"
      ]
     },
     "execution_count": 27,
     "metadata": {},
     "output_type": "execute_result"
    },
    {
     "data": {
      "text/plain": [
       "'The integer is D'"
      ]
     },
     "execution_count": 27,
     "metadata": {},
     "output_type": "execute_result"
    },
    {
     "data": {
      "text/plain": [
       "'The integer is 1101'"
      ]
     },
     "execution_count": 27,
     "metadata": {},
     "output_type": "execute_result"
    },
    {
     "data": {
      "text/plain": [
       "'The integer is 1300%'"
      ]
     },
     "execution_count": 27,
     "metadata": {},
     "output_type": "execute_result"
    },
    {
     "data": {
      "text/plain": [
       "'The integer is 00001101'"
      ]
     },
     "execution_count": 27,
     "metadata": {},
     "output_type": "execute_result"
    },
    {
     "data": {
      "text/plain": [
       "'The integer is ***13'"
      ]
     },
     "execution_count": 27,
     "metadata": {},
     "output_type": "execute_result"
    },
    {
     "data": {
      "text/plain": [
       "'The long integer is 12,345,678.00'"
      ]
     },
     "execution_count": 27,
     "metadata": {},
     "output_type": "execute_result"
    }
   ],
   "source": [
    "integer = 13\n",
    "f\"The integer is {integer:05}\"       # padding zeros up to 5 digits\n",
    "f\"The integer is {integer:*^6}\"      # surround by * up to 6 digits\n",
    "f\"The integer is {integer:.2f}\"      # show as float with 2 decimal places\n",
    "f\"The integer is {integer:+}\"        # force a sign\n",
    "f\"The integer is {integer: }\"        # leading space if positive\n",
    "f\"The integer is {integer:o}\"        # show as octal\n",
    "f\"The integer is {integer:X}\"        # show as hexadecimal (x and X possible)\n",
    "f\"The integer is {integer:b}\"        # show as binary\n",
    "f\"The integer is {integer:.0%}\"      # show as percentage\n",
    "f\"The integer is {integer:08b}\"\n",
    "f\"The integer is {integer:*=5}\"\n",
    "long_integer = 12_345_678\n",
    "f\"The long integer is {long_integer:,.2f}\""
   ]
  },
  {
   "cell_type": "code",
   "execution_count": 277,
   "metadata": {},
   "outputs": [
    {
     "name": "stdout",
     "output_type": "stream",
     "text": [
      "***Gnu\n",
      "Gnu___\n",
      "***Gnu***\n",
      "Gn\n",
      "Gnu\n",
      "+003.2\n",
      "Ka\n",
      "5A\n",
      "🌑 🌒 🌓 🌔 🌕 🌖 🌗 🌘 🌑\n"
     ]
    }
   ],
   "source": [
    "word = 'Gnu'\n",
    "print(f\"{word:*>6}\")\n",
    "print(f\"{word:_<6}\")\n",
    "print(f\"{word:*^9}\")\n",
    "print(f\"{word:.2}\")\n",
    "print(f\"{word:}\")\n",
    "print(f\"{3.2:0=+6}\")\n",
    "print(f\"{'Karl':.2}\")\n",
    "print(f\"{90:X}\")     \n",
    "print(f\"{127761:c}\",\n",
    "      f\"{127762:c}\",\n",
    "      f\"{127763:c}\",\n",
    "      f\"{127764:c}\",\n",
    "      f\"{127765:c}\",\n",
    "      f\"{127766:c}\",\n",
    "      f\"{127767:c}\",\n",
    "      f\"{127768:c}\",\n",
    "      f\"{127761:c}\")"
   ]
  },
  {
   "cell_type": "code",
   "execution_count": 260,
   "metadata": {},
   "outputs": [
    {
     "name": "stdout",
     "output_type": "stream",
     "text": [
      "─│┐┘┌└\n",
      "┌────────┐\n",
      "│00001101│\n",
      "└────────┘\n"
     ]
    }
   ],
   "source": [
    "thing = 13\n",
    "print(\"─ │ ┌ ┐ └ ┘ ├ ┤ ┬ ┴ ┼\")\n",
    "print('┌', 8*'─', '┐', sep='')\n",
    "print('│', f'{thing:=08b}', '│', sep='')\n",
    "print('└', 8*'─', '┘', sep='')"
   ]
  },
  {
   "cell_type": "code",
   "execution_count": 42,
   "metadata": {},
   "outputs": [
    {
     "name": "stdout",
     "output_type": "stream",
     "text": [
      "λ\n",
      "λ\n",
      "λ\n",
      "λ\n",
      "λ\n"
     ]
    }
   ],
   "source": [
    "print('λ')\n",
    "print('\\u03BB')\n",
    "print('\\U000003BB')\n",
    "print('\\N{greek small letter lamda}')\n",
    "print(f'{955:c}')"
   ]
  },
  {
   "cell_type": "code",
   "execution_count": 47,
   "metadata": {},
   "outputs": [
    {
     "name": "stdout",
     "output_type": "stream",
     "text": [
      "Hello\n",
      "\u000b",
      "\n",
      "&\n",
      "&\n",
      "46\n",
      "λ is a scientific constant,\n",
      "it's value is 1.9e-26\n",
      "Newlines are indicated by \\n\n"
     ]
    }
   ],
   "source": [
    "print('      World\\rHello')\n",
    "print('\\v')\n",
    "print('\\x26')\n",
    "print('\\046')\n",
    "print(f'{38:o}')\n",
    "print('\\u03BB is a scientific constant,\\nit\\'s \\\n",
    "value is', 1.9e-26)\n",
    "print(r\"Newlines are indicated by \\n\")"
   ]
  },
  {
   "cell_type": "code",
   "execution_count": 1,
   "metadata": {},
   "outputs": [],
   "source": [
    "special_value = 42"
   ]
  },
  {
   "cell_type": "code",
   "execution_count": 10,
   "metadata": {},
   "outputs": [
    {
     "name": "stdout",
     "output_type": "stream",
     "text": [
      "False, None, True, and, as, assert, break, class, continue, def, del, elif, else, except, finally, for, from, global, if, import, in, is, lambda, nonlocal, not, or, pass, raise, return, try, while, with, yield, "
     ]
    }
   ],
   "source": [
    "keywords = 'class finally is return None continue for lambda try \\\n",
    "True def from nonlocal while and del global not with as elif \\\n",
    "if or yield assert else import pass break False except in raise'\n",
    "\n",
    "list_of_keywords = keywords.split(' ')\n",
    "list_of_keywords.sort()\n",
    "\n",
    "for word in list_of_keywords:\n",
    "    print(word, end=', ')"
   ]
  }
 ],
 "metadata": {
  "kernelspec": {
   "display_name": "Python 3",
   "language": "python",
   "name": "python3"
  },
  "language_info": {
   "codemirror_mode": {
    "name": "ipython",
    "version": 3
   },
   "file_extension": ".py",
   "mimetype": "text/x-python",
   "name": "python",
   "nbconvert_exporter": "python",
   "pygments_lexer": "ipython3",
   "version": "3.7.3"
  }
 },
 "nbformat": 4,
 "nbformat_minor": 2
}
