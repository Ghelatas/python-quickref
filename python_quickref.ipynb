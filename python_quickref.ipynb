{
 "cells": [
  {
   "cell_type": "markdown",
   "metadata": {},
   "source": [
    "**<h1 style=\"font-size:450%; font-family:Courier\">Python  \n",
    "    Quick Reference</h1>**"
   ]
  },
  {
   "cell_type": "markdown",
   "metadata": {},
   "source": [
    "##### **by Frodo Peiffer**\n",
    "As of: October 4, 2019 (incomplete)  \n",
    "Python Version: 3.7.3"
   ]
  },
  {
   "cell_type": "markdown",
   "metadata": {},
   "source": [
    "---\n",
    "---"
   ]
  },
  {
   "cell_type": "markdown",
   "metadata": {},
   "source": [
    "<a name=\"table-of-contents\"> </a>\n",
    "## **TABLE OF CONTENTS** (⌂)"
   ]
  },
  {
   "cell_type": "markdown",
   "metadata": {},
   "source": [
    "[Notifications](#notifications)  \n",
    "1&nbsp;&nbsp;&nbsp;&nbsp;[Basics](#basics)                                                  <font color=\"#00FF00\">✓</font>  \n",
    "2&nbsp;&nbsp;&nbsp;&nbsp;[Input & Output](#input-&-output)                                  <font color=\"#00FF00\">✓</font>  \n",
    "3&nbsp;&nbsp;&nbsp;&nbsp;[Data Types & Data Structures](#data-types-&-data-structures)      <font color=\"#FFFF00\">(5/10)</font>  \n",
    "4&nbsp;&nbsp;&nbsp;&nbsp;[Operators & Expressions](#operators-&-expressions)                <font color=\"#FF0000\">🗴</font>  \n",
    "5&nbsp;&nbsp;&nbsp;&nbsp;[Control Flow](#control-flow)                                      <font color=\"#FF0000\">🗴</font>  \n",
    "6&nbsp;&nbsp;&nbsp;&nbsp;[Functions](#functions)                                            <font color=\"#FF3800\">(1/9)</font>  \n",
    "7&nbsp;&nbsp;&nbsp;&nbsp;[Object Oriented Programming](#object-oriented-programming)        <font color=\"#FF0000\">🗴</font>  \n",
    "8&nbsp;&nbsp;&nbsp;&nbsp;[Useful Concepts](#useful-concepts)                                <font color=\"#FF0000\">🗴</font>  \n",
    "9&nbsp;&nbsp;&nbsp;&nbsp;[Modules & Packages](#modules-&-packages)                          <font color=\"#FF0000\">🗴</font>  \n",
    "10&nbsp;&nbsp;[Files & Pickle](#files-&-pickle)                                             <font color=\"#AAFF00\">(2/3)</font>  \n",
    "11&nbsp;&nbsp;[Exceptions & Unit Tests](#exceptions-&-unit-tests)                           <font color=\"#FF0000\">🗴</font>  \n",
    "12&nbsp;&nbsp;[Standard Library](#standard-library)                                         <font color=\"#FF0000\">🗴</font>  \n",
    "13&nbsp;&nbsp;[Further Topics](#further-topics)                                             <font color=\"#FF0000\">🗴</font>  \n",
    "\n",
    "#### Appendix  \n",
    "A&nbsp;&nbsp;&nbsp;[Essential Concepts](#essential-concepts)                                <font color=\"#42FF00\">(20/23)</font>  \n",
    "B&nbsp;&nbsp;&nbsp;[References](#references)                                                <font color=\"#FF0000\">🗴</font>\n",
    "\n",
    "#### Selected Packages\n",
    "📦&nbsp;&nbsp;[NumPy](#numpy)                                                               <font color=\"#FF0000\">🗴</font>  \n",
    "📦&nbsp;&nbsp;[pandas](#pandas)                                                             <font color=\"#FF0000\">🗴</font>  \n",
    "📦&nbsp;&nbsp;[Matplotlib](#matplotlib)                                                     <font color=\"#FF0000\">🗴</font>  \n",
    "📦&nbsp;&nbsp;[scikit-learn](#scikit-learn)                                                 <font color=\"#FF0000\">🗴</font>  \n",
    "\n",
    "#### Useful Non-Python Stuff\n",
    "🗋&nbsp;&nbsp;&nbsp;[Windows Command Prompt](#windows-command-prompt)                        <font color=\"#FF0000\">🗴</font>  \n",
    "🗋&nbsp;&nbsp;&nbsp;[Jupyter Cheatsheet](#jupyter-cheatsheet)                                <font color=\"#FF0000\">🗴</font>  \n",
    "🗋&nbsp;&nbsp;&nbsp;[Markdown Cheatsheet](#markdown-cheatsheet)                              <font color=\"#FF0000\">🗴</font>  \n",
    "🗋&nbsp;&nbsp;&nbsp;[HTML Cheatsheet](#html-cheatsheet)                                      <font color=\"#FF0000\">🗴</font>  \n",
    "🗋&nbsp;&nbsp;&nbsp;[$\\LaTeX$ Cheatsheet](#latex-cheatsheet)                                 <font color=\"#FF0000\">🗴</font>  \n",
    "🗋&nbsp;&nbsp;&nbsp;[Git Cheatsheet](#git-cheatsheet)                                        <font color=\"#FF0000\">🗴</font>  "
   ]
  },
  {
   "cell_type": "code",
   "execution_count": 207,
   "metadata": {},
   "outputs": [
    {
     "data": {
      "text/plain": [
       "'#FFFF00'"
      ]
     },
     "execution_count": 207,
     "metadata": {},
     "output_type": "execute_result"
    }
   ],
   "source": [
    "color_code(5, 10)"
   ]
  },
  {
   "cell_type": "markdown",
   "metadata": {},
   "source": [
    "---\n",
    "---"
   ]
  },
  {
   "cell_type": "markdown",
   "metadata": {},
   "source": [
    "<a name=\"notifications\"> </a>\n",
    "## **NOTIFICATIONS** | [⌂](#table-of-contents)"
   ]
  },
  {
   "cell_type": "markdown",
   "metadata": {},
   "source": [
    "#### References & Usage"
   ]
  },
  {
   "cell_type": "markdown",
   "metadata": {},
   "source": [
    "This \"Python - Quick Reference\" is based on several other quick references and documentations, (hopefully) most of them linked in the [References](#references) appendix. It contains the essential information about most aspects that seemed important to *me* while I was learning Python, but of course not all, and certainly not in detail. The usability of this Quick Reference may therefore vary for you."
   ]
  },
  {
   "cell_type": "markdown",
   "metadata": {},
   "source": [
    "#### Navigation"
   ]
  },
  {
   "cell_type": "markdown",
   "metadata": {},
   "source": [
    "There are some symbols for quick navigation near the headlines. The [⌂](#table-of-contents)-symbol is linked to the table of contents, and the [⭱](#notifications)-symbol is linked to the beginning of the respective chapter / section. Right below the header of each chapter / section there is a bar with links list to its sections / sub-sections.  \n",
    "In the text there are two kinds of links, [internal links](#) (sometimes preceded by 'see') and *[external links](#)* (sometimes preceded by 'visit' and written in italics).  \n",
    "You should also see the [Essential Concepts](#essential-concepts) appendix for short definitions of important terms."
   ]
  },
  {
   "cell_type": "markdown",
   "metadata": {},
   "source": [
    "#### Code & other important things"
   ]
  },
  {
   "cell_type": "markdown",
   "metadata": {},
   "source": [
    "In this document code is displayed in gray cells and formatted in accordance with *[Jupyter&nbsp;Notebooks](https://jupyter.org/)*. Any Output is displayed right below the cell via the `print()` function if necessary. See the following example:"
   ]
  },
  {
   "cell_type": "code",
   "execution_count": 1,
   "metadata": {},
   "outputs": [
    {
     "name": "stdout",
     "output_type": "stream",
     "text": [
      "Hello World\n"
     ]
    }
   ],
   "source": [
    "print(\"Hello World\")"
   ]
  },
  {
   "cell_type": "markdown",
   "metadata": {},
   "source": [
    "Any quotes, recommendations or listings are formatted as commentary:\n",
    "> \"The most important property of a program is whether it accomplishes the intention of its user.\"  \n",
    "> \\- C. A. R. Hoare"
   ]
  },
  {
   "cell_type": "markdown",
   "metadata": {},
   "source": [
    "#### Versions of this Quick Reference"
   ]
  },
  {
   "cell_type": "markdown",
   "metadata": {},
   "source": [
    "Without further requirements you can view this Quick Reference via the *[Notebook Viewer](https://nbviewer.jupyter.org/github/Ghelatas/python-quickref/blob/master/python_quickref.ipynb)* (you won't be able to execute code here).\n",
    "\n",
    "You can find the ipynb-source-file of this Notebook on my *[GitHub](https://github.com/Ghelatas/python-quickref)*. You will have to download or clone it, then run it in *[Jupyter's](https://jupyter.org/)* Software (Notebook or Lab). First you have to get yourself a *[Python](https://www.python.org)* installation, of course (if not  already installed). If you are going to do Data Science my recommendation is *[Anaconda](https://www.anaconda.com)*. It comes with a Python distribution, as well as Jupyter Notebook and Lab and many other features like a handy package manager."
   ]
  },
  {
   "cell_type": "markdown",
   "metadata": {},
   "source": [
    "#### Just for Cell Output ..."
   ]
  },
  {
   "cell_type": "markdown",
   "metadata": {},
   "source": [
    "The following code segment is significant only for the execution of this notebook. It suppresses the display of objects in the cell output where normally the last one is displayed for more readability. You're free to set it to `\"all\"`, so that every object will be displayed instead."
   ]
  },
  {
   "cell_type": "code",
   "execution_count": 2,
   "metadata": {},
   "outputs": [],
   "source": [
    "from IPython.core.interactiveshell import InteractiveShell\n",
    "InteractiveShell.ast_node_interactivity = \"none\""
   ]
  },
  {
   "cell_type": "markdown",
   "metadata": {},
   "source": [
    "Thank you for your interest and may the code be with you!  \n",
    "\n",
    "Best regards,  \n",
    "\n",
    "$Frodo$"
   ]
  },
  {
   "cell_type": "markdown",
   "metadata": {},
   "source": [
    "---\n",
    "---"
   ]
  },
  {
   "cell_type": "markdown",
   "metadata": {},
   "source": [
    "<a name=\"basics\"> </a>\n",
    "## **1&nbsp;&nbsp;&nbsp;BASICS** | [⌂](#table-of-contents)"
   ]
  },
  {
   "cell_type": "markdown",
   "metadata": {},
   "source": [
    "[Comments](#comments) | [Literal&nbsp;Constants](#literal-constants) | [Numbers](#numbers) | [Strings](#strings-basics) | [Keywords](#keywords) | [Identifiers](#identifiers) | [Variables](#variables) | [Functions](#functions-basics) | [Objects](#objects-basics) | [Lines&nbsp;&&nbsp;Indentation](#lines-&-indentation) | [help()](#help) | [dir()](#dir)"
   ]
  },
  {
   "cell_type": "markdown",
   "metadata": {},
   "source": [
    "This chapter gives a quick overview of the most important aspects of Python, which are necessary to understand the following chapters. In each section links lead to the corresponding detailed chapters."
   ]
  },
  {
   "cell_type": "markdown",
   "metadata": {},
   "source": [
    "<b name=\"comments\"> </b>\n",
    "### **1.1&nbsp;&nbsp;&nbsp;Comments** | [⭱](#basics) | [⌂](#table-of-contents)"
   ]
  },
  {
   "cell_type": "markdown",
   "metadata": {},
   "source": [
    "Comments are lines that won’t be executed when running the program. They are useful for readers of your program so that they can easily understand what the program is doing. Remember, that person can be yourself after six months!"
   ]
  },
  {
   "cell_type": "code",
   "execution_count": 3,
   "metadata": {},
   "outputs": [],
   "source": [
    "# This is a single line comment"
   ]
  },
  {
   "cell_type": "code",
   "execution_count": 4,
   "metadata": {},
   "outputs": [
    {
     "name": "stdout",
     "output_type": "stream",
     "text": [
      "This will run\n"
     ]
    }
   ],
   "source": [
    "print('This will run') # This inline comment won't run"
   ]
  },
  {
   "cell_type": "code",
   "execution_count": 5,
   "metadata": {},
   "outputs": [],
   "source": [
    "# Multiline comments don't exist in python\n",
    "# you must prefix every line with a #-sign"
   ]
  },
  {
   "cell_type": "code",
   "execution_count": 6,
   "metadata": {},
   "outputs": [],
   "source": [
    "\"\"\"Ok, there is a way to write\n",
    "multiline comments, but this is actually\n",
    "a string\"\"\""
   ]
  },
  {
   "cell_type": "markdown",
   "metadata": {},
   "source": [
    "For more on information see [Strings](#strings-basics). If possible, don't use strings as comments except for [DocStrings](#docstring)."
   ]
  },
  {
   "cell_type": "markdown",
   "metadata": {},
   "source": [
    "> Code tells you *how*, comments should tell you *why*!  \n",
    "> Commenting should be D.R.Y. (don’t repeat yourself) not W.E.T (wrote everything twice)."
   ]
  },
  {
   "cell_type": "markdown",
   "metadata": {},
   "source": [
    "<a name=\"literal-constants\"> </a>\n",
    "### **1.2&nbsp;&nbsp;&nbsp;Literal Constants** | [⭱](#basics) | [⌂](#table-of-contents)"
   ]
  },
  {
   "cell_type": "markdown",
   "metadata": {},
   "source": [
    "Below are some examples of 'literal constants':"
   ]
  },
  {
   "cell_type": "markdown",
   "metadata": {},
   "source": [
    "`5`, `1.23`, `9.25e-3`, `'This is a string'`, `\"It's another string\"`, `...`"
   ]
  },
  {
   "cell_type": "markdown",
   "metadata": {},
   "source": [
    "They are called *literal* because they represent themselves and nothing else. And they are called *constant* because their value cannot be changed. They are immutable.  \n",
    "[Numbers](#numbers) and [Strings](#strings-basics) are literal constants."
   ]
  },
  {
   "cell_type": "markdown",
   "metadata": {},
   "source": [
    "<a name=\"numbers\"> </a>\n",
    "### **1.3&nbsp;&nbsp;&nbsp;Numbers** | [⭱](#basics) | [⌂](#table-of-contents)"
   ]
  },
  {
   "cell_type": "markdown",
   "metadata": {},
   "source": [
    "There are three different types of numbers in python:  \n",
    "- Integers (`2`, `-100`, ...) abbreviated to 'int'  \n",
    "- Floating point numbers (`3.23`, `52.3e-4`, ...) abbreviated to 'float'  \n",
    "- Complex numbers (`1j`, `(3+2j)`, ...) abbreviated to 'complex'"
   ]
  },
  {
   "cell_type": "markdown",
   "metadata": {},
   "source": [
    "There is also a boolean value (abbreviated to 'bool') with the logical values `True` and `False`."
   ]
  },
  {
   "cell_type": "markdown",
   "metadata": {},
   "source": [
    "For more information on number- and boolean types see [Data Types](#data-types).  \n",
    "For using numbers in expressions see [Operators & Expressions](#operators-&-expressions)."
   ]
  },
  {
   "cell_type": "markdown",
   "metadata": {},
   "source": [
    "<a name=\"strings-basics\"> </a>\n",
    "### **1.4&nbsp;&nbsp;&nbsp;Strings** | [⭱](#basics) | [⌂](#table-of-contents)"
   ]
  },
  {
   "cell_type": "markdown",
   "metadata": {},
   "source": [
    "A string is a sequence of characters. Strings are basically just a bunch of words. They are specified using single quotes `'`, double quotes `\"` or triple quotes `\"\"\"`."
   ]
  },
  {
   "cell_type": "code",
   "execution_count": 7,
   "metadata": {},
   "outputs": [],
   "source": [
    "'This is a string'        # Don't use ' in here\n",
    "\n",
    "\"It's another string\"     # Don't use \" in here\n",
    "\n",
    "\"\"\"It's a \"multiline\"\n",
    "string\"\"\"                 # You can use ' and \" in here ..."
   ]
  },
  {
   "cell_type": "markdown",
   "metadata": {},
   "source": [
    "For more information see [Strings](#strings)."
   ]
  },
  {
   "cell_type": "markdown",
   "metadata": {},
   "source": [
    "<a name=\"keywords\"> </a>\n",
    "### **1.5&nbsp;&nbsp;&nbsp;Keywords** | [⭱](#basics) | [⌂](#table-of-contents)"
   ]
  },
  {
   "cell_type": "markdown",
   "metadata": {},
   "source": [
    "Keywords are reserved words in Python. They are case sensitive and cannot be used as [identifiers](#identifiers) for [variables](#variables), [functions](#functions-basics), [objects](#objects-basics), [classes](#object-basics), etc.."
   ]
  },
  {
   "cell_type": "markdown",
   "metadata": {},
   "source": [
    "Below is a list of all keywords in Python:\n",
    "> Ellipsis, False, None, True, and, as, assert, async, await, break, class, continue, def, del, elif, else, except, finally, for, from, global, if, import, in, is, lambda, nonlocal, not, or, pass, raise, return, try, while, with, yield"
   ]
  },
  {
   "cell_type": "markdown",
   "metadata": {},
   "source": [
    "<a name=\"identifiers\"> </a>\n",
    "### **1.6&nbsp;&nbsp;&nbsp;Identifiers** | [⭱](#basics) | [⌂](#table-of-contents)"
   ]
  },
  {
   "cell_type": "markdown",
   "metadata": {},
   "source": [
    "An 'identifier' is the *name* given to something (e.&nbsp;g. [variables](#variables), [functions](#functions-basics), [objects](#objects-basics), [classes](#object-basics), etc.). It gives you access to that \"something\" and lets you operate on it."
   ]
  },
  {
   "cell_type": "markdown",
   "metadata": {},
   "source": [
    "> The naming of identifiers should be comprehensible and help to differentiate one entity from another. Words can be seperated by underscores `_` for readability.  \n",
    "> The following examples provide an orientation to the spelling of identifiers for different entities. It is recommended to stick to these:  \n",
    ">\n",
    "> `some_variable` (for [variables](#variables) and [parameters](#parameters-&-arguments))  \n",
    "> `some_function` (for [functions](#functions-basics))  \n",
    "> `some_object` (for [objects](#objects-basics))  \n",
    "> `SomeClass` (for [classes](#classes))  \n",
    "> `some_attribute` (for public [attributes](#attributes))  \n",
    "> `__some_attribute` (for non-public [attributes](#attributes))  \n",
    "> `some_method` (for public [methods](#methods))  \n",
    "> `__some_method` (for non-public [methods](#methods))  \n",
    "> `some_module` (for [modules](#modules))  \n",
    "> `somepackage` (for [packages](#packages))  \n",
    "> `SOME_CONSTANT` (for constants)  \n",
    "> `SomeExceptionError` (for [exceptions](#exceptions-&-unit-tests))  \n",
    "> `__magic__` (reserved for \"magic\" functions)  "
   ]
  },
  {
   "cell_type": "markdown",
   "metadata": {},
   "source": [
    "⚠ Identifiers can *not* be [keywords](#keywords) or start with a number."
   ]
  },
  {
   "cell_type": "markdown",
   "metadata": {},
   "source": [
    "<a name=\"variables\"> </a>\n",
    "### **1.7&nbsp;&nbsp;&nbsp;Variables** | [⭱](#basics) | [⌂](#table-of-contents)"
   ]
  },
  {
   "cell_type": "markdown",
   "metadata": {},
   "source": [
    "A variable is a container that holds data that may change. In simplest terms, a variable is just a box for storing stuff. Variables are referenced by their [identifier](#identifiers)."
   ]
  },
  {
   "cell_type": "code",
   "execution_count": 8,
   "metadata": {},
   "outputs": [],
   "source": [
    "special_value = 42"
   ]
  },
  {
   "cell_type": "markdown",
   "metadata": {},
   "source": [
    "Here the identifier is `special_value`, the data stored is `42` and `=` is the [assignment operator](#assignment-operators). The identifier cannot be a [keyword](#keywords).  \n",
    "Variables can hold values of different [data types](#data-types). Some basic types are [numbers](#numbers) and [strings](#strings-basics), more complex ones can be any [object](#objects-basics). To create own types you can use [classes](#classes)."
   ]
  },
  {
   "cell_type": "markdown",
   "metadata": {},
   "source": [
    "<a name=\"functions-basics\"> </a>\n",
    "### **1.8&nbsp;&nbsp;&nbsp;Functions** | [⭱](#basics) | [⌂](#table-of-contents)"
   ]
  },
  {
   "cell_type": "markdown",
   "metadata": {},
   "source": [
    "A function is a [block](#indentation) of code which is executed when the function is 'called'. It can get passed arguments which may be used in its execution and on the other hand it can also return objects (values, etc.).  \n",
    "Besides writing own functions, Python provides a variety of predifined built-in functions (short: builtins). For example the length-function:"
   ]
  },
  {
   "cell_type": "code",
   "execution_count": 9,
   "metadata": {},
   "outputs": [
    {
     "name": "stdout",
     "output_type": "stream",
     "text": [
      "11\n"
     ]
    }
   ],
   "source": [
    "word_length = len('Mississippi')\n",
    "print(word_length)"
   ]
  },
  {
   "cell_type": "markdown",
   "metadata": {},
   "source": [
    "Here `len` is the 'identifier' of the function, `'Mississippi'` is the 'argument' and the 'return object' is `11` which is stored in a variable and printed subsequently. The identifier cannot be a [keyword](#keywords)."
   ]
  },
  {
   "cell_type": "markdown",
   "metadata": {},
   "source": [
    "Below is a list of all Python builtins:\n",
    "> \\_\\_import__(), abs(), all(), any(), ascii(), bin(), bool(), breakpoint(), bytearray(), bytes(), callable(), chr(), classmethod(), compile(), complex(), delattr(), dict(), dir(), divmod(), enumerate(), eval(), exec(), filter(), float(), format(), frozenset(), getattr(), globals(), hasattr(), hash(), help(), hex(), id(), input(), int(), isinstance(), issubclass(), iter(), len(), list(), locals(), map(), max(), memoryview(), min(), next(), object(), oct(), open(), ord(), pow(), print(), property(), range(), repr(), reversed(), round(), set(), setattr(), slice(), sorted(), staticmethod(), str(), sum(), super(), tuple(), type(), vars(), zip()"
   ]
  },
  {
   "cell_type": "markdown",
   "metadata": {},
   "source": [
    "Even if a function does not need any arguments you have to write empty opening and closing parantheses like in `help()`."
   ]
  },
  {
   "cell_type": "markdown",
   "metadata": {},
   "source": [
    "For detailed information on individual builtins visit the *[Python Documentation](https://docs.python.org/3/library/functions.html)*.  \n",
    "For more information see [Functions](#functions)."
   ]
  },
  {
   "cell_type": "markdown",
   "metadata": {},
   "source": [
    "<a name=\"objects-basics\"> </a>\n",
    "### **1.9&nbsp;&nbsp;&nbsp;Objects** | [⭱](#basics) | [⌂](#table-of-contents)"
   ]
  },
  {
   "cell_type": "markdown",
   "metadata": {},
   "source": [
    "Python is strongly [object-oriented](#object-oriented-programming) and refers to anything used in a program as an object. This is meant in the generic sense, including numbers, strings, functions, etc.. Apart from the use of already existing objects, you can also generate your own [objects](#objects) from [classes](#classes).\n",
    "\n",
    "Objects are instances of classes and can have multiple [attributes](#attributes) and [methods](#methods).  \n",
    "E.&nbsp;g. the object `birch` may be an instance of the class `Tree` and might have the attribute `birch.height` and the method `birch.grow()`.\n",
    "\n",
    "Fro more information see [Object Oriented Programming](#object-oriented-programming)."
   ]
  },
  {
   "cell_type": "markdown",
   "metadata": {},
   "source": [
    "<a name=\"lines-&-indentation\"> </a>\n",
    "### **1.10&nbsp;&nbsp;&nbsp;Lines & Indentation** | [⭱](#basics) | [⌂](#table-of-contents)"
   ]
  },
  {
   "cell_type": "markdown",
   "metadata": {},
   "source": [
    "[Physical&nbsp;&&nbsp;Logical&nbsp;Line](#physical-&-logical-line) | [Indentation](#indentation)"
   ]
  },
  {
   "cell_type": "markdown",
   "metadata": {},
   "source": [
    "<a name=\"physical-&-logical-line\"> </a>\n",
    "#### 1.10.1&nbsp;&nbsp;&nbsp;Physical & Logical Line | [⭱](#lines-&-indentation) | [⌂](#table-of-contents)"
   ]
  },
  {
   "cell_type": "markdown",
   "metadata": {},
   "source": [
    "A 'physical line' is what you see when you write the program. A 'logical line' is what Python\n",
    "sees as a single statement. Python implicitly assumes that each physical line corresponds to\n",
    "a logical line.  \n",
    "In this way Python encourages the use of a single statement per line which makes code more\n",
    "readable.\n",
    "\n",
    "If you want to specify more than one logical line on a single physical line, then you have to\n",
    "explicitly specify this using a semicolon (`;`) which indicates the end of a logical\n",
    "line or statement. For example:"
   ]
  },
  {
   "cell_type": "code",
   "execution_count": 10,
   "metadata": {},
   "outputs": [
    {
     "name": "stdout",
     "output_type": "stream",
     "text": [
      "54\n"
     ]
    }
   ],
   "source": [
    "variable_1 = 54\n",
    "print(variable_1)"
   ]
  },
  {
   "cell_type": "markdown",
   "metadata": {},
   "source": [
    "can be written as"
   ]
  },
  {
   "cell_type": "code",
   "execution_count": 11,
   "metadata": {},
   "outputs": [
    {
     "name": "stdout",
     "output_type": "stream",
     "text": [
      "54\n"
     ]
    }
   ],
   "source": [
    "variable_1 = 54; print(variable_1)"
   ]
  },
  {
   "cell_type": "markdown",
   "metadata": {},
   "source": [
    "> It is recommended to write a maximum of a single logical line on a physical line, so you never have to use the semicolon."
   ]
  },
  {
   "cell_type": "markdown",
   "metadata": {},
   "source": [
    "If there is a long logical line of code you have to break up into multiple physical lines this can be done by using the backslash `\\` at the end of each physical line. This is called 'explicit line joining':"
   ]
  },
  {
   "cell_type": "code",
   "execution_count": 12,
   "metadata": {},
   "outputs": [],
   "source": [
    "variable_2 = \\\n",
    "23                  # same as variable_2 = 23"
   ]
  },
  {
   "cell_type": "markdown",
   "metadata": {},
   "source": [
    "When the logical line has a starting paranthesis (square bracket, curly brace) but not an ending one you don't need to use the backslash `\\` for logical line continuation. This is called 'implicit line joining':"
   ]
  },
  {
   "cell_type": "code",
   "execution_count": 13,
   "metadata": {},
   "outputs": [
    {
     "name": "stdout",
     "output_type": "stream",
     "text": [
      "54 23\n"
     ]
    }
   ],
   "source": [
    "print(variable_1,\n",
    "      variable_2)"
   ]
  },
  {
   "cell_type": "markdown",
   "metadata": {},
   "source": [
    "<a name=\"indentation\"> </a>\n",
    "#### 1.10.2&nbsp;&nbsp;&nbsp;Indentation | [⭱](#lines-&-indentation) | [⌂](#table-of-contents)"
   ]
  },
  {
   "cell_type": "markdown",
   "metadata": {},
   "source": [
    "Whitespace is important in Python. Spaces and tabs at the beginning of a [logical line](#physical-&-logical-line) are used to determine the indentation level of this line, which in turn is used to determine the grouping of statements.  \n",
    "This means that statements that go together **must** have the same indentation. Each such set of statements is called a 'suite' or 'block'. This is particularly important when structuring the [control flow](#control-flow) or [defining functions](#defining-functions) and [classes](#classes)."
   ]
  },
  {
   "cell_type": "markdown",
   "metadata": {},
   "source": [
    "> The official Python language recommendation suggests using four spaces for indentation. Good editors will automatically do this for you."
   ]
  },
  {
   "cell_type": "markdown",
   "metadata": {},
   "source": [
    "<a name=\"help\"> </a>\n",
    "### **1.11&nbsp;&nbsp;&nbsp;`help()`** | [⭱](#basics) | [⌂](#table-of-contents)"
   ]
  },
  {
   "cell_type": "markdown",
   "metadata": {},
   "source": [
    "Python provides a useful help function, you can pass nearly anything to."
   ]
  },
  {
   "cell_type": "code",
   "execution_count": null,
   "metadata": {},
   "outputs": [],
   "source": [
    "help(object)"
   ]
  },
  {
   "cell_type": "markdown",
   "metadata": {},
   "source": [
    "Just calling the help function without passing any argument to it starts an interactive help session."
   ]
  },
  {
   "cell_type": "code",
   "execution_count": null,
   "metadata": {},
   "outputs": [],
   "source": [
    "help()"
   ]
  },
  {
   "cell_type": "markdown",
   "metadata": {},
   "source": [
    "<a name=\"dir\"> </a>\n",
    "### **1.12&nbsp;&nbsp;&nbsp;`dir()`** | [⭱](#basics) | [⌂](#table-of-contents)"
   ]
  },
  {
   "cell_type": "markdown",
   "metadata": {},
   "source": [
    "Python provides a useful browse function you can pass any object to.  \n",
    "You can browse e.&nbsp;g. objects, classes, modules, etc. for their functions, attributes, methods, etc.."
   ]
  },
  {
   "cell_type": "code",
   "execution_count": null,
   "metadata": {},
   "outputs": [],
   "source": [
    "dir(__builtins__)"
   ]
  },
  {
   "cell_type": "markdown",
   "metadata": {},
   "source": [
    "Just calling the dir function browses the current [module](#modules)."
   ]
  },
  {
   "cell_type": "code",
   "execution_count": null,
   "metadata": {},
   "outputs": [],
   "source": [
    "dir()"
   ]
  },
  {
   "cell_type": "markdown",
   "metadata": {},
   "source": [
    "---"
   ]
  },
  {
   "cell_type": "markdown",
   "metadata": {},
   "source": [
    "<a name=\"input-&-output\"> </a>\n",
    "## **2&nbsp;&nbsp;&nbsp;INPUT & OUTPUT** | [⌂](#table-of-contents)"
   ]
  },
  {
   "cell_type": "markdown",
   "metadata": {},
   "source": [
    "[Output](#output) | [Input&nbsp;form&nbsp;User](#input-from-user)"
   ]
  },
  {
   "cell_type": "markdown",
   "metadata": {},
   "source": [
    "<a name=\"output\"> </a>\n",
    "### **2.1&nbsp;&nbsp;&nbsp;Output** | [⭱](#input-&-output) | [⌂](#table-of-contents)"
   ]
  },
  {
   "cell_type": "markdown",
   "metadata": {},
   "source": [
    "In general, output is written to the console with Python's built-in `print()` function. You can pass several arguments to it, which then will be converted into strings and passed to the standard output stream."
   ]
  },
  {
   "cell_type": "code",
   "execution_count": 15,
   "metadata": {},
   "outputs": [
    {
     "name": "stdout",
     "output_type": "stream",
     "text": [
      "The next sentence is true. The previous sentece is false.\n"
     ]
    }
   ],
   "source": [
    "print('The next sentence is true.', 'The previous sentece is false.')"
   ]
  },
  {
   "cell_type": "markdown",
   "metadata": {},
   "source": [
    "The full use of the print-function is:  \n",
    "`print(value, ..., sep=' ', end='\\n', file=sys.stdout, flush=False)`"
   ]
  },
  {
   "cell_type": "markdown",
   "metadata": {},
   "source": [
    "<a name=\"input-from-user\"> </a>\n",
    "### **2.2&nbsp;&nbsp;&nbsp;Input from User** | [⭱](#input-&-output) | [⌂](#table-of-contents)"
   ]
  },
  {
   "cell_type": "markdown",
   "metadata": {},
   "source": [
    "In general, the user input can be read from the console with Python's built-in `input()` function. It returns the input as a string, so it can be stored in variables or used in expressions for example."
   ]
  },
  {
   "cell_type": "code",
   "execution_count": 16,
   "metadata": {},
   "outputs": [
    {
     "name": "stdin",
     "output_type": "stream",
     "text": [
      "Pease type in your username:  Ghelatas\n"
     ]
    },
    {
     "name": "stdout",
     "output_type": "stream",
     "text": [
      "Ghelatas consists of 8 characters.\n"
     ]
    }
   ],
   "source": [
    "username = input('Pease type in your username: ')\n",
    "print(username, 'consists of', len(username), 'characters.')"
   ]
  },
  {
   "cell_type": "markdown",
   "metadata": {},
   "source": [
    "---"
   ]
  },
  {
   "cell_type": "markdown",
   "metadata": {},
   "source": [
    "<a name=\"data-types-&-data-structures\"> </a>\n",
    "## **3&nbsp;&nbsp;&nbsp;DATA TYPES & DATA STRUCTURES** | [⌂](#table-of-contents)"
   ]
  },
  {
   "cell_type": "markdown",
   "metadata": {},
   "source": [
    "[Overview](#overview) | [Data&nbsp;Types](#data-types) | [Strings](#strings) | [Type&nbsp;Conversion](#type-conversion) | [Lists](#lists) | [Tuples](#tuples) | [Sets](#sets) | [Frozensets](#frozensets) |[Range](#range) | [Dictionaries](#dictionaries)"
   ]
  },
  {
   "cell_type": "markdown",
   "metadata": {},
   "source": [
    "<a name=\"overview\"> </a>\n",
    "### **3.1&nbsp;&nbsp;&nbsp;Overview** | [⭱](#data-types-&-data-structures) | [⌂](#table-of-contents)"
   ]
  },
  {
   "cell_type": "markdown",
   "metadata": {},
   "source": [
    "[Features&nbsp;of&nbsp;Data&nbsp;Structures](#features-of-data-structures) | [Indexing](#indexing) | [Operations&nbsp;on&nbsp;Data&nbsp;Structures](#operations-on-data-structures)"
   ]
  },
  {
   "cell_type": "markdown",
   "metadata": {},
   "source": [
    "This Quick Reference distinguishes 'data types' and 'data structures'. The data type is the *kind* of a single, particular [object](#objects-basics) (i.&nbsp;e its [class](#objects-basics)), e.&nbsp;g. is 7 of type integer. Whereas data structures may contain one or several objects, which need not necessarily be of the same data type, e.&nbsp;g. a list. It should be noted that the data structure itself is an object which is of a specific data type, too. Accordingly, a list is a data structure of data type 'list'."
   ]
  },
  {
   "cell_type": "markdown",
   "metadata": {},
   "source": [
    "Basic built-in data types are:  \n",
    "> [None](#none) (`None` or `NoneType`)  \n",
    "> [Boolean](#bool) (`bool`)  \n",
    "> [Integer](#int) (`int`)  \n",
    "> [Floating point number](#float) (`float`)  \n",
    "> [Complex number](#complex) (`complex`)  \n",
    "> [String](#strings) (`str`)"
   ]
  },
  {
   "cell_type": "markdown",
   "metadata": {},
   "source": [
    "Basic built-in data structures are:\n",
    "> [String](#strings) (`str`)  \n",
    "> [List](#lists) (`list`)  \n",
    "> [Tuple](#tuples) (`tuple`)  \n",
    "> [Set](#sets) (`set`)  \n",
    "> [Frozenset](#frozensets) (`frozenset`)  \n",
    "> [Range](#range) (`range`)  \n",
    "> [Dictionary](#dictionaries) (`dict`)"
   ]
  },
  {
   "cell_type": "markdown",
   "metadata": {},
   "source": [
    "<a name=\"features-of-data-structures\"> </a>\n",
    "#### 3.1.1&nbsp;&nbsp;&nbsp;Features of Data Structures | [⭱](#overview) | [⌂](#table-of-contents)"
   ]
  },
  {
   "cell_type": "markdown",
   "metadata": {},
   "source": [
    "All of the above mentioned data structures are so called 'Iterables' i.&nbsp;e. they are capable of returning their contained objects one at a time. For this reason these data structures sometimes will be called *Iterables* synonymously in this Quick Reference.  \n",
    "Further the data structures *List*, *Tuple*, *Range* and in a wider context *Strings* are 'Sequences' i.&nbsp;e. you can access their members via indexing. This implies that sequences are **ordered** Iterables.  \n",
    "Finally the data structures *List*, *Set* and *Dictionary* are **mutable** whereas *Strings*, *Tuples*, *Frozensets* and *Ranges* ar **immutable**.  "
   ]
  },
  {
   "cell_type": "markdown",
   "metadata": {},
   "source": [
    "See the following table for the features of Python's built-in data structures:\n",
    "\n",
    "| Feature  | String | List | Tuple | Set | Frozenset | Range | Dictionary |\n",
    "|----------|--------|------|-------|-----|-----------|-------|------------|\n",
    "| Iterable | yes    | yes  | yes   | yes | yes       | yes   | yes        |\n",
    "| Sequence | (yes)  | yes  | yes   | no  | no        | yes   | no         |\n",
    "| Ordered  | yes    | yes  | yes   | no  | no        | yes   | no         |\n",
    "| Mutable  | no     | yes  | no    | yes | no        | no    | yes        |"
   ]
  },
  {
   "cell_type": "markdown",
   "metadata": {},
   "source": [
    "<a name=\"indexing\"> </a>\n",
    "#### 3.1.2&nbsp;&nbsp;&nbsp;Indexing | [⭱](#overview) | [⌂](#table-of-contents)"
   ]
  },
  {
   "cell_type": "markdown",
   "metadata": {},
   "source": [
    "A [sequence's](#features-of-data-structures) members can be accessed via indexing (e.&nbsp;g. `my_list[4]` returns the 5-th element of `my_list`). Note that the **index always starts with 0**.  \n",
    "You can access multiple objects of a sequence between a starting and an ending index (e.&nbsp;g. `my_list[3:6]` returns the 3-rd, 4-th and 5-th element of `my_list`). This is called 'slicing'. Note that the **element on the last index is always excluded**.  \n",
    "When specifying a 'step' only every second, third, etc. element is accessed (e.&nbsp;g. `my_list[2:7:2]` returns the 3-rd, 5-th and 7-th element of `my_list`). See the following example:"
   ]
  },
  {
   "cell_type": "code",
   "execution_count": 204,
   "metadata": {},
   "outputs": [
    {
     "name": "stdout",
     "output_type": "stream",
     "text": [
      "['b', 'd', 'f']\n"
     ]
    }
   ],
   "source": [
    "#           0    1    2    3    4    5\n",
    "my_list = ['a', 'b', 'c', 'd', 'e', 'f']\n",
    "print(my_list[1:6:2])       # slice from index 1 (incl.) to index 6 (excl.) by step 2"
   ]
  },
  {
   "cell_type": "markdown",
   "metadata": {},
   "source": [
    "<a name=\"operations-on-data-structures\"> </a>\n",
    "#### 3.1.3&nbsp;&nbsp;&nbsp;Operations on Data Structures | [⭱](#overview) | [⌂](#table-of-contents)"
   ]
  },
  {
   "cell_type": "markdown",
   "metadata": {},
   "source": [
    "Based on the [features](#features-of-data-structures) of the different data structures several operations can be performed on them.  \n",
    "Below is a table that shows common and mutable sequence operations and if they are supported by the above mentioned data structures:\n",
    "\n",
    "| Operation                          | Result                                                          | String | List | Tuple | Set | Frozenset | Range | Dictionary |\n",
    "|------------------------------------|-----------------------------------------------------------------|--------|------|-------|-----|-----------|-------|------------|\n",
    "| `x in s`                           | True if an item of s is equal to x, else False                  | yes    | yes  | yes   | yes | yes       | yes   | yes        |\n",
    "| `x not in s`                       | False if an item of s is equal to x, else True                  | yes    | yes  | yes   | yes | yes       | yes   | yes        |\n",
    "| `s + t`                            | concatenation of s and t                                        | yes    | yes  | yes   | no  | no        | no    | no         |\n",
    "| `s * n` or `n * s`                 | repetion of s n times                                           | yes    | yes  | yes   | no  | no        | no    | no         |\n",
    "| `s[i]`                             | i-th item of s                                                  | yes    | yes  | yes   | no  | no        | yes   | (yes)      |\n",
    "| `s[i:j]`                           | slice of s from i to j                                          | yes    | yes  | yes   | no  | no        | yes   | no         |\n",
    "| `s[i:j:k]`                         | slice of s from i to j with step k                              | yes    | yes  | yes   | no  | no        | yes   | no         |\n",
    "| `len(s)`                           | length of s                                                     | yes    | yes  | yes   | yes | yes       | yes   | yes        |\n",
    "| `min(s)`                           | smallest item of s                                              | yes    | yes  | yes   | yes | yes       | yes   | yes        |\n",
    "| `max(s)`                           | largest item of s                                               | yes    | yes  | yes   | yes | yes       | yes   | yes        |\n",
    "| `s.index(x, i, j)`                 | index of the first occurrence of x in s (from i to j)           | yes    | yes  | yes   | no  | no        | yes   | no         |\n",
    "| `s.count(x)`                       | total number of occurrences of x in s                           | yes    | yes  | yes   | no  | no        | yes   | no         |\n",
    "| `s[i] = x`                         | item i of s is replaced by x                                    | no     | yes  | no    | no  | no        | no    | yes        |\n",
    "| `del s[i]`                         | remove item of s at index i                                     | no     | yes  | no    | no  | no        | no    | yes        |\n",
    "| `s[i:j] = t`                       | slice of s from i to j is replaced by contents of t             | no     | yes  | no    | no  | no        | no    | no         |\n",
    "| `del s[i:j]`                       | remove items of s from i to j                                   | no     | yes  | no    | no  | no        | no    | no         |\n",
    "| `s[i:j:k] = t`                     | slice of s from i to j with step k is replaced by contents of t | no     | yes  | no    | no  | no        | no    | no         |\n",
    "| `del s[i:j:k]`                     | remove items of s from i to j with step k                       | no     | yes  | no    | no  | no        | no    | no         |\n",
    "| `s.append(x)`                      | append x to the end of the sequence                             | no     | yes  | no    | no  | no        | no    | no         |\n",
    "| `s.clear()` or `del s[:]`          | removes all items from s                                        | no     | yes  | no    | yes | no        | no    | yes        |\n",
    "| `s.copy()` or `s[:]`               | creates a shallow copy of s                                     | no     | yes  | no    | yes | yes       | no    | yes        |\n",
    "| `s.extend(t)` or `s += t`          | extends s with the contents of t                                | no     | yes  | no    | no  | no        | no    | no         |\n",
    "| `s *= n`                           | updates s with its contents repeated n times                    | (yes)  | yes  | (yes) | no  | no        | no    | no         |\n",
    "| `s.insert(i, x)` or `s[i:i] = [x]` | inserts x into s before index i                                 | no     | yes  | no    | no  | no        | no    | no         |\n",
    "| `s.pop(i)`                         | retrieves item at index i and also removes it from s            | no     | yes  | no    | yes | no        | no    | yes        |\n",
    "| `s.remove(x)`                      | remove first occurrence of x in s                               | no     | yes  | no    | yes | no        | no    | no         |\n",
    "| `s.reverse()`                      | reverses items of s in place                                    | no     | yes  | no    | no  | no        | no    | no         |"
   ]
  },
  {
   "cell_type": "markdown",
   "metadata": {},
   "source": [
    "<a name=\"data-types\"> </a>\n",
    "### **3.2&nbsp;&nbsp;&nbsp;Data Types** | [⭱](#data-types-&-data-structures) | [⌂](#table-of-contents)"
   ]
  },
  {
   "cell_type": "markdown",
   "metadata": {},
   "source": [
    "[None](#none) | [Boolean](#bool) | [Integer](#int) | [Float](#float) | [Complex](#complex) | [Other&nbsp;Data&nbsp;Types](#other-data-types)"
   ]
  },
  {
   "cell_type": "markdown",
   "metadata": {},
   "source": [
    "Make sure to read the [Overview](#overview) section of this chapter first.  \n",
    "The data type of any object can be retrieved by using the `type()` function."
   ]
  },
  {
   "cell_type": "markdown",
   "metadata": {},
   "source": [
    "<a name=\"none\"> </a>\n",
    "#### 3.2.1&nbsp;&nbsp;&nbsp;None | [⭱](#data-types) | [⌂](#table-of-contents)"
   ]
  },
  {
   "cell_type": "markdown",
   "metadata": {},
   "source": [
    "The `None` type indicates the lack of data."
   ]
  },
  {
   "cell_type": "code",
   "execution_count": 17,
   "metadata": {},
   "outputs": [
    {
     "name": "stdout",
     "output_type": "stream",
     "text": [
      "<class 'NoneType'>\n"
     ]
    }
   ],
   "source": [
    "empty_variable = None\n",
    "print(type(empty_variable))"
   ]
  },
  {
   "cell_type": "markdown",
   "metadata": {},
   "source": [
    "For example the `print()` [function](#functions-basics) does not return a value as you can see in the following example:"
   ]
  },
  {
   "cell_type": "code",
   "execution_count": 18,
   "metadata": {},
   "outputs": [
    {
     "name": "stdout",
     "output_type": "stream",
     "text": [
      "\n",
      "<class 'NoneType'>\n"
     ]
    }
   ],
   "source": [
    "print(type(print()))"
   ]
  },
  {
   "cell_type": "markdown",
   "metadata": {},
   "source": [
    "<a name=\"bool\"> </a>\n",
    "#### 3.2.2&nbsp;&nbsp;&nbsp;Boolean | [⭱](#data-types) | [⌂](#table-of-contents)"
   ]
  },
  {
   "cell_type": "markdown",
   "metadata": {},
   "source": [
    "Boolean values are the most fundamental data types in programming. They can only be `True` or `False` (which are reserved [keywords](#keywords))."
   ]
  },
  {
   "cell_type": "code",
   "execution_count": 19,
   "metadata": {},
   "outputs": [
    {
     "name": "stdout",
     "output_type": "stream",
     "text": [
      "<class 'bool'>\n",
      "<class 'bool'>\n"
     ]
    }
   ],
   "source": [
    "jumper = True\n",
    "print(type(jumper))\n",
    "print(type(False))"
   ]
  },
  {
   "cell_type": "markdown",
   "metadata": {},
   "source": [
    "Expressed in numbers `True` is associated with `1` and `False` is associated with `0`:"
   ]
  },
  {
   "cell_type": "code",
   "execution_count": 20,
   "metadata": {},
   "outputs": [
    {
     "name": "stdout",
     "output_type": "stream",
     "text": [
      "4 0\n"
     ]
    }
   ],
   "source": [
    "print(True + 3, False * 7)"
   ]
  },
  {
   "cell_type": "markdown",
   "metadata": {},
   "source": [
    "The [constructor](#classes) for a boolean value is `bool()`. Passing no [arguments](#functions-basics) will result in the [return value](#functions-basics) `False`. However it is not neccesary to use it for value construction, because you can just type the value as it is for this purpose.  \n",
    "Passing any other arguments than `False`, `None` or `0` to the `bool()` function will result in the retrun value `True`."
   ]
  },
  {
   "cell_type": "code",
   "execution_count": 21,
   "metadata": {},
   "outputs": [
    {
     "name": "stdout",
     "output_type": "stream",
     "text": [
      "True, True, False, True\n"
     ]
    }
   ],
   "source": [
    "a = bool(True)\n",
    "b = True\n",
    "c = bool()\n",
    "d = bool('Something')\n",
    "print(a, b, c, d, sep=', ')"
   ]
  },
  {
   "cell_type": "markdown",
   "metadata": {},
   "source": [
    "Amongst other use cases boolean values are commonly used in the [control flow](#control-flow) structures of a program where they serve to execute, repeat or bypass code segments depending on certain conditions that can be true or false."
   ]
  },
  {
   "cell_type": "markdown",
   "metadata": {},
   "source": [
    "<a name=\"int\"> </a>\n",
    "#### 3.2.3&nbsp;&nbsp;&nbsp;Integer | [⭱](#data-types) | [⌂](#table-of-contents)"
   ]
  },
  {
   "cell_type": "markdown",
   "metadata": {},
   "source": [
    "Integer numbers are e.&nbsp;g. `4`, `15`, `-3`, `-100`, `0`, ... . Their data type is `int` and they are derived from the mathematical set of *[integers $\\mathbb{Z}$](https://en.wikipedia.org/wiki/Integer)*.  \n",
    "Note that tehy do **not correspond** to the set of integers $\\mathbb{Z}$ entirely because of the memory limitation of computers, that is why very large positive or negative numbers cannot be represented."
   ]
  },
  {
   "cell_type": "code",
   "execution_count": 22,
   "metadata": {},
   "outputs": [
    {
     "name": "stdout",
     "output_type": "stream",
     "text": [
      "<class 'int'>\n"
     ]
    }
   ],
   "source": [
    "print(type(-23))"
   ]
  },
  {
   "cell_type": "markdown",
   "metadata": {},
   "source": [
    "The [constructor](#classes) for an integer is `int()`. Passing no [arguments](#functions-basics) will result in the [return value](#functions-basics) `0`. However it is not neccesary to use it for value construction, because you can just type the number as it is for this purpose.  \n",
    "By passing the [keyword argument](#keyword-arguments) `base` you can specify a base, the given value is interpreted with. In this case the value has to ba a [string](#strings-basics), bytes or bytearray."
   ]
  },
  {
   "cell_type": "code",
   "execution_count": 23,
   "metadata": {},
   "outputs": [
    {
     "name": "stdout",
     "output_type": "stream",
     "text": [
      "7, 7, 0, 42\n"
     ]
    }
   ],
   "source": [
    "a = int(7)\n",
    "b = 7\n",
    "c = int()\n",
    "d = int('1J', base=23)\n",
    "print(a, b, c, d, sep=', ')"
   ]
  },
  {
   "cell_type": "markdown",
   "metadata": {},
   "source": [
    "<a name=\"float\"> </a>\n",
    "#### 3.2.4&nbsp;&nbsp;&nbsp;Float | [⭱](#data-types) | [⌂](#table-of-contents)"
   ]
  },
  {
   "cell_type": "markdown",
   "metadata": {},
   "source": [
    "Floating point numbers are e.g `3.1`, `-3.23`, `52.3e-4`, ... . Their data type is `float` and they are derived from the mathematical set of *[rational numbers $\\mathbb{Q}$](https://en.wikipedia.org/wiki/Rational_number)*.  \n",
    "Note that they do **not correspond** to the set of rational numbers $\\mathbb{Q}$ entirely or *[real numbers $\\mathbb{R}$](https://en.wikipedia.org/wiki/Real_number)* because of the memory limitation of computers, that is why periodic and irrational numbers cannot be represented entirely."
   ]
  },
  {
   "cell_type": "code",
   "execution_count": 24,
   "metadata": {},
   "outputs": [
    {
     "name": "stdout",
     "output_type": "stream",
     "text": [
      "<class 'float'>\n"
     ]
    }
   ],
   "source": [
    "print(type(1.0))"
   ]
  },
  {
   "cell_type": "markdown",
   "metadata": {},
   "source": [
    "The [constructor](#classes) for a floating point number is `float()`. Passing no [arguments](#functions-basics) will result in the [return value](#functions-basics) `0.0`. However it is not neccessary to use it for value construction, because you can just type the number as it is for this purpose.  \n",
    "Using this function, it is possible to create the values positive and negative infinity (`inf`, `-inf`)."
   ]
  },
  {
   "cell_type": "code",
   "execution_count": 25,
   "metadata": {},
   "outputs": [
    {
     "name": "stdout",
     "output_type": "stream",
     "text": [
      "3.2, 3.2, 0.0, inf, -inf\n"
     ]
    }
   ],
   "source": [
    "a = float(3.2)\n",
    "b = 3.2\n",
    "c = float()\n",
    "d = float('inf')\n",
    "e = float('-inf')\n",
    "print(a, b, c, d, e, sep=', ')"
   ]
  },
  {
   "cell_type": "markdown",
   "metadata": {},
   "source": [
    "<a name=\"complex\"> </a>\n",
    "#### 3.2.5&nbsp;&nbsp;&nbsp;Complex | [⭱](#data-types) | [⌂](#table-of-contents)"
   ]
  },
  {
   "cell_type": "markdown",
   "metadata": {},
   "source": [
    "Complex numbers are e.&nbsp;g. `2+3j`, `1j`, `(-2.3+5j)`, `7-1.3j`, ... . Their data type is `complex` and they are derived from the mathematical set of *[complex numbers $\\mathbb{C}$](https://en.wikipedia.org/wiki/Complex_number)*.  \n",
    "Note that they do **not correspond** to the set of complex numbers $\\mathbb{C}$ entirely because of the memory limitations of computers, that ist why very large, periodic and irrational number in the real and imagenary part of the complex number cannot be represented."
   ]
  },
  {
   "cell_type": "code",
   "execution_count": 26,
   "metadata": {},
   "outputs": [
    {
     "name": "stdout",
     "output_type": "stream",
     "text": [
      "<class 'complex'>\n"
     ]
    }
   ],
   "source": [
    "print(type(7-1.3j))"
   ]
  },
  {
   "cell_type": "markdown",
   "metadata": {},
   "source": [
    "The [constructor](#classes) for a complex number is `complex()`. Passing no [arguments](#functions-basics) will result in the [return value](#functions-basics) `0j`. However it is not neccessary to use it for value construction, because you can just type the number as it is for this purpose.  \n",
    "Further you can pass the real and imaginary part as [positional arguments](#parameters-&-arguments) with `complex(real, imag)`. Conversely, the real or imaginary part of a complex number can be retrieved as its [attributes](#objects-basics) `complex.real` or `complex.imag`."
   ]
  },
  {
   "cell_type": "code",
   "execution_count": 27,
   "metadata": {},
   "outputs": [
    {
     "name": "stdout",
     "output_type": "stream",
     "text": [
      "(3-2j), (3-2j), 0j, (-4+8j), 4.25\n"
     ]
    }
   ],
   "source": [
    "a = complex(3-2j)\n",
    "b = 3-2j\n",
    "c = complex()\n",
    "d = complex(-4, 8)\n",
    "e = (1.33+4.25j).imag\n",
    "print(a, b, c, d, e, sep=', ')"
   ]
  },
  {
   "cell_type": "markdown",
   "metadata": {},
   "source": [
    "<a name=\"other-data-types\"> </a>\n",
    "#### 3.2.6&nbsp;&nbsp;&nbsp;Other Data Types | [⭱](#data-types) | [⌂](#table-of-contents)"
   ]
  },
  {
   "cell_type": "markdown",
   "metadata": {},
   "source": [
    "Another built-in data type is the [String](#strings-basics). More on that in the next section on [Strings](#strings).  \n",
    "There may be many more different data types especially when you start [importing](#modules-&-packages) other [modules](#modules) or [packages](#packages) with their own objects.  \n",
    "In a wider sense the data type of an object is its class, so in order to comprehend or create other data types than the built-in ones you can read the section on [Object Oriented Programming](#object-oriented-programming)."
   ]
  },
  {
   "cell_type": "markdown",
   "metadata": {},
   "source": [
    "<a name=\"strings\"> </a>\n",
    "### **3.3&nbsp;&nbsp;&nbsp;Strings** | [⭱](#data-types-&-data-structures) | [⌂](#table-of-contents)"
   ]
  },
  {
   "cell_type": "markdown",
   "metadata": {},
   "source": [
    "[Formatted&nbsp;Strings](#formatted-strings) | [Formatted&nbsp;Datetime&nbsp;in&nbsp;Strings](#formatted-datetime-in-strings) | [Escape&nbsp;Sequences](#escape-sequences) | [Raw&nbsp;Strings](#raw-strings) | [String&nbsp;Methods](#string-methods) | [Unicode](#unicode)"
   ]
  },
  {
   "cell_type": "markdown",
   "metadata": {},
   "source": [
    "The basic syntax of strings already is adressed in the section [Strings](#strings-basics) of the chapter Basics.  \n",
    "Recall a string is a sequence of characters. They are specified using single quotes `'`, double quotes `\"` or triple quotes `\"\"\"`.  \n",
    "In contrast to other programming languages characters are no accessible data type in Python, even a string consisting of just one character still is of type `str`."
   ]
  },
  {
   "cell_type": "code",
   "execution_count": 28,
   "metadata": {},
   "outputs": [
    {
     "name": "stdout",
     "output_type": "stream",
     "text": [
      "<class 'str'>\n"
     ]
    }
   ],
   "source": [
    "print(type('h'))"
   ]
  },
  {
   "cell_type": "markdown",
   "metadata": {},
   "source": [
    "At the same time a string is a [sequence](#features-of-data-structures) and therefore a [data structure](#overview) containing several cahracters. You can access the single characters with square brackets `[]`. The [indexing](#indexing) starts with 0."
   ]
  },
  {
   "cell_type": "code",
   "execution_count": 29,
   "metadata": {},
   "outputs": [
    {
     "name": "stdout",
     "output_type": "stream",
     "text": [
      "t o n y\n"
     ]
    }
   ],
   "source": [
    "word = 'Python'\n",
    "print(word[2], word[4], word[-1], word[1])"
   ]
  },
  {
   "cell_type": "markdown",
   "metadata": {},
   "source": [
    "The [constructor](#classes) for a string is `str()`. Passing no [arguments](#functions-basics) will result in the [return value](#functions-basics) `''` (empty string). However it is not neccessary to use it for value construction, because you can just type the string in qoutes for this purpose.  "
   ]
  },
  {
   "cell_type": "code",
   "execution_count": 30,
   "metadata": {},
   "outputs": [
    {
     "name": "stdout",
     "output_type": "stream",
     "text": [
      "Hello World, Hello World, <= nothing here"
     ]
    }
   ],
   "source": [
    "a = str('Hello World')\n",
    "b = 'Hello World'\n",
    "c = str()\n",
    "print(a, b, c, sep=', ', end=\"<= nothing here\")"
   ]
  },
  {
   "cell_type": "markdown",
   "metadata": {},
   "source": [
    "By using the `+` [operator](#arithmetic-operators), multiple strings can be merged; this is called 'concatenation':"
   ]
  },
  {
   "cell_type": "code",
   "execution_count": 3,
   "metadata": {},
   "outputs": [
    {
     "name": "stdout",
     "output_type": "stream",
     "text": [
      "My name is John and I am 24 years old.\n"
     ]
    }
   ],
   "source": [
    "name = 'John'\n",
    "age = '24'\n",
    "print('My name is ' + name + ' and I am ' + age + ' years old.')"
   ]
  },
  {
   "cell_type": "markdown",
   "metadata": {},
   "source": [
    "<a name=\"formatted-strings\"> </a>\n",
    "#### 3.3.1&nbsp;&nbsp;&nbsp;Formatted Strings | [⭱](#strings) | [⌂](#table-of-contents)"
   ]
  },
  {
   "cell_type": "markdown",
   "metadata": {},
   "source": [
    "With formatted [strings](#strings) (f-strings) prefixed by f, the values of [arguments](#functions-basics) can be expressed without [concatenation](#strings):"
   ]
  },
  {
   "cell_type": "code",
   "execution_count": 31,
   "metadata": {},
   "outputs": [
    {
     "name": "stdout",
     "output_type": "stream",
     "text": [
      "My name is John and I am 24 years old.\n"
     ]
    }
   ],
   "source": [
    "name = 'John'\n",
    "age = 24\n",
    "print(f'My name is {name} and I am {age} years old.')"
   ]
  },
  {
   "cell_type": "markdown",
   "metadata": {},
   "source": [
    "[Expressions](#operators-&-expressions), [functions](#functions-basics), etc. can be used within f-strings:"
   ]
  },
  {
   "cell_type": "code",
   "execution_count": 32,
   "metadata": {},
   "outputs": [
    {
     "name": "stdout",
     "output_type": "stream",
     "text": [
      "7 times 13 is 91\n"
     ]
    }
   ],
   "source": [
    "print(f'7 times 13 is {7 * 13}')"
   ]
  },
  {
   "cell_type": "markdown",
   "metadata": {},
   "source": [
    "Additional formatting can be done using format specifiers after a colon:"
   ]
  },
  {
   "cell_type": "code",
   "execution_count": 33,
   "metadata": {},
   "outputs": [
    {
     "name": "stdout",
     "output_type": "stream",
     "text": [
      "The value is 0027\n",
      "Pi is equal to 3.1416\n"
     ]
    }
   ],
   "source": [
    "print(f'The value is {27:04}')\n",
    "pi = 3.14159265\n",
    "print(f'Pi is equal to {pi:.4f}')"
   ]
  },
  {
   "cell_type": "markdown",
   "metadata": {},
   "source": [
    "Below is a list with examples of further format specifiers:\n",
    "> **Common format specifiers**  \n",
    "> `f'{42:_<5}'`       (Align left, fill with \\_, width 5: 42___)  \n",
    "> `f'{\"FP\":*^6}'`     (Center, fill with \\*, width 6: \\*\\*FP\\*\\*)  \n",
    "> `f'{3.2:>5}'`       (Align right, width 5: &nbsp;&nbsp;3.2)  \n",
    "> `f'{\"Karl\":.2}'`    (Only show first 2 characters: Ka)  \n",
    "\n",
    "> **Format specifiers for numbers**  \n",
    "> `f'{42:04}'`        (Padding zeros, width 4: 0042)  \n",
    "> `f'{42:+}'`         (Force a sign: +42)  \n",
    "> `f'{42: }'`         (Leading space if positive: &nbsp;42)  \n",
    "> `f'{1800:,}'`       (Thousand's delimiter: 1,800)  \n",
    "> `f'{3:.2f}'`        (Show as float, precision 2: 3.00)  \n",
    "> `f'{0.3:.2%}'`      (Show as percentage, 2 decimals: 30.00%)  \n",
    "> `f'{15000:.1e}'`    (Show as scientific notation: 1.5e+04)  \n",
    "> `f'{13:b}'`         (Show as binary: 1101)  \n",
    "> `f'{83:o}'`         (Show as octal: 123)  \n",
    "> `f'{61:X}'`         (Show as hexadecimal: 3D)  \n",
    "> `f'{955:c}'`        (Type Unicode character (decimal): λ)  "
   ]
  },
  {
   "cell_type": "markdown",
   "metadata": {},
   "source": [
    "Also see the [Unicode](#unicode) sub-section."
   ]
  },
  {
   "cell_type": "markdown",
   "metadata": {},
   "source": [
    "<a name=\"formatted-datetime-in-strings\"> </a>\n",
    "#### 3.3.2&nbsp;&nbsp;&nbsp;Formatted Datetime in Strings | [⭱](#strings) | [⌂](#table-of-contents)"
   ]
  },
  {
   "cell_type": "markdown",
   "metadata": {},
   "source": [
    "After [importing](#imports) the datetime module , the datetime object comes with further [format specifiers](#formatted-strings):"
   ]
  },
  {
   "cell_type": "code",
   "execution_count": 34,
   "metadata": {},
   "outputs": [
    {
     "name": "stdout",
     "output_type": "stream",
     "text": [
      "John is born October 13, 1995.\n"
     ]
    }
   ],
   "source": [
    "from datetime import datetime\n",
    "birthday = datetime(1995, 10, 13)\n",
    "print(f\"John is born {birthday:%B %d, %Y}.\")"
   ]
  },
  {
   "cell_type": "markdown",
   "metadata": {},
   "source": [
    "For more datetime formatting visit *[Programiz](https://www.programiz.com/python-programming/datetime/strftime)*."
   ]
  },
  {
   "cell_type": "markdown",
   "metadata": {},
   "source": [
    "<a name=\"escape-sequences\"> </a>\n",
    "#### 3.3.3&nbsp;&nbsp;&nbsp;Escape Sequences | [⭱](#strings) | [⌂](#table-of-contents)"
   ]
  },
  {
   "cell_type": "markdown",
   "metadata": {},
   "source": [
    "Escape sequences are prefixed by a backslash \\ and can be used to print special characters within a [string](#strings). For example:"
   ]
  },
  {
   "cell_type": "code",
   "execution_count": 35,
   "metadata": {},
   "outputs": [
    {
     "name": "stdout",
     "output_type": "stream",
     "text": [
      "λ is a scientific constant,\n",
      "it's value is 1.9e-26.\n"
     ]
    }
   ],
   "source": [
    "print('\\u03BB is a scientific constant,\\nit\\'s value \\\n",
    "is 1.9e-26.')"
   ]
  },
  {
   "cell_type": "markdown",
   "metadata": {},
   "source": [
    "Note that a single backslash \\ at the end of the line indicates that the string is continued in the next line, but no newline is added (see [explicit line joining](#physical-&-logical-line))."
   ]
  },
  {
   "cell_type": "markdown",
   "metadata": {},
   "source": [
    "Below is a list of all escape sequences:\n",
    "> `\\\\`         (Backslash: \\\\)  \n",
    "> `\\'`         (Single quote: ')  \n",
    "> `\\\"`         (Double quote: \")  \n",
    "> `\\a`         (Bell)  \n",
    "> `\\b`         (Backspace)  \n",
    "> `\\f`         (Formfeed)  \n",
    "> `\\n`         (Newline)  \n",
    "> `\\r`         (Carriage return)  \n",
    "> `\\t`         (Horizontal tab)  \n",
    "> `\\v`         (Vertical tab)  \n",
    "> `\\046`       (Unicode character with octal value 046: &)  \n",
    "> `\\x26`       (Unicode character with hex value 26: &)  \n",
    "> `\\u03BB`     (Unicode character with hex value 03BB: λ)  \n",
    "> `\\U000003BB` (Unicode character with hex value 000003BB: λ)  \n",
    "> `\\N{tilde}`  (Unicode character named 'tilde': ~)  "
   ]
  },
  {
   "cell_type": "markdown",
   "metadata": {},
   "source": [
    "Also see the [Unicode](#unicode) section."
   ]
  },
  {
   "cell_type": "markdown",
   "metadata": {},
   "source": [
    "<a name=\"raw-strings\"> </a>\n",
    "#### 3.3.4&nbsp;&nbsp;&nbsp;Raw Strings | [⭱](#strings) | [⌂](#table-of-contents)"
   ]
  },
  {
   "cell_type": "markdown",
   "metadata": {},
   "source": [
    "A raw [string](#strings) (prefixed by r) is used, where no special processing such as [escape sequences](#escape-sequences) should be handled. An example is:"
   ]
  },
  {
   "cell_type": "code",
   "execution_count": 36,
   "metadata": {},
   "outputs": [
    {
     "name": "stdout",
     "output_type": "stream",
     "text": [
      "Newlines are indicated by \\n.\n"
     ]
    }
   ],
   "source": [
    "print(r'Newlines are indicated by \\n.')"
   ]
  },
  {
   "cell_type": "markdown",
   "metadata": {},
   "source": [
    "<a name=\"string-methods\"> </a>\n",
    "#### 3.3.5&nbsp;&nbsp;&nbsp;String Methods | [⭱](#strings) | [⌂](#table-of-contents)"
   ]
  },
  {
   "cell_type": "markdown",
   "metadata": {},
   "source": [
    "[Strings](#strings) implement all of the [common sequence operations](#operations-on-data-structures), along with additional string-[methods](#methods)."
   ]
  },
  {
   "cell_type": "markdown",
   "metadata": {},
   "source": [
    "Below is a full list of all string methods:\n",
    "> capitalize(), casefold(), center(), count(), encode(), endswith(), expandtabs(), find(), format(), format_map(), index(), isalnum(), isalpha(), isascii(), isdecimal(), isdigit(), isidentifier(), islower(), isnumeric(), isprintable(), isspace(), istitle(), isupper(), join(), ljust(), lower(), lstrip(), maketrans(), partition(), replace(), rfind(), rindex(), rjust(), rpartition(), rsplit(), rstrip(), split(), splitlines(), startswith(), strip(), swapcase(), title(), translate(), upper(), zfill()"
   ]
  },
  {
   "cell_type": "markdown",
   "metadata": {},
   "source": [
    "Since strings are [objects](#objects-basics) you can access their methods with the `.` operator. See the example below:"
   ]
  },
  {
   "cell_type": "code",
   "execution_count": 37,
   "metadata": {},
   "outputs": [
    {
     "name": "stdout",
     "output_type": "stream",
     "text": [
      "EXPERIENCE IS MERELY THE NAME MEN GAVE TO THEIR MISTAKES.\n"
     ]
    }
   ],
   "source": [
    "sentence = 'Experience is merely the name men gave to their mistakes.'\n",
    "print(sentence.upper())"
   ]
  },
  {
   "cell_type": "markdown",
   "metadata": {},
   "source": [
    "For a detailed description of the individual methods visit the *[Python Documentation](https://docs.python.org/3/library/stdtypes.html#string-methods)*."
   ]
  },
  {
   "cell_type": "markdown",
   "metadata": {},
   "source": [
    "<a name=\"unicode\"> </a>\n",
    "#### 3.3.6&nbsp;&nbsp;&nbsp;Unicode | [⭱](#strings) | [⌂](#table-of-contents)"
   ]
  },
  {
   "cell_type": "markdown",
   "metadata": {},
   "source": [
    "For more Unicode characters visit *[Unicode-Table](https://unicode-table.com/en/)*."
   ]
  },
  {
   "cell_type": "markdown",
   "metadata": {},
   "source": [
    "<a name=\"type-conversion\"> </a>\n",
    "### **3.4&nbsp;&nbsp;&nbsp;Type Conversion** | [⭱](#data-types-&-data-structures) | [⌂](#table-of-contents)"
   ]
  },
  {
   "cell_type": "markdown",
   "metadata": {},
   "source": [
    "In order to convert values from one [data type](#data-types) to another (if possible) you can use their [constructors](#classes) (`bool()`, `int()`, `float()`, `complex()`, `str()`). For example you can convert the integer `15` to a floating point number by using the `float()` constructor.  \n",
    "When converting floats to integers their value is truncated. Furthermore complex numbers cannot be converted to integers or floats as a whole, just their real or imaginary part can.  \n",
    "As long as they are readable as numbers strings can be converted to numbers by using their respective constructor. The other way round any number can be converted into a string."
   ]
  },
  {
   "cell_type": "code",
   "execution_count": 38,
   "metadata": {},
   "outputs": [
    {
     "name": "stdout",
     "output_type": "stream",
     "text": [
      "15.0, 2, (4+0j), -5.2, 12.5, 3.1415\n"
     ]
    }
   ],
   "source": [
    "a = float(15)\n",
    "b = int(2.71828)\n",
    "c = complex(4)\n",
    "d = float((-5.2+0.3j).real)\n",
    "e = float('12.5')\n",
    "f = str(3.1415)\n",
    "print(a, b, c, d, e, f, sep=', ')"
   ]
  },
  {
   "cell_type": "markdown",
   "metadata": {},
   "source": [
    "<a name=\"lists\"> </a>\n",
    "### **3.5&nbsp;&nbsp;&nbsp;Lists** | [⭱](#data-types-&-data-structures) | [⌂](#table-of-contents)"
   ]
  },
  {
   "cell_type": "markdown",
   "metadata": {},
   "source": [
    "Make sure to read the [Overview](#overview) section of this chapter first.\n",
    "\n",
    "A *list* is a data structure that holds an ordered collection of items i.&nbsp;e. you can store a [sequence](#features-of-data-structures) of items in a list. Lists are [mutable](#features-of-data-structures).  \n",
    "The data type of a list symply is `list` and it is specified by enclosing the items in square brackets `[]`."
   ]
  },
  {
   "cell_type": "code",
   "execution_count": 1,
   "metadata": {},
   "outputs": [
    {
     "name": "stdout",
     "output_type": "stream",
     "text": [
      "<class 'list'>\n"
     ]
    }
   ],
   "source": [
    "ingredients = ['blueberries', 'bananas', 'soy curd', 'curcumin', 'cinamon', 'ground flaxseed', 'walnuts', 'raisins', 'oatmeal', 'oat drink']\n",
    "print(type(ingredients))"
   ]
  },
  {
   "cell_type": "markdown",
   "metadata": {},
   "source": [
    "Lists implement all of the [common and mutable sequence operations](#operations-on-data-structures), along with additional list-[methods](#methods)."
   ]
  },
  {
   "cell_type": "code",
   "execution_count": 45,
   "metadata": {},
   "outputs": [
    {
     "name": "stdout",
     "output_type": "stream",
     "text": [
      "True\n",
      "raisins\n",
      "The used spices are ['curcumin', 'cinamon'].\n"
     ]
    }
   ],
   "source": [
    "print('milk' not in ingredients)\n",
    "print(ingredients[-3])\n",
    "print(f'The used spices are {ingredients[3:5]}.')"
   ]
  },
  {
   "cell_type": "markdown",
   "metadata": {},
   "source": [
    "Below is a full list (🤣) of all list methods:\n",
    "> append(), clear(), copy(), count(), extend(), index(), insert(), pop(), remove(), reverse(), sort()"
   ]
  },
  {
   "cell_type": "code",
   "execution_count": 38,
   "metadata": {},
   "outputs": [
    {
     "name": "stdout",
     "output_type": "stream",
     "text": [
      "['blueberries', 'bananas', 'soy curd', 'curcumin', 'cinamon', 'ginger', 'ginger', 'ground flaxseed', 'walnuts', 'raisins', 'oatmeal', 'oat drink']\n"
     ]
    }
   ],
   "source": [
    "ingredients.insert(5, 'ginger')\n",
    "print(ingredients)"
   ]
  },
  {
   "cell_type": "markdown",
   "metadata": {},
   "source": [
    "For a detailed description of the individual methods visit the *[Python Documentation](https://docs.python.org/3/library/stdtypes.html#lists)*."
   ]
  },
  {
   "cell_type": "markdown",
   "metadata": {},
   "source": [
    "The `list()` [constructor](#classes) builds a list from a given [iterable](#features-of-data-structures) object whose items are the same and in the same order as the iterable's items. If the given object already is a list, the constructor returns a copy of that list."
   ]
  },
  {
   "cell_type": "code",
   "execution_count": 47,
   "metadata": {},
   "outputs": [
    {
     "name": "stdout",
     "output_type": "stream",
     "text": [
      "['r', 'a', 'i', 's', 'i', 'n', 's']\n"
     ]
    }
   ],
   "source": [
    "letters = list(ingredients[-3])\n",
    "print(letters)"
   ]
  },
  {
   "cell_type": "markdown",
   "metadata": {},
   "source": [
    "⚠ Since lists are mutable you have to be careful: if you do not copy a list but instead assign it to a new variable, this variable just *points* to the original list. So if you change one list the other one will be changed, too."
   ]
  },
  {
   "cell_type": "code",
   "execution_count": 48,
   "metadata": {},
   "outputs": [
    {
     "name": "stdout",
     "output_type": "stream",
     "text": [
      "['r', 'a', 'i', 'n']\n",
      "['r', 'a', 'i', 'n']\n"
     ]
    }
   ],
   "source": [
    "characters = letters                  # use .copy() here if you don't want ..\n",
    "del characters[2:4], characters[-1]\n",
    "print(characters)\n",
    "print(letters)                        # ... letters to be changed, too!"
   ]
  },
  {
   "cell_type": "markdown",
   "metadata": {},
   "source": [
    "In the example above you can avoid this by calling the `letters.copy()` method in the [assignment](#variables) or use the `list()` constructor as mentioned earlier.  \n",
    "If you generally want to avoid the mutability of your data you should use [tuples](#tuples) instead."
   ]
  },
  {
   "cell_type": "markdown",
   "metadata": {},
   "source": [
    "<a name=\"tuples\"> </a>\n",
    "### **3.6&nbsp;&nbsp;&nbsp;Tuples** | [⭱](#data-types-&-data-structures) | [⌂](#table-of-contents)"
   ]
  },
  {
   "cell_type": "markdown",
   "metadata": {},
   "source": [
    "<a name=\"sets\"> </a>\n",
    "### **3.7&nbsp;&nbsp;&nbsp;Sets** | [⭱](#data-types-&-data-structures) | [⌂](#table-of-contents)"
   ]
  },
  {
   "cell_type": "markdown",
   "metadata": {},
   "source": [
    "<a name=\"frozensets\"> </a>\n",
    "### **3.8&nbsp;&nbsp;&nbsp;Frozensets** | [⭱](#data-types-&-data-structures) | [⌂](#table-of-contents)"
   ]
  },
  {
   "cell_type": "markdown",
   "metadata": {},
   "source": [
    "<a name=\"range\"> </a>\n",
    "### **3.9&nbsp;&nbsp;&nbsp;Range** | [⭱](#data-types-&-data-structures) | [⌂](#table-of-contents)"
   ]
  },
  {
   "cell_type": "markdown",
   "metadata": {},
   "source": [
    "<a name=\"dictionaries\"> </a>\n",
    "### **3.10&nbsp;&nbsp;&nbsp;Dictionaries** | [⭱](#data-types-&-data-structures) | [⌂](#table-of-contents)"
   ]
  },
  {
   "cell_type": "markdown",
   "metadata": {},
   "source": [
    "---"
   ]
  },
  {
   "cell_type": "markdown",
   "metadata": {},
   "source": [
    "<a name=\"operators-&-expressions\"> </a>\n",
    "## **4&nbsp;&nbsp;&nbsp;OPERATORS & EXPRESSIONS** | [⌂](#table-of-contents)"
   ]
  },
  {
   "cell_type": "markdown",
   "metadata": {},
   "source": [
    "[Math](#math) | [Arithmetic&nbsp;Operators](#arithmetic-operators) | [Assignment&nbsp;Operators](#assignment-operators) | [Comparison&nbsp;Operators](#comparison-operators) | [Logical&nbsp;Operators](#logical-operators) | [Identity&nbsp;Operators](#identity-operators) | [Membership&nbsp;Operators](#membership-operators) | [Bitwise&nbsp;Operators](#bitwise-operators) | [Operator&nbsp;Precedence](#operator-precedence)"
   ]
  },
  {
   "cell_type": "markdown",
   "metadata": {},
   "source": [
    "<a name=\"math\"> </a>\n",
    "### **4.1&nbsp;&nbsp;&nbsp;Math** | [⭱](#operators-&-expressions) | [⌂](#table-of-contents)"
   ]
  },
  {
   "cell_type": "markdown",
   "metadata": {},
   "source": [
    "<a name=\"arithmetic-operators\"> </a>\n",
    "### **4.2&nbsp;&nbsp;&nbsp;Arithmetic Operators** | [⭱](#operators-&-expressions) | [⌂](#table-of-contents)"
   ]
  },
  {
   "cell_type": "markdown",
   "metadata": {},
   "source": [
    "<a name=\"assignment-operators\"> </a>\n",
    "### **4.3&nbsp;&nbsp;&nbsp;Assignment Operators** | [⭱](#operators-&-expressions) | [⌂](#table-of-contents)"
   ]
  },
  {
   "cell_type": "markdown",
   "metadata": {},
   "source": [
    "<a name=\"comparison-operators\"> </a>\n",
    "### **4.4&nbsp;&nbsp;&nbsp;Comparison Operators** | [⭱](#operators-&-expressions) | [⌂](#table-of-contents)"
   ]
  },
  {
   "cell_type": "markdown",
   "metadata": {},
   "source": [
    "<a name=\"logical-operators\"> </a>\n",
    "### **4.5&nbsp;&nbsp;&nbsp;Logical Operators** | [⭱](#operators-&-expressions) | [⌂](#table-of-contents)"
   ]
  },
  {
   "cell_type": "markdown",
   "metadata": {},
   "source": [
    "Below is the truth-table for the logical `and` operator:\n",
    "\n",
    "|   `a`   |   `b`   | `a and b` |\n",
    "|:-------:|:-------:|:---------:|\n",
    "|  `True` |  `True` |   `True`  |\n",
    "|  `True` | `False` |  `False`  |\n",
    "| `False` |  `True` |  `False`  |\n",
    "| `False` | `False` |  `False`  |"
   ]
  },
  {
   "cell_type": "markdown",
   "metadata": {},
   "source": [
    "Below is the truth-table for the logical `or` operator:\n",
    "\n",
    "|   `a`   |   `b`   | `a or b` |\n",
    "|:-------:|:-------:|:--------:|\n",
    "|  `True` |  `True` |  `True`  |\n",
    "|  `True` | `False` |  `True`  |\n",
    "| `False` |  `True` |  `True`  |\n",
    "| `False` | `False` |  `False` |"
   ]
  },
  {
   "cell_type": "markdown",
   "metadata": {},
   "source": [
    "Below is the truth-table for the logical `not` operator:\n",
    "\n",
    "|   `a`   | `not a` |\n",
    "|:-------:|:-------:|\n",
    "|  `True` | `False` |\n",
    "| `False` |  `True` |"
   ]
  },
  {
   "cell_type": "markdown",
   "metadata": {},
   "source": [
    "<a name=\"identity-operators\"> </a>\n",
    "### **4.6&nbsp;&nbsp;&nbsp;Identity Operators** | [⭱](#operators-&-expressions) | [⌂](#table-of-contents)"
   ]
  },
  {
   "cell_type": "markdown",
   "metadata": {},
   "source": [
    "<a name=\"membership-operators\"> </a>\n",
    "### **4.7&nbsp;&nbsp;&nbsp;Membership Operators** | [⭱](#operators-&-expressions) | [⌂](#table-of-contents)"
   ]
  },
  {
   "cell_type": "markdown",
   "metadata": {},
   "source": [
    "<a name=\"bitwise-operators\"> </a>\n",
    "### **4.8&nbsp;&nbsp;&nbsp;Bitwise Operators** | [⭱](#operators-&-expressions) | [⌂](#table-of-contents)"
   ]
  },
  {
   "cell_type": "markdown",
   "metadata": {},
   "source": [
    "<a name=\"operator-precedence\"> </a>\n",
    "### **4.9&nbsp;&nbsp;&nbsp;Operator Precedence** | [⭱](#operators-&-expressions) | [⌂](#table-of-contents)"
   ]
  },
  {
   "cell_type": "markdown",
   "metadata": {},
   "source": [
    "---"
   ]
  },
  {
   "cell_type": "markdown",
   "metadata": {},
   "source": [
    "<a name=\"control-flow\"> </a>\n",
    "## **5&nbsp;&nbsp;&nbsp;CONTROL FLOW** | [⌂](#table-of-contents)"
   ]
  },
  {
   "cell_type": "markdown",
   "metadata": {},
   "source": [
    "[if-Statement](#if-statement) | [while-Loop](#while-loop) | [for-Loop](#for-loop) | [break-Statement](#break-statement) | [continue-Statement](#continue-statement)"
   ]
  },
  {
   "cell_type": "markdown",
   "metadata": {},
   "source": [
    "<a name=\"if-statement\"> </a>\n",
    "### **5.1&nbsp;&nbsp;&nbsp;`if`-Statement** | [⭱](#control-flow) | [⌂](#table-of-contents)"
   ]
  },
  {
   "cell_type": "markdown",
   "metadata": {},
   "source": [
    "<a name=\"while-loop\"> </a>\n",
    "### **5.2&nbsp;&nbsp;&nbsp;`while`-Loop** | [⭱](#control-flow) | [⌂](#table-of-contents)"
   ]
  },
  {
   "cell_type": "markdown",
   "metadata": {},
   "source": [
    "<a name=\"for-loop\"> </a>\n",
    "### **5.3&nbsp;&nbsp;&nbsp;`for`-Loop** | [⭱](#control-flow) | [⌂](#table-of-contents)"
   ]
  },
  {
   "cell_type": "markdown",
   "metadata": {},
   "source": [
    "<a name=\"break-statement\"> </a>\n",
    "### **5.4&nbsp;&nbsp;&nbsp;`break`-Statement** | [⭱](#control-flow) | [⌂](#table-of-contents)"
   ]
  },
  {
   "cell_type": "markdown",
   "metadata": {},
   "source": [
    "<a name=\"continue-statement\"> </a>\n",
    "### **5.5&nbsp;&nbsp;&nbsp;`continue`-Statement** | [⭱](#control-flow) | [⌂](#table-of-contents)"
   ]
  },
  {
   "cell_type": "markdown",
   "metadata": {},
   "source": [
    "---"
   ]
  },
  {
   "cell_type": "markdown",
   "metadata": {},
   "source": [
    "<a name=\"functions\"> </a>\n",
    "## **6&nbsp;&nbsp;&nbsp;FUNCTIONS** | [⌂](#table-of-contents)"
   ]
  },
  {
   "cell_type": "markdown",
   "metadata": {},
   "source": [
    "[Defining&nbsp;Functions](#defining-functions) | [Parameters&nbsp;&&nbsp;Arguments](#parameters-&-arguments) | [Local&nbsp;&&nbsp;Global&nbsp;Variables](#local-&-global-variables) | [Default&nbsp;Argument&nbsp;Values](#default-argument-values) | [Keyword&nbsp;Arguments](#keyword-arguments) | [VarArgs&nbsp;Parameters](#varargs-parameters) | [return-Statement](#return-statement) | [DocString](#docstring) | [Anonymous&nbsp;(Lambda)&nbsp;Functions](#anonymous-lambda-functions)"
   ]
  },
  {
   "cell_type": "markdown",
   "metadata": {},
   "source": [
    "<a name=\"defining-functions\"> </a>\n",
    "### **6.1&nbsp;&nbsp;&nbsp;Defining Functions** | [⭱](#functions) | [⌂](#table-of-contents)"
   ]
  },
  {
   "cell_type": "markdown",
   "metadata": {},
   "source": [
    "<a name=\"parameters-&-arguments\"> </a>\n",
    "### **6.2&nbsp;&nbsp;&nbsp;Parameters & Arguments** | [⭱](#functions) | [⌂](#table-of-contents)"
   ]
  },
  {
   "cell_type": "markdown",
   "metadata": {},
   "source": [
    "A 'parameter' is a [variable](#variables) inside a [function definition](#defining-functions). When a function is called, the 'arguments' are the [data](#data-types-&-data-structures) you pass into the function’s parameters. So, an Argument is the actual value of a variable that gets passed to the function."
   ]
  },
  {
   "cell_type": "code",
   "execution_count": 39,
   "metadata": {},
   "outputs": [
    {
     "name": "stdout",
     "output_type": "stream",
     "text": [
      "This string is an argument\n"
     ]
    }
   ],
   "source": [
    "def function(parameter):\n",
    "    print(parameter)\n",
    "\n",
    "function('This string is an argument')"
   ]
  },
  {
   "cell_type": "markdown",
   "metadata": {},
   "source": [
    "<a name=\"local-&-global-variables\"> </a>\n",
    "### **6.3&nbsp;&nbsp;&nbsp;Local & Global Variables** | [⭱](#functions) | [⌂](#table-of-contents)"
   ]
  },
  {
   "cell_type": "markdown",
   "metadata": {},
   "source": [
    "<a name=\"default-argument-values\"> </a>\n",
    "### **6.4&nbsp;&nbsp;&nbsp;Default Argument Values** | [⭱](#functions) | [⌂](#table-of-contents)"
   ]
  },
  {
   "cell_type": "markdown",
   "metadata": {},
   "source": [
    "<a name=\"keyword-arguments\"> </a>\n",
    "### **6.5&nbsp;&nbsp;&nbsp;Keyword Arguments** | [⭱](#functions) | [⌂](#table-of-contents)"
   ]
  },
  {
   "cell_type": "markdown",
   "metadata": {},
   "source": [
    "<a name=\"varargs-parameters\"> </a>\n",
    "### **6.6&nbsp;&nbsp;&nbsp;VarArgs Parameters** | [⭱](#functions) | [⌂](#table-of-contents)"
   ]
  },
  {
   "cell_type": "markdown",
   "metadata": {},
   "source": [
    "<a name=\"return-statement\"> </a>\n",
    "### **6.7&nbsp;&nbsp;&nbsp;`return`-Statement** | [⭱](#functions) | [⌂](#table-of-contents)"
   ]
  },
  {
   "cell_type": "markdown",
   "metadata": {},
   "source": [
    "<a name=\"docstring\"> </a>\n",
    "### **6.8&nbsp;&nbsp;&nbsp;DocString** | [⭱](#functions) | [⌂](#table-of-contents)"
   ]
  },
  {
   "cell_type": "markdown",
   "metadata": {},
   "source": [
    "<a name=\"anonymous-lambda-functions\"> </a>\n",
    "### **6.9&nbsp;&nbsp;&nbsp;Anonymous (Lambda) Functions** | [⭱](#functions) | [⌂](#table-of-contents)"
   ]
  },
  {
   "cell_type": "markdown",
   "metadata": {},
   "source": [
    "---"
   ]
  },
  {
   "cell_type": "markdown",
   "metadata": {},
   "source": [
    "<a name=\"object-oriented-programming\"> </a>\n",
    "## **7&nbsp;&nbsp;&nbsp;OBJECT ORIENTED PROGRAMMING** | [⌂](#table-of-contents)"
   ]
  },
  {
   "cell_type": "markdown",
   "metadata": {},
   "source": [
    "[Self](#self) | [Classes](#classes) | [Attributes](#attributes) | [Methods](#methods) | [Objects](#objects) | [Inheritance](#inheritance)"
   ]
  },
  {
   "cell_type": "markdown",
   "metadata": {},
   "source": [
    "<a name=\"self\"> </a>\n",
    "### **7.1&nbsp;&nbsp;&nbsp;Self** | [⭱](#object-oriented-programming) | [⌂](#table-of-contents)"
   ]
  },
  {
   "cell_type": "markdown",
   "metadata": {},
   "source": [
    "<a name=\"classes\"> </a>\n",
    "### **7.2&nbsp;&nbsp;&nbsp;Classes** | [⭱](#object-oriented-programming) | [⌂](#table-of-contents)"
   ]
  },
  {
   "cell_type": "markdown",
   "metadata": {},
   "source": [
    "<a name=\"attributes\"> </a>\n",
    "### **7.3&nbsp;&nbsp;&nbsp;Attributes** | [⭱](#object-oriented-programming) | [⌂](#table-of-contents)"
   ]
  },
  {
   "cell_type": "markdown",
   "metadata": {},
   "source": [
    "<a name=\"methods\"> </a>\n",
    "### **7.4&nbsp;&nbsp;&nbsp;Methods** | [⭱](#object-oriented-programming) | [⌂](#table-of-contents)"
   ]
  },
  {
   "cell_type": "markdown",
   "metadata": {},
   "source": [
    "<a name=\"objects\"> </a>\n",
    "### **7.5&nbsp;&nbsp;&nbsp;Objects** | [⭱](#object-oriented-programming) | [⌂](#table-of-contents)"
   ]
  },
  {
   "cell_type": "markdown",
   "metadata": {},
   "source": [
    "<a name=\"inheritance\"> </a>\n",
    "### **7.6&nbsp;&nbsp;&nbsp;Inheritance** | [⭱](#object-oriented-programming) | [⌂](#table-of-contents)"
   ]
  },
  {
   "cell_type": "markdown",
   "metadata": {},
   "source": [
    "---"
   ]
  },
  {
   "cell_type": "markdown",
   "metadata": {},
   "source": [
    "<a name=\"useful-concepts\"> </a>\n",
    "## **8&nbsp;&nbsp;&nbsp;USEFUL CONCEPTS** | [⌂](#table-of-contents)"
   ]
  },
  {
   "cell_type": "markdown",
   "metadata": {},
   "source": [
    "[Unpacking](#unpacking) | [Enumerate&nbsp;&&nbsp;Zip](#enumerate-&-zip) | [Ternary&nbsp;Conditionals](#ternary-conditionals) | [List&nbsp;Comprehensions](#list-comprehensions) | [Iterators](#iterators) | [Generators](#generators) | [Map&nbsp;&&nbsp;Filter](#map-&-filter)"
   ]
  },
  {
   "cell_type": "markdown",
   "metadata": {},
   "source": [
    "<a name=\"unpacking\"> </a>\n",
    "### **8.1&nbsp;&nbsp;&nbsp;Unpacking** | [⭱](#useful-concepts) | [⌂](#table-of-contents)"
   ]
  },
  {
   "cell_type": "markdown",
   "metadata": {},
   "source": [
    "<a name=\"enumerate-&-zip\"> </a>\n",
    "### **8.2&nbsp;&nbsp;&nbsp;Enumerate & Zip** | [⭱](#useful-concepts) | [⌂](#table-of-contents)"
   ]
  },
  {
   "cell_type": "markdown",
   "metadata": {},
   "source": [
    "<a name=\"ternary-conditionals\"> </a>\n",
    "### **8.3&nbsp;&nbsp;&nbsp;Ternary Conditionals** | [⭱](#useful-concepts) | [⌂](#table-of-contents)"
   ]
  },
  {
   "cell_type": "markdown",
   "metadata": {},
   "source": [
    "<a name=\"list-comprehensions\"> </a>\n",
    "### **8.4&nbsp;&nbsp;&nbsp;List Comprehensions** | [⭱](#useful-concepts) | [⌂](#table-of-contents)"
   ]
  },
  {
   "cell_type": "markdown",
   "metadata": {},
   "source": [
    "<a name=\"iterators\"> </a>\n",
    "### **8.5&nbsp;&nbsp;&nbsp;Iterators** | [⭱](#useful-concepts) | [⌂](#table-of-contents)"
   ]
  },
  {
   "cell_type": "markdown",
   "metadata": {},
   "source": [
    "<a name=\"list-comprehensions\"> </a>\n",
    "### **8.6&nbsp;&nbsp;&nbsp;Generators** | [⭱](#useful-concepts) | [⌂](#table-of-contents)"
   ]
  },
  {
   "cell_type": "markdown",
   "metadata": {},
   "source": [
    "<a name=\"map-&-filter\"> </a>\n",
    "### **8.7&nbsp;&nbsp;&nbsp;Map & Filter** | [⭱](#useful-concepts) | [⌂](#table-of-contents)"
   ]
  },
  {
   "cell_type": "markdown",
   "metadata": {},
   "source": [
    "---"
   ]
  },
  {
   "cell_type": "markdown",
   "metadata": {},
   "source": [
    "<a name=\"modules-&-packages\"> </a>\n",
    "## **9&nbsp;&nbsp;&nbsp;MODULES & PACKAGES** | [⌂](#table-of-contents)"
   ]
  },
  {
   "cell_type": "markdown",
   "metadata": {},
   "source": [
    "[Imports](#imports) | [Modules](#modules) | [Packages](#packages) | [Libraries](#libraries)"
   ]
  },
  {
   "cell_type": "markdown",
   "metadata": {},
   "source": [
    "<a name=\"imports\"> </a>\n",
    "### **9.1&nbsp;&nbsp;&nbsp;Imports** | [⭱](#modules-&-packages) | [⌂](#table-of-contents)"
   ]
  },
  {
   "cell_type": "markdown",
   "metadata": {},
   "source": [
    "<a name=\"modules\"> </a>\n",
    "### **9.2&nbsp;&nbsp;&nbsp;Modules** | [⭱](#modules-&-packages) | [⌂](#table-of-contents)"
   ]
  },
  {
   "cell_type": "markdown",
   "metadata": {},
   "source": [
    "<a name=\"packages\"> </a>\n",
    "### **9.3&nbsp;&nbsp;&nbsp;Packages** | [⭱](#modules-&-packages) | [⌂](#table-of-contents)"
   ]
  },
  {
   "cell_type": "markdown",
   "metadata": {},
   "source": [
    "<a name=\"libraries\"> </a>\n",
    "### **9.4&nbsp;&nbsp;&nbsp;Libraries** | [⭱](#modules-&-packages) | [⌂](#table-of-contents)"
   ]
  },
  {
   "cell_type": "markdown",
   "metadata": {},
   "source": [
    "---"
   ]
  },
  {
   "cell_type": "markdown",
   "metadata": {},
   "source": [
    "<a name=\"files-&-pickle\"> </a>\n",
    "## **10&nbsp;&nbsp;&nbsp;FILES & PICKLE** | [⌂](#table-of-contents)"
   ]
  },
  {
   "cell_type": "markdown",
   "metadata": {},
   "source": [
    "[Files](#files) | [Pickle](#pickle) | [Unicode&nbsp;in&nbsp;Files](#unicode-in-files)"
   ]
  },
  {
   "cell_type": "markdown",
   "metadata": {},
   "source": [
    "<a name=\"files\"> </a>\n",
    "### **10.1&nbsp;&nbsp;&nbsp;Files** | [⭱](#files-&-pickle) | [⌂](#table-of-contents)"
   ]
  },
  {
   "cell_type": "markdown",
   "metadata": {},
   "source": [
    "To open a file you can use the built-in `open()` [function](#functions-basics). It returns a stream (object) which can be stored in a [variable](#variables) for subsequent use. The terms 'file' and 'stream' are therefore used equally in this section. To close the file you can call the stream's `close()` method."
   ]
  },
  {
   "cell_type": "markdown",
   "metadata": {},
   "source": [
    "The full use of the open-function is:  \n",
    "`open(file, mode='r', buffering=-1, encoding=None, errors=None, newline=None, closefd=True, opener=None)`"
   ]
  },
  {
   "cell_type": "markdown",
   "metadata": {},
   "source": [
    "The `file` [parameter](#parameters-&-arguments) takes the filename *with* extension as string as [argument](#parameters-&-arguments). You can also specify a path if the file isn't in the current working directory (e.&nbsp;g. `r'C:\\folder\\example.txt'`). In order to specify paths better use [Raw-Strings](#raw-strings)."
   ]
  },
  {
   "cell_type": "markdown",
   "metadata": {},
   "source": [
    "For the `mode` parameter you can use the following arguments:\n",
    "> `'r'` (open for reading (*default*))  \n",
    "> `'w'` (open for writing, truncating the file first)  \n",
    "> `'x'` (create a new file and open it for writing)  \n",
    "> `'a'` (open for writing, appending to the end of the file if it exists)  \n",
    "> `'b'` (binary mode)  \n",
    "> `'t'` (text mode (*default*))  \n",
    "> `'+'` (open a disk file for updating (reading and writing))  \n",
    "> `'U'` (universal newline mode (deprecated))  "
   ]
  },
  {
   "cell_type": "code",
   "execution_count": 40,
   "metadata": {},
   "outputs": [],
   "source": [
    "header = 'Here is an advice:\\n'\n",
    "line_1 = 'Simple is better than complex.\\n'\n",
    "line_2 = 'Complex is better than complicated.\\n'\n",
    "\n",
    "file = open('advice.txt', 'w')\n",
    "file.write(header)      # stream position now at end of header\n",
    "file.write(line_1)      # continues at end of header\n",
    "file.close()"
   ]
  },
  {
   "cell_type": "markdown",
   "metadata": {},
   "source": [
    "When using the `write()` [method](#objects-basics) of an opened file the stream is treated sequentially. In the above example calling this method a second time, writes the given argument *after* the end of the previous one."
   ]
  },
  {
   "cell_type": "code",
   "execution_count": 41,
   "metadata": {},
   "outputs": [
    {
     "name": "stdout",
     "output_type": "stream",
     "text": [
      "Here is an advice:\n",
      "Simple is better than complex.\n"
     ]
    }
   ],
   "source": [
    "file = open('advice.txt', 'r')   # stream position at start\n",
    "print(file.readline(), end='')   # stream position at end of header\n",
    "print(file.readline(), end='')   # stream position at end of line_1 (EOF)\n",
    "file.close()"
   ]
  },
  {
   "cell_type": "markdown",
   "metadata": {},
   "source": [
    "The `readline()` method treats the stream sequentially, too; note that the same method-call returns different lines. After the stream has reached the 'end of field' (EOF) an empty string is [returned](#functions-basics)."
   ]
  },
  {
   "cell_type": "markdown",
   "metadata": {},
   "source": [
    "Opening an existing file in writing-mode (`'w'`) will overwrite (truncate) its content. To prevent this you can use the append-mode (`'a'`)."
   ]
  },
  {
   "cell_type": "code",
   "execution_count": 42,
   "metadata": {},
   "outputs": [],
   "source": [
    "file = open('advice.txt', 'a')\n",
    "file.write(line_2)\n",
    "file.close()"
   ]
  },
  {
   "cell_type": "markdown",
   "metadata": {},
   "source": [
    "The `readlines()` method will return the lines of the opened file in a list, so it is iterable."
   ]
  },
  {
   "cell_type": "code",
   "execution_count": 43,
   "metadata": {},
   "outputs": [
    {
     "name": "stdout",
     "output_type": "stream",
     "text": [
      "Here is an advice:\n",
      "Simple is better than complex.\n",
      "Complex is better than complicated.\n"
     ]
    }
   ],
   "source": [
    "file = open('advice.txt', 'r')\n",
    "for line in file.readlines():\n",
    "    print(line, end='')\n",
    "file.close()"
   ]
  },
  {
   "cell_type": "markdown",
   "metadata": {},
   "source": [
    "Below is a full list of all file- / stream-methods:\n",
    "> **Read:** read(), readline(), readlines()  \n",
    "> **Write:** flush(), write(), writelines()  \n",
    "> **Stream Position:** seek(), tell()  \n",
    "> **Information:** fileno(), isatty(), readable(), seekable(), writable()  \n",
    "> **Other:** close(), detach(), reconfigure(), truncate()  "
   ]
  },
  {
   "cell_type": "markdown",
   "metadata": {},
   "source": [
    "Use the [dir-function](#dir) to browse the stream object or the [help-function](#help) for more information on specific methods."
   ]
  },
  {
   "cell_type": "markdown",
   "metadata": {},
   "source": [
    "<a name=\"pickle\"> </a>\n",
    "### **10.2&nbsp;&nbsp;&nbsp;Pickle** | [⭱](#files-&-pickle) | [⌂](#table-of-contents)"
   ]
  },
  {
   "cell_type": "markdown",
   "metadata": {},
   "source": [
    "Python provides a [standard module](#modules) called 'pickle' which you can use (after [importing](#imports)) to store any plain\n",
    "Python [object](#objects-basics) in a [file](#files) and then get it back later. This is called storing the object persistently.\n",
    "To store an object in a file use the `dump()` statement of the module:"
   ]
  },
  {
   "cell_type": "code",
   "execution_count": 44,
   "metadata": {},
   "outputs": [],
   "source": [
    "import pickle\n",
    "\n",
    "machine_learning_steps = ['Gathering Data', 'Preparing that Data', 'Choosing a Model',\n",
    "                          'Training (70%)', 'Evaluation (30%)', 'Hyperparameter Tuning',\n",
    "                          'Prediction']\n",
    "\n",
    "file = open('machine_learning_steps.data', 'wb')\n",
    "pickle.dump(machine_learning_steps, file)            # pickling\n",
    "file.close()"
   ]
  },
  {
   "cell_type": "markdown",
   "metadata": {},
   "source": [
    "Even if the oject was deleted or doesn't exist in the current source file until now, you can load it back from the file which it was stored in. Do this with the `load()` statement:"
   ]
  },
  {
   "cell_type": "code",
   "execution_count": 45,
   "metadata": {},
   "outputs": [
    {
     "name": "stdout",
     "output_type": "stream",
     "text": [
      "['Gathering Data', 'Preparing that Data', 'Choosing a Model', 'Training (70%)', 'Evaluation (30%)', 'Hyperparameter Tuning', 'Prediction']\n"
     ]
    }
   ],
   "source": [
    "del machine_learning_steps\n",
    "\n",
    "file = open('machine_learning_steps.data', 'rb')\n",
    "storedlist = pickle.load(file)         # unpickling\n",
    "file.close()\n",
    "\n",
    "print(storedlist)"
   ]
  },
  {
   "cell_type": "markdown",
   "metadata": {},
   "source": [
    "<a name=\"unicode-in-files\"> </a>\n",
    "### **10.3&nbsp;&nbsp;&nbsp;Unicode in Files** | [⭱](#files-&-pickle) | [⌂](#table-of-contents)"
   ]
  },
  {
   "cell_type": "markdown",
   "metadata": {},
   "source": [
    "---"
   ]
  },
  {
   "cell_type": "markdown",
   "metadata": {},
   "source": [
    "<a name=\"exceptions-&-unit-tests\"> </a>\n",
    "## **11&nbsp;&nbsp;&nbsp;EXCEPTIONS & UNIT TESTS** | [⌂](#table-of-contents)"
   ]
  },
  {
   "cell_type": "markdown",
   "metadata": {},
   "source": [
    "[Handling&nbsp;Exceptions](#handling-exceptions) | [Raising&nbsp;Exceptions](#raising-exceptions) | [try&nbsp;...&nbsp;finally](#try-finally) | [with-Statement](#with-statement) | [Unit&nbsp;Tests](#unit-tests)"
   ]
  },
  {
   "cell_type": "markdown",
   "metadata": {},
   "source": [
    "<a name=\"handling-exceptions\"> </a>\n",
    "### **11.1&nbsp;&nbsp;&nbsp;Handling Exceptions** | [⭱](#exceptions-&-unit-tests) | [⌂](#table-of-contents)"
   ]
  },
  {
   "cell_type": "markdown",
   "metadata": {},
   "source": [
    "<a name=\"raising-exceptions\"> </a>\n",
    "### **11.2&nbsp;&nbsp;&nbsp;Raising Exceptions** | [⭱](#exceptions-&-unit-tests) | [⌂](#table-of-contents)"
   ]
  },
  {
   "cell_type": "markdown",
   "metadata": {},
   "source": [
    "<a name=\"try-finally\"> </a>\n",
    "### **11.3&nbsp;&nbsp;&nbsp;`try` ... `finally`** | [⭱](#exceptions-&-unit-tests) | [⌂](#table-of-contents)"
   ]
  },
  {
   "cell_type": "markdown",
   "metadata": {},
   "source": [
    "<a name=\"with-statement\"> </a>\n",
    "### **11.4&nbsp;&nbsp;&nbsp;`with`-Statement** | [⭱](#exceptions-&-unit-tests) | [⌂](#table-of-contents)"
   ]
  },
  {
   "cell_type": "markdown",
   "metadata": {},
   "source": [
    "<a name=\"unit-tests\"> </a>\n",
    "### **11.5&nbsp;&nbsp;&nbsp;Unit Tests** | [⭱](#exceptions-&-unit-tests) | [⌂](#table-of-contents)"
   ]
  },
  {
   "cell_type": "markdown",
   "metadata": {},
   "source": [
    "---"
   ]
  },
  {
   "cell_type": "markdown",
   "metadata": {},
   "source": [
    "<a name=\"standard-library\"> </a>\n",
    "## **12&nbsp;&nbsp;&nbsp;STANDARD LIBRARY** | [⌂](#table-of-contents)"
   ]
  },
  {
   "cell_type": "markdown",
   "metadata": {},
   "source": [
    "---"
   ]
  },
  {
   "cell_type": "markdown",
   "metadata": {},
   "source": [
    "<a name=\"outlook-on-further-topics\"> </a>\n",
    "## **13&nbsp;&nbsp;&nbsp;OUTLOOK ON FURTHER TOPICS** | [⌂](#table-of-contents)"
   ]
  },
  {
   "cell_type": "markdown",
   "metadata": {},
   "source": [
    "[Other&nbsp;Libraries](#other-libraries) | [Functional&nbsp;Programming](#functional-programming) | [Graphical&nbsp;User&nbsp;Interface](#graphical-user-interface) | [Data&nbsp;Science](#data-science) | [Artificial&nbsp;Intelligence](#artificial-intelligence)"
   ]
  },
  {
   "cell_type": "markdown",
   "metadata": {},
   "source": [
    "<a name=\"other-libraries\"> </a>\n",
    "### **13.1&nbsp;&nbsp;&nbsp;Other Libraries** | [⭱](#further-topics) | [⌂](#table-of-contents)"
   ]
  },
  {
   "cell_type": "markdown",
   "metadata": {},
   "source": [
    "<a name=\"functional-programming\"> </a>\n",
    "### **13.2&nbsp;&nbsp;&nbsp;Functional Programming** | [⭱](#further-topics) | [⌂](#table-of-contents)"
   ]
  },
  {
   "cell_type": "markdown",
   "metadata": {},
   "source": [
    "<a name=\"graphical-user-interface\"> </a>\n",
    "### **13.3&nbsp;&nbsp;&nbsp;Graphical User Interface** | [⭱](#further-topics) | [⌂](#table-of-contents)"
   ]
  },
  {
   "cell_type": "markdown",
   "metadata": {},
   "source": [
    "<a name=\"data-science\"> </a>\n",
    "### **13.4&nbsp;&nbsp;&nbsp;Data Science** | [⭱](#further-topics) | [⌂](#table-of-contents)"
   ]
  },
  {
   "cell_type": "markdown",
   "metadata": {},
   "source": [
    "<a name=\"artificial-intelligence\"> </a>\n",
    "### **13.5&nbsp;&nbsp;&nbsp;Artificial Intelligence** | [⭱](#further-topics) | [⌂](#table-of-contents)"
   ]
  },
  {
   "cell_type": "markdown",
   "metadata": {},
   "source": [
    "---\n",
    "---"
   ]
  },
  {
   "cell_type": "markdown",
   "metadata": {},
   "source": [
    "## **APPENDIX**"
   ]
  },
  {
   "cell_type": "markdown",
   "metadata": {},
   "source": [
    "---"
   ]
  },
  {
   "cell_type": "markdown",
   "metadata": {},
   "source": [
    "<a name=\"essential-concepts\"> </a>\n",
    "## **A&nbsp;&nbsp;&nbsp;ESSENTIAL CONCEPTS** | [⌂](#table-of-contents)"
   ]
  },
  {
   "cell_type": "markdown",
   "metadata": {},
   "source": [
    "**ARGUMENT** a value passed to a function (or method) when calling the function. There are two kinds of arguments: positional arguments and keyword arguments."
   ]
  },
  {
   "cell_type": "markdown",
   "metadata": {},
   "source": [
    "**ATTRIBUTE** a value associated with an object which is referenced by name using dotted expressions. For example, if an object `tree` has an attribute `height` it would be referenced as `tree.height`."
   ]
  },
  {
   "cell_type": "markdown",
   "metadata": {},
   "source": [
    "**CLASS** a template for creating user-defined objects. Class definitions normally contain attributes and method definitions which operate on instances of the class (that is object level)."
   ]
  },
  {
   "cell_type": "markdown",
   "metadata": {},
   "source": [
    "**CONTROL FLOW** "
   ]
  },
  {
   "cell_type": "markdown",
   "metadata": {},
   "source": [
    "**DICTIONARY** an associative list, where arbitrary keys are mapped to values."
   ]
  },
  {
   "cell_type": "markdown",
   "metadata": {},
   "source": [
    "**DOCSTRING** a string literal which appears as the first expression in a class, function or module. While ignored when the suite is executed, it is recognized by the compiler and put into the `__doc__` attribute of the enclosing class, function or module. Since it is available via introspection, it is the canonical place for documentation of the object."
   ]
  },
  {
   "cell_type": "markdown",
   "metadata": {},
   "source": [
    "**EXPRESSION** a piece of syntax which can be evaluated to some value, for example `2*(1-kappa)`. In other words, an expression is an accumulation of elements like literals, names, attribute access, operators or function calls which all return a value."
   ]
  },
  {
   "cell_type": "markdown",
   "metadata": {},
   "source": [
    "**FUNCTION** a suite (\"block\" of code) which is executed when the function is called. It can be passed arguments which may be used in the execution of the body and on the other hand it can also return objects (values, etc.). The arguments are passed into the function's parameters."
   ]
  },
  {
   "cell_type": "markdown",
   "metadata": {},
   "source": [
    "**IDENTIFIER** an identifier is a name given to entities like classes, functions, variables, etc. The naming should be comprehensible and help to differentiate one entity from another. Keywords cannot be used as identifiers."
   ]
  },
  {
   "cell_type": "markdown",
   "metadata": {},
   "source": [
    "**IMPORTING** the process by which Python code in one module is made available to Python code in another module."
   ]
  },
  {
   "cell_type": "markdown",
   "metadata": {},
   "source": [
    "**INHERITANCE** "
   ]
  },
  {
   "cell_type": "markdown",
   "metadata": {},
   "source": [
    "**ITERABLE** an object capable of returning its members one at a time. Examples of iterables include all sequence types (such as list, str, and tuple) and some non-sequence types like dict, file objects, and objects of any classes you define with an `__iter__()` method or with a `__getitem__()` method that implements Sequence semantics."
   ]
  },
  {
   "cell_type": "markdown",
   "metadata": {},
   "source": [
    "**LAMBDA** an anonymous inline function consisting of a single expression which is evaluated when the function is called. The syntax to create a lambda function is `lambda [parameters]: expression`."
   ]
  },
  {
   "cell_type": "markdown",
   "metadata": {},
   "source": [
    "**METHOD** a function which is defined inside a class body. If called as an attribute of an instance (object) of that class, the method will get the instance object as its first argument (which is usually called `self`). A method is referenced by name using dotted expressions. For example, if an object `tree` has a method `grow()` it would be referenced as `tree.grow()`."
   ]
  },
  {
   "cell_type": "markdown",
   "metadata": {},
   "source": [
    "**MODULE** an object that serves as an organizational unit of Python code. Modules have a namespace containing arbitrary Python objects. Modules are loaded into Python by the process of importing."
   ]
  },
  {
   "cell_type": "markdown",
   "metadata": {},
   "source": [
    "**OBJECT** any data with state (attributes or value) and defined behavior (methods). Objects are instances of classes. In Python anything is an object."
   ]
  },
  {
   "cell_type": "markdown",
   "metadata": {},
   "source": [
    "**OBJECT ORIENTATION** "
   ]
  },
  {
   "cell_type": "markdown",
   "metadata": {},
   "source": [
    "**PACKAGE** a Python module which can contain submodules or recursively, subpackages. Technically, a package is a Python module with a `__path__` attribute."
   ]
  },
  {
   "cell_type": "markdown",
   "metadata": {},
   "source": [
    "**PARAMETER** a named entity in a function (or method) definition that specifies an argument (or in some cases, arguments) that the function can accept. When calling the function the arguments are passed into its parameters. There are five kinds of parameters: positional-or-keyword, positional-only, keyword-only, var-positional and var-keyword."
   ]
  },
  {
   "cell_type": "markdown",
   "metadata": {},
   "source": [
    "**STATEMENT** part of a suite (a “block” of code). A statement is either an expression or one of several control flow constructs with a keyword, such as `if`, `while` or `for`."
   ]
  },
  {
   "cell_type": "markdown",
   "metadata": {},
   "source": [
    "**TYPE** determines what kind of object something is; every object has a type. An object’s type is accessible as its `__class__` attribute or can be retrieved with `type(object)`."
   ]
  },
  {
   "cell_type": "markdown",
   "metadata": {},
   "source": [
    "**VARIABLE** containers for storing data values. A variable is referenced by it’s identifier. Unlike other programming languages, Python has no command for declaring a variable."
   ]
  },
  {
   "cell_type": "markdown",
   "metadata": {},
   "source": [
    "---"
   ]
  },
  {
   "cell_type": "markdown",
   "metadata": {},
   "source": [
    "<a name=\"references\"> </a>\n",
    "## **B&nbsp;&nbsp;&nbsp;REFERENCES** | [⌂](#table-of-contents)"
   ]
  },
  {
   "cell_type": "markdown",
   "metadata": {},
   "source": [
    "---\n",
    "---"
   ]
  },
  {
   "cell_type": "markdown",
   "metadata": {},
   "source": [
    "## **SELECTED PACKAGES**"
   ]
  },
  {
   "cell_type": "markdown",
   "metadata": {},
   "source": [
    "---"
   ]
  },
  {
   "cell_type": "markdown",
   "metadata": {},
   "source": [
    "<a name=\"numpy\"> </a>\n",
    "## **📦&nbsp;&nbsp;&nbsp;NUMPY** | [⌂](#table-of-contents)"
   ]
  },
  {
   "cell_type": "markdown",
   "metadata": {},
   "source": [
    "---"
   ]
  },
  {
   "cell_type": "markdown",
   "metadata": {},
   "source": [
    "<a name=\"pandas\"> </a>\n",
    "## **📦&nbsp;&nbsp;&nbsp;PANDAS** | [⌂](#table-of-contents)"
   ]
  },
  {
   "cell_type": "markdown",
   "metadata": {},
   "source": [
    "---"
   ]
  },
  {
   "cell_type": "markdown",
   "metadata": {},
   "source": [
    "<a name=\"matplotlib\"> </a>\n",
    "## **📦&nbsp;&nbsp;&nbsp;MATPLOTLIB** | [⌂](#table-of-contents)"
   ]
  },
  {
   "cell_type": "markdown",
   "metadata": {},
   "source": [
    "---"
   ]
  },
  {
   "cell_type": "markdown",
   "metadata": {},
   "source": [
    "<a name=\"scikit-learn\"> </a>\n",
    "## **📦&nbsp;&nbsp;&nbsp;SCIKIT-LEARN** | [⌂](#table-of-contents)"
   ]
  },
  {
   "cell_type": "markdown",
   "metadata": {},
   "source": [
    "---\n",
    "---"
   ]
  },
  {
   "cell_type": "markdown",
   "metadata": {},
   "source": [
    "## **USEFUL NON-PYTHON STUFF**"
   ]
  },
  {
   "cell_type": "markdown",
   "metadata": {},
   "source": [
    "---"
   ]
  },
  {
   "cell_type": "markdown",
   "metadata": {},
   "source": [
    "<a name=\"windows-command-prompt\"> </a>\n",
    "## **🗎&nbsp;&nbsp;&nbsp;WINDOWS COMMAND PROMPT** | [⌂](#table-of-contents)"
   ]
  },
  {
   "cell_type": "markdown",
   "metadata": {},
   "source": [
    "---"
   ]
  },
  {
   "cell_type": "markdown",
   "metadata": {},
   "source": [
    "<a name=\"jupyter-cheatsheet\"> </a>\n",
    "## **🗎&nbsp;&nbsp;&nbsp;JUPYTER CHEATSHEET** | [⌂](#table-of-contents)"
   ]
  },
  {
   "cell_type": "markdown",
   "metadata": {},
   "source": [
    "---"
   ]
  },
  {
   "cell_type": "markdown",
   "metadata": {},
   "source": [
    "<a name=\"markdown-cheatsheet\"> </a>\n",
    "## **🗎&nbsp;&nbsp;&nbsp;MARKDOWN CHEATSHEET** | [⌂](#table-of-contents)"
   ]
  },
  {
   "cell_type": "markdown",
   "metadata": {},
   "source": [
    "For easy Markdown table generation visit *[Tables Generator](https://www.tablesgenerator.com/markdown_tables)*."
   ]
  },
  {
   "cell_type": "markdown",
   "metadata": {},
   "source": [
    "---"
   ]
  },
  {
   "cell_type": "markdown",
   "metadata": {},
   "source": [
    "<a name=\"html-cheatsheet\"> </a>\n",
    "## **🗎&nbsp;&nbsp;&nbsp;HTML CHEATSHEET** | [⌂](#table-of-contents)"
   ]
  },
  {
   "cell_type": "markdown",
   "metadata": {},
   "source": [
    "For easy HTML table generation visit *[Tables Generator](https://www.tablesgenerator.com/html_tables)*."
   ]
  },
  {
   "cell_type": "markdown",
   "metadata": {},
   "source": [
    "---"
   ]
  },
  {
   "cell_type": "markdown",
   "metadata": {},
   "source": [
    "<a name=\"latex-cheatsheet\"> </a>\n",
    "## **🗎&nbsp;&nbsp;&nbsp;$\\LaTeX$ CHEATSHEET** | [⌂](#table-of-contents)"
   ]
  },
  {
   "cell_type": "markdown",
   "metadata": {},
   "source": [
    "For easy LaTeX table generation visit *[Tables Generator](https://www.tablesgenerator.com/latex_tables)*."
   ]
  },
  {
   "cell_type": "markdown",
   "metadata": {},
   "source": [
    "---"
   ]
  },
  {
   "cell_type": "markdown",
   "metadata": {},
   "source": [
    "<a name=\"git-cheatsheet\"> </a>\n",
    "## **🗎&nbsp;&nbsp;&nbsp;GIT CHEATSHEET** | [⌂](#table-of-contents)"
   ]
  },
  {
   "cell_type": "markdown",
   "metadata": {},
   "source": [
    "---\n",
    "---"
   ]
  },
  {
   "cell_type": "markdown",
   "metadata": {},
   "source": [
    "## **UNORDERED STUFF** | [⌂](#table-of-contents)"
   ]
  },
  {
   "cell_type": "code",
   "execution_count": 1,
   "metadata": {},
   "outputs": [],
   "source": [
    "def color_code(a, b):\n",
    "    if a < b/2:\n",
    "        R = 255\n",
    "        G = int((a/(b/2)) * 255)\n",
    "    else:\n",
    "        R = int(255 - ((a-b/2)/(b-b/2)) * 255)\n",
    "        G = 255\n",
    "    B = 0\n",
    "    return (f\"#{R:02X}{G:02X}{B:02X}\")"
   ]
  }
 ],
 "metadata": {
  "kernelspec": {
   "display_name": "Python 3",
   "language": "python",
   "name": "python3"
  },
  "language_info": {
   "codemirror_mode": {
    "name": "ipython",
    "version": 3
   },
   "file_extension": ".py",
   "mimetype": "text/x-python",
   "name": "python",
   "nbconvert_exporter": "python",
   "pygments_lexer": "ipython3",
   "version": "3.7.3"
  }
 },
 "nbformat": 4,
 "nbformat_minor": 2
}
