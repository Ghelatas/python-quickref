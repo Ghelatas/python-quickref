{
 "cells": [
  {
   "cell_type": "markdown",
   "metadata": {},
   "source": [
    "# **Python - Quick Reference**\n",
    "##### by Frodo Peiffer"
   ]
  },
  {
   "cell_type": "markdown",
   "metadata": {},
   "source": [
    "---\n",
    "---"
   ]
  },
  {
   "cell_type": "markdown",
   "metadata": {},
   "source": [
    "<a name=\"table-of-contents\"> </a>\n",
    "## Table of Contents (⌂)"
   ]
  },
  {
   "cell_type": "markdown",
   "metadata": {},
   "source": [
    "1. [Basics](#basics)\n",
    "2. [Input & Output](#input-&-output)\n",
    "3. [Data Structures](#data-structures)\n",
    "4. [Operators & Expressions](#operators-&-expressions)\n",
    "5. [Control Flow](#control-flow)\n",
    "6. [Useful Concepts](#useful-concepts)\n",
    "7. [Functions](#functions)\n",
    "8. [Object Oriented Programming (OOP)](#object-oriented-programming)\n",
    "9. [Modules & Packages](#modules-&-packages)\n",
    "10. [Exceptions & Unit Tests](#exceptions-&-unit-tests)\n",
    "11. [Standard Library](#standard-library)\n",
    "12. [Further Topics](#further-topics)\n",
    "\n",
    "#### Appendix  \n",
    "&nbsp;&nbsp;&nbsp;A. [Essential Concepts](#essential-concepts)  \n",
    "&nbsp;&nbsp;&nbsp;B. [References](#references)\n",
    "\n",
    "#### Useful Non-Python Stuff\n",
    "&nbsp;&nbsp;&nbsp;🗋 [Windows Command Prompt](#windows-command-prompt)  \n",
    "&nbsp;&nbsp;&nbsp;🗋 [Jupyter Cheatsheets](#jupyter-cheatsheets)  \n",
    "&nbsp;&nbsp;&nbsp;🗋 [Markdown Cheatsheet](#markdown-cheatsheet)  \n",
    "&nbsp;&nbsp;&nbsp;🗋 [Git Cheatsheet](#git-cheatsheet)"
   ]
  },
  {
   "cell_type": "markdown",
   "metadata": {},
   "source": [
    "---\n",
    "---"
   ]
  },
  {
   "cell_type": "markdown",
   "metadata": {},
   "source": [
    "## Notifications | [⌂](#table-of-contents)"
   ]
  },
  {
   "cell_type": "markdown",
   "metadata": {},
   "source": [
    "This \"**Python - Quick Reference**\" is based on several other quick references and documentations, (hopefully) most of them linked in the [References](#references) section. It contains the essential information about most aspects that seemed important to **me** while I was learning Python, but of course not all, and certainly not in detail. The usability of this quick reference may therefore vary for you."
   ]
  },
  {
   "cell_type": "markdown",
   "metadata": {},
   "source": [
    "In this document code is displayed in gray cells and formatted in accordance with the highlighting of [Jupyter&nbsp;Notebook](https://jupyter.org/). Any Output is displayed right below the cell via the `print()` function if necessary. See the following example:"
   ]
  },
  {
   "cell_type": "code",
   "execution_count": 1,
   "metadata": {},
   "outputs": [
    {
     "name": "stdout",
     "output_type": "stream",
     "text": [
      "Hello World\n"
     ]
    }
   ],
   "source": [
    "print(\"Hello World\")"
   ]
  },
  {
   "cell_type": "markdown",
   "metadata": {},
   "source": [
    "There are some symbols for quick navigation. The [⌂](#table-of-contents)-symbol is linked to the table of contents, and the [↥](#notifications)-symbol is linked to the beginning of the respective section. Right below the header of each section there is a linked list of this section's content."
   ]
  },
  {
   "cell_type": "markdown",
   "metadata": {},
   "source": [
    "The following code segment is significant only for the execution of this notebook. It suppresses the display of objects in the cell output where normally the last one is displayed for more readability. You're free to set it to `\"all\"`, so that every object will be displayed instead."
   ]
  },
  {
   "cell_type": "code",
   "execution_count": 2,
   "metadata": {},
   "outputs": [],
   "source": [
    "from IPython.core.interactiveshell import InteractiveShell\n",
    "InteractiveShell.ast_node_interactivity = \"none\""
   ]
  },
  {
   "cell_type": "markdown",
   "metadata": {},
   "source": [
    "---\n",
    "---"
   ]
  },
  {
   "cell_type": "markdown",
   "metadata": {},
   "source": [
    "<a name=\"basics\"> </a>\n",
    "## 1 Basics | [⌂](#table-of-contents)"
   ]
  },
  {
   "cell_type": "markdown",
   "metadata": {},
   "source": [
    "[Comments](#comments) | [Literal&nbsp;Constants](#literal-constants) | [Numbers](#numbers) | [Strings](#strings-basics) | [Keywords](#keywords) | [Variables](#variables) | [Objects](#objects-basics) | [Lines&nbsp;&&nbsp;Indentation](#lines-&-indentation) | [help()](#help)"
   ]
  },
  {
   "cell_type": "markdown",
   "metadata": {},
   "source": [
    "<b name=\"comments\"> </b>\n",
    "### 1.1 Comments | [↥](#basics) | [⌂](#table-of-contents)"
   ]
  },
  {
   "cell_type": "markdown",
   "metadata": {},
   "source": [
    "Comments are lines that won’t be executed when running the program. They are useful for readers of your program so that they can easily understand what the program is doing. Remember, that person can be yourself after six months!"
   ]
  },
  {
   "cell_type": "code",
   "execution_count": 5,
   "metadata": {},
   "outputs": [],
   "source": [
    "# This is a single line comment"
   ]
  },
  {
   "cell_type": "code",
   "execution_count": 6,
   "metadata": {},
   "outputs": [
    {
     "name": "stdout",
     "output_type": "stream",
     "text": [
      "This will run\n"
     ]
    }
   ],
   "source": [
    "print('This will run') # This inline comment won't run"
   ]
  },
  {
   "cell_type": "code",
   "execution_count": 7,
   "metadata": {},
   "outputs": [],
   "source": [
    "# Multiline comments don't exist in python\n",
    "# you must prefix every line with a #-sign"
   ]
  },
  {
   "cell_type": "code",
   "execution_count": 8,
   "metadata": {},
   "outputs": [],
   "source": [
    "\"\"\"Ok, there is a way to write\n",
    "multiline comments, but this is actually\n",
    "a string\"\"\""
   ]
  },
  {
   "cell_type": "markdown",
   "metadata": {},
   "source": [
    "> Code tells you how, comments should tell you why.  \n",
    "> Comments should be D.R.Y. (don’t repeat yourself) not W.E.T (wrote everything twice)."
   ]
  },
  {
   "cell_type": "markdown",
   "metadata": {},
   "source": [
    "<a name=\"literal-constants\"> </a>\n",
    "### 1.2 Literal Constants | [↥](#basics) | [⌂](#table-of-contents)"
   ]
  },
  {
   "cell_type": "markdown",
   "metadata": {},
   "source": [
    "Here are some examples of literal constants:"
   ]
  },
  {
   "cell_type": "code",
   "execution_count": 9,
   "metadata": {},
   "outputs": [],
   "source": [
    "5\n",
    "1.23\n",
    "9.25e-3\n",
    "'This is a string'\n",
    "\"It's another string\""
   ]
  },
  {
   "cell_type": "markdown",
   "metadata": {},
   "source": [
    "They are called *literal* because they represent themselves and nothing else. And they are called *constant* because their value cannot be changed. They are immutable."
   ]
  },
  {
   "cell_type": "markdown",
   "metadata": {},
   "source": [
    "<a name=\"numbers\"> </a>\n",
    "### 1.3 Numbers | [↥](#basics) | [⌂](#table-of-contents)"
   ]
  },
  {
   "cell_type": "markdown",
   "metadata": {},
   "source": [
    "There are three different types of numbers in python:"
   ]
  },
  {
   "cell_type": "markdown",
   "metadata": {},
   "source": [
    "- Integers (`2`, `-100`, ...)  \n",
    "- Floats (`3.23`, `52.3e-4`, ...)  \n",
    "- Complex numbers (`1j`, `(3+2j)`, ...)"
   ]
  },
  {
   "cell_type": "markdown",
   "metadata": {},
   "source": [
    "For using numbers in expressions see →&nbsp;[4](#operators-&-expressions)."
   ]
  },
  {
   "cell_type": "markdown",
   "metadata": {},
   "source": [
    "<a name=\"strings-basics\"> </a>\n",
    "### 1.4 Strings | [↥](#basics) | [⌂](#table-of-contents)"
   ]
  },
  {
   "cell_type": "markdown",
   "metadata": {},
   "source": [
    "A string is a sequence of characters. Strings are basically just a bunch of words. They are specified using single quotes `'`, double quotes `\"` or triple quotes `\"\"\"`."
   ]
  },
  {
   "cell_type": "code",
   "execution_count": 12,
   "metadata": {},
   "outputs": [],
   "source": [
    "'This is a string'        # Don't use ' in here\n",
    "\n",
    "\"It's another string\"     # Don't use \" in here\n",
    "\n",
    "\"\"\"It's a \"multiline\"\n",
    "string\"\"\"                 # You can use ' and \" in here ..."
   ]
  },
  {
   "cell_type": "markdown",
   "metadata": {},
   "source": [
    "For more on strings see →&nbsp;[3.6](#strings)."
   ]
  },
  {
   "cell_type": "markdown",
   "metadata": {},
   "source": [
    "<a name=\"keywords\"> </a>\n",
    "### 1.5 Keywords | [↥](#basics) | [⌂](#table-of-contents)"
   ]
  },
  {
   "cell_type": "markdown",
   "metadata": {},
   "source": [
    "Keywords are reserved words in Python. They are case sensitive and cannot be used as identifiers. Here is a list of all keywords in Python:"
   ]
  },
  {
   "cell_type": "markdown",
   "metadata": {},
   "source": [
    "**False**, **None**, **True**, **and**, **as**, **assert**, **break**, **class**,  \n",
    "**continue**, **def**, **del**, **elif**, **else**, **except**, **finally**, **for**,  \n",
    "**from**, **global**, **if**, **import**, **in**, **is**, **lambda**, **nonlocal**, **not**,  \n",
    "**or**, **pass**, **raise**, **return**, **try**, **while**, **with**, **yield**"
   ]
  },
  {
   "cell_type": "markdown",
   "metadata": {},
   "source": [
    "<a name=\"variables\"> </a>\n",
    "### 1.6 Variables | [↥](#basics) | [⌂](#table-of-contents)"
   ]
  },
  {
   "cell_type": "markdown",
   "metadata": {},
   "source": [
    "A variable is a container that holds data that may change. In simplest terms, a variable is just a box for storing stuff. Variables are referenced by their identifier."
   ]
  },
  {
   "cell_type": "code",
   "execution_count": 13,
   "metadata": {},
   "outputs": [],
   "source": [
    "special_value = 42"
   ]
  },
  {
   "cell_type": "markdown",
   "metadata": {},
   "source": [
    "Here the identifier is `special_value`, the data stored is `42` and `=` is the assignment operator (→&nbsp;[4.3](#assignment-operators)). The identifier cannot be a keyword (→&nbsp;[1.5](#keywords)).  \n",
    "Variables can hold values of different types called data types (→&nbsp;[3.1](#data-types)). The basic types are numbers (→&nbsp;[1.3](#numbers)) and strings (→&nbsp;[1.4](#strings-basics)), more complex ones can be any object (→&nbsp;[1.7](#objects-basics)). To create own types you can use classes (→&nbsp;[8](#object-oriented-programming))."
   ]
  },
  {
   "cell_type": "markdown",
   "metadata": {},
   "source": [
    "> The naming of identifiers should be comprehensible and help to differentiate one entity from another. For general variable names always use lower-case letters. Words can be seperated by underscores `_` for readability."
   ]
  },
  {
   "cell_type": "markdown",
   "metadata": {},
   "source": [
    "<a name=\"objects-basics\"> </a>\n",
    "### 1.7 Objects | [↥](#basics) | [⌂](#table-of-contents)"
   ]
  },
  {
   "cell_type": "markdown",
   "metadata": {},
   "source": [
    "Python is strongly object-oriented (→&nbsp;[8](#object-oriented-programming)) and refers to anything used in a program as an object. This is meant in the generic sense, including numbers, strings, functions, etc.. Apart from the use of already existing objects, you can also generate your own objects (→&nbsp;[8.5](#objects)) from classes (→&nbsp;[8.2](#classes))."
   ]
  },
  {
   "cell_type": "markdown",
   "metadata": {},
   "source": [
    "<a name=\"lines-&-indentation\"> </a>\n",
    "### 1.8 Lines & Indentation | [↥](#basics) | [⌂](#table-of-contents)"
   ]
  },
  {
   "cell_type": "markdown",
   "metadata": {},
   "source": [
    "<a name=\"physical-&-logical-line\"> </a>\n",
    "#### Physical & Logical Line"
   ]
  },
  {
   "cell_type": "markdown",
   "metadata": {},
   "source": [
    "A *physical line* is what you see when you write the program. A *logical line* is what Python\n",
    "sees as a single statement. Python implicitly assumes that each physical line corresponds to\n",
    "a logical line.  \n",
    "In this way Python encourages the use of a single statement per line which makes code more\n",
    "readable.\n",
    "\n",
    "If you want to specify more than one logical line on a single physical line, then you have to\n",
    "explicitly specify this using a semicolon (`;`) which indicates the end of a logical\n",
    "line / statement. For example:"
   ]
  },
  {
   "cell_type": "code",
   "execution_count": 24,
   "metadata": {},
   "outputs": [
    {
     "name": "stdout",
     "output_type": "stream",
     "text": [
      "54\n"
     ]
    }
   ],
   "source": [
    "variable_1 = 54\n",
    "print(variable_1)"
   ]
  },
  {
   "cell_type": "markdown",
   "metadata": {},
   "source": [
    "can be written as"
   ]
  },
  {
   "cell_type": "code",
   "execution_count": 25,
   "metadata": {},
   "outputs": [
    {
     "name": "stdout",
     "output_type": "stream",
     "text": [
      "54\n"
     ]
    }
   ],
   "source": [
    "variable_1 = 54; print(variable_1)"
   ]
  },
  {
   "cell_type": "markdown",
   "metadata": {},
   "source": [
    "> It is recommended to write a maximum of a single logical line on a physical line, so you never have to use the semicolon.\n",
    "\n",
    "If there is a long logical line of code you have to break up into multiple physical lines this can be done by using the backslash `\\` at the end of each physical line. This is called *explicit line joining*:"
   ]
  },
  {
   "cell_type": "code",
   "execution_count": 29,
   "metadata": {},
   "outputs": [],
   "source": [
    "variable_2 = \\\n",
    "23                  # same as variable_2 = 23"
   ]
  },
  {
   "cell_type": "markdown",
   "metadata": {},
   "source": [
    "When the logical line has a starting paranthesis (square bracket, curly brace) but not an ending one you don't need to use the backslash `\\` for logical line continuation. This is called *implicit line joining*:"
   ]
  },
  {
   "cell_type": "code",
   "execution_count": 27,
   "metadata": {},
   "outputs": [
    {
     "name": "stdout",
     "output_type": "stream",
     "text": [
      "54 23\n"
     ]
    }
   ],
   "source": [
    "print(variable_1,\n",
    "      variable_2)"
   ]
  },
  {
   "cell_type": "markdown",
   "metadata": {},
   "source": [
    "<a name=\"indentation\"> </a>\n",
    "#### Indentation"
   ]
  },
  {
   "cell_type": "markdown",
   "metadata": {},
   "source": [
    "Whitespace is important in Python. Spaces and tabs at the beginning of a logical line are used to determine the indentation level of this line, which in turn is used to determine the grouping of statements.  \n",
    "This means that statements that go together *must* have the same indentation. Each such set of statements is called a 'suite' or 'block'. This is particularly important when structuring the control flow (→&nbsp;[5](#control-flow)) or defining functions (→&nbsp;[7.1](#defining-functions)) and classes (→&nbsp;[8.2](#classes))."
   ]
  },
  {
   "cell_type": "markdown",
   "metadata": {},
   "source": [
    "> The official Python language recommendation suggests using four spaces for indentation. Good editors will automatically do this for you."
   ]
  },
  {
   "cell_type": "markdown",
   "metadata": {},
   "source": [
    "<a name=\"help\"> </a>\n",
    "### 1.9 help() | [↥](#basics) | [⌂](#table-of-contents)"
   ]
  },
  {
   "cell_type": "markdown",
   "metadata": {},
   "source": [
    "Python provides a useful help function, you can pass nearly anything to."
   ]
  },
  {
   "cell_type": "code",
   "execution_count": null,
   "metadata": {},
   "outputs": [],
   "source": [
    "help(object)"
   ]
  },
  {
   "cell_type": "markdown",
   "metadata": {},
   "source": [
    "Just calling the help function without passing any argument to it starts an interactive help session."
   ]
  },
  {
   "cell_type": "code",
   "execution_count": null,
   "metadata": {},
   "outputs": [],
   "source": [
    "help()"
   ]
  },
  {
   "cell_type": "markdown",
   "metadata": {},
   "source": [
    "---"
   ]
  },
  {
   "cell_type": "markdown",
   "metadata": {},
   "source": [
    "<a name=\"input-&-output\"> </a>\n",
    "## 2 Input & Output | [⌂](#table-of-contents)"
   ]
  },
  {
   "cell_type": "markdown",
   "metadata": {},
   "source": [
    "[Output](#output) | [Input&nbsp;form&nbsp;User](#input-from-user) | [Files](#files) | [Pickle](#pickle)"
   ]
  },
  {
   "cell_type": "markdown",
   "metadata": {},
   "source": [
    "<a name=\"output\"> </a>\n",
    "### 2.1 Output | [↥](#input-&-output) | [⌂](#table-of-contents)"
   ]
  },
  {
   "cell_type": "markdown",
   "metadata": {},
   "source": [
    "General output is made via the print-function:"
   ]
  },
  {
   "cell_type": "code",
   "execution_count": 16,
   "metadata": {},
   "outputs": [
    {
     "name": "stdout",
     "output_type": "stream",
     "text": [
      "This is a message for the user.\n"
     ]
    }
   ],
   "source": [
    "print('This is a message for the user.')"
   ]
  },
  {
   "cell_type": "markdown",
   "metadata": {},
   "source": [
    "The full use of the print-function is as follows:  \n",
    "`print(value, ..., sep=' ', end='\\n', file=sys.stdout, flush=False)`"
   ]
  },
  {
   "cell_type": "markdown",
   "metadata": {},
   "source": [
    "<a name=\"input-from-user\"> </a>\n",
    "### 2.2 Input from User | [↥](#input-&-output) | [⌂](#table-of-contents)"
   ]
  },
  {
   "cell_type": "markdown",
   "metadata": {},
   "source": [
    "<a name=\"files\"> </a>\n",
    "### 2.3 Files | [↥](#input-&-output) | [⌂](#table-of-contents)"
   ]
  },
  {
   "cell_type": "markdown",
   "metadata": {},
   "source": [
    "<a name=\"pickle\"> </a>\n",
    "### 2.4 Pickle | [↥](#input-&-output) | [⌂](#table-of-contents)"
   ]
  },
  {
   "cell_type": "markdown",
   "metadata": {},
   "source": [
    "---"
   ]
  },
  {
   "cell_type": "markdown",
   "metadata": {},
   "source": [
    "<a name=\"data-structures\"> </a>\n",
    "## 3 Data Structures | [⌂](#table-of-contents)"
   ]
  },
  {
   "cell_type": "markdown",
   "metadata": {},
   "source": [
    "[Data&nbsp;Types](#data-types) | [Type&nbsp;Conversion](#type-conversion) | [Lists](#lists) | [Tuples](#tuples) | [Sets](#sets) | [Strings](#strings) | [Dictionaries](#dictionaries)"
   ]
  },
  {
   "cell_type": "markdown",
   "metadata": {},
   "source": [
    "<a name=\"data-types\"> </a>\n",
    "### 3.1 Data Types | [↥](#data-structures) | [⌂](#table-of-contents)"
   ]
  },
  {
   "cell_type": "markdown",
   "metadata": {},
   "source": [
    "<a name=\"type-conversion\"> </a>\n",
    "### 3.2 Type Conversion | [↥](#data-structures) | [⌂](#table-of-contents)"
   ]
  },
  {
   "cell_type": "markdown",
   "metadata": {},
   "source": [
    "<a name=\"lists\"> </a>\n",
    "### 3.3 Lists | [↥](#data-structures) | [⌂](#table-of-contents)"
   ]
  },
  {
   "cell_type": "markdown",
   "metadata": {},
   "source": [
    "<a name=\"tuples\"> </a>\n",
    "### 3.4 Tuples | [↥](#data-structures) | [⌂](#table-of-contents)"
   ]
  },
  {
   "cell_type": "markdown",
   "metadata": {},
   "source": [
    "<a name=\"sets\"> </a>\n",
    "### 3.5 Sets | [↥](#data-structures) | [⌂](#table-of-contents)"
   ]
  },
  {
   "cell_type": "markdown",
   "metadata": {},
   "source": [
    "<a name=\"strings\"> </a>\n",
    "### 3.6 Strings | [↥](#data-structures) | [⌂](#table-of-contents)"
   ]
  },
  {
   "cell_type": "markdown",
   "metadata": {},
   "source": [
    "[Formatted&nbsp;Strings](#formatted-strings) | [Formatted&nbsp;Datetime&nbsp;in&nbsp;Strings](#formatted-datetime-in-strings) | [Escape&nbsp;Sequences](#escape-sequences) | [Raw&nbsp;Strings](#raw-strings) | [Unicode](#unicode)"
   ]
  },
  {
   "cell_type": "markdown",
   "metadata": {},
   "source": [
    "<a name=\"formatted-strings\"> </a>\n",
    "#### Formatted Strings"
   ]
  },
  {
   "cell_type": "markdown",
   "metadata": {},
   "source": [
    "With formatted strings (f-strings) prefixed by f, the values of arguments can be expressed without concatenation:"
   ]
  },
  {
   "cell_type": "code",
   "execution_count": 18,
   "metadata": {},
   "outputs": [
    {
     "name": "stdout",
     "output_type": "stream",
     "text": [
      "My name is John and I am 24 years old.\n"
     ]
    }
   ],
   "source": [
    "name = 'John'\n",
    "age = 24\n",
    "print(f'My name is {name} and I am {age} years old.')"
   ]
  },
  {
   "cell_type": "markdown",
   "metadata": {},
   "source": [
    "Expressions, functions, etc. can be used within f-strings:"
   ]
  },
  {
   "cell_type": "code",
   "execution_count": 20,
   "metadata": {},
   "outputs": [
    {
     "name": "stdout",
     "output_type": "stream",
     "text": [
      "7 times 13 is 91\n"
     ]
    }
   ],
   "source": [
    "print(f'7 times 13 is {7 * 13}')"
   ]
  },
  {
   "cell_type": "markdown",
   "metadata": {},
   "source": [
    "Additional formatting can be done using format specifiers after a colon:"
   ]
  },
  {
   "cell_type": "code",
   "execution_count": 23,
   "metadata": {},
   "outputs": [
    {
     "name": "stdout",
     "output_type": "stream",
     "text": [
      "The value is 0027\n",
      "Pi is equal to 3.1416\n"
     ]
    }
   ],
   "source": [
    "print(f'The value is {27:04}')\n",
    "pi = 3.14159265\n",
    "print(f'Pi is equal to {pi:.4f}')"
   ]
  },
  {
   "cell_type": "markdown",
   "metadata": {},
   "source": [
    "Here is a list with examples of further format specifiers:"
   ]
  },
  {
   "cell_type": "code",
   "execution_count": 28,
   "metadata": {},
   "outputs": [],
   "source": [
    "# Common format specifiers\n",
    "f'{42:_<5}'       # Align left, fill _, width 5: 42___\n",
    "f'{\"FP\":*^6}'     # Center, fill *, width 6: **FP**\n",
    "f'{3.2:>5}'       # Align right, width 5:   3.2\n",
    "f'{\"Karl\":.2}'    # Only show first 2 characters: Ka\n",
    "\n",
    "# Format specifiers for numbers\n",
    "f'{42:04}'        # Padding zeros, width 4: 0042\n",
    "f'{42:+}'         # Force a sign: +42\n",
    "f'{42: }'         # Leading space if positive:  42\n",
    "f'{1800:,}'       # Thousand's delimiter: 1,800\n",
    "f'{3:.2f}'        # Show as float, precision 2: 3.00\n",
    "f'{0.3:.2%}'      # Show as percentage, 2 decimals: 30.00%\n",
    "f'{15000:.1e}'    # Show as scientific notation: 1.5e+04\n",
    "f'{13:b}'         # Show as binary: 1101\n",
    "f'{83:o}'         # Show as octal: 123\n",
    "f'{61:X}'         # Show as hexadecimal: 3D\n",
    "f'{955:c}'        # Type Unicode character (decimal): λ"
   ]
  },
  {
   "cell_type": "markdown",
   "metadata": {},
   "source": [
    "<a name=\"formatted-datetime-in-strings\"> </a>\n",
    "#### Formatted Datetime in Strings"
   ]
  },
  {
   "cell_type": "markdown",
   "metadata": {},
   "source": [
    "After importing the datetime module (→&nbsp;[9.1](#imports)), the datetime object comes with further format specifiers:"
   ]
  },
  {
   "cell_type": "code",
   "execution_count": 31,
   "metadata": {},
   "outputs": [
    {
     "name": "stdout",
     "output_type": "stream",
     "text": [
      "John is born October 13, 1995.\n"
     ]
    }
   ],
   "source": [
    "from datetime import datetime\n",
    "birthday = datetime(1995, 10, 13)\n",
    "print(f\"John is born {birthday:%B %d, %Y}.\")"
   ]
  },
  {
   "cell_type": "markdown",
   "metadata": {},
   "source": [
    "For more datetime formatting see →&nbsp;[Programiz](https://www.programiz.com/python-programming/datetime/strftime)."
   ]
  },
  {
   "cell_type": "markdown",
   "metadata": {},
   "source": [
    "<a name=\"escape-sequences\"> </a>\n",
    "#### Escape Sequences"
   ]
  },
  {
   "cell_type": "markdown",
   "metadata": {},
   "source": [
    "Escape sequences are prefixed by a backslash \\ and can be used to print special characters within a string. For example:"
   ]
  },
  {
   "cell_type": "code",
   "execution_count": 32,
   "metadata": {},
   "outputs": [
    {
     "name": "stdout",
     "output_type": "stream",
     "text": [
      "λ is a scientific constant,\n",
      "it's value is 1.9e-26.\n"
     ]
    }
   ],
   "source": [
    "print('\\u03BB is a scientific constant,\\nit\\'s value \\\n",
    "is 1.9e-26.')"
   ]
  },
  {
   "cell_type": "markdown",
   "metadata": {},
   "source": [
    "Note that a single backslash \\ at the end of the line indicates that the string is continued in the next line, but no newline is added.\n",
    "\n",
    "Here is a list of all escape sequences:"
   ]
  },
  {
   "cell_type": "code",
   "execution_count": 34,
   "metadata": {},
   "outputs": [],
   "source": [
    "'\\\\'          # Backslash: \\\n",
    "'\\''          # Single quote: '\n",
    "\"\\\"\"          # Double quote: \"\n",
    "'\\a'          # Bell\n",
    "'\\b'          # Backspace\n",
    "'\\f'          # Formfeed\n",
    "'\\n'          # Newline\n",
    "'\\r'          # Carriage return\n",
    "'\\t'          # Horizontal tab\n",
    "'\\v'          # Vertical tab\n",
    "'\\046'        # Unicode character with octal value 046: &\n",
    "'\\x26'        # Unicode character with hex value 26: &\n",
    "'\\u03BB'      # Unicode character with hex value 03BB: λ\n",
    "'\\U000003BB'  # Unicode character with hex value 000003BB: λ\n",
    "'\\N{tilde}'   # Unicode character named tilde: ~"
   ]
  },
  {
   "cell_type": "markdown",
   "metadata": {},
   "source": [
    "<a name=\"raw-strings\"> </a>\n",
    "#### Raw Strings"
   ]
  },
  {
   "cell_type": "markdown",
   "metadata": {},
   "source": [
    "A raw string (prefixed by r) is used, where no special processing such as escape sequences should be handled. An example is:"
   ]
  },
  {
   "cell_type": "code",
   "execution_count": 36,
   "metadata": {},
   "outputs": [
    {
     "name": "stdout",
     "output_type": "stream",
     "text": [
      "Newlines are indicated by \\n.\n"
     ]
    }
   ],
   "source": [
    "print(r'Newlines are indicated by \\n.')"
   ]
  },
  {
   "cell_type": "markdown",
   "metadata": {},
   "source": [
    "<a name=\"unicode\"> </a>\n",
    "#### Unicode"
   ]
  },
  {
   "cell_type": "markdown",
   "metadata": {},
   "source": [
    "For more Unicode characters see →&nbsp;[Unicode-Table](https://unicode-table.com/en/)"
   ]
  },
  {
   "cell_type": "markdown",
   "metadata": {},
   "source": [
    "<a name=\"dictionaries\"> </a>\n",
    "### 3.7 Dictionaries | [↥](#data-structures) | [⌂](#table-of-contents)"
   ]
  },
  {
   "cell_type": "markdown",
   "metadata": {},
   "source": [
    "---"
   ]
  },
  {
   "cell_type": "markdown",
   "metadata": {},
   "source": [
    "<a name=\"operators-&-expressions\"> </a>\n",
    "## 4 Operators & Expressions | [⌂](#table-of-contents)"
   ]
  },
  {
   "cell_type": "markdown",
   "metadata": {},
   "source": [
    "[Math](#math) | [Arithmetic&nbsp;Operators](#arithmetic-operators) | [Assignment&nbsp;Operators](#assignment-operators) | [Comparison&nbsp;Operators](#comparison-operators) | [Logical&nbsp;Operators](#logical-operators) | [Identity&nbsp;Operators](#identity-operators) | [Membership&nbsp;Operators](#membership-operators) | [Bitwise&nbsp;Operators](#bitwise-operators) | [Operator&nbsp;Precedence](#operator-precedence)"
   ]
  },
  {
   "cell_type": "markdown",
   "metadata": {},
   "source": [
    "<a name=\"math\"> </a>\n",
    "### 4.1 Math | [↥](#operators-&-expressions) | [⌂](#table-of-contents)"
   ]
  },
  {
   "cell_type": "markdown",
   "metadata": {},
   "source": [
    "<a name=\"arithmetic-operators\"> </a>\n",
    "### 4.2 Arithmetic Operators | [↥](#operators-&-expressions) | [⌂](#table-of-contents)"
   ]
  },
  {
   "cell_type": "markdown",
   "metadata": {},
   "source": [
    "<a name=\"assignment-operators\"> </a>\n",
    "### 4.3 Assignment Operators | [↥](#operators-&-expressions) | [⌂](#table-of-contents)"
   ]
  },
  {
   "cell_type": "markdown",
   "metadata": {},
   "source": [
    "<a name=\"comparison-operators\"> </a>\n",
    "### 4.4 Comparison Operators | [↥](#operators-&-expressions) | [⌂](#table-of-contents)"
   ]
  },
  {
   "cell_type": "markdown",
   "metadata": {},
   "source": [
    "<a name=\"logical-operators\"> </a>\n",
    "### 4.5 Logical Operators | [↥](#operators-&-expressions) | [⌂](#table-of-contents)"
   ]
  },
  {
   "cell_type": "markdown",
   "metadata": {},
   "source": [
    "<a name=\"identity-operators\"> </a>\n",
    "### 4.6 Identity Operators | [↥](#operators-&-expressions) | [⌂](#table-of-contents)"
   ]
  },
  {
   "cell_type": "markdown",
   "metadata": {},
   "source": [
    "<a name=\"membership-operators\"> </a>\n",
    "### 4.7 Membership Operators | [↥](#operators-&-expressions) | [⌂](#table-of-contents)"
   ]
  },
  {
   "cell_type": "markdown",
   "metadata": {},
   "source": [
    "<a name=\"bitwise-operators\"> </a>\n",
    "### 4.8 Bitwise Operators | [↥](#operators-&-expressions) | [⌂](#table-of-contents)"
   ]
  },
  {
   "cell_type": "markdown",
   "metadata": {},
   "source": [
    "<a name=\"operator-precedence\"> </a>\n",
    "### 4.9 Operator Precedence | [↥](#operators-&-expressions) | [⌂](#table-of-contents)"
   ]
  },
  {
   "cell_type": "markdown",
   "metadata": {},
   "source": [
    "---"
   ]
  },
  {
   "cell_type": "markdown",
   "metadata": {},
   "source": [
    "<a name=\"control-flow\"> </a>\n",
    "## 5 Control Flow | [⌂](#table-of-contents)"
   ]
  },
  {
   "cell_type": "markdown",
   "metadata": {},
   "source": [
    "[if&nbsp;Statements](#if-statements) | [while&nbsp;Loops](#while-loops) | [for&nbsp;Loops](#for-loops) | [break&nbsp;Statement](#break-statement) | [continue&nbsp;Statement](#continue-statement)"
   ]
  },
  {
   "cell_type": "markdown",
   "metadata": {},
   "source": [
    "<a name=\"if-statements\"> </a>\n",
    "### 5.1 if Statements | [↥](#control-flow) | [⌂](#table-of-contents)"
   ]
  },
  {
   "cell_type": "markdown",
   "metadata": {},
   "source": [
    "<a name=\"while-loops\"> </a>\n",
    "### 5.2 while Loops | [↥](#control-flow) | [⌂](#table-of-contents)"
   ]
  },
  {
   "cell_type": "markdown",
   "metadata": {},
   "source": [
    "<a name=\"for-loops\"> </a>\n",
    "### 5.3 for Loops | [↥](#control-flow) | [⌂](#table-of-contents)"
   ]
  },
  {
   "cell_type": "markdown",
   "metadata": {},
   "source": [
    "<a name=\"break-statement\"> </a>\n",
    "### 5.4 break Statement | [↥](#control-flow) | [⌂](#table-of-contents)"
   ]
  },
  {
   "cell_type": "markdown",
   "metadata": {},
   "source": [
    "<a name=\"continue-statement\"> </a>\n",
    "### 5.5 continue Statement | [↥](#control-flow) | [⌂](#table-of-contents)"
   ]
  },
  {
   "cell_type": "markdown",
   "metadata": {},
   "source": [
    "---"
   ]
  },
  {
   "cell_type": "markdown",
   "metadata": {},
   "source": [
    "<a name=\"useful-concepts\"> </a>\n",
    "## 6 Useful Concepts | [⌂](#table-of-contents)"
   ]
  },
  {
   "cell_type": "markdown",
   "metadata": {},
   "source": [
    "[Unpacking](#unpacking) | [Enumerate&nbsp;&&nbsp;Zip](#enumerate-&-zip) | [Ternary&nbsp;Conditionals](#ternary-conditionals) | [List&nbsp;Comprehensions](#list-comprehensions) | [Map&nbsp;&&nbsp;Filter](#map-&-filter)"
   ]
  },
  {
   "cell_type": "markdown",
   "metadata": {},
   "source": [
    "<a name=\"unpacking\"> </a>\n",
    "### 6.1 Unpacking | [↥](#useful-concepts) | [⌂](#table-of-contents)"
   ]
  },
  {
   "cell_type": "markdown",
   "metadata": {},
   "source": [
    "<a name=\"enumerate-&-zip\"> </a>\n",
    "### 6.2 Enumerate & Zip | [↥](#useful-concepts) | [⌂](#table-of-contents)"
   ]
  },
  {
   "cell_type": "markdown",
   "metadata": {},
   "source": [
    "<a name=\"ternary-conditionals\"> </a>\n",
    "### 6.3 Ternary Conditionals | [↥](#useful-concepts) | [⌂](#table-of-contents)"
   ]
  },
  {
   "cell_type": "markdown",
   "metadata": {},
   "source": [
    "<a name=\"list-comprehensions\"> </a>\n",
    "### 6.4 List Comprehensions | [↥](#useful-concepts) | [⌂](#table-of-contents)"
   ]
  },
  {
   "cell_type": "markdown",
   "metadata": {},
   "source": [
    "<a name=\"map-&-filter\"> </a>\n",
    "### 6.5 Map & Filter | [↥](#useful-concepts) | [⌂](#table-of-contents)"
   ]
  },
  {
   "cell_type": "markdown",
   "metadata": {},
   "source": [
    "---"
   ]
  },
  {
   "cell_type": "markdown",
   "metadata": {},
   "source": [
    "<a name=\"functions\"> </a>\n",
    "## 7 Functions | [⌂](#table-of-contents)"
   ]
  },
  {
   "cell_type": "markdown",
   "metadata": {},
   "source": [
    "[Defining&nbsp;Functions](#defining-functions) | [Parameters&nbsp;&&nbsp;Arguments](#parameters-&-arguments) | [Local&nbsp;&&nbsp;Global&nbsp;Variables](#local-&-global-variables) | [Default&nbsp;Argument&nbsp;Values](#default-argument-values) | [Keyword&nbsp;Arguments](#keyword-arguments) | [VarArgs&nbsp;Parameters](#varargs-parameters) | [return&nbsp;Statement](#return-statement) | [DocString](#docstring) | [Anonymous&nbsp;(Lambda)&nbsp;Functions](#anonymous-lambda-functions)"
   ]
  },
  {
   "cell_type": "markdown",
   "metadata": {},
   "source": [
    "<a name=\"defining-functions\"> </a>\n",
    "### 7.1 Defining Functions | [↥](#functions) | [⌂](#table-of-contents)"
   ]
  },
  {
   "cell_type": "markdown",
   "metadata": {},
   "source": [
    "<a name=\"parameters-&-arguments\"> </a>\n",
    "### 7.2 Parameters & Arguments | [↥](#functions) | [⌂](#table-of-contents)"
   ]
  },
  {
   "cell_type": "markdown",
   "metadata": {},
   "source": [
    "A parameter is a variable in a function definition. When a function is called, the arguments are the data you pass into the function’s parameters. So, an Argument is the actual value of a variable that gets passed to the function."
   ]
  },
  {
   "cell_type": "code",
   "execution_count": 38,
   "metadata": {},
   "outputs": [
    {
     "name": "stdout",
     "output_type": "stream",
     "text": [
      "This string is an argument\n"
     ]
    }
   ],
   "source": [
    "def function(parameter):\n",
    "    print(parameter)\n",
    "\n",
    "function('This string is an argument')"
   ]
  },
  {
   "cell_type": "markdown",
   "metadata": {},
   "source": [
    "<a name=\"local-&-global-variables\"> </a>\n",
    "### 7.3 Local & Global Variables | [↥](#functions) | [⌂](#table-of-contents)"
   ]
  },
  {
   "cell_type": "markdown",
   "metadata": {},
   "source": [
    "<a name=\"default-argument-values\"> </a>\n",
    "### 7.4 Default Argument Values | [↥](#functions) | [⌂](#table-of-contents)"
   ]
  },
  {
   "cell_type": "markdown",
   "metadata": {},
   "source": [
    "<a name=\"keyword-arguments\"> </a>\n",
    "### 7.5 Keyword Arguments | [↥](#functions) | [⌂](#table-of-contents)"
   ]
  },
  {
   "cell_type": "markdown",
   "metadata": {},
   "source": [
    "<a name=\"varargs-parameters\"> </a>\n",
    "### 7.6 VarArgs Parameters | [↥](#functions) | [⌂](#table-of-contents)"
   ]
  },
  {
   "cell_type": "markdown",
   "metadata": {},
   "source": [
    "<a name=\"return-statement\"> </a>\n",
    "### 7.7 return Statement | [↥](#functions) | [⌂](#table-of-contents)"
   ]
  },
  {
   "cell_type": "markdown",
   "metadata": {},
   "source": [
    "<a name=\"docstring\"> </a>\n",
    "### 7.8 DocString | [↥](#functions) | [⌂](#table-of-contents)"
   ]
  },
  {
   "cell_type": "markdown",
   "metadata": {},
   "source": [
    "<a name=\"anonymous-lambda-functions\"> </a>\n",
    "### 7.9 Anonymous (Lambda) Functions | [↥](#functions) | [⌂](#table-of-contents)"
   ]
  },
  {
   "cell_type": "markdown",
   "metadata": {},
   "source": [
    "---"
   ]
  },
  {
   "cell_type": "markdown",
   "metadata": {},
   "source": [
    "<a name=\"object-oriented-programming\"> </a>\n",
    "## 8 Object Oriented Programming (OOP) | [⌂](#table-of-contents)"
   ]
  },
  {
   "cell_type": "markdown",
   "metadata": {},
   "source": [
    "[Self](#self) | [Classes](#classes) | [Attributes](#attributes) | [Methods](#methods) | [Objects](#objects) | [Inheritance](#inheritance)"
   ]
  },
  {
   "cell_type": "markdown",
   "metadata": {},
   "source": [
    "<a name=\"self\"> </a>\n",
    "### 8.1 Self | [↥](#object-oriented-programming) | [⌂](#table-of-contents)"
   ]
  },
  {
   "cell_type": "markdown",
   "metadata": {},
   "source": [
    "<a name=\"classes\"> </a>\n",
    "### 8.2 Classes | [↥](#object-oriented-programming) | [⌂](#table-of-contents)"
   ]
  },
  {
   "cell_type": "markdown",
   "metadata": {},
   "source": [
    "<a name=\"attributes\"> </a>\n",
    "### 8.3 Attributes | [↥](#object-oriented-programming) | [⌂](#table-of-contents)"
   ]
  },
  {
   "cell_type": "markdown",
   "metadata": {},
   "source": [
    "<a name=\"methods\"> </a>\n",
    "### 8.4 Methods | [↥](#object-oriented-programming) | [⌂](#table-of-contents)"
   ]
  },
  {
   "cell_type": "markdown",
   "metadata": {},
   "source": [
    "<a name=\"objects\"> </a>\n",
    "### 8.5 Objects | [↥](#object-oriented-programming) | [⌂](#table-of-contents)"
   ]
  },
  {
   "cell_type": "markdown",
   "metadata": {},
   "source": [
    "<a name=\"inheritance\"> </a>\n",
    "### 8.6 Inheritance | [↥](#object-oriented-programming) | [⌂](#table-of-contents)"
   ]
  },
  {
   "cell_type": "markdown",
   "metadata": {},
   "source": [
    "---"
   ]
  },
  {
   "cell_type": "markdown",
   "metadata": {},
   "source": [
    "<a name=\"modules-&-packages\"> </a>\n",
    "## 9 Modules & Packages | [⌂](#table-of-contents)"
   ]
  },
  {
   "cell_type": "markdown",
   "metadata": {},
   "source": [
    "[Imports](#imports) | [dir()](#dir)"
   ]
  },
  {
   "cell_type": "markdown",
   "metadata": {},
   "source": [
    "<a name=\"imports\"> </a>\n",
    "### 9.1 Imports | [↥](#modules-&-packages) | [⌂](#table-of-contents)"
   ]
  },
  {
   "cell_type": "markdown",
   "metadata": {},
   "source": [
    "<a name=\"dir\"> </a>\n",
    "### 9.2 dir() | [↥](#modules-&-packages) | [⌂](#table-of-contents)"
   ]
  },
  {
   "cell_type": "markdown",
   "metadata": {},
   "source": [
    "---"
   ]
  },
  {
   "cell_type": "markdown",
   "metadata": {},
   "source": [
    "<a name=\"exceptions-&-unit-tests\"> </a>\n",
    "## 10 Exceptions & Unit Tests | [⌂](#table-of-contents)"
   ]
  },
  {
   "cell_type": "markdown",
   "metadata": {},
   "source": [
    "[Handling&nbsp;Exceptions](#handling-exceptions) | [Raising&nbsp;Exceptions](#raising-exceptions) | [try&nbsp;...&nbsp;finally](#try-finally) | [with&nbsp;Statement](#with-statement) | [Unit&nbsp;Tests](#unit-tests)"
   ]
  },
  {
   "cell_type": "markdown",
   "metadata": {},
   "source": [
    "<a name=\"handling-exceptions\"> </a>\n",
    "### 10.1 Handling Exceptions | [↥](#exceptions-&-unit-tests) | [⌂](#table-of-contents)"
   ]
  },
  {
   "cell_type": "markdown",
   "metadata": {},
   "source": [
    "<a name=\"raising-exceptions\"> </a>\n",
    "### 10.2 Raising Exceptions | [↥](#exceptions-&-unit-tests) | [⌂](#table-of-contents)"
   ]
  },
  {
   "cell_type": "markdown",
   "metadata": {},
   "source": [
    "<a name=\"try-finally\"> </a>\n",
    "### 10.3 try ... finally | [↥](#exceptions-&-unit-tests) | [⌂](#table-of-contents)"
   ]
  },
  {
   "cell_type": "markdown",
   "metadata": {},
   "source": [
    "<a name=\"with-statement\"> </a>\n",
    "### 10.4 with Statement | [↥](#exceptions-&-unit-tests) | [⌂](#table-of-contents)"
   ]
  },
  {
   "cell_type": "markdown",
   "metadata": {},
   "source": [
    "<a name=\"unit-tests\"> </a>\n",
    "### 10.5 Unit Tests | [↥](#exceptions-&-unit-tests) | [⌂](#table-of-contents)"
   ]
  },
  {
   "cell_type": "markdown",
   "metadata": {},
   "source": [
    "---"
   ]
  },
  {
   "cell_type": "markdown",
   "metadata": {},
   "source": [
    "<a name=\"standard-library\"> </a>\n",
    "## 11 Standard Library | [⌂](#table-of-contents)"
   ]
  },
  {
   "cell_type": "markdown",
   "metadata": {},
   "source": [
    "---"
   ]
  },
  {
   "cell_type": "markdown",
   "metadata": {},
   "source": [
    "<a name=\"further-topics\"> </a>\n",
    "## 12 Further Topics | [⌂](#table-of-contents)"
   ]
  },
  {
   "cell_type": "markdown",
   "metadata": {},
   "source": [
    "[Other&nbsp;Libraries](#other-libraries) | [Graphical&nbsp;User&nbsp;Interface](#graphical-user-interface) | [Functional&nbsp;Programming](#functional-programming)"
   ]
  },
  {
   "cell_type": "markdown",
   "metadata": {},
   "source": [
    "<a name=\"other-libraries\"> </a>\n",
    "### 12.1 Other Libraries | [↥](#further-topics) | [⌂](#table-of-contents)"
   ]
  },
  {
   "cell_type": "markdown",
   "metadata": {},
   "source": [
    "<a name=\"graphical-user-interface\"> </a>\n",
    "### 12.2 Graphical User Interface (GUI) | [↥](#further-topics) | [⌂](#table-of-contents)"
   ]
  },
  {
   "cell_type": "markdown",
   "metadata": {},
   "source": [
    "<a name=\"functional-programming\"> </a>\n",
    "### 12.3 Functional Programming | [↥](#further-topics) | [⌂](#table-of-contents)"
   ]
  },
  {
   "cell_type": "markdown",
   "metadata": {},
   "source": [
    "---\n",
    "---"
   ]
  },
  {
   "cell_type": "markdown",
   "metadata": {},
   "source": [
    "## **Appendix**"
   ]
  },
  {
   "cell_type": "markdown",
   "metadata": {},
   "source": [
    "---"
   ]
  },
  {
   "cell_type": "markdown",
   "metadata": {},
   "source": [
    "<a name=\"essential-concepts\"> </a>\n",
    "## A. Essential Concepts | [⌂](#table-of-contents)"
   ]
  },
  {
   "cell_type": "markdown",
   "metadata": {},
   "source": [
    "**ARGUMENT** a value passed to a function (or method) when calling the function. There are two kinds of arguments: positional arguments and keyword arguments."
   ]
  },
  {
   "cell_type": "markdown",
   "metadata": {},
   "source": [
    "**ATTRIBUTE** a value associated with an object which is referenced by name using dotted expressions. For example, if an object `tree` has an attribute `height` it would be referenced as `tree.height`."
   ]
  },
  {
   "cell_type": "markdown",
   "metadata": {},
   "source": [
    "**CLASS** a template for creating user-defined objects. Class definitions normally contain attributes and method definitions which operate on instances of the class (that is object level)."
   ]
  },
  {
   "cell_type": "markdown",
   "metadata": {},
   "source": [
    "**CONTROL FLOW** "
   ]
  },
  {
   "cell_type": "markdown",
   "metadata": {},
   "source": [
    "**DICTIONARY** an associative list, where arbitrary keys are mapped to values."
   ]
  },
  {
   "cell_type": "markdown",
   "metadata": {},
   "source": [
    "**DOCSTRING** a string literal which appears as the first expression in a class, function or module. While ignored when the suite is executed, it is recognized by the compiler and put into the `__doc__` attribute of the enclosing class, function or module. Since it is available via introspection, it is the canonical place for documentation of the object."
   ]
  },
  {
   "cell_type": "markdown",
   "metadata": {},
   "source": [
    "**EXPRESSION** a piece of syntax which can be evaluated to some value, for example `2*(1-kappa)`. In other words, an expression is an accumulation of elements like literals, names, attribute access, operators or function calls which all return a value."
   ]
  },
  {
   "cell_type": "markdown",
   "metadata": {},
   "source": [
    "**FUNCTION** a suite (\"block\" of code) which is executed when the function is called. It can be passed arguments which may be used in the execution of the body and on the other hand it can also return objects (values, etc.). The arguments are passed into the function's parameters."
   ]
  },
  {
   "cell_type": "markdown",
   "metadata": {},
   "source": [
    "**IDENTIFIER** an identifier is a name given to entities like classes, functions, variables, etc. The naming should be comprehensible and help to differentiate one entity from another. Keywords cannot be used as identifiers."
   ]
  },
  {
   "cell_type": "markdown",
   "metadata": {},
   "source": [
    "**IMPORTING** the process by which Python code in one module is made available to Python code in another module."
   ]
  },
  {
   "cell_type": "markdown",
   "metadata": {},
   "source": [
    "**INHERITANCE** "
   ]
  },
  {
   "cell_type": "markdown",
   "metadata": {},
   "source": [
    "**ITERABLE** an object capable of returning its members one at a time. Examples of iterables include all sequence types (such as list, str, and tuple) and some non-sequence types like dict, file objects, and objects of any classes you define with an `__iter__()` method or with a `__getitem__()` method that implements Sequence semantics."
   ]
  },
  {
   "cell_type": "markdown",
   "metadata": {},
   "source": [
    "**LAMBDA** an anonymous inline function consisting of a single expression which is evaluated when the function is called. The syntax to create a lambda function is `lambda [parameters]: expression`."
   ]
  },
  {
   "cell_type": "markdown",
   "metadata": {},
   "source": [
    "**METHOD** a function which is defined inside a class body. If called as an attribute of an instance (object) of that class, the method will get the instance object as its first argument (which is usually called `self`). A method is referenced by name using dotted expressions. For example, if an object `tree` has a method `grow()` it would be referenced as `tree.grow()`."
   ]
  },
  {
   "cell_type": "markdown",
   "metadata": {},
   "source": [
    "**MODULE** an object that serves as an organizational unit of Python code. Modules have a namespace containing arbitrary Python objects. Modules are loaded into Python by the process of importing."
   ]
  },
  {
   "cell_type": "markdown",
   "metadata": {},
   "source": [
    "**OBJECT** any data with state (attributes or value) and defined behavior (methods). Objects are instances of classes. In Python anything is an object."
   ]
  },
  {
   "cell_type": "markdown",
   "metadata": {},
   "source": [
    "**OBJECT ORIENTATION** "
   ]
  },
  {
   "cell_type": "markdown",
   "metadata": {},
   "source": [
    "**PACKAGE** a Python module which can contain submodules or recursively, subpackages. Technically, a package is a Python module with a `__path__` attribute."
   ]
  },
  {
   "cell_type": "markdown",
   "metadata": {},
   "source": [
    "**PARAMETER** a named entity in a function (or method) definition that specifies an argument (or in some cases, arguments) that the function can accept. When calling the function the arguments are passed into its parameters. There are five kinds of parameters: positional-or-keyword, positional-only, keyword-only, var-positional and var-keyword."
   ]
  },
  {
   "cell_type": "markdown",
   "metadata": {},
   "source": [
    "**STATEMENT** part of a suite (a “block” of code). A statement is either an expression or one of several control flow constructs with a keyword, such as `if`, `while` or `for`."
   ]
  },
  {
   "cell_type": "markdown",
   "metadata": {},
   "source": [
    "**TYPE** determines what kind of object something is; every object has a type. An object’s type is accessible as its `__class__` attribute or can be retrieved with `type(object)`."
   ]
  },
  {
   "cell_type": "markdown",
   "metadata": {},
   "source": [
    "**VARIABLE** containers for storing data values. A variable is referenced by it’s identifier. Unlike other programming languages, Python has no command for declaring a variable."
   ]
  },
  {
   "cell_type": "markdown",
   "metadata": {},
   "source": [
    "---"
   ]
  },
  {
   "cell_type": "markdown",
   "metadata": {},
   "source": [
    "<a name=\"references\"> </a>\n",
    "## B. References | [⌂](#table-of-contents)"
   ]
  },
  {
   "cell_type": "markdown",
   "metadata": {},
   "source": [
    "---\n",
    "---"
   ]
  },
  {
   "cell_type": "markdown",
   "metadata": {},
   "source": [
    "## **Useful Non-Python Stuff**"
   ]
  },
  {
   "cell_type": "markdown",
   "metadata": {},
   "source": [
    "---"
   ]
  },
  {
   "cell_type": "markdown",
   "metadata": {},
   "source": [
    "<a name=\"windows-command-prompt\"> </a>\n",
    "## 🗎 Windows Command Prompt | [⌂](#table-of-contents)"
   ]
  },
  {
   "cell_type": "markdown",
   "metadata": {},
   "source": [
    "---"
   ]
  },
  {
   "cell_type": "markdown",
   "metadata": {},
   "source": [
    "<a name=\"jupyter-cheatsheets\"> </a>\n",
    "## 🗎 Jupyter Cheatsheets | [⌂](#table-of-contents)"
   ]
  },
  {
   "cell_type": "markdown",
   "metadata": {},
   "source": [
    "---"
   ]
  },
  {
   "cell_type": "markdown",
   "metadata": {},
   "source": [
    "<a name=\"markdown-cheatsheet\"> </a>\n",
    "## 🗎 Markdown Cheatsheet | [⌂](#table-of-contents)"
   ]
  },
  {
   "cell_type": "markdown",
   "metadata": {},
   "source": [
    "---"
   ]
  },
  {
   "cell_type": "markdown",
   "metadata": {},
   "source": [
    "<a name=\"git-cheatsheet\"> </a>\n",
    "## 🗎 Git Cheatsheet | [⌂](#table-of-contents)"
   ]
  }
 ],
 "metadata": {
  "kernelspec": {
   "display_name": "Python 3",
   "language": "python",
   "name": "python3"
  },
  "language_info": {
   "codemirror_mode": {
    "name": "ipython",
    "version": 3
   },
   "file_extension": ".py",
   "mimetype": "text/x-python",
   "name": "python",
   "nbconvert_exporter": "python",
   "pygments_lexer": "ipython3",
   "version": "3.7.3"
  }
 },
 "nbformat": 4,
 "nbformat_minor": 2
}
