{
 "cells": [
  {
   "cell_type": "code",
   "execution_count": 4,
   "metadata": {},
   "outputs": [],
   "source": [
    "from IPython.core.interactiveshell import InteractiveShell\n",
    "InteractiveShell.ast_node_interactivity = \"all\""
   ]
  },
  {
   "cell_type": "code",
   "execution_count": 108,
   "metadata": {},
   "outputs": [
    {
     "data": {
      "text/plain": [
       "'The number is 0012.1235'"
      ]
     },
     "execution_count": 108,
     "metadata": {},
     "output_type": "execute_result"
    },
    {
     "data": {
      "text/plain": [
       "'The number is 1.212e+01'"
      ]
     },
     "execution_count": 108,
     "metadata": {},
     "output_type": "execute_result"
    },
    {
     "data": {
      "text/plain": [
       "'The number is +12.1234682546346'"
      ]
     },
     "execution_count": 108,
     "metadata": {},
     "output_type": "execute_result"
    },
    {
     "data": {
      "text/plain": [
       "'The number is 12'"
      ]
     },
     "execution_count": 108,
     "metadata": {},
     "output_type": "execute_result"
    },
    {
     "data": {
      "text/plain": [
       "'The number is 12.1234682546346'"
      ]
     },
     "execution_count": 108,
     "metadata": {},
     "output_type": "execute_result"
    },
    {
     "data": {
      "text/plain": [
       "'3.00'"
      ]
     },
     "execution_count": 108,
     "metadata": {},
     "output_type": "execute_result"
    }
   ],
   "source": [
    "number = 12.1234682546346\n",
    "f\"The number is {number:09.6}\"\n",
    "f\"The number is {number:.3e}\"\n",
    "f\"The number is {number:+}\"\n",
    "f\"The number is {number:.0f}\"\n",
    "f\"The number is {number:}\"\n",
    "f\"{3:.2f}\""
   ]
  },
  {
   "cell_type": "code",
   "execution_count": 27,
   "metadata": {},
   "outputs": [
    {
     "data": {
      "text/plain": [
       "'The integer is 00013'"
      ]
     },
     "execution_count": 27,
     "metadata": {},
     "output_type": "execute_result"
    },
    {
     "data": {
      "text/plain": [
       "'The integer is **13**'"
      ]
     },
     "execution_count": 27,
     "metadata": {},
     "output_type": "execute_result"
    },
    {
     "data": {
      "text/plain": [
       "'The integer is 13.00'"
      ]
     },
     "execution_count": 27,
     "metadata": {},
     "output_type": "execute_result"
    },
    {
     "data": {
      "text/plain": [
       "'The integer is +13'"
      ]
     },
     "execution_count": 27,
     "metadata": {},
     "output_type": "execute_result"
    },
    {
     "data": {
      "text/plain": [
       "'The integer is  13'"
      ]
     },
     "execution_count": 27,
     "metadata": {},
     "output_type": "execute_result"
    },
    {
     "data": {
      "text/plain": [
       "'The integer is 15'"
      ]
     },
     "execution_count": 27,
     "metadata": {},
     "output_type": "execute_result"
    },
    {
     "data": {
      "text/plain": [
       "'The integer is D'"
      ]
     },
     "execution_count": 27,
     "metadata": {},
     "output_type": "execute_result"
    },
    {
     "data": {
      "text/plain": [
       "'The integer is 1101'"
      ]
     },
     "execution_count": 27,
     "metadata": {},
     "output_type": "execute_result"
    },
    {
     "data": {
      "text/plain": [
       "'The integer is 1300%'"
      ]
     },
     "execution_count": 27,
     "metadata": {},
     "output_type": "execute_result"
    },
    {
     "data": {
      "text/plain": [
       "'The integer is 00001101'"
      ]
     },
     "execution_count": 27,
     "metadata": {},
     "output_type": "execute_result"
    },
    {
     "data": {
      "text/plain": [
       "'The integer is ***13'"
      ]
     },
     "execution_count": 27,
     "metadata": {},
     "output_type": "execute_result"
    },
    {
     "data": {
      "text/plain": [
       "'The long integer is 12,345,678.00'"
      ]
     },
     "execution_count": 27,
     "metadata": {},
     "output_type": "execute_result"
    }
   ],
   "source": [
    "integer = 13\n",
    "f\"The integer is {integer:05}\"       # padding zeros up to 5 digits\n",
    "f\"The integer is {integer:*^6}\"      # surround by * up to 6 digits\n",
    "f\"The integer is {integer:.2f}\"      # show as float with 2 decimal places\n",
    "f\"The integer is {integer:+}\"        # force a sign\n",
    "f\"The integer is {integer: }\"        # leading space if positive\n",
    "f\"The integer is {integer:o}\"        # show as octal\n",
    "f\"The integer is {integer:X}\"        # show as hexadecimal (x and X possible)\n",
    "f\"The integer is {integer:b}\"        # show as binary\n",
    "f\"The integer is {integer:.0%}\"      # show as percentage\n",
    "f\"The integer is {integer:08b}\"\n",
    "f\"The integer is {integer:*=5}\"\n",
    "long_integer = 12_345_678\n",
    "f\"The long integer is {long_integer:,.2f}\""
   ]
  },
  {
   "cell_type": "code",
   "execution_count": 277,
   "metadata": {},
   "outputs": [
    {
     "name": "stdout",
     "output_type": "stream",
     "text": [
      "***Gnu\n",
      "Gnu___\n",
      "***Gnu***\n",
      "Gn\n",
      "Gnu\n",
      "+003.2\n",
      "Ka\n",
      "5A\n",
      "🌑 🌒 🌓 🌔 🌕 🌖 🌗 🌘 🌑\n"
     ]
    }
   ],
   "source": [
    "word = 'Gnu'\n",
    "print(f\"{word:*>6}\")\n",
    "print(f\"{word:_<6}\")\n",
    "print(f\"{word:*^9}\")\n",
    "print(f\"{word:.2}\")\n",
    "print(f\"{word:}\")\n",
    "print(f\"{3.2:0=+6}\")\n",
    "print(f\"{'Karl':.2}\")\n",
    "print(f\"{90:X}\")     \n",
    "print(f\"{127761:c}\",\n",
    "      f\"{127762:c}\",\n",
    "      f\"{127763:c}\",\n",
    "      f\"{127764:c}\",\n",
    "      f\"{127765:c}\",\n",
    "      f\"{127766:c}\",\n",
    "      f\"{127767:c}\",\n",
    "      f\"{127768:c}\",\n",
    "      f\"{127761:c}\")"
   ]
  },
  {
   "cell_type": "code",
   "execution_count": 260,
   "metadata": {},
   "outputs": [
    {
     "name": "stdout",
     "output_type": "stream",
     "text": [
      "─│┐┘┌└\n",
      "┌────────┐\n",
      "│00001101│\n",
      "└────────┘\n"
     ]
    }
   ],
   "source": [
    "thing = 13\n",
    "print(\"─ │ ┌ ┐ └ ┘ ├ ┤ ┬ ┴ ┼\")\n",
    "print('┌', 8*'─', '┐', sep='')\n",
    "print('│', f'{thing:=08b}', '│', sep='')\n",
    "print('└', 8*'─', '┘', sep='')"
   ]
  },
  {
   "cell_type": "code",
   "execution_count": 42,
   "metadata": {},
   "outputs": [
    {
     "name": "stdout",
     "output_type": "stream",
     "text": [
      "λ\n",
      "λ\n",
      "λ\n",
      "λ\n",
      "λ\n"
     ]
    }
   ],
   "source": [
    "print('λ')\n",
    "print('\\u03BB')\n",
    "print('\\U000003BB')\n",
    "print('\\N{greek small letter lamda}')\n",
    "print(f'{955:c}')"
   ]
  },
  {
   "cell_type": "code",
   "execution_count": 47,
   "metadata": {},
   "outputs": [
    {
     "name": "stdout",
     "output_type": "stream",
     "text": [
      "      World\r",
      "Hello\n",
      "\u000b",
      "\n",
      "&\n",
      "&\n",
      "46\n",
      "λ is a scientific constant,\n",
      "it's value is 1.9e-26\n",
      "Newlines are indicated by \\n\n"
     ]
    }
   ],
   "source": [
    "print('      World\\rHello')\n",
    "print('\\v')\n",
    "print('\\x26')\n",
    "print('\\046')\n",
    "print(f'{38:o}')\n",
    "print('\\u03BB is a scientific constant,\\nit\\'s \\\n",
    "value is', 1.9e-26)\n",
    "print(r\"Newlines are indicated by \\n\")"
   ]
  },
  {
   "cell_type": "code",
   "execution_count": 1,
   "metadata": {},
   "outputs": [],
   "source": [
    "special_value = 42"
   ]
  },
  {
   "cell_type": "code",
   "execution_count": 10,
   "metadata": {},
   "outputs": [
    {
     "name": "stdout",
     "output_type": "stream",
     "text": [
      "False, None, True, and, as, assert, break, class, continue, def, del, elif, else, except, finally, for, from, global, if, import, in, is, lambda, nonlocal, not, or, pass, raise, return, try, while, with, yield, "
     ]
    }
   ],
   "source": [
    "keywords = 'class finally is return None continue for lambda try \\\n",
    "True def from nonlocal while and del global not with as elif \\\n",
    "if or yield assert else import pass break False except in raise'\n",
    "\n",
    "list_of_keywords = keywords.split(' ')\n",
    "list_of_keywords.sort()\n",
    "\n",
    "for word in list_of_keywords:\n",
    "    print(word, end=', ')"
   ]
  }
 ],
 "metadata": {
  "kernelspec": {
   "display_name": "Python 3",
   "language": "python",
   "name": "python3"
  },
  "language_info": {
   "codemirror_mode": {
    "name": "ipython",
    "version": 3
   },
   "file_extension": ".py",
   "mimetype": "text/x-python",
   "name": "python",
   "nbconvert_exporter": "python",
   "pygments_lexer": "ipython3",
   "version": "3.7.3"
  }
 },
 "nbformat": 4,
 "nbformat_minor": 2
}
